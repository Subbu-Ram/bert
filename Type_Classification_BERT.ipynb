{
  "nbformat": 4,
  "nbformat_minor": 0,
  "metadata": {
    "colab": {
      "name": "Type Classification-BERT",
      "provenance": [],
      "collapsed_sections": []
    },
    "kernelspec": {
      "name": "python3",
      "display_name": "Python 3"
    },
    "accelerator": "TPU"
  },
  "cells": [
    {
      "cell_type": "code",
      "metadata": {
        "id": "KR6x9yDU-xZf",
        "colab_type": "code",
        "outputId": "e5bcb9c2-b211-4b43-f489-db48f01fd71f",
        "colab": {
          "base_uri": "https://localhost:8080/",
          "height": 51
        }
      },
      "source": [
        "import pandas as pd\n",
        "import tensorflow as tf\n",
        "import tensorflow_hub as hub\n",
        "from datetime import datetime\n",
        "from sklearn.model_selection import train_test_split\n",
        "import os\n",
        "\n",
        "print(\"tensorflow version : \", tf.__version__)\n",
        "print(\"tensorflow_hub version : \", hub.__version__)"
      ],
      "execution_count": 0,
      "outputs": [
        {
          "output_type": "stream",
          "text": [
            "tensorflow version :  1.15.0\n",
            "tensorflow_hub version :  0.7.0\n"
          ],
          "name": "stdout"
        }
      ]
    },
    {
      "cell_type": "code",
      "metadata": {
        "id": "A_t2U5Wp-4Ah",
        "colab_type": "code",
        "outputId": "01f6e046-a664-4464-cf7b-d2eb1f1e0898",
        "colab": {
          "base_uri": "https://localhost:8080/",
          "height": 139
        }
      },
      "source": [
        "!pip install bert-tensorflow"
      ],
      "execution_count": 0,
      "outputs": [
        {
          "output_type": "stream",
          "text": [
            "Collecting bert-tensorflow\n",
            "\u001b[?25l  Downloading https://files.pythonhosted.org/packages/a6/66/7eb4e8b6ea35b7cc54c322c816f976167a43019750279a8473d355800a93/bert_tensorflow-1.0.1-py2.py3-none-any.whl (67kB)\n",
            "\r\u001b[K     |████▉                           | 10kB 18.4MB/s eta 0:00:01\r\u001b[K     |█████████▊                      | 20kB 2.2MB/s eta 0:00:01\r\u001b[K     |██████████████▋                 | 30kB 3.2MB/s eta 0:00:01\r\u001b[K     |███████████████████▍            | 40kB 2.1MB/s eta 0:00:01\r\u001b[K     |████████████████████████▎       | 51kB 2.6MB/s eta 0:00:01\r\u001b[K     |█████████████████████████████▏  | 61kB 3.1MB/s eta 0:00:01\r\u001b[K     |████████████████████████████████| 71kB 2.8MB/s \n",
            "\u001b[?25hRequirement already satisfied: six in /usr/local/lib/python3.6/dist-packages (from bert-tensorflow) (1.12.0)\n",
            "Installing collected packages: bert-tensorflow\n",
            "Successfully installed bert-tensorflow-1.0.1\n"
          ],
          "name": "stdout"
        }
      ]
    },
    {
      "cell_type": "code",
      "metadata": {
        "id": "GJKaqTxP-60H",
        "colab_type": "code",
        "outputId": "3476b6d8-a6d0-403c-dcad-38e9651d7037",
        "colab": {
          "base_uri": "https://localhost:8080/",
          "height": 71
        }
      },
      "source": [
        "#Importing BERT modules\n",
        "import bert\n",
        "from bert import run_classifier\n",
        "from bert import optimization\n",
        "from bert import tokenization"
      ],
      "execution_count": 0,
      "outputs": [
        {
          "output_type": "stream",
          "text": [
            "WARNING:tensorflow:From /usr/local/lib/python3.6/dist-packages/bert/optimization.py:87: The name tf.train.Optimizer is deprecated. Please use tf.compat.v1.train.Optimizer instead.\n",
            "\n"
          ],
          "name": "stdout"
        }
      ]
    },
    {
      "cell_type": "code",
      "metadata": {
        "id": "6XhgB8HS-_39",
        "colab_type": "code",
        "outputId": "7a1a5582-694a-4daa-9dd3-0ec499c78526",
        "colab": {
          "base_uri": "https://localhost:8080/",
          "height": 34
        }
      },
      "source": [
        "OUTPUT_DIR = '/content/bert'\n",
        "\n",
        "#@markdown Whether or not to clear/delete the directory and create a new one\n",
        "DO_DELETE = True #@param {type:\"boolean\"}\n",
        "\n",
        "if DO_DELETE:\n",
        "  try:\n",
        "    tf.gfile.DeleteRecursively(OUTPUT_DIR)\n",
        "  except:\n",
        "    pass\n",
        "\n",
        "tf.gfile.MakeDirs(OUTPUT_DIR)\n",
        "print('***** Model output directory: {} *****'.format(OUTPUT_DIR))"
      ],
      "execution_count": 0,
      "outputs": [
        {
          "output_type": "stream",
          "text": [
            "***** Model output directory: /content/bert *****\n"
          ],
          "name": "stdout"
        }
      ]
    },
    {
      "cell_type": "code",
      "metadata": {
        "id": "a9ZfIHBi_QNw",
        "colab_type": "code",
        "outputId": "55d08431-5feb-4e59-f635-331a9b58e687",
        "colab": {
          "base_uri": "https://localhost:8080/",
          "height": 34
        }
      },
      "source": [
        "#train = pd.read_csv(\"/content/text_emotion.csv\")\n",
        "train = pd.read_excel(\"/content/text_emotion.xlsx\")\n",
        "train.shape"
      ],
      "execution_count": 0,
      "outputs": [
        {
          "output_type": "execute_result",
          "data": {
            "text/plain": [
              "(24442, 2)"
            ]
          },
          "metadata": {
            "tags": []
          },
          "execution_count": 5
        }
      ]
    },
    {
      "cell_type": "code",
      "metadata": {
        "id": "vEQ4GkSTlkVE",
        "colab_type": "code",
        "outputId": "cb72f73f-f4e3-42be-db06-866347c5c1c6",
        "colab": {
          "base_uri": "https://localhost:8080/",
          "height": 204
        }
      },
      "source": [
        "train.head()"
      ],
      "execution_count": 0,
      "outputs": [
        {
          "output_type": "execute_result",
          "data": {
            "text/html": [
              "<div>\n",
              "<style scoped>\n",
              "    .dataframe tbody tr th:only-of-type {\n",
              "        vertical-align: middle;\n",
              "    }\n",
              "\n",
              "    .dataframe tbody tr th {\n",
              "        vertical-align: top;\n",
              "    }\n",
              "\n",
              "    .dataframe thead th {\n",
              "        text-align: right;\n",
              "    }\n",
              "</style>\n",
              "<table border=\"1\" class=\"dataframe\">\n",
              "  <thead>\n",
              "    <tr style=\"text-align: right;\">\n",
              "      <th></th>\n",
              "      <th>content</th>\n",
              "      <th>sentiment</th>\n",
              "    </tr>\n",
              "  </thead>\n",
              "  <tbody>\n",
              "    <tr>\n",
              "      <th>0</th>\n",
              "      <td>tiffanylue i know  i was listenin to bad habit...</td>\n",
              "      <td>2</td>\n",
              "    </tr>\n",
              "    <tr>\n",
              "      <th>1</th>\n",
              "      <td>wants to hang out with friends SOON</td>\n",
              "      <td>5</td>\n",
              "    </tr>\n",
              "    <tr>\n",
              "      <th>2</th>\n",
              "      <td>Got the news</td>\n",
              "      <td>5</td>\n",
              "    </tr>\n",
              "    <tr>\n",
              "      <th>3</th>\n",
              "      <td>Wondering why I'm awake at 7am,writing a new s...</td>\n",
              "      <td>4</td>\n",
              "    </tr>\n",
              "    <tr>\n",
              "      <th>4</th>\n",
              "      <td>It is so annoying when she starts typing on he...</td>\n",
              "      <td>1</td>\n",
              "    </tr>\n",
              "  </tbody>\n",
              "</table>\n",
              "</div>"
            ],
            "text/plain": [
              "                                             content  sentiment\n",
              "0  tiffanylue i know  i was listenin to bad habit...          2\n",
              "1                wants to hang out with friends SOON          5\n",
              "2                                       Got the news          5\n",
              "3  Wondering why I'm awake at 7am,writing a new s...          4\n",
              "4  It is so annoying when she starts typing on he...          1"
            ]
          },
          "metadata": {
            "tags": []
          },
          "execution_count": 6
        }
      ]
    },
    {
      "cell_type": "code",
      "metadata": {
        "id": "_DvEI_pvij-Y",
        "colab_type": "code",
        "colab": {}
      },
      "source": [
        "train[\"content\"] = train[\"content\"].astype(str)"
      ],
      "execution_count": 0,
      "outputs": []
    },
    {
      "cell_type": "code",
      "metadata": {
        "id": "I0axaZsKnAuZ",
        "colab_type": "code",
        "colab": {}
      },
      "source": [
        "train['content']=train['content'].apply(lambda x:x.replace(r\"(http|@)\\S+\", \"\"))\n",
        "train['content']=train['content'].apply(lambda x:x.replace(r\".\", \"\"))"
      ],
      "execution_count": 0,
      "outputs": []
    },
    {
      "cell_type": "code",
      "metadata": {
        "id": "IZRFvXy7k4Cd",
        "colab_type": "code",
        "colab": {}
      },
      "source": [
        "from sklearn.model_selection import train_test_split\n",
        "\n",
        "train, val =  train_test_split(train, test_size = 0.25, random_state = 100)"
      ],
      "execution_count": 0,
      "outputs": []
    },
    {
      "cell_type": "code",
      "metadata": {
        "id": "96LHPy3R_vAI",
        "colab_type": "code",
        "outputId": "42bc4807-92e6-40a5-a9fa-304ecc754c2e",
        "colab": {
          "base_uri": "https://localhost:8080/",
          "height": 119
        }
      },
      "source": [
        "train[\"sentiment\"].value_counts()"
      ],
      "execution_count": 0,
      "outputs": [
        {
          "output_type": "execute_result",
          "data": {
            "text/plain": [
              "4    5682\n",
              "5    4717\n",
              "2    4599\n",
              "3    2211\n",
              "1    1122\n",
              "Name: sentiment, dtype: int64"
            ]
          },
          "metadata": {
            "tags": []
          },
          "execution_count": 10
        }
      ]
    },
    {
      "cell_type": "code",
      "metadata": {
        "id": "yIxKRKjR_x9R",
        "colab_type": "code",
        "outputId": "f1e73a7d-3bd1-44a2-943c-d3ce740c6945",
        "colab": {
          "base_uri": "https://localhost:8080/",
          "height": 51
        }
      },
      "source": [
        "print(\"Training Set Shape :\", train.shape)\n",
        "print(\"Validation Set Shape :\", val.shape)\n",
        "#print(\"Test Set Shape :\", test.shape)"
      ],
      "execution_count": 0,
      "outputs": [
        {
          "output_type": "stream",
          "text": [
            "Training Set Shape : (18331, 2)\n",
            "Validation Set Shape : (6111, 2)\n"
          ],
          "name": "stdout"
        }
      ]
    },
    {
      "cell_type": "code",
      "metadata": {
        "id": "KpH7gpexABt3",
        "colab_type": "code",
        "colab": {}
      },
      "source": [
        "DATA_COLUMN = 'content'\n",
        "LABEL_COLUMN = 'sentiment'\n",
        "# The list containing all the classes (train['SECTION'].unique())\n",
        "label_list = [1, 2, 3, 4,5]"
      ],
      "execution_count": 0,
      "outputs": []
    },
    {
      "cell_type": "code",
      "metadata": {
        "id": "EqFkW5m5ASqy",
        "colab_type": "code",
        "colab": {}
      },
      "source": [
        "train_InputExamples = train.apply(lambda x: bert.run_classifier.InputExample(guid=None,\n",
        "                                                                   text_a = x[DATA_COLUMN], \n",
        "                                                                   text_b = None, \n",
        "                                                                   label = x[LABEL_COLUMN]), axis = 1)\n",
        "\n",
        "val_InputExamples = val.apply(lambda x: bert.run_classifier.InputExample(guid=None, \n",
        "                                                                   text_a = x[DATA_COLUMN], \n",
        "                                                                   text_b = None, \n",
        "                                                                   label = x[LABEL_COLUMN]), axis = 1)"
      ],
      "execution_count": 0,
      "outputs": []
    },
    {
      "cell_type": "code",
      "metadata": {
        "id": "sGqSa73HAYyY",
        "colab_type": "code",
        "outputId": "c52bedd5-274a-4394-dc6a-0aa847bbd3b7",
        "colab": {
          "base_uri": "https://localhost:8080/",
          "height": 221
        }
      },
      "source": [
        "train_InputExamples"
      ],
      "execution_count": 0,
      "outputs": [
        {
          "output_type": "execute_result",
          "data": {
            "text/plain": [
              "865      <bert.run_classifier.InputExample object at 0x...\n",
              "23992    <bert.run_classifier.InputExample object at 0x...\n",
              "17261    <bert.run_classifier.InputExample object at 0x...\n",
              "15028    <bert.run_classifier.InputExample object at 0x...\n",
              "12382    <bert.run_classifier.InputExample object at 0x...\n",
              "                               ...                        \n",
              "12119    <bert.run_classifier.InputExample object at 0x...\n",
              "24423    <bert.run_classifier.InputExample object at 0x...\n",
              "14147    <bert.run_classifier.InputExample object at 0x...\n",
              "23320    <bert.run_classifier.InputExample object at 0x...\n",
              "5640     <bert.run_classifier.InputExample object at 0x...\n",
              "Length: 18331, dtype: object"
            ]
          },
          "metadata": {
            "tags": []
          },
          "execution_count": 14
        }
      ]
    },
    {
      "cell_type": "code",
      "metadata": {
        "id": "UciDA6mVAb9K",
        "colab_type": "code",
        "outputId": "0cf49484-71a9-4c8d-91e5-6a4df190bc48",
        "colab": {
          "base_uri": "https://localhost:8080/",
          "height": 187
        }
      },
      "source": [
        "print(\"Row 0 - guid of training set : \", train_InputExamples.iloc[15300].guid)\n",
        "print(\"\\n__________\\nRow 0 - text_a of training set : \", train_InputExamples.iloc[15300].text_a)\n",
        "print(\"\\n__________\\nRow 0 - text_b of training set : \", train_InputExamples.iloc[15300].text_b)\n",
        "print(\"\\n__________\\nRow 0 - label of training set : \", train_InputExamples.iloc[15300].label)"
      ],
      "execution_count": 0,
      "outputs": [
        {
          "output_type": "stream",
          "text": [
            "Row 0 - guid of training set :  None\n",
            "\n",
            "__________\n",
            "Row 0 - text_a of training set :  tracekase GO TO BED\n",
            "\n",
            "__________\n",
            "Row 0 - text_b of training set :  None\n",
            "\n",
            "__________\n",
            "Row 0 - label of training set :  1\n"
          ],
          "name": "stdout"
        }
      ]
    },
    {
      "cell_type": "code",
      "metadata": {
        "id": "ANARAeZRAgOO",
        "colab_type": "code",
        "outputId": "ff435034-6a97-4807-9a96-7b49bea8d3c2",
        "colab": {
          "base_uri": "https://localhost:8080/",
          "height": 139
        }
      },
      "source": [
        "# This is a path to an uncased (all lowercase) version of BERT\n",
        "BERT_MODEL_HUB = \"https://tfhub.dev/google/bert_uncased_L-12_H-768_A-12/1\"\n",
        "\n",
        "def create_tokenizer_from_hub_module():\n",
        "  \"\"\"Get the vocab file and casing info from the Hub module.\"\"\"\n",
        "  with tf.Graph().as_default():\n",
        "    bert_module = hub.Module(BERT_MODEL_HUB)\n",
        "    tokenization_info = bert_module(signature=\"tokenization_info\", as_dict=True)\n",
        "    with tf.Session() as sess:\n",
        "      vocab_file, do_lower_case = sess.run([tokenization_info[\"vocab_file\"],\n",
        "                                            tokenization_info[\"do_lower_case\"]])\n",
        "      \n",
        "  return bert.tokenization.FullTokenizer(\n",
        "      vocab_file=vocab_file, do_lower_case=do_lower_case)\n",
        "\n",
        "tokenizer = create_tokenizer_from_hub_module()"
      ],
      "execution_count": 0,
      "outputs": [
        {
          "output_type": "stream",
          "text": [
            "INFO:tensorflow:Saver not created because there are no variables in the graph to restore\n"
          ],
          "name": "stdout"
        },
        {
          "output_type": "stream",
          "text": [
            "INFO:tensorflow:Saver not created because there are no variables in the graph to restore\n"
          ],
          "name": "stderr"
        },
        {
          "output_type": "stream",
          "text": [
            "WARNING:tensorflow:From /usr/local/lib/python3.6/dist-packages/bert/tokenization.py:125: The name tf.gfile.GFile is deprecated. Please use tf.io.gfile.GFile instead.\n",
            "\n"
          ],
          "name": "stdout"
        },
        {
          "output_type": "stream",
          "text": [
            "WARNING:tensorflow:From /usr/local/lib/python3.6/dist-packages/bert/tokenization.py:125: The name tf.gfile.GFile is deprecated. Please use tf.io.gfile.GFile instead.\n",
            "\n"
          ],
          "name": "stderr"
        }
      ]
    },
    {
      "cell_type": "code",
      "metadata": {
        "id": "_ZdK7D0EAn0m",
        "colab_type": "code",
        "outputId": "5d1161c1-fa86-4e89-f9db-a15a14348cb5",
        "colab": {
          "base_uri": "https://localhost:8080/",
          "height": 54
        }
      },
      "source": [
        "#Here is what the tokenised sample of the first training set observation looks like\n",
        "print(tokenizer.tokenize(train_InputExamples.iloc[0].text_a))"
      ],
      "execution_count": 0,
      "outputs": [
        {
          "output_type": "stream",
          "text": [
            "['che', '##lle', '##mar', '##ie', '##e', 'i', 'have', 'my', '83', '##0', 'class', 'fuck', '##in', 'school', 'what', 'time', 'you', 'work', 'wed', '?', 'if', 'jade', 'comes', 'im', '##a', 'have', 'to', 'get', 'her', 'in', 'antioch', 'at', 'amtrak']\n"
          ],
          "name": "stdout"
        }
      ]
    },
    {
      "cell_type": "code",
      "metadata": {
        "id": "IuuTwWo5AsXB",
        "colab_type": "code",
        "outputId": "b53962c4-36da-4306-c2cc-d614dfc487ed",
        "colab": {
          "base_uri": "https://localhost:8080/",
          "height": 1000
        }
      },
      "source": [
        "# We'll set sequences to be at most 128 tokens long.\n",
        "MAX_SEQ_LENGTH = 128\n",
        "# Convert our train and validation features to InputFeatures that BERT understands.\n",
        "train_features = bert.run_classifier.convert_examples_to_features(train_InputExamples, label_list, MAX_SEQ_LENGTH, tokenizer)\n",
        "\n",
        "val_features = bert.run_classifier.convert_examples_to_features(val_InputExamples, label_list, MAX_SEQ_LENGTH, tokenizer)"
      ],
      "execution_count": 0,
      "outputs": [
        {
          "output_type": "stream",
          "text": [
            "INFO:tensorflow:Writing example 0 of 18331\n"
          ],
          "name": "stdout"
        },
        {
          "output_type": "stream",
          "text": [
            "INFO:tensorflow:Writing example 0 of 18331\n"
          ],
          "name": "stderr"
        },
        {
          "output_type": "stream",
          "text": [
            "INFO:tensorflow:*** Example ***\n"
          ],
          "name": "stdout"
        },
        {
          "output_type": "stream",
          "text": [
            "INFO:tensorflow:*** Example ***\n"
          ],
          "name": "stderr"
        },
        {
          "output_type": "stream",
          "text": [
            "INFO:tensorflow:guid: None\n"
          ],
          "name": "stdout"
        },
        {
          "output_type": "stream",
          "text": [
            "INFO:tensorflow:guid: None\n"
          ],
          "name": "stderr"
        },
        {
          "output_type": "stream",
          "text": [
            "INFO:tensorflow:tokens: [CLS] che ##lle ##mar ##ie ##e i have my 83 ##0 class fuck ##in school what time you work wed ? if jade comes im ##a have to get her in antioch at amtrak [SEP]\n"
          ],
          "name": "stdout"
        },
        {
          "output_type": "stream",
          "text": [
            "INFO:tensorflow:tokens: [CLS] che ##lle ##mar ##ie ##e i have my 83 ##0 class fuck ##in school what time you work wed ? if jade comes im ##a have to get her in antioch at amtrak [SEP]\n"
          ],
          "name": "stderr"
        },
        {
          "output_type": "stream",
          "text": [
            "INFO:tensorflow:input_ids: 101 18178 6216 7849 2666 2063 1045 2031 2026 6640 2692 2465 6616 2378 2082 2054 2051 2017 2147 21981 1029 2065 12323 3310 10047 2050 2031 2000 2131 2014 1999 19078 2012 20208 102 0 0 0 0 0 0 0 0 0 0 0 0 0 0 0 0 0 0 0 0 0 0 0 0 0 0 0 0 0 0 0 0 0 0 0 0 0 0 0 0 0 0 0 0 0 0 0 0 0 0 0 0 0 0 0 0 0 0 0 0 0 0 0 0 0 0 0 0 0 0 0 0 0 0 0 0 0 0 0 0 0 0 0 0 0 0 0 0 0 0 0 0 0\n"
          ],
          "name": "stdout"
        },
        {
          "output_type": "stream",
          "text": [
            "INFO:tensorflow:input_ids: 101 18178 6216 7849 2666 2063 1045 2031 2026 6640 2692 2465 6616 2378 2082 2054 2051 2017 2147 21981 1029 2065 12323 3310 10047 2050 2031 2000 2131 2014 1999 19078 2012 20208 102 0 0 0 0 0 0 0 0 0 0 0 0 0 0 0 0 0 0 0 0 0 0 0 0 0 0 0 0 0 0 0 0 0 0 0 0 0 0 0 0 0 0 0 0 0 0 0 0 0 0 0 0 0 0 0 0 0 0 0 0 0 0 0 0 0 0 0 0 0 0 0 0 0 0 0 0 0 0 0 0 0 0 0 0 0 0 0 0 0 0 0 0 0\n"
          ],
          "name": "stderr"
        },
        {
          "output_type": "stream",
          "text": [
            "INFO:tensorflow:input_mask: 1 1 1 1 1 1 1 1 1 1 1 1 1 1 1 1 1 1 1 1 1 1 1 1 1 1 1 1 1 1 1 1 1 1 1 0 0 0 0 0 0 0 0 0 0 0 0 0 0 0 0 0 0 0 0 0 0 0 0 0 0 0 0 0 0 0 0 0 0 0 0 0 0 0 0 0 0 0 0 0 0 0 0 0 0 0 0 0 0 0 0 0 0 0 0 0 0 0 0 0 0 0 0 0 0 0 0 0 0 0 0 0 0 0 0 0 0 0 0 0 0 0 0 0 0 0 0 0\n"
          ],
          "name": "stdout"
        },
        {
          "output_type": "stream",
          "text": [
            "INFO:tensorflow:input_mask: 1 1 1 1 1 1 1 1 1 1 1 1 1 1 1 1 1 1 1 1 1 1 1 1 1 1 1 1 1 1 1 1 1 1 1 0 0 0 0 0 0 0 0 0 0 0 0 0 0 0 0 0 0 0 0 0 0 0 0 0 0 0 0 0 0 0 0 0 0 0 0 0 0 0 0 0 0 0 0 0 0 0 0 0 0 0 0 0 0 0 0 0 0 0 0 0 0 0 0 0 0 0 0 0 0 0 0 0 0 0 0 0 0 0 0 0 0 0 0 0 0 0 0 0 0 0 0 0\n"
          ],
          "name": "stderr"
        },
        {
          "output_type": "stream",
          "text": [
            "INFO:tensorflow:segment_ids: 0 0 0 0 0 0 0 0 0 0 0 0 0 0 0 0 0 0 0 0 0 0 0 0 0 0 0 0 0 0 0 0 0 0 0 0 0 0 0 0 0 0 0 0 0 0 0 0 0 0 0 0 0 0 0 0 0 0 0 0 0 0 0 0 0 0 0 0 0 0 0 0 0 0 0 0 0 0 0 0 0 0 0 0 0 0 0 0 0 0 0 0 0 0 0 0 0 0 0 0 0 0 0 0 0 0 0 0 0 0 0 0 0 0 0 0 0 0 0 0 0 0 0 0 0 0 0 0\n"
          ],
          "name": "stdout"
        },
        {
          "output_type": "stream",
          "text": [
            "INFO:tensorflow:segment_ids: 0 0 0 0 0 0 0 0 0 0 0 0 0 0 0 0 0 0 0 0 0 0 0 0 0 0 0 0 0 0 0 0 0 0 0 0 0 0 0 0 0 0 0 0 0 0 0 0 0 0 0 0 0 0 0 0 0 0 0 0 0 0 0 0 0 0 0 0 0 0 0 0 0 0 0 0 0 0 0 0 0 0 0 0 0 0 0 0 0 0 0 0 0 0 0 0 0 0 0 0 0 0 0 0 0 0 0 0 0 0 0 0 0 0 0 0 0 0 0 0 0 0 0 0 0 0 0 0\n"
          ],
          "name": "stderr"
        },
        {
          "output_type": "stream",
          "text": [
            "INFO:tensorflow:label: 1 (id = 0)\n"
          ],
          "name": "stdout"
        },
        {
          "output_type": "stream",
          "text": [
            "INFO:tensorflow:label: 1 (id = 0)\n"
          ],
          "name": "stderr"
        },
        {
          "output_type": "stream",
          "text": [
            "INFO:tensorflow:*** Example ***\n"
          ],
          "name": "stdout"
        },
        {
          "output_type": "stream",
          "text": [
            "INFO:tensorflow:*** Example ***\n"
          ],
          "name": "stderr"
        },
        {
          "output_type": "stream",
          "text": [
            "INFO:tensorflow:guid: None\n"
          ],
          "name": "stdout"
        },
        {
          "output_type": "stream",
          "text": [
            "INFO:tensorflow:guid: None\n"
          ],
          "name": "stderr"
        },
        {
          "output_type": "stream",
          "text": [
            "INFO:tensorflow:tokens: [CLS] staff go out of their way to help and always follow up on any issues [SEP]\n"
          ],
          "name": "stdout"
        },
        {
          "output_type": "stream",
          "text": [
            "INFO:tensorflow:tokens: [CLS] staff go out of their way to help and always follow up on any issues [SEP]\n"
          ],
          "name": "stderr"
        },
        {
          "output_type": "stream",
          "text": [
            "INFO:tensorflow:input_ids: 101 3095 2175 2041 1997 2037 2126 2000 2393 1998 2467 3582 2039 2006 2151 3314 102 0 0 0 0 0 0 0 0 0 0 0 0 0 0 0 0 0 0 0 0 0 0 0 0 0 0 0 0 0 0 0 0 0 0 0 0 0 0 0 0 0 0 0 0 0 0 0 0 0 0 0 0 0 0 0 0 0 0 0 0 0 0 0 0 0 0 0 0 0 0 0 0 0 0 0 0 0 0 0 0 0 0 0 0 0 0 0 0 0 0 0 0 0 0 0 0 0 0 0 0 0 0 0 0 0 0 0 0 0 0 0\n"
          ],
          "name": "stdout"
        },
        {
          "output_type": "stream",
          "text": [
            "INFO:tensorflow:input_ids: 101 3095 2175 2041 1997 2037 2126 2000 2393 1998 2467 3582 2039 2006 2151 3314 102 0 0 0 0 0 0 0 0 0 0 0 0 0 0 0 0 0 0 0 0 0 0 0 0 0 0 0 0 0 0 0 0 0 0 0 0 0 0 0 0 0 0 0 0 0 0 0 0 0 0 0 0 0 0 0 0 0 0 0 0 0 0 0 0 0 0 0 0 0 0 0 0 0 0 0 0 0 0 0 0 0 0 0 0 0 0 0 0 0 0 0 0 0 0 0 0 0 0 0 0 0 0 0 0 0 0 0 0 0 0 0\n"
          ],
          "name": "stderr"
        },
        {
          "output_type": "stream",
          "text": [
            "INFO:tensorflow:input_mask: 1 1 1 1 1 1 1 1 1 1 1 1 1 1 1 1 1 0 0 0 0 0 0 0 0 0 0 0 0 0 0 0 0 0 0 0 0 0 0 0 0 0 0 0 0 0 0 0 0 0 0 0 0 0 0 0 0 0 0 0 0 0 0 0 0 0 0 0 0 0 0 0 0 0 0 0 0 0 0 0 0 0 0 0 0 0 0 0 0 0 0 0 0 0 0 0 0 0 0 0 0 0 0 0 0 0 0 0 0 0 0 0 0 0 0 0 0 0 0 0 0 0 0 0 0 0 0 0\n"
          ],
          "name": "stdout"
        },
        {
          "output_type": "stream",
          "text": [
            "INFO:tensorflow:input_mask: 1 1 1 1 1 1 1 1 1 1 1 1 1 1 1 1 1 0 0 0 0 0 0 0 0 0 0 0 0 0 0 0 0 0 0 0 0 0 0 0 0 0 0 0 0 0 0 0 0 0 0 0 0 0 0 0 0 0 0 0 0 0 0 0 0 0 0 0 0 0 0 0 0 0 0 0 0 0 0 0 0 0 0 0 0 0 0 0 0 0 0 0 0 0 0 0 0 0 0 0 0 0 0 0 0 0 0 0 0 0 0 0 0 0 0 0 0 0 0 0 0 0 0 0 0 0 0 0\n"
          ],
          "name": "stderr"
        },
        {
          "output_type": "stream",
          "text": [
            "INFO:tensorflow:segment_ids: 0 0 0 0 0 0 0 0 0 0 0 0 0 0 0 0 0 0 0 0 0 0 0 0 0 0 0 0 0 0 0 0 0 0 0 0 0 0 0 0 0 0 0 0 0 0 0 0 0 0 0 0 0 0 0 0 0 0 0 0 0 0 0 0 0 0 0 0 0 0 0 0 0 0 0 0 0 0 0 0 0 0 0 0 0 0 0 0 0 0 0 0 0 0 0 0 0 0 0 0 0 0 0 0 0 0 0 0 0 0 0 0 0 0 0 0 0 0 0 0 0 0 0 0 0 0 0 0\n"
          ],
          "name": "stdout"
        },
        {
          "output_type": "stream",
          "text": [
            "INFO:tensorflow:segment_ids: 0 0 0 0 0 0 0 0 0 0 0 0 0 0 0 0 0 0 0 0 0 0 0 0 0 0 0 0 0 0 0 0 0 0 0 0 0 0 0 0 0 0 0 0 0 0 0 0 0 0 0 0 0 0 0 0 0 0 0 0 0 0 0 0 0 0 0 0 0 0 0 0 0 0 0 0 0 0 0 0 0 0 0 0 0 0 0 0 0 0 0 0 0 0 0 0 0 0 0 0 0 0 0 0 0 0 0 0 0 0 0 0 0 0 0 0 0 0 0 0 0 0 0 0 0 0 0 0\n"
          ],
          "name": "stderr"
        },
        {
          "output_type": "stream",
          "text": [
            "INFO:tensorflow:label: 2 (id = 1)\n"
          ],
          "name": "stdout"
        },
        {
          "output_type": "stream",
          "text": [
            "INFO:tensorflow:label: 2 (id = 1)\n"
          ],
          "name": "stderr"
        },
        {
          "output_type": "stream",
          "text": [
            "INFO:tensorflow:*** Example ***\n"
          ],
          "name": "stdout"
        },
        {
          "output_type": "stream",
          "text": [
            "INFO:tensorflow:*** Example ***\n"
          ],
          "name": "stderr"
        },
        {
          "output_type": "stream",
          "text": [
            "INFO:tensorflow:guid: None\n"
          ],
          "name": "stdout"
        },
        {
          "output_type": "stream",
          "text": [
            "INFO:tensorflow:guid: None\n"
          ],
          "name": "stderr"
        },
        {
          "output_type": "stream",
          "text": [
            "INFO:tensorflow:tokens: [CLS] be back later happy mother ' s day to all the mothers in the world [UNK] ¿ a ##½ god loves us all [SEP]\n"
          ],
          "name": "stdout"
        },
        {
          "output_type": "stream",
          "text": [
            "INFO:tensorflow:tokens: [CLS] be back later happy mother ' s day to all the mothers in the world [UNK] ¿ a ##½ god loves us all [SEP]\n"
          ],
          "name": "stderr"
        },
        {
          "output_type": "stream",
          "text": [
            "INFO:tensorflow:input_ids: 101 2022 2067 2101 3407 2388 1005 1055 2154 2000 2035 1996 10756 1999 1996 2088 100 1094 1037 13714 2643 7459 2149 2035 102 0 0 0 0 0 0 0 0 0 0 0 0 0 0 0 0 0 0 0 0 0 0 0 0 0 0 0 0 0 0 0 0 0 0 0 0 0 0 0 0 0 0 0 0 0 0 0 0 0 0 0 0 0 0 0 0 0 0 0 0 0 0 0 0 0 0 0 0 0 0 0 0 0 0 0 0 0 0 0 0 0 0 0 0 0 0 0 0 0 0 0 0 0 0 0 0 0 0 0 0 0 0 0\n"
          ],
          "name": "stdout"
        },
        {
          "output_type": "stream",
          "text": [
            "INFO:tensorflow:input_ids: 101 2022 2067 2101 3407 2388 1005 1055 2154 2000 2035 1996 10756 1999 1996 2088 100 1094 1037 13714 2643 7459 2149 2035 102 0 0 0 0 0 0 0 0 0 0 0 0 0 0 0 0 0 0 0 0 0 0 0 0 0 0 0 0 0 0 0 0 0 0 0 0 0 0 0 0 0 0 0 0 0 0 0 0 0 0 0 0 0 0 0 0 0 0 0 0 0 0 0 0 0 0 0 0 0 0 0 0 0 0 0 0 0 0 0 0 0 0 0 0 0 0 0 0 0 0 0 0 0 0 0 0 0 0 0 0 0 0 0\n"
          ],
          "name": "stderr"
        },
        {
          "output_type": "stream",
          "text": [
            "INFO:tensorflow:input_mask: 1 1 1 1 1 1 1 1 1 1 1 1 1 1 1 1 1 1 1 1 1 1 1 1 1 0 0 0 0 0 0 0 0 0 0 0 0 0 0 0 0 0 0 0 0 0 0 0 0 0 0 0 0 0 0 0 0 0 0 0 0 0 0 0 0 0 0 0 0 0 0 0 0 0 0 0 0 0 0 0 0 0 0 0 0 0 0 0 0 0 0 0 0 0 0 0 0 0 0 0 0 0 0 0 0 0 0 0 0 0 0 0 0 0 0 0 0 0 0 0 0 0 0 0 0 0 0 0\n"
          ],
          "name": "stdout"
        },
        {
          "output_type": "stream",
          "text": [
            "INFO:tensorflow:input_mask: 1 1 1 1 1 1 1 1 1 1 1 1 1 1 1 1 1 1 1 1 1 1 1 1 1 0 0 0 0 0 0 0 0 0 0 0 0 0 0 0 0 0 0 0 0 0 0 0 0 0 0 0 0 0 0 0 0 0 0 0 0 0 0 0 0 0 0 0 0 0 0 0 0 0 0 0 0 0 0 0 0 0 0 0 0 0 0 0 0 0 0 0 0 0 0 0 0 0 0 0 0 0 0 0 0 0 0 0 0 0 0 0 0 0 0 0 0 0 0 0 0 0 0 0 0 0 0 0\n"
          ],
          "name": "stderr"
        },
        {
          "output_type": "stream",
          "text": [
            "INFO:tensorflow:segment_ids: 0 0 0 0 0 0 0 0 0 0 0 0 0 0 0 0 0 0 0 0 0 0 0 0 0 0 0 0 0 0 0 0 0 0 0 0 0 0 0 0 0 0 0 0 0 0 0 0 0 0 0 0 0 0 0 0 0 0 0 0 0 0 0 0 0 0 0 0 0 0 0 0 0 0 0 0 0 0 0 0 0 0 0 0 0 0 0 0 0 0 0 0 0 0 0 0 0 0 0 0 0 0 0 0 0 0 0 0 0 0 0 0 0 0 0 0 0 0 0 0 0 0 0 0 0 0 0 0\n"
          ],
          "name": "stdout"
        },
        {
          "output_type": "stream",
          "text": [
            "INFO:tensorflow:segment_ids: 0 0 0 0 0 0 0 0 0 0 0 0 0 0 0 0 0 0 0 0 0 0 0 0 0 0 0 0 0 0 0 0 0 0 0 0 0 0 0 0 0 0 0 0 0 0 0 0 0 0 0 0 0 0 0 0 0 0 0 0 0 0 0 0 0 0 0 0 0 0 0 0 0 0 0 0 0 0 0 0 0 0 0 0 0 0 0 0 0 0 0 0 0 0 0 0 0 0 0 0 0 0 0 0 0 0 0 0 0 0 0 0 0 0 0 0 0 0 0 0 0 0 0 0 0 0 0 0\n"
          ],
          "name": "stderr"
        },
        {
          "output_type": "stream",
          "text": [
            "INFO:tensorflow:label: 5 (id = 4)\n"
          ],
          "name": "stdout"
        },
        {
          "output_type": "stream",
          "text": [
            "INFO:tensorflow:label: 5 (id = 4)\n"
          ],
          "name": "stderr"
        },
        {
          "output_type": "stream",
          "text": [
            "INFO:tensorflow:*** Example ***\n"
          ],
          "name": "stdout"
        },
        {
          "output_type": "stream",
          "text": [
            "INFO:tensorflow:*** Example ***\n"
          ],
          "name": "stderr"
        },
        {
          "output_type": "stream",
          "text": [
            "INFO:tensorflow:guid: None\n"
          ],
          "name": "stdout"
        },
        {
          "output_type": "stream",
          "text": [
            "INFO:tensorflow:guid: None\n"
          ],
          "name": "stderr"
        },
        {
          "output_type": "stream",
          "text": [
            "INFO:tensorflow:tokens: [CLS] 3 ##ma ##gp ##ies thanks and to you as well [SEP]\n"
          ],
          "name": "stdout"
        },
        {
          "output_type": "stream",
          "text": [
            "INFO:tensorflow:tokens: [CLS] 3 ##ma ##gp ##ies thanks and to you as well [SEP]\n"
          ],
          "name": "stderr"
        },
        {
          "output_type": "stream",
          "text": [
            "INFO:tensorflow:input_ids: 101 1017 2863 21600 3111 4283 1998 2000 2017 2004 2092 102 0 0 0 0 0 0 0 0 0 0 0 0 0 0 0 0 0 0 0 0 0 0 0 0 0 0 0 0 0 0 0 0 0 0 0 0 0 0 0 0 0 0 0 0 0 0 0 0 0 0 0 0 0 0 0 0 0 0 0 0 0 0 0 0 0 0 0 0 0 0 0 0 0 0 0 0 0 0 0 0 0 0 0 0 0 0 0 0 0 0 0 0 0 0 0 0 0 0 0 0 0 0 0 0 0 0 0 0 0 0 0 0 0 0 0 0\n"
          ],
          "name": "stdout"
        },
        {
          "output_type": "stream",
          "text": [
            "INFO:tensorflow:input_ids: 101 1017 2863 21600 3111 4283 1998 2000 2017 2004 2092 102 0 0 0 0 0 0 0 0 0 0 0 0 0 0 0 0 0 0 0 0 0 0 0 0 0 0 0 0 0 0 0 0 0 0 0 0 0 0 0 0 0 0 0 0 0 0 0 0 0 0 0 0 0 0 0 0 0 0 0 0 0 0 0 0 0 0 0 0 0 0 0 0 0 0 0 0 0 0 0 0 0 0 0 0 0 0 0 0 0 0 0 0 0 0 0 0 0 0 0 0 0 0 0 0 0 0 0 0 0 0 0 0 0 0 0 0\n"
          ],
          "name": "stderr"
        },
        {
          "output_type": "stream",
          "text": [
            "INFO:tensorflow:input_mask: 1 1 1 1 1 1 1 1 1 1 1 1 0 0 0 0 0 0 0 0 0 0 0 0 0 0 0 0 0 0 0 0 0 0 0 0 0 0 0 0 0 0 0 0 0 0 0 0 0 0 0 0 0 0 0 0 0 0 0 0 0 0 0 0 0 0 0 0 0 0 0 0 0 0 0 0 0 0 0 0 0 0 0 0 0 0 0 0 0 0 0 0 0 0 0 0 0 0 0 0 0 0 0 0 0 0 0 0 0 0 0 0 0 0 0 0 0 0 0 0 0 0 0 0 0 0 0 0\n"
          ],
          "name": "stdout"
        },
        {
          "output_type": "stream",
          "text": [
            "INFO:tensorflow:input_mask: 1 1 1 1 1 1 1 1 1 1 1 1 0 0 0 0 0 0 0 0 0 0 0 0 0 0 0 0 0 0 0 0 0 0 0 0 0 0 0 0 0 0 0 0 0 0 0 0 0 0 0 0 0 0 0 0 0 0 0 0 0 0 0 0 0 0 0 0 0 0 0 0 0 0 0 0 0 0 0 0 0 0 0 0 0 0 0 0 0 0 0 0 0 0 0 0 0 0 0 0 0 0 0 0 0 0 0 0 0 0 0 0 0 0 0 0 0 0 0 0 0 0 0 0 0 0 0 0\n"
          ],
          "name": "stderr"
        },
        {
          "output_type": "stream",
          "text": [
            "INFO:tensorflow:segment_ids: 0 0 0 0 0 0 0 0 0 0 0 0 0 0 0 0 0 0 0 0 0 0 0 0 0 0 0 0 0 0 0 0 0 0 0 0 0 0 0 0 0 0 0 0 0 0 0 0 0 0 0 0 0 0 0 0 0 0 0 0 0 0 0 0 0 0 0 0 0 0 0 0 0 0 0 0 0 0 0 0 0 0 0 0 0 0 0 0 0 0 0 0 0 0 0 0 0 0 0 0 0 0 0 0 0 0 0 0 0 0 0 0 0 0 0 0 0 0 0 0 0 0 0 0 0 0 0 0\n"
          ],
          "name": "stdout"
        },
        {
          "output_type": "stream",
          "text": [
            "INFO:tensorflow:segment_ids: 0 0 0 0 0 0 0 0 0 0 0 0 0 0 0 0 0 0 0 0 0 0 0 0 0 0 0 0 0 0 0 0 0 0 0 0 0 0 0 0 0 0 0 0 0 0 0 0 0 0 0 0 0 0 0 0 0 0 0 0 0 0 0 0 0 0 0 0 0 0 0 0 0 0 0 0 0 0 0 0 0 0 0 0 0 0 0 0 0 0 0 0 0 0 0 0 0 0 0 0 0 0 0 0 0 0 0 0 0 0 0 0 0 0 0 0 0 0 0 0 0 0 0 0 0 0 0 0\n"
          ],
          "name": "stderr"
        },
        {
          "output_type": "stream",
          "text": [
            "INFO:tensorflow:label: 4 (id = 3)\n"
          ],
          "name": "stdout"
        },
        {
          "output_type": "stream",
          "text": [
            "INFO:tensorflow:label: 4 (id = 3)\n"
          ],
          "name": "stderr"
        },
        {
          "output_type": "stream",
          "text": [
            "INFO:tensorflow:*** Example ***\n"
          ],
          "name": "stdout"
        },
        {
          "output_type": "stream",
          "text": [
            "INFO:tensorflow:*** Example ***\n"
          ],
          "name": "stderr"
        },
        {
          "output_type": "stream",
          "text": [
            "INFO:tensorflow:guid: None\n"
          ],
          "name": "stdout"
        },
        {
          "output_type": "stream",
          "text": [
            "INFO:tensorflow:guid: None\n"
          ],
          "name": "stderr"
        },
        {
          "output_type": "stream",
          "text": [
            "INFO:tensorflow:tokens: [CLS] greg back in the top 10 this is why i love nascar [SEP]\n"
          ],
          "name": "stdout"
        },
        {
          "output_type": "stream",
          "text": [
            "INFO:tensorflow:tokens: [CLS] greg back in the top 10 this is why i love nascar [SEP]\n"
          ],
          "name": "stderr"
        },
        {
          "output_type": "stream",
          "text": [
            "INFO:tensorflow:input_ids: 101 6754 2067 1999 1996 2327 2184 2023 2003 2339 1045 2293 11838 102 0 0 0 0 0 0 0 0 0 0 0 0 0 0 0 0 0 0 0 0 0 0 0 0 0 0 0 0 0 0 0 0 0 0 0 0 0 0 0 0 0 0 0 0 0 0 0 0 0 0 0 0 0 0 0 0 0 0 0 0 0 0 0 0 0 0 0 0 0 0 0 0 0 0 0 0 0 0 0 0 0 0 0 0 0 0 0 0 0 0 0 0 0 0 0 0 0 0 0 0 0 0 0 0 0 0 0 0 0 0 0 0 0 0\n"
          ],
          "name": "stdout"
        },
        {
          "output_type": "stream",
          "text": [
            "INFO:tensorflow:input_ids: 101 6754 2067 1999 1996 2327 2184 2023 2003 2339 1045 2293 11838 102 0 0 0 0 0 0 0 0 0 0 0 0 0 0 0 0 0 0 0 0 0 0 0 0 0 0 0 0 0 0 0 0 0 0 0 0 0 0 0 0 0 0 0 0 0 0 0 0 0 0 0 0 0 0 0 0 0 0 0 0 0 0 0 0 0 0 0 0 0 0 0 0 0 0 0 0 0 0 0 0 0 0 0 0 0 0 0 0 0 0 0 0 0 0 0 0 0 0 0 0 0 0 0 0 0 0 0 0 0 0 0 0 0 0\n"
          ],
          "name": "stderr"
        },
        {
          "output_type": "stream",
          "text": [
            "INFO:tensorflow:input_mask: 1 1 1 1 1 1 1 1 1 1 1 1 1 1 0 0 0 0 0 0 0 0 0 0 0 0 0 0 0 0 0 0 0 0 0 0 0 0 0 0 0 0 0 0 0 0 0 0 0 0 0 0 0 0 0 0 0 0 0 0 0 0 0 0 0 0 0 0 0 0 0 0 0 0 0 0 0 0 0 0 0 0 0 0 0 0 0 0 0 0 0 0 0 0 0 0 0 0 0 0 0 0 0 0 0 0 0 0 0 0 0 0 0 0 0 0 0 0 0 0 0 0 0 0 0 0 0 0\n"
          ],
          "name": "stdout"
        },
        {
          "output_type": "stream",
          "text": [
            "INFO:tensorflow:input_mask: 1 1 1 1 1 1 1 1 1 1 1 1 1 1 0 0 0 0 0 0 0 0 0 0 0 0 0 0 0 0 0 0 0 0 0 0 0 0 0 0 0 0 0 0 0 0 0 0 0 0 0 0 0 0 0 0 0 0 0 0 0 0 0 0 0 0 0 0 0 0 0 0 0 0 0 0 0 0 0 0 0 0 0 0 0 0 0 0 0 0 0 0 0 0 0 0 0 0 0 0 0 0 0 0 0 0 0 0 0 0 0 0 0 0 0 0 0 0 0 0 0 0 0 0 0 0 0 0\n"
          ],
          "name": "stderr"
        },
        {
          "output_type": "stream",
          "text": [
            "INFO:tensorflow:segment_ids: 0 0 0 0 0 0 0 0 0 0 0 0 0 0 0 0 0 0 0 0 0 0 0 0 0 0 0 0 0 0 0 0 0 0 0 0 0 0 0 0 0 0 0 0 0 0 0 0 0 0 0 0 0 0 0 0 0 0 0 0 0 0 0 0 0 0 0 0 0 0 0 0 0 0 0 0 0 0 0 0 0 0 0 0 0 0 0 0 0 0 0 0 0 0 0 0 0 0 0 0 0 0 0 0 0 0 0 0 0 0 0 0 0 0 0 0 0 0 0 0 0 0 0 0 0 0 0 0\n"
          ],
          "name": "stdout"
        },
        {
          "output_type": "stream",
          "text": [
            "INFO:tensorflow:segment_ids: 0 0 0 0 0 0 0 0 0 0 0 0 0 0 0 0 0 0 0 0 0 0 0 0 0 0 0 0 0 0 0 0 0 0 0 0 0 0 0 0 0 0 0 0 0 0 0 0 0 0 0 0 0 0 0 0 0 0 0 0 0 0 0 0 0 0 0 0 0 0 0 0 0 0 0 0 0 0 0 0 0 0 0 0 0 0 0 0 0 0 0 0 0 0 0 0 0 0 0 0 0 0 0 0 0 0 0 0 0 0 0 0 0 0 0 0 0 0 0 0 0 0 0 0 0 0 0 0\n"
          ],
          "name": "stderr"
        },
        {
          "output_type": "stream",
          "text": [
            "INFO:tensorflow:label: 2 (id = 1)\n"
          ],
          "name": "stdout"
        },
        {
          "output_type": "stream",
          "text": [
            "INFO:tensorflow:label: 2 (id = 1)\n"
          ],
          "name": "stderr"
        },
        {
          "output_type": "stream",
          "text": [
            "INFO:tensorflow:Writing example 10000 of 18331\n"
          ],
          "name": "stdout"
        },
        {
          "output_type": "stream",
          "text": [
            "INFO:tensorflow:Writing example 10000 of 18331\n"
          ],
          "name": "stderr"
        },
        {
          "output_type": "stream",
          "text": [
            "INFO:tensorflow:Writing example 0 of 6111\n"
          ],
          "name": "stdout"
        },
        {
          "output_type": "stream",
          "text": [
            "INFO:tensorflow:Writing example 0 of 6111\n"
          ],
          "name": "stderr"
        },
        {
          "output_type": "stream",
          "text": [
            "INFO:tensorflow:*** Example ***\n"
          ],
          "name": "stdout"
        },
        {
          "output_type": "stream",
          "text": [
            "INFO:tensorflow:*** Example ***\n"
          ],
          "name": "stderr"
        },
        {
          "output_type": "stream",
          "text": [
            "INFO:tensorflow:guid: None\n"
          ],
          "name": "stdout"
        },
        {
          "output_type": "stream",
          "text": [
            "INFO:tensorflow:guid: None\n"
          ],
          "name": "stderr"
        },
        {
          "output_type": "stream",
          "text": [
            "INFO:tensorflow:tokens: [CLS] when times are tough , one would expect bmw to concentrate a lot more on after - sales service as this would normally determine the rate at which the business would be recovering in better times [SEP]\n"
          ],
          "name": "stdout"
        },
        {
          "output_type": "stream",
          "text": [
            "INFO:tensorflow:tokens: [CLS] when times are tough , one would expect bmw to concentrate a lot more on after - sales service as this would normally determine the rate at which the business would be recovering in better times [SEP]\n"
          ],
          "name": "stderr"
        },
        {
          "output_type": "stream",
          "text": [
            "INFO:tensorflow:input_ids: 101 2043 2335 2024 7823 1010 2028 2052 5987 13154 2000 10152 1037 2843 2062 2006 2044 1011 4341 2326 2004 2023 2052 5373 5646 1996 3446 2012 2029 1996 2449 2052 2022 13400 1999 2488 2335 102 0 0 0 0 0 0 0 0 0 0 0 0 0 0 0 0 0 0 0 0 0 0 0 0 0 0 0 0 0 0 0 0 0 0 0 0 0 0 0 0 0 0 0 0 0 0 0 0 0 0 0 0 0 0 0 0 0 0 0 0 0 0 0 0 0 0 0 0 0 0 0 0 0 0 0 0 0 0 0 0 0 0 0 0 0 0 0 0 0 0\n"
          ],
          "name": "stdout"
        },
        {
          "output_type": "stream",
          "text": [
            "INFO:tensorflow:input_ids: 101 2043 2335 2024 7823 1010 2028 2052 5987 13154 2000 10152 1037 2843 2062 2006 2044 1011 4341 2326 2004 2023 2052 5373 5646 1996 3446 2012 2029 1996 2449 2052 2022 13400 1999 2488 2335 102 0 0 0 0 0 0 0 0 0 0 0 0 0 0 0 0 0 0 0 0 0 0 0 0 0 0 0 0 0 0 0 0 0 0 0 0 0 0 0 0 0 0 0 0 0 0 0 0 0 0 0 0 0 0 0 0 0 0 0 0 0 0 0 0 0 0 0 0 0 0 0 0 0 0 0 0 0 0 0 0 0 0 0 0 0 0 0 0 0 0\n"
          ],
          "name": "stderr"
        },
        {
          "output_type": "stream",
          "text": [
            "INFO:tensorflow:input_mask: 1 1 1 1 1 1 1 1 1 1 1 1 1 1 1 1 1 1 1 1 1 1 1 1 1 1 1 1 1 1 1 1 1 1 1 1 1 1 0 0 0 0 0 0 0 0 0 0 0 0 0 0 0 0 0 0 0 0 0 0 0 0 0 0 0 0 0 0 0 0 0 0 0 0 0 0 0 0 0 0 0 0 0 0 0 0 0 0 0 0 0 0 0 0 0 0 0 0 0 0 0 0 0 0 0 0 0 0 0 0 0 0 0 0 0 0 0 0 0 0 0 0 0 0 0 0 0 0\n"
          ],
          "name": "stdout"
        },
        {
          "output_type": "stream",
          "text": [
            "INFO:tensorflow:input_mask: 1 1 1 1 1 1 1 1 1 1 1 1 1 1 1 1 1 1 1 1 1 1 1 1 1 1 1 1 1 1 1 1 1 1 1 1 1 1 0 0 0 0 0 0 0 0 0 0 0 0 0 0 0 0 0 0 0 0 0 0 0 0 0 0 0 0 0 0 0 0 0 0 0 0 0 0 0 0 0 0 0 0 0 0 0 0 0 0 0 0 0 0 0 0 0 0 0 0 0 0 0 0 0 0 0 0 0 0 0 0 0 0 0 0 0 0 0 0 0 0 0 0 0 0 0 0 0 0\n"
          ],
          "name": "stderr"
        },
        {
          "output_type": "stream",
          "text": [
            "INFO:tensorflow:segment_ids: 0 0 0 0 0 0 0 0 0 0 0 0 0 0 0 0 0 0 0 0 0 0 0 0 0 0 0 0 0 0 0 0 0 0 0 0 0 0 0 0 0 0 0 0 0 0 0 0 0 0 0 0 0 0 0 0 0 0 0 0 0 0 0 0 0 0 0 0 0 0 0 0 0 0 0 0 0 0 0 0 0 0 0 0 0 0 0 0 0 0 0 0 0 0 0 0 0 0 0 0 0 0 0 0 0 0 0 0 0 0 0 0 0 0 0 0 0 0 0 0 0 0 0 0 0 0 0 0\n"
          ],
          "name": "stdout"
        },
        {
          "output_type": "stream",
          "text": [
            "INFO:tensorflow:segment_ids: 0 0 0 0 0 0 0 0 0 0 0 0 0 0 0 0 0 0 0 0 0 0 0 0 0 0 0 0 0 0 0 0 0 0 0 0 0 0 0 0 0 0 0 0 0 0 0 0 0 0 0 0 0 0 0 0 0 0 0 0 0 0 0 0 0 0 0 0 0 0 0 0 0 0 0 0 0 0 0 0 0 0 0 0 0 0 0 0 0 0 0 0 0 0 0 0 0 0 0 0 0 0 0 0 0 0 0 0 0 0 0 0 0 0 0 0 0 0 0 0 0 0 0 0 0 0 0 0\n"
          ],
          "name": "stderr"
        },
        {
          "output_type": "stream",
          "text": [
            "INFO:tensorflow:label: 2 (id = 1)\n"
          ],
          "name": "stdout"
        },
        {
          "output_type": "stream",
          "text": [
            "INFO:tensorflow:label: 2 (id = 1)\n"
          ],
          "name": "stderr"
        },
        {
          "output_type": "stream",
          "text": [
            "INFO:tensorflow:*** Example ***\n"
          ],
          "name": "stdout"
        },
        {
          "output_type": "stream",
          "text": [
            "INFO:tensorflow:*** Example ***\n"
          ],
          "name": "stderr"
        },
        {
          "output_type": "stream",
          "text": [
            "INFO:tensorflow:guid: None\n"
          ],
          "name": "stdout"
        },
        {
          "output_type": "stream",
          "text": [
            "INFO:tensorflow:guid: None\n"
          ],
          "name": "stderr"
        },
        {
          "output_type": "stream",
          "text": [
            "INFO:tensorflow:tokens: [CLS] aaa ##aa ##w i want to live in the usa [SEP]\n"
          ],
          "name": "stdout"
        },
        {
          "output_type": "stream",
          "text": [
            "INFO:tensorflow:tokens: [CLS] aaa ##aa ##w i want to live in the usa [SEP]\n"
          ],
          "name": "stderr"
        },
        {
          "output_type": "stream",
          "text": [
            "INFO:tensorflow:input_ids: 101 13360 11057 2860 1045 2215 2000 2444 1999 1996 3915 102 0 0 0 0 0 0 0 0 0 0 0 0 0 0 0 0 0 0 0 0 0 0 0 0 0 0 0 0 0 0 0 0 0 0 0 0 0 0 0 0 0 0 0 0 0 0 0 0 0 0 0 0 0 0 0 0 0 0 0 0 0 0 0 0 0 0 0 0 0 0 0 0 0 0 0 0 0 0 0 0 0 0 0 0 0 0 0 0 0 0 0 0 0 0 0 0 0 0 0 0 0 0 0 0 0 0 0 0 0 0 0 0 0 0 0 0\n"
          ],
          "name": "stdout"
        },
        {
          "output_type": "stream",
          "text": [
            "INFO:tensorflow:input_ids: 101 13360 11057 2860 1045 2215 2000 2444 1999 1996 3915 102 0 0 0 0 0 0 0 0 0 0 0 0 0 0 0 0 0 0 0 0 0 0 0 0 0 0 0 0 0 0 0 0 0 0 0 0 0 0 0 0 0 0 0 0 0 0 0 0 0 0 0 0 0 0 0 0 0 0 0 0 0 0 0 0 0 0 0 0 0 0 0 0 0 0 0 0 0 0 0 0 0 0 0 0 0 0 0 0 0 0 0 0 0 0 0 0 0 0 0 0 0 0 0 0 0 0 0 0 0 0 0 0 0 0 0 0\n"
          ],
          "name": "stderr"
        },
        {
          "output_type": "stream",
          "text": [
            "INFO:tensorflow:input_mask: 1 1 1 1 1 1 1 1 1 1 1 1 0 0 0 0 0 0 0 0 0 0 0 0 0 0 0 0 0 0 0 0 0 0 0 0 0 0 0 0 0 0 0 0 0 0 0 0 0 0 0 0 0 0 0 0 0 0 0 0 0 0 0 0 0 0 0 0 0 0 0 0 0 0 0 0 0 0 0 0 0 0 0 0 0 0 0 0 0 0 0 0 0 0 0 0 0 0 0 0 0 0 0 0 0 0 0 0 0 0 0 0 0 0 0 0 0 0 0 0 0 0 0 0 0 0 0 0\n"
          ],
          "name": "stdout"
        },
        {
          "output_type": "stream",
          "text": [
            "INFO:tensorflow:input_mask: 1 1 1 1 1 1 1 1 1 1 1 1 0 0 0 0 0 0 0 0 0 0 0 0 0 0 0 0 0 0 0 0 0 0 0 0 0 0 0 0 0 0 0 0 0 0 0 0 0 0 0 0 0 0 0 0 0 0 0 0 0 0 0 0 0 0 0 0 0 0 0 0 0 0 0 0 0 0 0 0 0 0 0 0 0 0 0 0 0 0 0 0 0 0 0 0 0 0 0 0 0 0 0 0 0 0 0 0 0 0 0 0 0 0 0 0 0 0 0 0 0 0 0 0 0 0 0 0\n"
          ],
          "name": "stderr"
        },
        {
          "output_type": "stream",
          "text": [
            "INFO:tensorflow:segment_ids: 0 0 0 0 0 0 0 0 0 0 0 0 0 0 0 0 0 0 0 0 0 0 0 0 0 0 0 0 0 0 0 0 0 0 0 0 0 0 0 0 0 0 0 0 0 0 0 0 0 0 0 0 0 0 0 0 0 0 0 0 0 0 0 0 0 0 0 0 0 0 0 0 0 0 0 0 0 0 0 0 0 0 0 0 0 0 0 0 0 0 0 0 0 0 0 0 0 0 0 0 0 0 0 0 0 0 0 0 0 0 0 0 0 0 0 0 0 0 0 0 0 0 0 0 0 0 0 0\n"
          ],
          "name": "stdout"
        },
        {
          "output_type": "stream",
          "text": [
            "INFO:tensorflow:segment_ids: 0 0 0 0 0 0 0 0 0 0 0 0 0 0 0 0 0 0 0 0 0 0 0 0 0 0 0 0 0 0 0 0 0 0 0 0 0 0 0 0 0 0 0 0 0 0 0 0 0 0 0 0 0 0 0 0 0 0 0 0 0 0 0 0 0 0 0 0 0 0 0 0 0 0 0 0 0 0 0 0 0 0 0 0 0 0 0 0 0 0 0 0 0 0 0 0 0 0 0 0 0 0 0 0 0 0 0 0 0 0 0 0 0 0 0 0 0 0 0 0 0 0 0 0 0 0 0 0\n"
          ],
          "name": "stderr"
        },
        {
          "output_type": "stream",
          "text": [
            "INFO:tensorflow:label: 2 (id = 1)\n"
          ],
          "name": "stdout"
        },
        {
          "output_type": "stream",
          "text": [
            "INFO:tensorflow:label: 2 (id = 1)\n"
          ],
          "name": "stderr"
        },
        {
          "output_type": "stream",
          "text": [
            "INFO:tensorflow:*** Example ***\n"
          ],
          "name": "stdout"
        },
        {
          "output_type": "stream",
          "text": [
            "INFO:tensorflow:*** Example ***\n"
          ],
          "name": "stderr"
        },
        {
          "output_type": "stream",
          "text": [
            "INFO:tensorflow:guid: None\n"
          ],
          "name": "stdout"
        },
        {
          "output_type": "stream",
          "text": [
            "INFO:tensorflow:guid: None\n"
          ],
          "name": "stderr"
        },
        {
          "output_type": "stream",
          "text": [
            "INFO:tensorflow:tokens: [CLS] just watched the good ##e family premiere online and i think this may be the last episode i watch it ' s pretty amazingly med ##io ##cre pass [SEP]\n"
          ],
          "name": "stdout"
        },
        {
          "output_type": "stream",
          "text": [
            "INFO:tensorflow:tokens: [CLS] just watched the good ##e family premiere online and i think this may be the last episode i watch it ' s pretty amazingly med ##io ##cre pass [SEP]\n"
          ],
          "name": "stderr"
        },
        {
          "output_type": "stream",
          "text": [
            "INFO:tensorflow:input_ids: 101 2074 3427 1996 2204 2063 2155 6765 3784 1998 1045 2228 2023 2089 2022 1996 2197 2792 1045 3422 2009 1005 1055 3492 29350 19960 3695 16748 3413 102 0 0 0 0 0 0 0 0 0 0 0 0 0 0 0 0 0 0 0 0 0 0 0 0 0 0 0 0 0 0 0 0 0 0 0 0 0 0 0 0 0 0 0 0 0 0 0 0 0 0 0 0 0 0 0 0 0 0 0 0 0 0 0 0 0 0 0 0 0 0 0 0 0 0 0 0 0 0 0 0 0 0 0 0 0 0 0 0 0 0 0 0 0 0 0 0 0 0\n"
          ],
          "name": "stdout"
        },
        {
          "output_type": "stream",
          "text": [
            "INFO:tensorflow:input_ids: 101 2074 3427 1996 2204 2063 2155 6765 3784 1998 1045 2228 2023 2089 2022 1996 2197 2792 1045 3422 2009 1005 1055 3492 29350 19960 3695 16748 3413 102 0 0 0 0 0 0 0 0 0 0 0 0 0 0 0 0 0 0 0 0 0 0 0 0 0 0 0 0 0 0 0 0 0 0 0 0 0 0 0 0 0 0 0 0 0 0 0 0 0 0 0 0 0 0 0 0 0 0 0 0 0 0 0 0 0 0 0 0 0 0 0 0 0 0 0 0 0 0 0 0 0 0 0 0 0 0 0 0 0 0 0 0 0 0 0 0 0 0\n"
          ],
          "name": "stderr"
        },
        {
          "output_type": "stream",
          "text": [
            "INFO:tensorflow:input_mask: 1 1 1 1 1 1 1 1 1 1 1 1 1 1 1 1 1 1 1 1 1 1 1 1 1 1 1 1 1 1 0 0 0 0 0 0 0 0 0 0 0 0 0 0 0 0 0 0 0 0 0 0 0 0 0 0 0 0 0 0 0 0 0 0 0 0 0 0 0 0 0 0 0 0 0 0 0 0 0 0 0 0 0 0 0 0 0 0 0 0 0 0 0 0 0 0 0 0 0 0 0 0 0 0 0 0 0 0 0 0 0 0 0 0 0 0 0 0 0 0 0 0 0 0 0 0 0 0\n"
          ],
          "name": "stdout"
        },
        {
          "output_type": "stream",
          "text": [
            "INFO:tensorflow:input_mask: 1 1 1 1 1 1 1 1 1 1 1 1 1 1 1 1 1 1 1 1 1 1 1 1 1 1 1 1 1 1 0 0 0 0 0 0 0 0 0 0 0 0 0 0 0 0 0 0 0 0 0 0 0 0 0 0 0 0 0 0 0 0 0 0 0 0 0 0 0 0 0 0 0 0 0 0 0 0 0 0 0 0 0 0 0 0 0 0 0 0 0 0 0 0 0 0 0 0 0 0 0 0 0 0 0 0 0 0 0 0 0 0 0 0 0 0 0 0 0 0 0 0 0 0 0 0 0 0\n"
          ],
          "name": "stderr"
        },
        {
          "output_type": "stream",
          "text": [
            "INFO:tensorflow:segment_ids: 0 0 0 0 0 0 0 0 0 0 0 0 0 0 0 0 0 0 0 0 0 0 0 0 0 0 0 0 0 0 0 0 0 0 0 0 0 0 0 0 0 0 0 0 0 0 0 0 0 0 0 0 0 0 0 0 0 0 0 0 0 0 0 0 0 0 0 0 0 0 0 0 0 0 0 0 0 0 0 0 0 0 0 0 0 0 0 0 0 0 0 0 0 0 0 0 0 0 0 0 0 0 0 0 0 0 0 0 0 0 0 0 0 0 0 0 0 0 0 0 0 0 0 0 0 0 0 0\n"
          ],
          "name": "stdout"
        },
        {
          "output_type": "stream",
          "text": [
            "INFO:tensorflow:segment_ids: 0 0 0 0 0 0 0 0 0 0 0 0 0 0 0 0 0 0 0 0 0 0 0 0 0 0 0 0 0 0 0 0 0 0 0 0 0 0 0 0 0 0 0 0 0 0 0 0 0 0 0 0 0 0 0 0 0 0 0 0 0 0 0 0 0 0 0 0 0 0 0 0 0 0 0 0 0 0 0 0 0 0 0 0 0 0 0 0 0 0 0 0 0 0 0 0 0 0 0 0 0 0 0 0 0 0 0 0 0 0 0 0 0 0 0 0 0 0 0 0 0 0 0 0 0 0 0 0\n"
          ],
          "name": "stderr"
        },
        {
          "output_type": "stream",
          "text": [
            "INFO:tensorflow:label: 1 (id = 0)\n"
          ],
          "name": "stdout"
        },
        {
          "output_type": "stream",
          "text": [
            "INFO:tensorflow:label: 1 (id = 0)\n"
          ],
          "name": "stderr"
        },
        {
          "output_type": "stream",
          "text": [
            "INFO:tensorflow:*** Example ***\n"
          ],
          "name": "stdout"
        },
        {
          "output_type": "stream",
          "text": [
            "INFO:tensorflow:*** Example ***\n"
          ],
          "name": "stderr"
        },
        {
          "output_type": "stream",
          "text": [
            "INFO:tensorflow:guid: None\n"
          ],
          "name": "stdout"
        },
        {
          "output_type": "stream",
          "text": [
            "INFO:tensorflow:guid: None\n"
          ],
          "name": "stderr"
        },
        {
          "output_type": "stream",
          "text": [
            "INFO:tensorflow:tokens: [CLS] bra ##wny ##200 ##4 true true , i ' m writing atm , trying 2 b coherent about the last 4 y ##rs & amp ; string narratives through it but my meat ##s rotting nicely [SEP]\n"
          ],
          "name": "stdout"
        },
        {
          "output_type": "stream",
          "text": [
            "INFO:tensorflow:tokens: [CLS] bra ##wny ##200 ##4 true true , i ' m writing atm , trying 2 b coherent about the last 4 y ##rs & amp ; string narratives through it but my meat ##s rotting nicely [SEP]\n"
          ],
          "name": "stderr"
        },
        {
          "output_type": "stream",
          "text": [
            "INFO:tensorflow:input_ids: 101 11655 22251 28332 2549 2995 2995 1010 1045 1005 1049 3015 27218 1010 2667 1016 1038 18920 2055 1996 2197 1018 1061 2869 1004 23713 1025 5164 22143 2083 2009 2021 2026 6240 2015 22005 19957 102 0 0 0 0 0 0 0 0 0 0 0 0 0 0 0 0 0 0 0 0 0 0 0 0 0 0 0 0 0 0 0 0 0 0 0 0 0 0 0 0 0 0 0 0 0 0 0 0 0 0 0 0 0 0 0 0 0 0 0 0 0 0 0 0 0 0 0 0 0 0 0 0 0 0 0 0 0 0 0 0 0 0 0 0 0 0 0 0 0 0\n"
          ],
          "name": "stdout"
        },
        {
          "output_type": "stream",
          "text": [
            "INFO:tensorflow:input_ids: 101 11655 22251 28332 2549 2995 2995 1010 1045 1005 1049 3015 27218 1010 2667 1016 1038 18920 2055 1996 2197 1018 1061 2869 1004 23713 1025 5164 22143 2083 2009 2021 2026 6240 2015 22005 19957 102 0 0 0 0 0 0 0 0 0 0 0 0 0 0 0 0 0 0 0 0 0 0 0 0 0 0 0 0 0 0 0 0 0 0 0 0 0 0 0 0 0 0 0 0 0 0 0 0 0 0 0 0 0 0 0 0 0 0 0 0 0 0 0 0 0 0 0 0 0 0 0 0 0 0 0 0 0 0 0 0 0 0 0 0 0 0 0 0 0 0\n"
          ],
          "name": "stderr"
        },
        {
          "output_type": "stream",
          "text": [
            "INFO:tensorflow:input_mask: 1 1 1 1 1 1 1 1 1 1 1 1 1 1 1 1 1 1 1 1 1 1 1 1 1 1 1 1 1 1 1 1 1 1 1 1 1 1 0 0 0 0 0 0 0 0 0 0 0 0 0 0 0 0 0 0 0 0 0 0 0 0 0 0 0 0 0 0 0 0 0 0 0 0 0 0 0 0 0 0 0 0 0 0 0 0 0 0 0 0 0 0 0 0 0 0 0 0 0 0 0 0 0 0 0 0 0 0 0 0 0 0 0 0 0 0 0 0 0 0 0 0 0 0 0 0 0 0\n"
          ],
          "name": "stdout"
        },
        {
          "output_type": "stream",
          "text": [
            "INFO:tensorflow:input_mask: 1 1 1 1 1 1 1 1 1 1 1 1 1 1 1 1 1 1 1 1 1 1 1 1 1 1 1 1 1 1 1 1 1 1 1 1 1 1 0 0 0 0 0 0 0 0 0 0 0 0 0 0 0 0 0 0 0 0 0 0 0 0 0 0 0 0 0 0 0 0 0 0 0 0 0 0 0 0 0 0 0 0 0 0 0 0 0 0 0 0 0 0 0 0 0 0 0 0 0 0 0 0 0 0 0 0 0 0 0 0 0 0 0 0 0 0 0 0 0 0 0 0 0 0 0 0 0 0\n"
          ],
          "name": "stderr"
        },
        {
          "output_type": "stream",
          "text": [
            "INFO:tensorflow:segment_ids: 0 0 0 0 0 0 0 0 0 0 0 0 0 0 0 0 0 0 0 0 0 0 0 0 0 0 0 0 0 0 0 0 0 0 0 0 0 0 0 0 0 0 0 0 0 0 0 0 0 0 0 0 0 0 0 0 0 0 0 0 0 0 0 0 0 0 0 0 0 0 0 0 0 0 0 0 0 0 0 0 0 0 0 0 0 0 0 0 0 0 0 0 0 0 0 0 0 0 0 0 0 0 0 0 0 0 0 0 0 0 0 0 0 0 0 0 0 0 0 0 0 0 0 0 0 0 0 0\n"
          ],
          "name": "stdout"
        },
        {
          "output_type": "stream",
          "text": [
            "INFO:tensorflow:segment_ids: 0 0 0 0 0 0 0 0 0 0 0 0 0 0 0 0 0 0 0 0 0 0 0 0 0 0 0 0 0 0 0 0 0 0 0 0 0 0 0 0 0 0 0 0 0 0 0 0 0 0 0 0 0 0 0 0 0 0 0 0 0 0 0 0 0 0 0 0 0 0 0 0 0 0 0 0 0 0 0 0 0 0 0 0 0 0 0 0 0 0 0 0 0 0 0 0 0 0 0 0 0 0 0 0 0 0 0 0 0 0 0 0 0 0 0 0 0 0 0 0 0 0 0 0 0 0 0 0\n"
          ],
          "name": "stderr"
        },
        {
          "output_type": "stream",
          "text": [
            "INFO:tensorflow:label: 4 (id = 3)\n"
          ],
          "name": "stdout"
        },
        {
          "output_type": "stream",
          "text": [
            "INFO:tensorflow:label: 4 (id = 3)\n"
          ],
          "name": "stderr"
        },
        {
          "output_type": "stream",
          "text": [
            "INFO:tensorflow:*** Example ***\n"
          ],
          "name": "stdout"
        },
        {
          "output_type": "stream",
          "text": [
            "INFO:tensorflow:*** Example ***\n"
          ],
          "name": "stderr"
        },
        {
          "output_type": "stream",
          "text": [
            "INFO:tensorflow:guid: None\n"
          ],
          "name": "stdout"
        },
        {
          "output_type": "stream",
          "text": [
            "INFO:tensorflow:guid: None\n"
          ],
          "name": "stderr"
        },
        {
          "output_type": "stream",
          "text": [
            "INFO:tensorflow:tokens: [CLS] fun day with boo short but fun [SEP]\n"
          ],
          "name": "stdout"
        },
        {
          "output_type": "stream",
          "text": [
            "INFO:tensorflow:tokens: [CLS] fun day with boo short but fun [SEP]\n"
          ],
          "name": "stderr"
        },
        {
          "output_type": "stream",
          "text": [
            "INFO:tensorflow:input_ids: 101 4569 2154 2007 22017 2460 2021 4569 102 0 0 0 0 0 0 0 0 0 0 0 0 0 0 0 0 0 0 0 0 0 0 0 0 0 0 0 0 0 0 0 0 0 0 0 0 0 0 0 0 0 0 0 0 0 0 0 0 0 0 0 0 0 0 0 0 0 0 0 0 0 0 0 0 0 0 0 0 0 0 0 0 0 0 0 0 0 0 0 0 0 0 0 0 0 0 0 0 0 0 0 0 0 0 0 0 0 0 0 0 0 0 0 0 0 0 0 0 0 0 0 0 0 0 0 0 0 0 0\n"
          ],
          "name": "stdout"
        },
        {
          "output_type": "stream",
          "text": [
            "INFO:tensorflow:input_ids: 101 4569 2154 2007 22017 2460 2021 4569 102 0 0 0 0 0 0 0 0 0 0 0 0 0 0 0 0 0 0 0 0 0 0 0 0 0 0 0 0 0 0 0 0 0 0 0 0 0 0 0 0 0 0 0 0 0 0 0 0 0 0 0 0 0 0 0 0 0 0 0 0 0 0 0 0 0 0 0 0 0 0 0 0 0 0 0 0 0 0 0 0 0 0 0 0 0 0 0 0 0 0 0 0 0 0 0 0 0 0 0 0 0 0 0 0 0 0 0 0 0 0 0 0 0 0 0 0 0 0 0\n"
          ],
          "name": "stderr"
        },
        {
          "output_type": "stream",
          "text": [
            "INFO:tensorflow:input_mask: 1 1 1 1 1 1 1 1 1 0 0 0 0 0 0 0 0 0 0 0 0 0 0 0 0 0 0 0 0 0 0 0 0 0 0 0 0 0 0 0 0 0 0 0 0 0 0 0 0 0 0 0 0 0 0 0 0 0 0 0 0 0 0 0 0 0 0 0 0 0 0 0 0 0 0 0 0 0 0 0 0 0 0 0 0 0 0 0 0 0 0 0 0 0 0 0 0 0 0 0 0 0 0 0 0 0 0 0 0 0 0 0 0 0 0 0 0 0 0 0 0 0 0 0 0 0 0 0\n"
          ],
          "name": "stdout"
        },
        {
          "output_type": "stream",
          "text": [
            "INFO:tensorflow:input_mask: 1 1 1 1 1 1 1 1 1 0 0 0 0 0 0 0 0 0 0 0 0 0 0 0 0 0 0 0 0 0 0 0 0 0 0 0 0 0 0 0 0 0 0 0 0 0 0 0 0 0 0 0 0 0 0 0 0 0 0 0 0 0 0 0 0 0 0 0 0 0 0 0 0 0 0 0 0 0 0 0 0 0 0 0 0 0 0 0 0 0 0 0 0 0 0 0 0 0 0 0 0 0 0 0 0 0 0 0 0 0 0 0 0 0 0 0 0 0 0 0 0 0 0 0 0 0 0 0\n"
          ],
          "name": "stderr"
        },
        {
          "output_type": "stream",
          "text": [
            "INFO:tensorflow:segment_ids: 0 0 0 0 0 0 0 0 0 0 0 0 0 0 0 0 0 0 0 0 0 0 0 0 0 0 0 0 0 0 0 0 0 0 0 0 0 0 0 0 0 0 0 0 0 0 0 0 0 0 0 0 0 0 0 0 0 0 0 0 0 0 0 0 0 0 0 0 0 0 0 0 0 0 0 0 0 0 0 0 0 0 0 0 0 0 0 0 0 0 0 0 0 0 0 0 0 0 0 0 0 0 0 0 0 0 0 0 0 0 0 0 0 0 0 0 0 0 0 0 0 0 0 0 0 0 0 0\n"
          ],
          "name": "stdout"
        },
        {
          "output_type": "stream",
          "text": [
            "INFO:tensorflow:segment_ids: 0 0 0 0 0 0 0 0 0 0 0 0 0 0 0 0 0 0 0 0 0 0 0 0 0 0 0 0 0 0 0 0 0 0 0 0 0 0 0 0 0 0 0 0 0 0 0 0 0 0 0 0 0 0 0 0 0 0 0 0 0 0 0 0 0 0 0 0 0 0 0 0 0 0 0 0 0 0 0 0 0 0 0 0 0 0 0 0 0 0 0 0 0 0 0 0 0 0 0 0 0 0 0 0 0 0 0 0 0 0 0 0 0 0 0 0 0 0 0 0 0 0 0 0 0 0 0 0\n"
          ],
          "name": "stderr"
        },
        {
          "output_type": "stream",
          "text": [
            "INFO:tensorflow:label: 4 (id = 3)\n"
          ],
          "name": "stdout"
        },
        {
          "output_type": "stream",
          "text": [
            "INFO:tensorflow:label: 4 (id = 3)\n"
          ],
          "name": "stderr"
        }
      ]
    },
    {
      "cell_type": "code",
      "metadata": {
        "id": "gnN-IBBsAvq6",
        "colab_type": "code",
        "outputId": "f00d2479-548c-497a-856e-eb247a4d70e9",
        "colab": {
          "base_uri": "https://localhost:8080/",
          "height": 190
        }
      },
      "source": [
        "#Example on first observation in the training set\n",
        "print(\"Sentence : \", train_InputExamples.iloc[0].text_a)\n",
        "print(\"-\"*30)\n",
        "print(\"Tokens : \", tokenizer.tokenize(train_InputExamples.iloc[0].text_a))\n",
        "print(\"-\"*30)\n",
        "print(\"Input IDs : \", train_features[0].input_ids)\n",
        "print(\"-\"*30)\n",
        "print(\"Input Masks : \", train_features[0].input_mask)\n",
        "print(\"-\"*30)\n",
        "print(\"Segment IDs : \", train_features[0].segment_ids)"
      ],
      "execution_count": 0,
      "outputs": [
        {
          "output_type": "stream",
          "text": [
            "Sentence :  chellemariee I have my 830 class  fuckin school what time you work wed? if jade comes ima have to get her in antioch at amtrak\n",
            "------------------------------\n",
            "Tokens :  ['che', '##lle', '##mar', '##ie', '##e', 'i', 'have', 'my', '83', '##0', 'class', 'fuck', '##in', 'school', 'what', 'time', 'you', 'work', 'wed', '?', 'if', 'jade', 'comes', 'im', '##a', 'have', 'to', 'get', 'her', 'in', 'antioch', 'at', 'amtrak']\n",
            "------------------------------\n",
            "Input IDs :  [101, 18178, 6216, 7849, 2666, 2063, 1045, 2031, 2026, 6640, 2692, 2465, 6616, 2378, 2082, 2054, 2051, 2017, 2147, 21981, 1029, 2065, 12323, 3310, 10047, 2050, 2031, 2000, 2131, 2014, 1999, 19078, 2012, 20208, 102, 0, 0, 0, 0, 0, 0, 0, 0, 0, 0, 0, 0, 0, 0, 0, 0, 0, 0, 0, 0, 0, 0, 0, 0, 0, 0, 0, 0, 0, 0, 0, 0, 0, 0, 0, 0, 0, 0, 0, 0, 0, 0, 0, 0, 0, 0, 0, 0, 0, 0, 0, 0, 0, 0, 0, 0, 0, 0, 0, 0, 0, 0, 0, 0, 0, 0, 0, 0, 0, 0, 0, 0, 0, 0, 0, 0, 0, 0, 0, 0, 0, 0, 0, 0, 0, 0, 0, 0, 0, 0, 0, 0, 0]\n",
            "------------------------------\n",
            "Input Masks :  [1, 1, 1, 1, 1, 1, 1, 1, 1, 1, 1, 1, 1, 1, 1, 1, 1, 1, 1, 1, 1, 1, 1, 1, 1, 1, 1, 1, 1, 1, 1, 1, 1, 1, 1, 0, 0, 0, 0, 0, 0, 0, 0, 0, 0, 0, 0, 0, 0, 0, 0, 0, 0, 0, 0, 0, 0, 0, 0, 0, 0, 0, 0, 0, 0, 0, 0, 0, 0, 0, 0, 0, 0, 0, 0, 0, 0, 0, 0, 0, 0, 0, 0, 0, 0, 0, 0, 0, 0, 0, 0, 0, 0, 0, 0, 0, 0, 0, 0, 0, 0, 0, 0, 0, 0, 0, 0, 0, 0, 0, 0, 0, 0, 0, 0, 0, 0, 0, 0, 0, 0, 0, 0, 0, 0, 0, 0, 0]\n",
            "------------------------------\n",
            "Segment IDs :  [0, 0, 0, 0, 0, 0, 0, 0, 0, 0, 0, 0, 0, 0, 0, 0, 0, 0, 0, 0, 0, 0, 0, 0, 0, 0, 0, 0, 0, 0, 0, 0, 0, 0, 0, 0, 0, 0, 0, 0, 0, 0, 0, 0, 0, 0, 0, 0, 0, 0, 0, 0, 0, 0, 0, 0, 0, 0, 0, 0, 0, 0, 0, 0, 0, 0, 0, 0, 0, 0, 0, 0, 0, 0, 0, 0, 0, 0, 0, 0, 0, 0, 0, 0, 0, 0, 0, 0, 0, 0, 0, 0, 0, 0, 0, 0, 0, 0, 0, 0, 0, 0, 0, 0, 0, 0, 0, 0, 0, 0, 0, 0, 0, 0, 0, 0, 0, 0, 0, 0, 0, 0, 0, 0, 0, 0, 0, 0]\n"
          ],
          "name": "stdout"
        }
      ]
    },
    {
      "cell_type": "code",
      "metadata": {
        "id": "0iQxuUbmA0ng",
        "colab_type": "code",
        "colab": {}
      },
      "source": [
        "def create_model(is_predicting, input_ids, input_mask, segment_ids, labels,\n",
        "                 num_labels):\n",
        "  \n",
        "  bert_module = hub.Module(\n",
        "      BERT_MODEL_HUB,\n",
        "      trainable=True)\n",
        "  bert_inputs = dict(\n",
        "      input_ids=input_ids,\n",
        "      input_mask=input_mask,\n",
        "      segment_ids=segment_ids)\n",
        "  bert_outputs = bert_module(\n",
        "      inputs=bert_inputs,\n",
        "      signature=\"tokens\",\n",
        "      as_dict=True)\n",
        "\n",
        "  # Use \"pooled_output\" for classification tasks on an entire sentence.\n",
        "  # Use \"sequence_outputs\" for token-level output.\n",
        "  output_layer = bert_outputs[\"pooled_output\"]\n",
        "\n",
        "  hidden_size = output_layer.shape[-1].value\n",
        "\n",
        "  # Create our own layer to tune for politeness data.\n",
        "  output_weights = tf.get_variable(\n",
        "      \"output_weights\", [num_labels, hidden_size],\n",
        "      initializer=tf.truncated_normal_initializer(stddev=0.02))\n",
        "\n",
        "  output_bias = tf.get_variable(\n",
        "      \"output_bias\", [num_labels], initializer=tf.zeros_initializer())\n",
        "\n",
        "  with tf.variable_scope(\"loss\"):\n",
        "\n",
        "    # Dropout helps prevent overfitting\n",
        "    output_layer = tf.nn.dropout(output_layer, keep_prob=0.9)\n",
        "\n",
        "    logits = tf.matmul(output_layer, output_weights, transpose_b=True)\n",
        "    logits = tf.nn.bias_add(logits, output_bias)\n",
        "    log_probs = tf.nn.log_softmax(logits, axis=-1)\n",
        "\n",
        "    # Convert labels into one-hot encoding\n",
        "    one_hot_labels = tf.one_hot(labels, depth=num_labels, dtype=tf.float32)\n",
        "\n",
        "    predicted_labels = tf.squeeze(tf.argmax(log_probs, axis=-1, output_type=tf.int32))\n",
        "    # If we're predicting, we want predicted labels and the probabiltiies.\n",
        "    if is_predicting:\n",
        "      return (predicted_labels, log_probs)\n",
        "\n",
        "    # If we're train/eval, compute loss between predicted and actual label\n",
        "    per_example_loss = -tf.reduce_sum(one_hot_labels * log_probs, axis=-1)\n",
        "    loss = tf.reduce_mean(per_example_loss)\n",
        "    return (loss, predicted_labels, log_probs)"
      ],
      "execution_count": 0,
      "outputs": []
    },
    {
      "cell_type": "code",
      "metadata": {
        "id": "bYQCEilxA6aV",
        "colab_type": "code",
        "colab": {}
      },
      "source": [
        "#A function that adapts our model to work for training, evaluation, and prediction.\n",
        "\n",
        "# model_fn_builder actually creates our model function\n",
        "# using the passed parameters for num_labels, learning_rate, etc.\n",
        "def model_fn_builder(num_labels, learning_rate, num_train_steps,\n",
        "                     num_warmup_steps):\n",
        "  \"\"\"Returns `model_fn` closure for TPUEstimator.\"\"\"\n",
        "  def model_fn(features, labels, mode, params):  # pylint: disable=unused-argument\n",
        "    \"\"\"The `model_fn` for TPUEstimator.\"\"\"\n",
        "\n",
        "    input_ids = features[\"input_ids\"]\n",
        "    input_mask = features[\"input_mask\"]\n",
        "    segment_ids = features[\"segment_ids\"]\n",
        "    label_ids = features[\"label_ids\"]\n",
        "\n",
        "    is_predicting = (mode == tf.estimator.ModeKeys.PREDICT)\n",
        "    \n",
        "    # TRAIN and EVAL\n",
        "    if not is_predicting:\n",
        "\n",
        "      (loss, predicted_labels, log_probs) = create_model(\n",
        "        is_predicting, input_ids, input_mask, segment_ids, label_ids, num_labels)\n",
        "\n",
        "      train_op = bert.optimization.create_optimizer(\n",
        "          loss, learning_rate, num_train_steps, num_warmup_steps, use_tpu=False)\n",
        "\n",
        "      # Calculate evaluation metrics. \n",
        "      def metric_fn(label_ids, predicted_labels):\n",
        "        accuracy = tf.metrics.accuracy(label_ids, predicted_labels)\n",
        "        true_pos = tf.metrics.true_positives(\n",
        "            label_ids,\n",
        "            predicted_labels)\n",
        "        true_neg = tf.metrics.true_negatives(\n",
        "            label_ids,\n",
        "            predicted_labels)   \n",
        "        false_pos = tf.metrics.false_positives(\n",
        "            label_ids,\n",
        "            predicted_labels)  \n",
        "        false_neg = tf.metrics.false_negatives(\n",
        "            label_ids,\n",
        "            predicted_labels)\n",
        "        \n",
        "        return {\n",
        "            \"eval_accuracy\": accuracy,\n",
        "            \"true_positives\": true_pos,\n",
        "            \"true_negatives\": true_neg,\n",
        "            \"false_positives\": false_pos,\n",
        "            \"false_negatives\": false_neg\n",
        "            }\n",
        "\n",
        "      eval_metrics = metric_fn(label_ids, predicted_labels)\n",
        "\n",
        "      if mode == tf.estimator.ModeKeys.TRAIN:\n",
        "        return tf.estimator.EstimatorSpec(mode=mode,\n",
        "          loss=loss,\n",
        "          train_op=train_op)\n",
        "      else:\n",
        "          return tf.estimator.EstimatorSpec(mode=mode,\n",
        "            loss=loss,\n",
        "            eval_metric_ops=eval_metrics)\n",
        "    else:\n",
        "      (predicted_labels, log_probs) = create_model(\n",
        "        is_predicting, input_ids, input_mask, segment_ids, label_ids, num_labels)\n",
        "\n",
        "      predictions = {\n",
        "          'probabilities': log_probs,\n",
        "          'labels': predicted_labels\n",
        "      }\n",
        "      return tf.estimator.EstimatorSpec(mode, predictions=predictions)\n",
        "\n",
        "  # Return the actual model function in the closure\n",
        "  return model_fn"
      ],
      "execution_count": 0,
      "outputs": []
    },
    {
      "cell_type": "code",
      "metadata": {
        "id": "xPPTvpEeA_Cr",
        "colab_type": "code",
        "colab": {}
      },
      "source": [
        "# Compute train and warmup steps from batch size\n",
        "# These hyperparameters are copied from this colab notebook (https://colab.sandbox.google.com/github/tensorflow/tpu/blob/master/tools/colab/bert_finetuning_with_cloud_tpus.ipynb)\n",
        "BATCH_SIZE = 32\n",
        "LEARNING_RATE = 2e-5\n",
        "NUM_TRAIN_EPOCHS = 3.0\n",
        "# Warmup is a period of time where the learning rate is small and gradually increases--usually helps training.\n",
        "WARMUP_PROPORTION = 0.1\n",
        "# Model configs\n",
        "SAVE_CHECKPOINTS_STEPS = 100\n",
        "SAVE_SUMMARY_STEPS = 10\n",
        "\n",
        "# Compute train and warmup steps from batch size\n",
        "num_train_steps = int(len(train_features) / BATCH_SIZE * NUM_TRAIN_EPOCHS)\n",
        "num_warmup_steps = int(num_train_steps * WARMUP_PROPORTION)\n",
        "\n",
        "# Specify output directory and number of checkpoint steps to save\n",
        "run_config = tf.estimator.RunConfig(\n",
        "    model_dir=OUTPUT_DIR,\n",
        "    save_summary_steps=SAVE_SUMMARY_STEPS,\n",
        "    save_checkpoints_steps=SAVE_CHECKPOINTS_STEPS)\n",
        "\n",
        "# Specify output directory and number of checkpoint steps to save\n",
        "run_config = tf.estimator.RunConfig(\n",
        "    model_dir=OUTPUT_DIR,\n",
        "    save_summary_steps=SAVE_SUMMARY_STEPS,\n",
        "    save_checkpoints_steps=SAVE_CHECKPOINTS_STEPS)"
      ],
      "execution_count": 0,
      "outputs": []
    },
    {
      "cell_type": "code",
      "metadata": {
        "id": "grRheZhNdXSR",
        "colab_type": "code",
        "outputId": "59a53d0c-0025-4556-e2e0-3e735296d7e7",
        "colab": {
          "base_uri": "https://localhost:8080/",
          "height": 34
        }
      },
      "source": [
        "print(num_train_steps)"
      ],
      "execution_count": 0,
      "outputs": [
        {
          "output_type": "stream",
          "text": [
            "1718\n"
          ],
          "name": "stdout"
        }
      ]
    },
    {
      "cell_type": "code",
      "metadata": {
        "id": "ug7oo-aTBBwM",
        "colab_type": "code",
        "outputId": "8ecaa20d-1d79-4ebb-8b65-0a15e94baabd",
        "colab": {
          "base_uri": "https://localhost:8080/",
          "height": 275
        }
      },
      "source": [
        "#Initializing the model and the estimator\n",
        "model_fn = model_fn_builder(\n",
        "  num_labels=len(label_list),\n",
        "  learning_rate=LEARNING_RATE,\n",
        "  num_train_steps=num_train_steps,\n",
        "  num_warmup_steps=num_warmup_steps)\n",
        "\n",
        "estimator = tf.estimator.Estimator(\n",
        "  model_fn=model_fn,\n",
        "  config=run_config,\n",
        "  params={\"batch_size\": BATCH_SIZE})"
      ],
      "execution_count": 0,
      "outputs": [
        {
          "output_type": "stream",
          "text": [
            "INFO:tensorflow:Using config: {'_model_dir': '/content/bert', '_tf_random_seed': None, '_save_summary_steps': 10, '_save_checkpoints_steps': 100, '_save_checkpoints_secs': None, '_session_config': allow_soft_placement: true\n",
            "graph_options {\n",
            "  rewrite_options {\n",
            "    meta_optimizer_iterations: ONE\n",
            "  }\n",
            "}\n",
            ", '_keep_checkpoint_max': 5, '_keep_checkpoint_every_n_hours': 10000, '_log_step_count_steps': 100, '_train_distribute': None, '_device_fn': None, '_protocol': None, '_eval_distribute': None, '_experimental_distribute': None, '_experimental_max_worker_delay_secs': None, '_session_creation_timeout_secs': 7200, '_service': None, '_cluster_spec': <tensorflow.python.training.server_lib.ClusterSpec object at 0x7f005f277470>, '_task_type': 'worker', '_task_id': 0, '_global_id_in_cluster': 0, '_master': '', '_evaluation_master': '', '_is_chief': True, '_num_ps_replicas': 0, '_num_worker_replicas': 1}\n"
          ],
          "name": "stdout"
        },
        {
          "output_type": "stream",
          "text": [
            "INFO:tensorflow:Using config: {'_model_dir': '/content/bert', '_tf_random_seed': None, '_save_summary_steps': 10, '_save_checkpoints_steps': 100, '_save_checkpoints_secs': None, '_session_config': allow_soft_placement: true\n",
            "graph_options {\n",
            "  rewrite_options {\n",
            "    meta_optimizer_iterations: ONE\n",
            "  }\n",
            "}\n",
            ", '_keep_checkpoint_max': 5, '_keep_checkpoint_every_n_hours': 10000, '_log_step_count_steps': 100, '_train_distribute': None, '_device_fn': None, '_protocol': None, '_eval_distribute': None, '_experimental_distribute': None, '_experimental_max_worker_delay_secs': None, '_session_creation_timeout_secs': 7200, '_service': None, '_cluster_spec': <tensorflow.python.training.server_lib.ClusterSpec object at 0x7f005f277470>, '_task_type': 'worker', '_task_id': 0, '_global_id_in_cluster': 0, '_master': '', '_evaluation_master': '', '_is_chief': True, '_num_ps_replicas': 0, '_num_worker_replicas': 1}\n"
          ],
          "name": "stderr"
        }
      ]
    },
    {
      "cell_type": "code",
      "metadata": {
        "id": "gNTB9cKZBD2o",
        "colab_type": "code",
        "colab": {}
      },
      "source": [
        "# Create an input function for training. drop_remainder = True for using TPUs.\n",
        "train_input_fn = bert.run_classifier.input_fn_builder(\n",
        "    features=train_features,\n",
        "    seq_length=MAX_SEQ_LENGTH,\n",
        "    is_training=True,\n",
        "    drop_remainder=False)\n",
        "\n",
        "# Create an input function for validating. drop_remainder = True for using TPUs.\n",
        "val_input_fn = run_classifier.input_fn_builder(\n",
        "    features=val_features,\n",
        "    seq_length=MAX_SEQ_LENGTH,\n",
        "    is_training=False,\n",
        "    drop_remainder=False)"
      ],
      "execution_count": 0,
      "outputs": []
    },
    {
      "cell_type": "code",
      "metadata": {
        "id": "HVL2DtgdBM-_",
        "colab_type": "code",
        "outputId": "497afd79-608d-45a0-f7e7-74845daaf9ac",
        "colab": {
          "base_uri": "https://localhost:8080/",
          "height": 1000
        }
      },
      "source": [
        "#Training the model\n",
        "print(f'Beginning Training!')\n",
        "current_time = datetime.now()\n",
        "estimator.train(input_fn=train_input_fn, max_steps=num_train_steps)\n",
        "print(\"Training took time \", datetime.now() - current_time)"
      ],
      "execution_count": 0,
      "outputs": [
        {
          "output_type": "stream",
          "text": [
            "Beginning Training!\n",
            "WARNING:tensorflow:From /usr/local/lib/python3.6/dist-packages/tensorflow_core/python/training/training_util.py:236: Variable.initialized_value (from tensorflow.python.ops.variables) is deprecated and will be removed in a future version.\n",
            "Instructions for updating:\n",
            "Use Variable.read_value. Variables in 2.X are initialized automatically both in eager and graph (inside tf.defun) contexts.\n"
          ],
          "name": "stdout"
        },
        {
          "output_type": "stream",
          "text": [
            "WARNING:tensorflow:From /usr/local/lib/python3.6/dist-packages/tensorflow_core/python/training/training_util.py:236: Variable.initialized_value (from tensorflow.python.ops.variables) is deprecated and will be removed in a future version.\n",
            "Instructions for updating:\n",
            "Use Variable.read_value. Variables in 2.X are initialized automatically both in eager and graph (inside tf.defun) contexts.\n"
          ],
          "name": "stderr"
        },
        {
          "output_type": "stream",
          "text": [
            "INFO:tensorflow:Calling model_fn.\n"
          ],
          "name": "stdout"
        },
        {
          "output_type": "stream",
          "text": [
            "INFO:tensorflow:Calling model_fn.\n"
          ],
          "name": "stderr"
        },
        {
          "output_type": "stream",
          "text": [
            "INFO:tensorflow:Saver not created because there are no variables in the graph to restore\n"
          ],
          "name": "stdout"
        },
        {
          "output_type": "stream",
          "text": [
            "INFO:tensorflow:Saver not created because there are no variables in the graph to restore\n"
          ],
          "name": "stderr"
        },
        {
          "output_type": "stream",
          "text": [
            "WARNING:tensorflow:From <ipython-input-27-bdfb628bf45b>:33: calling dropout (from tensorflow.python.ops.nn_ops) with keep_prob is deprecated and will be removed in a future version.\n",
            "Instructions for updating:\n",
            "Please use `rate` instead of `keep_prob`. Rate should be set to `rate = 1 - keep_prob`.\n"
          ],
          "name": "stdout"
        },
        {
          "output_type": "stream",
          "text": [
            "WARNING:tensorflow:From <ipython-input-27-bdfb628bf45b>:33: calling dropout (from tensorflow.python.ops.nn_ops) with keep_prob is deprecated and will be removed in a future version.\n",
            "Instructions for updating:\n",
            "Please use `rate` instead of `keep_prob`. Rate should be set to `rate = 1 - keep_prob`.\n"
          ],
          "name": "stderr"
        },
        {
          "output_type": "stream",
          "text": [
            "WARNING:tensorflow:From /usr/local/lib/python3.6/dist-packages/bert/optimization.py:27: The name tf.train.get_or_create_global_step is deprecated. Please use tf.compat.v1.train.get_or_create_global_step instead.\n",
            "\n"
          ],
          "name": "stdout"
        },
        {
          "output_type": "stream",
          "text": [
            "WARNING:tensorflow:From /usr/local/lib/python3.6/dist-packages/bert/optimization.py:27: The name tf.train.get_or_create_global_step is deprecated. Please use tf.compat.v1.train.get_or_create_global_step instead.\n",
            "\n"
          ],
          "name": "stderr"
        },
        {
          "output_type": "stream",
          "text": [
            "WARNING:tensorflow:From /usr/local/lib/python3.6/dist-packages/bert/optimization.py:32: The name tf.train.polynomial_decay is deprecated. Please use tf.compat.v1.train.polynomial_decay instead.\n",
            "\n"
          ],
          "name": "stdout"
        },
        {
          "output_type": "stream",
          "text": [
            "WARNING:tensorflow:From /usr/local/lib/python3.6/dist-packages/bert/optimization.py:32: The name tf.train.polynomial_decay is deprecated. Please use tf.compat.v1.train.polynomial_decay instead.\n",
            "\n"
          ],
          "name": "stderr"
        },
        {
          "output_type": "stream",
          "text": [
            "WARNING:tensorflow:From /usr/local/lib/python3.6/dist-packages/bert/optimization.py:70: The name tf.trainable_variables is deprecated. Please use tf.compat.v1.trainable_variables instead.\n",
            "\n"
          ],
          "name": "stdout"
        },
        {
          "output_type": "stream",
          "text": [
            "WARNING:tensorflow:From /usr/local/lib/python3.6/dist-packages/bert/optimization.py:70: The name tf.trainable_variables is deprecated. Please use tf.compat.v1.trainable_variables instead.\n",
            "\n"
          ],
          "name": "stderr"
        },
        {
          "output_type": "stream",
          "text": [
            "WARNING:tensorflow:From /usr/local/lib/python3.6/dist-packages/tensorflow_core/python/ops/math_grad.py:1375: where (from tensorflow.python.ops.array_ops) is deprecated and will be removed in a future version.\n",
            "Instructions for updating:\n",
            "Use tf.where in 2.0, which has the same broadcast rule as np.where\n"
          ],
          "name": "stdout"
        },
        {
          "output_type": "stream",
          "text": [
            "WARNING:tensorflow:From /usr/local/lib/python3.6/dist-packages/tensorflow_core/python/ops/math_grad.py:1375: where (from tensorflow.python.ops.array_ops) is deprecated and will be removed in a future version.\n",
            "Instructions for updating:\n",
            "Use tf.where in 2.0, which has the same broadcast rule as np.where\n",
            "/usr/local/lib/python3.6/dist-packages/tensorflow_core/python/framework/indexed_slices.py:424: UserWarning: Converting sparse IndexedSlices to a dense Tensor of unknown shape. This may consume a large amount of memory.\n",
            "  \"Converting sparse IndexedSlices to a dense Tensor of unknown shape. \"\n"
          ],
          "name": "stderr"
        },
        {
          "output_type": "stream",
          "text": [
            "INFO:tensorflow:Done calling model_fn.\n"
          ],
          "name": "stdout"
        },
        {
          "output_type": "stream",
          "text": [
            "INFO:tensorflow:Done calling model_fn.\n"
          ],
          "name": "stderr"
        },
        {
          "output_type": "stream",
          "text": [
            "INFO:tensorflow:Create CheckpointSaverHook.\n"
          ],
          "name": "stdout"
        },
        {
          "output_type": "stream",
          "text": [
            "INFO:tensorflow:Create CheckpointSaverHook.\n"
          ],
          "name": "stderr"
        },
        {
          "output_type": "stream",
          "text": [
            "INFO:tensorflow:Graph was finalized.\n"
          ],
          "name": "stdout"
        },
        {
          "output_type": "stream",
          "text": [
            "INFO:tensorflow:Graph was finalized.\n"
          ],
          "name": "stderr"
        },
        {
          "output_type": "stream",
          "text": [
            "INFO:tensorflow:Running local_init_op.\n"
          ],
          "name": "stdout"
        },
        {
          "output_type": "stream",
          "text": [
            "INFO:tensorflow:Running local_init_op.\n"
          ],
          "name": "stderr"
        },
        {
          "output_type": "stream",
          "text": [
            "INFO:tensorflow:Done running local_init_op.\n"
          ],
          "name": "stdout"
        },
        {
          "output_type": "stream",
          "text": [
            "INFO:tensorflow:Done running local_init_op.\n"
          ],
          "name": "stderr"
        },
        {
          "output_type": "stream",
          "text": [
            "INFO:tensorflow:Saving checkpoints for 0 into /content/bert/model.ckpt.\n"
          ],
          "name": "stdout"
        },
        {
          "output_type": "stream",
          "text": [
            "INFO:tensorflow:Saving checkpoints for 0 into /content/bert/model.ckpt.\n"
          ],
          "name": "stderr"
        },
        {
          "output_type": "stream",
          "text": [
            "INFO:tensorflow:loss = 1.5799887, step = 1\n"
          ],
          "name": "stdout"
        },
        {
          "output_type": "stream",
          "text": [
            "INFO:tensorflow:loss = 1.5799887, step = 1\n"
          ],
          "name": "stderr"
        },
        {
          "output_type": "stream",
          "text": [
            "INFO:tensorflow:Saving checkpoints for 100 into /content/bert/model.ckpt.\n"
          ],
          "name": "stdout"
        },
        {
          "output_type": "stream",
          "text": [
            "INFO:tensorflow:Saving checkpoints for 100 into /content/bert/model.ckpt.\n"
          ],
          "name": "stderr"
        },
        {
          "output_type": "stream",
          "text": [
            "INFO:tensorflow:global_step/sec: 0.0240274\n"
          ],
          "name": "stdout"
        },
        {
          "output_type": "stream",
          "text": [
            "INFO:tensorflow:global_step/sec: 0.0240274\n"
          ],
          "name": "stderr"
        },
        {
          "output_type": "stream",
          "text": [
            "INFO:tensorflow:loss = 1.1952502, step = 101 (4161.925 sec)\n"
          ],
          "name": "stdout"
        },
        {
          "output_type": "stream",
          "text": [
            "INFO:tensorflow:loss = 1.1952502, step = 101 (4161.925 sec)\n"
          ],
          "name": "stderr"
        },
        {
          "output_type": "stream",
          "text": [
            "WARNING:tensorflow:It seems that global step (tf.train.get_global_step) has not been increased. Current value (could be stable): 101 vs previous value: 101. You could increase the global step by passing tf.train.get_global_step() to Optimizer.apply_gradients or Optimizer.minimize.\n"
          ],
          "name": "stdout"
        },
        {
          "output_type": "stream",
          "text": [
            "WARNING:tensorflow:It seems that global step (tf.train.get_global_step) has not been increased. Current value (could be stable): 101 vs previous value: 101. You could increase the global step by passing tf.train.get_global_step() to Optimizer.apply_gradients or Optimizer.minimize.\n"
          ],
          "name": "stderr"
        },
        {
          "output_type": "stream",
          "text": [
            "WARNING:tensorflow:It seems that global step (tf.train.get_global_step) has not been increased. Current value (could be stable): 112 vs previous value: 112. You could increase the global step by passing tf.train.get_global_step() to Optimizer.apply_gradients or Optimizer.minimize.\n"
          ],
          "name": "stdout"
        },
        {
          "output_type": "stream",
          "text": [
            "WARNING:tensorflow:It seems that global step (tf.train.get_global_step) has not been increased. Current value (could be stable): 112 vs previous value: 112. You could increase the global step by passing tf.train.get_global_step() to Optimizer.apply_gradients or Optimizer.minimize.\n"
          ],
          "name": "stderr"
        },
        {
          "output_type": "stream",
          "text": [
            "WARNING:tensorflow:It seems that global step (tf.train.get_global_step) has not been increased. Current value (could be stable): 114 vs previous value: 114. You could increase the global step by passing tf.train.get_global_step() to Optimizer.apply_gradients or Optimizer.minimize.\n"
          ],
          "name": "stdout"
        },
        {
          "output_type": "stream",
          "text": [
            "WARNING:tensorflow:It seems that global step (tf.train.get_global_step) has not been increased. Current value (could be stable): 114 vs previous value: 114. You could increase the global step by passing tf.train.get_global_step() to Optimizer.apply_gradients or Optimizer.minimize.\n"
          ],
          "name": "stderr"
        },
        {
          "output_type": "stream",
          "text": [
            "WARNING:tensorflow:It seems that global step (tf.train.get_global_step) has not been increased. Current value (could be stable): 117 vs previous value: 117. You could increase the global step by passing tf.train.get_global_step() to Optimizer.apply_gradients or Optimizer.minimize.\n"
          ],
          "name": "stdout"
        },
        {
          "output_type": "stream",
          "text": [
            "WARNING:tensorflow:It seems that global step (tf.train.get_global_step) has not been increased. Current value (could be stable): 117 vs previous value: 117. You could increase the global step by passing tf.train.get_global_step() to Optimizer.apply_gradients or Optimizer.minimize.\n"
          ],
          "name": "stderr"
        },
        {
          "output_type": "stream",
          "text": [
            "WARNING:tensorflow:It seems that global step (tf.train.get_global_step) has not been increased. Current value (could be stable): 119 vs previous value: 119. You could increase the global step by passing tf.train.get_global_step() to Optimizer.apply_gradients or Optimizer.minimize.\n"
          ],
          "name": "stdout"
        },
        {
          "output_type": "stream",
          "text": [
            "WARNING:tensorflow:It seems that global step (tf.train.get_global_step) has not been increased. Current value (could be stable): 119 vs previous value: 119. You could increase the global step by passing tf.train.get_global_step() to Optimizer.apply_gradients or Optimizer.minimize.\n"
          ],
          "name": "stderr"
        },
        {
          "output_type": "stream",
          "text": [
            "INFO:tensorflow:Saving checkpoints for 200 into /content/bert/model.ckpt.\n"
          ],
          "name": "stdout"
        },
        {
          "output_type": "stream",
          "text": [
            "INFO:tensorflow:Saving checkpoints for 200 into /content/bert/model.ckpt.\n"
          ],
          "name": "stderr"
        },
        {
          "output_type": "stream",
          "text": [
            "INFO:tensorflow:global_step/sec: 0.0241635\n"
          ],
          "name": "stdout"
        },
        {
          "output_type": "stream",
          "text": [
            "INFO:tensorflow:global_step/sec: 0.0241635\n"
          ],
          "name": "stderr"
        },
        {
          "output_type": "stream",
          "text": [
            "INFO:tensorflow:loss = 1.2762303, step = 201 (4138.481 sec)\n"
          ],
          "name": "stdout"
        },
        {
          "output_type": "stream",
          "text": [
            "INFO:tensorflow:loss = 1.2762303, step = 201 (4138.481 sec)\n"
          ],
          "name": "stderr"
        },
        {
          "output_type": "stream",
          "text": [
            "INFO:tensorflow:Saving checkpoints for 300 into /content/bert/model.ckpt.\n"
          ],
          "name": "stdout"
        },
        {
          "output_type": "stream",
          "text": [
            "INFO:tensorflow:Saving checkpoints for 300 into /content/bert/model.ckpt.\n"
          ],
          "name": "stderr"
        },
        {
          "output_type": "stream",
          "text": [
            "INFO:tensorflow:global_step/sec: 0.0241335\n"
          ],
          "name": "stdout"
        },
        {
          "output_type": "stream",
          "text": [
            "INFO:tensorflow:global_step/sec: 0.0241335\n"
          ],
          "name": "stderr"
        },
        {
          "output_type": "stream",
          "text": [
            "INFO:tensorflow:loss = 1.0182655, step = 301 (4143.615 sec)\n"
          ],
          "name": "stdout"
        },
        {
          "output_type": "stream",
          "text": [
            "INFO:tensorflow:loss = 1.0182655, step = 301 (4143.615 sec)\n"
          ],
          "name": "stderr"
        },
        {
          "output_type": "stream",
          "text": [
            "INFO:tensorflow:Saving checkpoints for 400 into /content/bert/model.ckpt.\n"
          ],
          "name": "stdout"
        },
        {
          "output_type": "stream",
          "text": [
            "INFO:tensorflow:Saving checkpoints for 400 into /content/bert/model.ckpt.\n"
          ],
          "name": "stderr"
        },
        {
          "output_type": "stream",
          "text": [
            "INFO:tensorflow:global_step/sec: 0.0241151\n"
          ],
          "name": "stdout"
        },
        {
          "output_type": "stream",
          "text": [
            "INFO:tensorflow:global_step/sec: 0.0241151\n"
          ],
          "name": "stderr"
        },
        {
          "output_type": "stream",
          "text": [
            "INFO:tensorflow:loss = 1.2519659, step = 401 (4146.782 sec)\n"
          ],
          "name": "stdout"
        },
        {
          "output_type": "stream",
          "text": [
            "INFO:tensorflow:loss = 1.2519659, step = 401 (4146.782 sec)\n"
          ],
          "name": "stderr"
        },
        {
          "output_type": "stream",
          "text": [
            "INFO:tensorflow:Saving checkpoints for 500 into /content/bert/model.ckpt.\n"
          ],
          "name": "stdout"
        },
        {
          "output_type": "stream",
          "text": [
            "INFO:tensorflow:Saving checkpoints for 500 into /content/bert/model.ckpt.\n"
          ],
          "name": "stderr"
        },
        {
          "output_type": "stream",
          "text": [
            "WARNING:tensorflow:From /usr/local/lib/python3.6/dist-packages/tensorflow_core/python/training/saver.py:963: remove_checkpoint (from tensorflow.python.training.checkpoint_management) is deprecated and will be removed in a future version.\n",
            "Instructions for updating:\n",
            "Use standard file APIs to delete files with this prefix.\n"
          ],
          "name": "stdout"
        },
        {
          "output_type": "stream",
          "text": [
            "WARNING:tensorflow:From /usr/local/lib/python3.6/dist-packages/tensorflow_core/python/training/saver.py:963: remove_checkpoint (from tensorflow.python.training.checkpoint_management) is deprecated and will be removed in a future version.\n",
            "Instructions for updating:\n",
            "Use standard file APIs to delete files with this prefix.\n"
          ],
          "name": "stderr"
        },
        {
          "output_type": "stream",
          "text": [
            "INFO:tensorflow:global_step/sec: 0.0240167\n"
          ],
          "name": "stdout"
        },
        {
          "output_type": "stream",
          "text": [
            "INFO:tensorflow:global_step/sec: 0.0240167\n"
          ],
          "name": "stderr"
        },
        {
          "output_type": "stream",
          "text": [
            "INFO:tensorflow:loss = 0.9716023, step = 501 (4163.770 sec)\n"
          ],
          "name": "stdout"
        },
        {
          "output_type": "stream",
          "text": [
            "INFO:tensorflow:loss = 0.9716023, step = 501 (4163.770 sec)\n"
          ],
          "name": "stderr"
        },
        {
          "output_type": "stream",
          "text": [
            "INFO:tensorflow:Saving checkpoints for 600 into /content/bert/model.ckpt.\n"
          ],
          "name": "stdout"
        },
        {
          "output_type": "stream",
          "text": [
            "INFO:tensorflow:Saving checkpoints for 600 into /content/bert/model.ckpt.\n"
          ],
          "name": "stderr"
        },
        {
          "output_type": "stream",
          "text": [
            "INFO:tensorflow:global_step/sec: 0.0239736\n"
          ],
          "name": "stdout"
        },
        {
          "output_type": "stream",
          "text": [
            "INFO:tensorflow:global_step/sec: 0.0239736\n"
          ],
          "name": "stderr"
        },
        {
          "output_type": "stream",
          "text": [
            "INFO:tensorflow:loss = 1.2242578, step = 601 (4171.259 sec)\n"
          ],
          "name": "stdout"
        },
        {
          "output_type": "stream",
          "text": [
            "INFO:tensorflow:loss = 1.2242578, step = 601 (4171.259 sec)\n"
          ],
          "name": "stderr"
        },
        {
          "output_type": "stream",
          "text": [
            "INFO:tensorflow:Saving checkpoints for 700 into /content/bert/model.ckpt.\n"
          ],
          "name": "stdout"
        },
        {
          "output_type": "stream",
          "text": [
            "INFO:tensorflow:Saving checkpoints for 700 into /content/bert/model.ckpt.\n"
          ],
          "name": "stderr"
        },
        {
          "output_type": "stream",
          "text": [
            "INFO:tensorflow:global_step/sec: 0.023979\n"
          ],
          "name": "stdout"
        },
        {
          "output_type": "stream",
          "text": [
            "INFO:tensorflow:global_step/sec: 0.023979\n"
          ],
          "name": "stderr"
        },
        {
          "output_type": "stream",
          "text": [
            "INFO:tensorflow:loss = 0.8399042, step = 701 (4170.309 sec)\n"
          ],
          "name": "stdout"
        },
        {
          "output_type": "stream",
          "text": [
            "INFO:tensorflow:loss = 0.8399042, step = 701 (4170.309 sec)\n"
          ],
          "name": "stderr"
        },
        {
          "output_type": "stream",
          "text": [
            "INFO:tensorflow:Saving checkpoints for 800 into /content/bert/model.ckpt.\n"
          ],
          "name": "stdout"
        },
        {
          "output_type": "stream",
          "text": [
            "INFO:tensorflow:Saving checkpoints for 800 into /content/bert/model.ckpt.\n"
          ],
          "name": "stderr"
        },
        {
          "output_type": "stream",
          "text": [
            "INFO:tensorflow:global_step/sec: 0.0239686\n"
          ],
          "name": "stdout"
        },
        {
          "output_type": "stream",
          "text": [
            "INFO:tensorflow:global_step/sec: 0.0239686\n"
          ],
          "name": "stderr"
        },
        {
          "output_type": "stream",
          "text": [
            "INFO:tensorflow:loss = 0.90572816, step = 801 (4172.138 sec)\n"
          ],
          "name": "stdout"
        },
        {
          "output_type": "stream",
          "text": [
            "INFO:tensorflow:loss = 0.90572816, step = 801 (4172.138 sec)\n"
          ],
          "name": "stderr"
        },
        {
          "output_type": "stream",
          "text": [
            "INFO:tensorflow:Saving checkpoints for 900 into /content/bert/model.ckpt.\n"
          ],
          "name": "stdout"
        },
        {
          "output_type": "stream",
          "text": [
            "INFO:tensorflow:Saving checkpoints for 900 into /content/bert/model.ckpt.\n"
          ],
          "name": "stderr"
        },
        {
          "output_type": "stream",
          "text": [
            "INFO:tensorflow:global_step/sec: 0.0238809\n"
          ],
          "name": "stdout"
        },
        {
          "output_type": "stream",
          "text": [
            "INFO:tensorflow:global_step/sec: 0.0238809\n"
          ],
          "name": "stderr"
        },
        {
          "output_type": "stream",
          "text": [
            "INFO:tensorflow:loss = 0.76153564, step = 901 (4187.435 sec)\n"
          ],
          "name": "stdout"
        },
        {
          "output_type": "stream",
          "text": [
            "INFO:tensorflow:loss = 0.76153564, step = 901 (4187.435 sec)\n"
          ],
          "name": "stderr"
        },
        {
          "output_type": "stream",
          "text": [
            "INFO:tensorflow:Saving checkpoints for 1000 into /content/bert/model.ckpt.\n"
          ],
          "name": "stdout"
        },
        {
          "output_type": "stream",
          "text": [
            "INFO:tensorflow:Saving checkpoints for 1000 into /content/bert/model.ckpt.\n"
          ],
          "name": "stderr"
        },
        {
          "output_type": "stream",
          "text": [
            "INFO:tensorflow:global_step/sec: 0.0239545\n"
          ],
          "name": "stdout"
        },
        {
          "output_type": "stream",
          "text": [
            "INFO:tensorflow:global_step/sec: 0.0239545\n"
          ],
          "name": "stderr"
        },
        {
          "output_type": "stream",
          "text": [
            "INFO:tensorflow:loss = 0.870662, step = 1001 (4174.587 sec)\n"
          ],
          "name": "stdout"
        },
        {
          "output_type": "stream",
          "text": [
            "INFO:tensorflow:loss = 0.870662, step = 1001 (4174.587 sec)\n"
          ],
          "name": "stderr"
        }
      ]
    },
    {
      "cell_type": "code",
      "metadata": {
        "id": "6WNv79nfBQVk",
        "colab_type": "code",
        "colab": {}
      },
      "source": [
        "#Evaluating the model with Validation set\n",
        "estimator.evaluate(input_fn=val_input_fn, steps=None)"
      ],
      "execution_count": 0,
      "outputs": []
    },
    {
      "cell_type": "code",
      "metadata": {
        "id": "fk-AuyelBWGf",
        "colab_type": "code",
        "colab": {}
      },
      "source": [
        "\"\"\"delighted: 5\n",
        "happy: 4\n",
        "neutral: 3\n",
        "disappointed: 2\n",
        "frustrated: 1\"\"\"\n",
        "\n",
        "# A method to get predictions\n",
        "def getPrediction(in_sentences):\n",
        "  #A list to map the actual labels to the predictions\n",
        "  labels = [\"delighted\",\t\"happy\",\t\"neutral\",\t\"disappointed\",\t\"frustrated\"]\n",
        "\n",
        "  #Transforming the test data into BERT accepted form\n",
        "  input_examples = [run_classifier.InputExample(guid=\"\", text_a = x, text_b = None, label = 0) for x in in_sentences] \n",
        "  \n",
        "  #Creating input features for Test data\n",
        "  input_features = run_classifier.convert_examples_to_features(input_examples, label_list, MAX_SEQ_LENGTH, tokenizer)\n",
        "\n",
        "  #Predicting the classes \n",
        "  predict_input_fn = run_classifier.input_fn_builder(features=input_features, seq_length=MAX_SEQ_LENGTH, is_training=False, drop_remainder=False)\n",
        "  predictions = estimator.predict(predict_input_fn)\n",
        "  return [(sentence, prediction['probabilities'],prediction['labels'], labels[prediction['labels']]) for sentence, prediction in zip(in_sentences, predictions)]"
      ],
      "execution_count": 0,
      "outputs": []
    },
    {
      "cell_type": "code",
      "metadata": {
        "id": "nR7clEzGBfxR",
        "colab_type": "code",
        "colab": {}
      },
      "source": [
        "pred_sentences = list(val['content'])"
      ],
      "execution_count": 0,
      "outputs": []
    },
    {
      "cell_type": "code",
      "metadata": {
        "id": "eDoAb-eqBhcy",
        "colab_type": "code",
        "outputId": "80118698-66e0-47db-8c73-4449efd3db53",
        "colab": {
          "base_uri": "https://localhost:8080/",
          "height": 1000
        }
      },
      "source": [
        "predictions = getPrediction(pred_sentences)"
      ],
      "execution_count": 0,
      "outputs": [
        {
          "output_type": "stream",
          "text": [
            "INFO:tensorflow:Writing example 0 of 5170\n"
          ],
          "name": "stdout"
        },
        {
          "output_type": "stream",
          "text": [
            "INFO:tensorflow:Writing example 0 of 5170\n"
          ],
          "name": "stderr"
        },
        {
          "output_type": "stream",
          "text": [
            "INFO:tensorflow:*** Example ***\n"
          ],
          "name": "stdout"
        },
        {
          "output_type": "stream",
          "text": [
            "INFO:tensorflow:*** Example ***\n"
          ],
          "name": "stderr"
        },
        {
          "output_type": "stream",
          "text": [
            "INFO:tensorflow:guid: \n"
          ],
          "name": "stdout"
        },
        {
          "output_type": "stream",
          "text": [
            "INFO:tensorflow:guid: \n"
          ],
          "name": "stderr"
        },
        {
          "output_type": "stream",
          "text": [
            "INFO:tensorflow:tokens: [CLS] wi ##rb ##el ##wind ##11 ##11 i just love it . [SEP]\n"
          ],
          "name": "stdout"
        },
        {
          "output_type": "stream",
          "text": [
            "INFO:tensorflow:tokens: [CLS] wi ##rb ##el ##wind ##11 ##11 i just love it . [SEP]\n"
          ],
          "name": "stderr"
        },
        {
          "output_type": "stream",
          "text": [
            "INFO:tensorflow:input_ids: 101 15536 15185 2884 11101 14526 14526 1045 2074 2293 2009 1012 102 0 0 0 0 0 0 0 0 0 0 0 0 0 0 0 0 0 0 0 0 0 0 0 0 0 0 0 0 0 0 0 0 0 0 0 0 0 0 0 0 0 0 0 0 0 0 0 0 0 0 0 0 0 0 0 0 0 0 0 0 0 0 0 0 0 0 0 0 0 0 0 0 0 0 0 0 0 0 0 0 0 0 0 0 0 0 0 0 0 0 0 0 0 0 0 0 0 0 0 0 0 0 0 0 0 0 0 0 0 0 0 0 0 0 0\n"
          ],
          "name": "stdout"
        },
        {
          "output_type": "stream",
          "text": [
            "INFO:tensorflow:input_ids: 101 15536 15185 2884 11101 14526 14526 1045 2074 2293 2009 1012 102 0 0 0 0 0 0 0 0 0 0 0 0 0 0 0 0 0 0 0 0 0 0 0 0 0 0 0 0 0 0 0 0 0 0 0 0 0 0 0 0 0 0 0 0 0 0 0 0 0 0 0 0 0 0 0 0 0 0 0 0 0 0 0 0 0 0 0 0 0 0 0 0 0 0 0 0 0 0 0 0 0 0 0 0 0 0 0 0 0 0 0 0 0 0 0 0 0 0 0 0 0 0 0 0 0 0 0 0 0 0 0 0 0 0 0\n"
          ],
          "name": "stderr"
        },
        {
          "output_type": "stream",
          "text": [
            "INFO:tensorflow:input_mask: 1 1 1 1 1 1 1 1 1 1 1 1 1 0 0 0 0 0 0 0 0 0 0 0 0 0 0 0 0 0 0 0 0 0 0 0 0 0 0 0 0 0 0 0 0 0 0 0 0 0 0 0 0 0 0 0 0 0 0 0 0 0 0 0 0 0 0 0 0 0 0 0 0 0 0 0 0 0 0 0 0 0 0 0 0 0 0 0 0 0 0 0 0 0 0 0 0 0 0 0 0 0 0 0 0 0 0 0 0 0 0 0 0 0 0 0 0 0 0 0 0 0 0 0 0 0 0 0\n"
          ],
          "name": "stdout"
        },
        {
          "output_type": "stream",
          "text": [
            "INFO:tensorflow:input_mask: 1 1 1 1 1 1 1 1 1 1 1 1 1 0 0 0 0 0 0 0 0 0 0 0 0 0 0 0 0 0 0 0 0 0 0 0 0 0 0 0 0 0 0 0 0 0 0 0 0 0 0 0 0 0 0 0 0 0 0 0 0 0 0 0 0 0 0 0 0 0 0 0 0 0 0 0 0 0 0 0 0 0 0 0 0 0 0 0 0 0 0 0 0 0 0 0 0 0 0 0 0 0 0 0 0 0 0 0 0 0 0 0 0 0 0 0 0 0 0 0 0 0 0 0 0 0 0 0\n"
          ],
          "name": "stderr"
        },
        {
          "output_type": "stream",
          "text": [
            "INFO:tensorflow:segment_ids: 0 0 0 0 0 0 0 0 0 0 0 0 0 0 0 0 0 0 0 0 0 0 0 0 0 0 0 0 0 0 0 0 0 0 0 0 0 0 0 0 0 0 0 0 0 0 0 0 0 0 0 0 0 0 0 0 0 0 0 0 0 0 0 0 0 0 0 0 0 0 0 0 0 0 0 0 0 0 0 0 0 0 0 0 0 0 0 0 0 0 0 0 0 0 0 0 0 0 0 0 0 0 0 0 0 0 0 0 0 0 0 0 0 0 0 0 0 0 0 0 0 0 0 0 0 0 0 0\n"
          ],
          "name": "stdout"
        },
        {
          "output_type": "stream",
          "text": [
            "INFO:tensorflow:segment_ids: 0 0 0 0 0 0 0 0 0 0 0 0 0 0 0 0 0 0 0 0 0 0 0 0 0 0 0 0 0 0 0 0 0 0 0 0 0 0 0 0 0 0 0 0 0 0 0 0 0 0 0 0 0 0 0 0 0 0 0 0 0 0 0 0 0 0 0 0 0 0 0 0 0 0 0 0 0 0 0 0 0 0 0 0 0 0 0 0 0 0 0 0 0 0 0 0 0 0 0 0 0 0 0 0 0 0 0 0 0 0 0 0 0 0 0 0 0 0 0 0 0 0 0 0 0 0 0 0\n"
          ],
          "name": "stderr"
        },
        {
          "output_type": "stream",
          "text": [
            "INFO:tensorflow:label: 0 (id = 0)\n"
          ],
          "name": "stdout"
        },
        {
          "output_type": "stream",
          "text": [
            "INFO:tensorflow:label: 0 (id = 0)\n"
          ],
          "name": "stderr"
        },
        {
          "output_type": "stream",
          "text": [
            "INFO:tensorflow:*** Example ***\n"
          ],
          "name": "stdout"
        },
        {
          "output_type": "stream",
          "text": [
            "INFO:tensorflow:*** Example ***\n"
          ],
          "name": "stderr"
        },
        {
          "output_type": "stream",
          "text": [
            "INFO:tensorflow:guid: \n"
          ],
          "name": "stdout"
        },
        {
          "output_type": "stream",
          "text": [
            "INFO:tensorflow:guid: \n"
          ],
          "name": "stderr"
        },
        {
          "output_type": "stream",
          "text": [
            "INFO:tensorflow:tokens: [CLS] i ' m watching the episode 3 of jonas om ##j [SEP]\n"
          ],
          "name": "stdout"
        },
        {
          "output_type": "stream",
          "text": [
            "INFO:tensorflow:tokens: [CLS] i ' m watching the episode 3 of jonas om ##j [SEP]\n"
          ],
          "name": "stderr"
        },
        {
          "output_type": "stream",
          "text": [
            "INFO:tensorflow:input_ids: 101 1045 1005 1049 3666 1996 2792 1017 1997 10680 18168 3501 102 0 0 0 0 0 0 0 0 0 0 0 0 0 0 0 0 0 0 0 0 0 0 0 0 0 0 0 0 0 0 0 0 0 0 0 0 0 0 0 0 0 0 0 0 0 0 0 0 0 0 0 0 0 0 0 0 0 0 0 0 0 0 0 0 0 0 0 0 0 0 0 0 0 0 0 0 0 0 0 0 0 0 0 0 0 0 0 0 0 0 0 0 0 0 0 0 0 0 0 0 0 0 0 0 0 0 0 0 0 0 0 0 0 0 0\n"
          ],
          "name": "stdout"
        },
        {
          "output_type": "stream",
          "text": [
            "INFO:tensorflow:input_ids: 101 1045 1005 1049 3666 1996 2792 1017 1997 10680 18168 3501 102 0 0 0 0 0 0 0 0 0 0 0 0 0 0 0 0 0 0 0 0 0 0 0 0 0 0 0 0 0 0 0 0 0 0 0 0 0 0 0 0 0 0 0 0 0 0 0 0 0 0 0 0 0 0 0 0 0 0 0 0 0 0 0 0 0 0 0 0 0 0 0 0 0 0 0 0 0 0 0 0 0 0 0 0 0 0 0 0 0 0 0 0 0 0 0 0 0 0 0 0 0 0 0 0 0 0 0 0 0 0 0 0 0 0 0\n"
          ],
          "name": "stderr"
        },
        {
          "output_type": "stream",
          "text": [
            "INFO:tensorflow:input_mask: 1 1 1 1 1 1 1 1 1 1 1 1 1 0 0 0 0 0 0 0 0 0 0 0 0 0 0 0 0 0 0 0 0 0 0 0 0 0 0 0 0 0 0 0 0 0 0 0 0 0 0 0 0 0 0 0 0 0 0 0 0 0 0 0 0 0 0 0 0 0 0 0 0 0 0 0 0 0 0 0 0 0 0 0 0 0 0 0 0 0 0 0 0 0 0 0 0 0 0 0 0 0 0 0 0 0 0 0 0 0 0 0 0 0 0 0 0 0 0 0 0 0 0 0 0 0 0 0\n"
          ],
          "name": "stdout"
        },
        {
          "output_type": "stream",
          "text": [
            "INFO:tensorflow:input_mask: 1 1 1 1 1 1 1 1 1 1 1 1 1 0 0 0 0 0 0 0 0 0 0 0 0 0 0 0 0 0 0 0 0 0 0 0 0 0 0 0 0 0 0 0 0 0 0 0 0 0 0 0 0 0 0 0 0 0 0 0 0 0 0 0 0 0 0 0 0 0 0 0 0 0 0 0 0 0 0 0 0 0 0 0 0 0 0 0 0 0 0 0 0 0 0 0 0 0 0 0 0 0 0 0 0 0 0 0 0 0 0 0 0 0 0 0 0 0 0 0 0 0 0 0 0 0 0 0\n"
          ],
          "name": "stderr"
        },
        {
          "output_type": "stream",
          "text": [
            "INFO:tensorflow:segment_ids: 0 0 0 0 0 0 0 0 0 0 0 0 0 0 0 0 0 0 0 0 0 0 0 0 0 0 0 0 0 0 0 0 0 0 0 0 0 0 0 0 0 0 0 0 0 0 0 0 0 0 0 0 0 0 0 0 0 0 0 0 0 0 0 0 0 0 0 0 0 0 0 0 0 0 0 0 0 0 0 0 0 0 0 0 0 0 0 0 0 0 0 0 0 0 0 0 0 0 0 0 0 0 0 0 0 0 0 0 0 0 0 0 0 0 0 0 0 0 0 0 0 0 0 0 0 0 0 0\n"
          ],
          "name": "stdout"
        },
        {
          "output_type": "stream",
          "text": [
            "INFO:tensorflow:segment_ids: 0 0 0 0 0 0 0 0 0 0 0 0 0 0 0 0 0 0 0 0 0 0 0 0 0 0 0 0 0 0 0 0 0 0 0 0 0 0 0 0 0 0 0 0 0 0 0 0 0 0 0 0 0 0 0 0 0 0 0 0 0 0 0 0 0 0 0 0 0 0 0 0 0 0 0 0 0 0 0 0 0 0 0 0 0 0 0 0 0 0 0 0 0 0 0 0 0 0 0 0 0 0 0 0 0 0 0 0 0 0 0 0 0 0 0 0 0 0 0 0 0 0 0 0 0 0 0 0\n"
          ],
          "name": "stderr"
        },
        {
          "output_type": "stream",
          "text": [
            "INFO:tensorflow:label: 0 (id = 0)\n"
          ],
          "name": "stdout"
        },
        {
          "output_type": "stream",
          "text": [
            "INFO:tensorflow:label: 0 (id = 0)\n"
          ],
          "name": "stderr"
        },
        {
          "output_type": "stream",
          "text": [
            "INFO:tensorflow:*** Example ***\n"
          ],
          "name": "stdout"
        },
        {
          "output_type": "stream",
          "text": [
            "INFO:tensorflow:*** Example ***\n"
          ],
          "name": "stderr"
        },
        {
          "output_type": "stream",
          "text": [
            "INFO:tensorflow:guid: \n"
          ],
          "name": "stdout"
        },
        {
          "output_type": "stream",
          "text": [
            "INFO:tensorflow:guid: \n"
          ],
          "name": "stderr"
        },
        {
          "output_type": "stream",
          "text": [
            "INFO:tensorflow:tokens: [CLS] rocking out to a shan ##ia twain marathon [SEP]\n"
          ],
          "name": "stdout"
        },
        {
          "output_type": "stream",
          "text": [
            "INFO:tensorflow:tokens: [CLS] rocking out to a shan ##ia twain marathon [SEP]\n"
          ],
          "name": "stderr"
        },
        {
          "output_type": "stream",
          "text": [
            "INFO:tensorflow:input_ids: 101 14934 2041 2000 1037 17137 2401 24421 8589 102 0 0 0 0 0 0 0 0 0 0 0 0 0 0 0 0 0 0 0 0 0 0 0 0 0 0 0 0 0 0 0 0 0 0 0 0 0 0 0 0 0 0 0 0 0 0 0 0 0 0 0 0 0 0 0 0 0 0 0 0 0 0 0 0 0 0 0 0 0 0 0 0 0 0 0 0 0 0 0 0 0 0 0 0 0 0 0 0 0 0 0 0 0 0 0 0 0 0 0 0 0 0 0 0 0 0 0 0 0 0 0 0 0 0 0 0 0 0\n"
          ],
          "name": "stdout"
        },
        {
          "output_type": "stream",
          "text": [
            "INFO:tensorflow:input_ids: 101 14934 2041 2000 1037 17137 2401 24421 8589 102 0 0 0 0 0 0 0 0 0 0 0 0 0 0 0 0 0 0 0 0 0 0 0 0 0 0 0 0 0 0 0 0 0 0 0 0 0 0 0 0 0 0 0 0 0 0 0 0 0 0 0 0 0 0 0 0 0 0 0 0 0 0 0 0 0 0 0 0 0 0 0 0 0 0 0 0 0 0 0 0 0 0 0 0 0 0 0 0 0 0 0 0 0 0 0 0 0 0 0 0 0 0 0 0 0 0 0 0 0 0 0 0 0 0 0 0 0 0\n"
          ],
          "name": "stderr"
        },
        {
          "output_type": "stream",
          "text": [
            "INFO:tensorflow:input_mask: 1 1 1 1 1 1 1 1 1 1 0 0 0 0 0 0 0 0 0 0 0 0 0 0 0 0 0 0 0 0 0 0 0 0 0 0 0 0 0 0 0 0 0 0 0 0 0 0 0 0 0 0 0 0 0 0 0 0 0 0 0 0 0 0 0 0 0 0 0 0 0 0 0 0 0 0 0 0 0 0 0 0 0 0 0 0 0 0 0 0 0 0 0 0 0 0 0 0 0 0 0 0 0 0 0 0 0 0 0 0 0 0 0 0 0 0 0 0 0 0 0 0 0 0 0 0 0 0\n"
          ],
          "name": "stdout"
        },
        {
          "output_type": "stream",
          "text": [
            "INFO:tensorflow:input_mask: 1 1 1 1 1 1 1 1 1 1 0 0 0 0 0 0 0 0 0 0 0 0 0 0 0 0 0 0 0 0 0 0 0 0 0 0 0 0 0 0 0 0 0 0 0 0 0 0 0 0 0 0 0 0 0 0 0 0 0 0 0 0 0 0 0 0 0 0 0 0 0 0 0 0 0 0 0 0 0 0 0 0 0 0 0 0 0 0 0 0 0 0 0 0 0 0 0 0 0 0 0 0 0 0 0 0 0 0 0 0 0 0 0 0 0 0 0 0 0 0 0 0 0 0 0 0 0 0\n"
          ],
          "name": "stderr"
        },
        {
          "output_type": "stream",
          "text": [
            "INFO:tensorflow:segment_ids: 0 0 0 0 0 0 0 0 0 0 0 0 0 0 0 0 0 0 0 0 0 0 0 0 0 0 0 0 0 0 0 0 0 0 0 0 0 0 0 0 0 0 0 0 0 0 0 0 0 0 0 0 0 0 0 0 0 0 0 0 0 0 0 0 0 0 0 0 0 0 0 0 0 0 0 0 0 0 0 0 0 0 0 0 0 0 0 0 0 0 0 0 0 0 0 0 0 0 0 0 0 0 0 0 0 0 0 0 0 0 0 0 0 0 0 0 0 0 0 0 0 0 0 0 0 0 0 0\n"
          ],
          "name": "stdout"
        },
        {
          "output_type": "stream",
          "text": [
            "INFO:tensorflow:segment_ids: 0 0 0 0 0 0 0 0 0 0 0 0 0 0 0 0 0 0 0 0 0 0 0 0 0 0 0 0 0 0 0 0 0 0 0 0 0 0 0 0 0 0 0 0 0 0 0 0 0 0 0 0 0 0 0 0 0 0 0 0 0 0 0 0 0 0 0 0 0 0 0 0 0 0 0 0 0 0 0 0 0 0 0 0 0 0 0 0 0 0 0 0 0 0 0 0 0 0 0 0 0 0 0 0 0 0 0 0 0 0 0 0 0 0 0 0 0 0 0 0 0 0 0 0 0 0 0 0\n"
          ],
          "name": "stderr"
        },
        {
          "output_type": "stream",
          "text": [
            "INFO:tensorflow:label: 0 (id = 0)\n"
          ],
          "name": "stdout"
        },
        {
          "output_type": "stream",
          "text": [
            "INFO:tensorflow:label: 0 (id = 0)\n"
          ],
          "name": "stderr"
        },
        {
          "output_type": "stream",
          "text": [
            "INFO:tensorflow:*** Example ***\n"
          ],
          "name": "stdout"
        },
        {
          "output_type": "stream",
          "text": [
            "INFO:tensorflow:*** Example ***\n"
          ],
          "name": "stderr"
        },
        {
          "output_type": "stream",
          "text": [
            "INFO:tensorflow:guid: \n"
          ],
          "name": "stdout"
        },
        {
          "output_type": "stream",
          "text": [
            "INFO:tensorflow:guid: \n"
          ],
          "name": "stderr"
        },
        {
          "output_type": "stream",
          "text": [
            "INFO:tensorflow:tokens: [CLS] qi _ ta ##h oh no . * hugs * [SEP]\n"
          ],
          "name": "stdout"
        },
        {
          "output_type": "stream",
          "text": [
            "INFO:tensorflow:tokens: [CLS] qi _ ta ##h oh no . * hugs * [SEP]\n"
          ],
          "name": "stderr"
        },
        {
          "output_type": "stream",
          "text": [
            "INFO:tensorflow:input_ids: 101 18816 1035 11937 2232 2821 2053 1012 1008 24459 1008 102 0 0 0 0 0 0 0 0 0 0 0 0 0 0 0 0 0 0 0 0 0 0 0 0 0 0 0 0 0 0 0 0 0 0 0 0 0 0 0 0 0 0 0 0 0 0 0 0 0 0 0 0 0 0 0 0 0 0 0 0 0 0 0 0 0 0 0 0 0 0 0 0 0 0 0 0 0 0 0 0 0 0 0 0 0 0 0 0 0 0 0 0 0 0 0 0 0 0 0 0 0 0 0 0 0 0 0 0 0 0 0 0 0 0 0 0\n"
          ],
          "name": "stdout"
        },
        {
          "output_type": "stream",
          "text": [
            "INFO:tensorflow:input_ids: 101 18816 1035 11937 2232 2821 2053 1012 1008 24459 1008 102 0 0 0 0 0 0 0 0 0 0 0 0 0 0 0 0 0 0 0 0 0 0 0 0 0 0 0 0 0 0 0 0 0 0 0 0 0 0 0 0 0 0 0 0 0 0 0 0 0 0 0 0 0 0 0 0 0 0 0 0 0 0 0 0 0 0 0 0 0 0 0 0 0 0 0 0 0 0 0 0 0 0 0 0 0 0 0 0 0 0 0 0 0 0 0 0 0 0 0 0 0 0 0 0 0 0 0 0 0 0 0 0 0 0 0 0\n"
          ],
          "name": "stderr"
        },
        {
          "output_type": "stream",
          "text": [
            "INFO:tensorflow:input_mask: 1 1 1 1 1 1 1 1 1 1 1 1 0 0 0 0 0 0 0 0 0 0 0 0 0 0 0 0 0 0 0 0 0 0 0 0 0 0 0 0 0 0 0 0 0 0 0 0 0 0 0 0 0 0 0 0 0 0 0 0 0 0 0 0 0 0 0 0 0 0 0 0 0 0 0 0 0 0 0 0 0 0 0 0 0 0 0 0 0 0 0 0 0 0 0 0 0 0 0 0 0 0 0 0 0 0 0 0 0 0 0 0 0 0 0 0 0 0 0 0 0 0 0 0 0 0 0 0\n"
          ],
          "name": "stdout"
        },
        {
          "output_type": "stream",
          "text": [
            "INFO:tensorflow:input_mask: 1 1 1 1 1 1 1 1 1 1 1 1 0 0 0 0 0 0 0 0 0 0 0 0 0 0 0 0 0 0 0 0 0 0 0 0 0 0 0 0 0 0 0 0 0 0 0 0 0 0 0 0 0 0 0 0 0 0 0 0 0 0 0 0 0 0 0 0 0 0 0 0 0 0 0 0 0 0 0 0 0 0 0 0 0 0 0 0 0 0 0 0 0 0 0 0 0 0 0 0 0 0 0 0 0 0 0 0 0 0 0 0 0 0 0 0 0 0 0 0 0 0 0 0 0 0 0 0\n"
          ],
          "name": "stderr"
        },
        {
          "output_type": "stream",
          "text": [
            "INFO:tensorflow:segment_ids: 0 0 0 0 0 0 0 0 0 0 0 0 0 0 0 0 0 0 0 0 0 0 0 0 0 0 0 0 0 0 0 0 0 0 0 0 0 0 0 0 0 0 0 0 0 0 0 0 0 0 0 0 0 0 0 0 0 0 0 0 0 0 0 0 0 0 0 0 0 0 0 0 0 0 0 0 0 0 0 0 0 0 0 0 0 0 0 0 0 0 0 0 0 0 0 0 0 0 0 0 0 0 0 0 0 0 0 0 0 0 0 0 0 0 0 0 0 0 0 0 0 0 0 0 0 0 0 0\n"
          ],
          "name": "stdout"
        },
        {
          "output_type": "stream",
          "text": [
            "INFO:tensorflow:segment_ids: 0 0 0 0 0 0 0 0 0 0 0 0 0 0 0 0 0 0 0 0 0 0 0 0 0 0 0 0 0 0 0 0 0 0 0 0 0 0 0 0 0 0 0 0 0 0 0 0 0 0 0 0 0 0 0 0 0 0 0 0 0 0 0 0 0 0 0 0 0 0 0 0 0 0 0 0 0 0 0 0 0 0 0 0 0 0 0 0 0 0 0 0 0 0 0 0 0 0 0 0 0 0 0 0 0 0 0 0 0 0 0 0 0 0 0 0 0 0 0 0 0 0 0 0 0 0 0 0\n"
          ],
          "name": "stderr"
        },
        {
          "output_type": "stream",
          "text": [
            "INFO:tensorflow:label: 0 (id = 0)\n"
          ],
          "name": "stdout"
        },
        {
          "output_type": "stream",
          "text": [
            "INFO:tensorflow:label: 0 (id = 0)\n"
          ],
          "name": "stderr"
        },
        {
          "output_type": "stream",
          "text": [
            "INFO:tensorflow:*** Example ***\n"
          ],
          "name": "stdout"
        },
        {
          "output_type": "stream",
          "text": [
            "INFO:tensorflow:*** Example ***\n"
          ],
          "name": "stderr"
        },
        {
          "output_type": "stream",
          "text": [
            "INFO:tensorflow:guid: \n"
          ],
          "name": "stdout"
        },
        {
          "output_type": "stream",
          "text": [
            "INFO:tensorflow:guid: \n"
          ],
          "name": "stderr"
        },
        {
          "output_type": "stream",
          "text": [
            "INFO:tensorflow:tokens: [CLS] dan ##war ##p : loved it would never have thought he was into the ic ##ar ##ly version of bean ##ie babies . x ##d [SEP]\n"
          ],
          "name": "stdout"
        },
        {
          "output_type": "stream",
          "text": [
            "INFO:tensorflow:tokens: [CLS] dan ##war ##p : loved it would never have thought he was into the ic ##ar ##ly version of bean ##ie babies . x ##d [SEP]\n"
          ],
          "name": "stderr"
        },
        {
          "output_type": "stream",
          "text": [
            "INFO:tensorflow:input_ids: 101 4907 9028 2361 1024 3866 2009 2052 2196 2031 2245 2002 2001 2046 1996 24582 2906 2135 2544 1997 14068 2666 10834 1012 1060 2094 102 0 0 0 0 0 0 0 0 0 0 0 0 0 0 0 0 0 0 0 0 0 0 0 0 0 0 0 0 0 0 0 0 0 0 0 0 0 0 0 0 0 0 0 0 0 0 0 0 0 0 0 0 0 0 0 0 0 0 0 0 0 0 0 0 0 0 0 0 0 0 0 0 0 0 0 0 0 0 0 0 0 0 0 0 0 0 0 0 0 0 0 0 0 0 0 0 0 0 0 0 0\n"
          ],
          "name": "stdout"
        },
        {
          "output_type": "stream",
          "text": [
            "INFO:tensorflow:input_ids: 101 4907 9028 2361 1024 3866 2009 2052 2196 2031 2245 2002 2001 2046 1996 24582 2906 2135 2544 1997 14068 2666 10834 1012 1060 2094 102 0 0 0 0 0 0 0 0 0 0 0 0 0 0 0 0 0 0 0 0 0 0 0 0 0 0 0 0 0 0 0 0 0 0 0 0 0 0 0 0 0 0 0 0 0 0 0 0 0 0 0 0 0 0 0 0 0 0 0 0 0 0 0 0 0 0 0 0 0 0 0 0 0 0 0 0 0 0 0 0 0 0 0 0 0 0 0 0 0 0 0 0 0 0 0 0 0 0 0 0 0\n"
          ],
          "name": "stderr"
        },
        {
          "output_type": "stream",
          "text": [
            "INFO:tensorflow:input_mask: 1 1 1 1 1 1 1 1 1 1 1 1 1 1 1 1 1 1 1 1 1 1 1 1 1 1 1 0 0 0 0 0 0 0 0 0 0 0 0 0 0 0 0 0 0 0 0 0 0 0 0 0 0 0 0 0 0 0 0 0 0 0 0 0 0 0 0 0 0 0 0 0 0 0 0 0 0 0 0 0 0 0 0 0 0 0 0 0 0 0 0 0 0 0 0 0 0 0 0 0 0 0 0 0 0 0 0 0 0 0 0 0 0 0 0 0 0 0 0 0 0 0 0 0 0 0 0 0\n"
          ],
          "name": "stdout"
        },
        {
          "output_type": "stream",
          "text": [
            "INFO:tensorflow:input_mask: 1 1 1 1 1 1 1 1 1 1 1 1 1 1 1 1 1 1 1 1 1 1 1 1 1 1 1 0 0 0 0 0 0 0 0 0 0 0 0 0 0 0 0 0 0 0 0 0 0 0 0 0 0 0 0 0 0 0 0 0 0 0 0 0 0 0 0 0 0 0 0 0 0 0 0 0 0 0 0 0 0 0 0 0 0 0 0 0 0 0 0 0 0 0 0 0 0 0 0 0 0 0 0 0 0 0 0 0 0 0 0 0 0 0 0 0 0 0 0 0 0 0 0 0 0 0 0 0\n"
          ],
          "name": "stderr"
        },
        {
          "output_type": "stream",
          "text": [
            "INFO:tensorflow:segment_ids: 0 0 0 0 0 0 0 0 0 0 0 0 0 0 0 0 0 0 0 0 0 0 0 0 0 0 0 0 0 0 0 0 0 0 0 0 0 0 0 0 0 0 0 0 0 0 0 0 0 0 0 0 0 0 0 0 0 0 0 0 0 0 0 0 0 0 0 0 0 0 0 0 0 0 0 0 0 0 0 0 0 0 0 0 0 0 0 0 0 0 0 0 0 0 0 0 0 0 0 0 0 0 0 0 0 0 0 0 0 0 0 0 0 0 0 0 0 0 0 0 0 0 0 0 0 0 0 0\n"
          ],
          "name": "stdout"
        },
        {
          "output_type": "stream",
          "text": [
            "INFO:tensorflow:segment_ids: 0 0 0 0 0 0 0 0 0 0 0 0 0 0 0 0 0 0 0 0 0 0 0 0 0 0 0 0 0 0 0 0 0 0 0 0 0 0 0 0 0 0 0 0 0 0 0 0 0 0 0 0 0 0 0 0 0 0 0 0 0 0 0 0 0 0 0 0 0 0 0 0 0 0 0 0 0 0 0 0 0 0 0 0 0 0 0 0 0 0 0 0 0 0 0 0 0 0 0 0 0 0 0 0 0 0 0 0 0 0 0 0 0 0 0 0 0 0 0 0 0 0 0 0 0 0 0 0\n"
          ],
          "name": "stderr"
        },
        {
          "output_type": "stream",
          "text": [
            "INFO:tensorflow:label: 0 (id = 0)\n"
          ],
          "name": "stdout"
        },
        {
          "output_type": "stream",
          "text": [
            "INFO:tensorflow:label: 0 (id = 0)\n"
          ],
          "name": "stderr"
        },
        {
          "output_type": "stream",
          "text": [
            "INFO:tensorflow:Calling model_fn.\n"
          ],
          "name": "stdout"
        },
        {
          "output_type": "stream",
          "text": [
            "INFO:tensorflow:Calling model_fn.\n"
          ],
          "name": "stderr"
        },
        {
          "output_type": "stream",
          "text": [
            "INFO:tensorflow:Saver not created because there are no variables in the graph to restore\n"
          ],
          "name": "stdout"
        },
        {
          "output_type": "stream",
          "text": [
            "INFO:tensorflow:Saver not created because there are no variables in the graph to restore\n"
          ],
          "name": "stderr"
        },
        {
          "output_type": "stream",
          "text": [
            "INFO:tensorflow:Done calling model_fn.\n"
          ],
          "name": "stdout"
        },
        {
          "output_type": "stream",
          "text": [
            "INFO:tensorflow:Done calling model_fn.\n"
          ],
          "name": "stderr"
        },
        {
          "output_type": "stream",
          "text": [
            "INFO:tensorflow:Graph was finalized.\n"
          ],
          "name": "stdout"
        },
        {
          "output_type": "stream",
          "text": [
            "INFO:tensorflow:Graph was finalized.\n"
          ],
          "name": "stderr"
        },
        {
          "output_type": "stream",
          "text": [
            "INFO:tensorflow:Restoring parameters from /content/bert/model.ckpt-30\n"
          ],
          "name": "stdout"
        },
        {
          "output_type": "stream",
          "text": [
            "INFO:tensorflow:Restoring parameters from /content/bert/model.ckpt-30\n"
          ],
          "name": "stderr"
        },
        {
          "output_type": "stream",
          "text": [
            "INFO:tensorflow:Running local_init_op.\n"
          ],
          "name": "stdout"
        },
        {
          "output_type": "stream",
          "text": [
            "INFO:tensorflow:Running local_init_op.\n"
          ],
          "name": "stderr"
        },
        {
          "output_type": "stream",
          "text": [
            "INFO:tensorflow:Done running local_init_op.\n"
          ],
          "name": "stdout"
        },
        {
          "output_type": "stream",
          "text": [
            "INFO:tensorflow:Done running local_init_op.\n"
          ],
          "name": "stderr"
        }
      ]
    },
    {
      "cell_type": "code",
      "metadata": {
        "id": "UDLXcXxJBmSZ",
        "colab_type": "code",
        "outputId": "2f1eb6fe-10a2-42c8-fcfc-c8af8750eda7",
        "colab": {
          "base_uri": "https://localhost:8080/",
          "height": 1000
        }
      },
      "source": [
        "predictions"
      ],
      "execution_count": 0,
      "outputs": [
        {
          "output_type": "execute_result",
          "data": {
            "text/plain": [
              "[('wirbelwind1111 I just LOVE it.',\n",
              "  array([-2.6905646, -2.3361478, -2.9611049, -1.9936782, -2.50997  ,\n",
              "         -2.4876127, -1.942195 , -2.7414498, -2.9335477, -2.5429692,\n",
              "         -3.281128 , -2.6289628, -3.3908913], dtype=float32),\n",
              "  6,\n",
              "  'love'),\n",
              " (\"I'm watching The episode 3 Of JONAS OMJ\",\n",
              "  array([-2.7403712, -2.5682092, -2.8525171, -1.9114983, -2.8676891,\n",
              "         -2.440689 , -1.8736012, -2.8657262, -2.565339 , -2.6707573,\n",
              "         -3.0974302, -2.73469  , -3.155693 ], dtype=float32),\n",
              "  6,\n",
              "  'love'),\n",
              " ('Rocking out to a Shania Twain marathon',\n",
              "  array([-2.8802218, -2.4720407, -2.750665 , -2.0547478, -2.7174478,\n",
              "         -2.708696 , -1.8960803, -2.63577  , -2.657163 , -2.2446208,\n",
              "         -3.1776283, -2.883865 , -3.237777 ], dtype=float32),\n",
              "  6,\n",
              "  'love'),\n",
              " ('qi_tah oh no.  *hugs*',\n",
              "  array([-2.7873917, -2.3707407, -2.9872916, -2.044106 , -2.7917054,\n",
              "         -2.4644802, -2.0503383, -2.571628 , -2.644977 , -2.3138015,\n",
              "         -3.1423779, -2.8403273, -3.166831 ], dtype=float32),\n",
              "  3,\n",
              "  'neutral'),\n",
              " ('DanWarp: Loved it  Would never have thought he was into the iCarly version of Beanie Babies. xD',\n",
              "  array([-2.850487 , -2.3156943, -2.8764207, -1.9578536, -2.8517303,\n",
              "         -2.2364533, -2.0265646, -2.7597556, -2.7794642, -2.507877 ,\n",
              "         -3.3712738, -2.7459316, -3.1175327], dtype=float32),\n",
              "  3,\n",
              "  'neutral'),\n",
              " (\"phoeNYkx Yes, I liked it very very much  It wasn't even cheesy\",\n",
              "  array([-2.7983923, -2.3157632, -2.9569783, -1.7793679, -2.882133 ,\n",
              "         -2.3246574, -2.3684516, -2.830635 , -2.6189792, -2.327157 ,\n",
              "         -3.4112406, -2.6978934, -3.1594207], dtype=float32),\n",
              "  3,\n",
              "  'neutral'),\n",
              " ('Got a Saturdays framed signed foto last night  and a Valentino rossi 1 aswell  eee what a night',\n",
              "  array([-2.8154435, -2.393724 , -2.5753937, -1.9715374, -2.6811697,\n",
              "         -2.6735888, -1.9185828, -2.735363 , -3.0460138, -2.2792754,\n",
              "         -3.3077223, -2.7329555, -3.4185138], dtype=float32),\n",
              "  6,\n",
              "  'love'),\n",
              " (\"kristenstewart9 WOW, I can't believe u reached the Facebook limit for # of friends Crazy\",\n",
              "  array([-2.641469 , -2.5516062, -2.894547 , -2.032269 , -2.76572  ,\n",
              "         -2.4765718, -1.6660584, -2.883792 , -2.941801 , -2.508254 ,\n",
              "         -3.449554 , -2.6440418, -3.3371916], dtype=float32),\n",
              "  6,\n",
              "  'love'),\n",
              " (\"sharonhayes: &quot;Congrats my friend on ruling Canada iamkhayyam *hugs&amp;gropes*&quot; Just for today I'm #1  ? http://blip.fm/~5z3oi\",\n",
              "  array([-2.8528404, -2.4695067, -3.0162482, -1.7759795, -2.8854182,\n",
              "         -2.5697596, -1.954692 , -2.6839342, -2.841535 , -2.5591493,\n",
              "         -3.2481506, -2.5041175, -3.198994 ], dtype=float32),\n",
              "  3,\n",
              "  'neutral'),\n",
              " (\"wow i'm tired... going to bed, GOOD NIGHT\",\n",
              "  array([-2.8070686, -2.4826357, -2.848243 , -1.9700706, -2.8592663,\n",
              "         -2.418776 , -2.0212493, -2.7124965, -2.7597785, -2.2417278,\n",
              "         -3.2261372, -2.7264652, -3.2503917], dtype=float32),\n",
              "  3,\n",
              "  'neutral'),\n",
              " ('(bullhorn] tell ur friends 2 follow me  come onnnnnnnnnnnn ppl',\n",
              "  array([-2.8784485, -2.5376167, -3.0790515, -1.8175635, -2.8154154,\n",
              "         -2.3718076, -2.2638667, -2.6686556, -2.5457659, -2.2424486,\n",
              "         -3.139462 , -2.8221512, -3.1601443], dtype=float32),\n",
              "  3,\n",
              "  'neutral'),\n",
              " ('No free ice cream though',\n",
              "  array([-2.846623 , -2.386223 , -2.9564862, -1.9852798, -2.7622404,\n",
              "         -2.3445656, -2.3250968, -2.8392658, -2.6549351, -2.219368 ,\n",
              "         -3.1475103, -2.574716 , -3.052451 ], dtype=float32),\n",
              "  3,\n",
              "  'neutral'),\n",
              " (\"venzann I have yet to understand any sentence u have ever typed,but it's kinda fun-like learning a foreign language&amp;I love to quote u.\",\n",
              "  array([-2.6247857, -2.1717749, -3.0125704, -2.0230305, -3.0215511,\n",
              "         -2.5327938, -1.9187919, -2.7855492, -2.7089148, -2.4344573,\n",
              "         -3.3335686, -2.6175346, -3.4232554], dtype=float32),\n",
              "  6,\n",
              "  'love'),\n",
              " ('dreamer0407 ohh and Coffee Break is my fave too they rock LOL',\n",
              "  array([-2.8548927, -2.2658923, -3.0062068, -1.8091854, -3.0050926,\n",
              "         -2.302251 , -2.2128975, -2.860524 , -2.8891463, -2.3445034,\n",
              "         -3.1504989, -2.6314578, -3.1483755], dtype=float32),\n",
              "  3,\n",
              "  'neutral'),\n",
              " (\"maybe he could drill a hole in me?  LOL    OH SNAP  (sorry couldn't resist)\",\n",
              "  array([-2.9493284, -2.0844347, -2.9264467, -2.0349913, -3.0010433,\n",
              "         -2.2269752, -2.340866 , -2.6215572, -2.7841   , -2.3269143,\n",
              "         -3.2467315, -2.7235284, -3.025556 ], dtype=float32),\n",
              "  3,\n",
              "  'neutral'),\n",
              " ('SOLAMAYA Went to your site Would love to help &amp; work with you I will do whatever I can to help support your cause Awesome',\n",
              "  array([-2.9933984, -2.673098 , -2.7486937, -1.9831586, -2.7456334,\n",
              "         -2.5797992, -1.5945275, -2.8204684, -2.7020457, -2.530799 ,\n",
              "         -3.2104545, -2.8771741, -3.4014456], dtype=float32),\n",
              "  6,\n",
              "  'love'),\n",
              " (\"areyoumee yeaaaah lol, i'm just insane\",\n",
              "  array([-2.963274 , -2.089243 , -3.013508 , -2.0765615, -2.9693708,\n",
              "         -2.3916187, -2.3429   , -2.4792137, -2.7322636, -2.2495778,\n",
              "         -3.018466 , -2.6529064, -3.2813535], dtype=float32),\n",
              "  3,\n",
              "  'neutral'),\n",
              " (\"ConcreteLoop RapUp itsmeAmerie Hey everyone I just mixed the first single....  &quot;Why R U&quot; ...I'm sooo excited\",\n",
              "  array([-2.7778845, -2.3269732, -2.7457418, -1.9123429, -2.9539456,\n",
              "         -2.4077964, -1.9480083, -2.7010307, -2.893583 , -2.526356 ,\n",
              "         -3.24551  , -2.75467  , -3.2555947], dtype=float32),\n",
              "  3,\n",
              "  'neutral'),\n",
              " ('both electronic keys stopped working. there is no keyhole cant get in my car. so much for technology',\n",
              "  array([-2.8067534, -2.300955 , -2.9463067, -2.0629847, -2.7839339,\n",
              "         -2.409677 , -2.1625702, -2.7196803, -2.557175 , -2.4472244,\n",
              "         -3.265944 , -2.5960596, -2.986181 ], dtype=float32),\n",
              "  3,\n",
              "  'neutral'),\n",
              " ('I had 2 hoes .. now I have none',\n",
              "  array([-2.744777 , -2.2170393, -2.8443637, -2.0438118, -3.0636244,\n",
              "         -2.2165458, -2.252164 , -2.743779 , -2.5888824, -2.3896132,\n",
              "         -3.155318 , -2.7077184, -3.2749944], dtype=float32),\n",
              "  3,\n",
              "  'neutral'),\n",
              " ('SUPER BUENO FTW I am so proud of you guys.',\n",
              "  array([-2.9505033, -2.6902542, -2.6622176, -2.0908332, -2.6555145,\n",
              "         -2.7268558, -1.399733 , -2.815866 , -2.7865865, -2.7836244,\n",
              "         -3.3307009, -2.9189162, -3.4725761], dtype=float32),\n",
              "  6,\n",
              "  'love'),\n",
              " (\"Counting the minutes when my dad's g-friend is leaving\",\n",
              "  array([-2.6974344, -2.073189 , -2.8848531, -1.9581889, -3.0392218,\n",
              "         -2.5054207, -2.241701 , -2.6683788, -2.6209512, -2.4452531,\n",
              "         -2.9992661, -2.8593683, -3.2665143], dtype=float32),\n",
              "  3,\n",
              "  'neutral'),\n",
              " ('MelanieNugent Oh damn Im sorry  I have been so good not adding spoilers cause blayze316 will be watching it later',\n",
              "  array([-2.7136421, -2.2913663, -2.915121 , -2.1579268, -2.9941723,\n",
              "         -2.4996352, -2.1173449, -2.4254887, -2.6428413, -2.4903955,\n",
              "         -3.1752703, -2.4708886, -3.1818724], dtype=float32),\n",
              "  6,\n",
              "  'love'),\n",
              " ('Zoexander Very very very very cool.  http://www.inbflat.net/ More details? How it was made? Please tell',\n",
              "  array([-2.729684 , -2.7002995, -2.7064962, -1.9586682, -2.432598 ,\n",
              "         -2.7731845, -1.8651655, -2.8831518, -2.8182406, -2.3997774,\n",
              "         -3.401291 , -2.5773869, -3.2465858], dtype=float32),\n",
              "  6,\n",
              "  'love'),\n",
              " ('Windows updates suck. There are so freaking many of them.',\n",
              "  array([-2.7525465, -2.3581195, -2.9738903, -1.9702481, -2.8197658,\n",
              "         -2.3535097, -1.9834639, -2.766083 , -2.810856 , -2.5003984,\n",
              "         -3.1562057, -2.6287322, -3.2443733], dtype=float32),\n",
              "  3,\n",
              "  'neutral'),\n",
              " ('Good morning Yes is 5:57am',\n",
              "  array([-2.7283697, -2.2040198, -2.7951233, -1.8613217, -2.9979033,\n",
              "         -2.3435082, -2.1446247, -2.8705082, -2.777626 , -2.6278026,\n",
              "         -3.1905518, -2.6996818, -3.0949295], dtype=float32),\n",
              "  3,\n",
              "  'neutral'),\n",
              " ('Locked out of my fucking house',\n",
              "  array([-2.7117555, -2.3113077, -2.887876 , -2.1202192, -2.851678 ,\n",
              "         -2.2668467, -2.0681138, -2.7051237, -2.6551263, -2.4262228,\n",
              "         -3.3990457, -2.6674633, -3.1562858], dtype=float32),\n",
              "  6,\n",
              "  'love'),\n",
              " ('Back to the freaking homework.',\n",
              "  array([-2.7671542, -2.3511403, -2.7614903, -1.9459319, -2.61829  ,\n",
              "         -2.5326722, -2.2522655, -2.72885  , -2.5244875, -2.3717117,\n",
              "         -3.2206237, -2.8718212, -3.1448758], dtype=float32),\n",
              "  3,\n",
              "  'neutral'),\n",
              " ('thomaskattus you asked about my SF schedule, dahling...maybe next time',\n",
              "  array([-2.736564 , -2.392428 , -2.8516178, -2.0144172, -2.7333798,\n",
              "         -2.5152562, -2.2833755, -2.641261 , -2.4093652, -2.366465 ,\n",
              "         -3.140351 , -2.7146294, -3.2084906], dtype=float32),\n",
              "  3,\n",
              "  'neutral'),\n",
              " ('elf_princess69 hehehe Barry Killer U need a pic',\n",
              "  array([-2.8319757, -2.2792518, -2.9249268, -1.7681813, -2.805875 ,\n",
              "         -2.4762712, -2.126802 , -2.6915436, -2.838261 , -2.4759374,\n",
              "         -3.3168054, -2.7110617, -3.2812629], dtype=float32),\n",
              "  3,\n",
              "  'neutral'),\n",
              " ('RisaRM do you like the rain, too?  I love rainstorms and fresh wind.  Nature is amazing',\n",
              "  array([-2.6506624, -2.5558057, -2.805586 , -1.9240264, -2.6180212,\n",
              "         -2.580977 , -1.8545303, -2.91815  , -2.7284617, -2.4795957,\n",
              "         -3.298513 , -2.827282 , -3.19757  ], dtype=float32),\n",
              "  6,\n",
              "  'love'),\n",
              " ('it just thundered reallyreally loud at work and this little boy started crying  I wanted to cry too...I hate storms wah',\n",
              "  array([-2.7876773, -2.1520061, -2.9101534, -1.9867319, -2.8816485,\n",
              "         -2.3936782, -2.2788646, -2.7326622, -2.7201097, -2.2707639,\n",
              "         -3.1252341, -2.7447205, -3.2571125], dtype=float32),\n",
              "  3,\n",
              "  'neutral'),\n",
              " ('My mom just came home and she FINALLY got me a guitar strap yay',\n",
              "  array([-2.859599 , -2.2806807, -2.9006424, -1.9141767, -3.0483937,\n",
              "         -2.4449651, -2.1036563, -2.7434108, -2.789082 , -2.1743884,\n",
              "         -3.1494877, -2.7651563, -3.3098185], dtype=float32),\n",
              "  3,\n",
              "  'neutral'),\n",
              " ('Waaaa. I ran my machine problem Yeah',\n",
              "  array([-2.7951584, -2.3518264, -2.9760334, -1.8643076, -2.8504953,\n",
              "         -2.2507524, -1.9507113, -2.7395673, -2.8591964, -2.508676 ,\n",
              "         -3.2815232, -2.8506815, -3.3894265], dtype=float32),\n",
              "  3,\n",
              "  'neutral'),\n",
              " ('went on a ride to tortilla flats this morning with wookiesgirl, a little warm, but a nice ride none the less',\n",
              "  array([-2.8301878, -2.1266506, -2.708286 , -2.1645381, -2.9055164,\n",
              "         -2.3937554, -2.5316126, -2.623967 , -2.7967463, -2.1813264,\n",
              "         -3.0107405, -2.6856267, -2.977447 ], dtype=float32),\n",
              "  1,\n",
              "  'sadness'),\n",
              " ('shangs112 Byebye',\n",
              "  array([-2.7814846, -2.151364 , -2.978716 , -1.7028992, -2.9195611,\n",
              "         -2.5752587, -2.1926618, -2.7634754, -2.783912 , -2.5309443,\n",
              "         -3.3325534, -2.7226975, -3.1904526], dtype=float32),\n",
              "  3,\n",
              "  'neutral'),\n",
              " (\"Eric_John Sounds like a terrific service. I'm sorry to hear about her mom.\",\n",
              "  array([-2.6161401, -2.4346712, -2.880313 , -1.9971124, -2.9166126,\n",
              "         -2.4802244, -2.0431144, -2.7880173, -2.7139916, -2.3301468,\n",
              "         -3.2460108, -2.6861749, -3.0404563], dtype=float32),\n",
              "  3,\n",
              "  'neutral'),\n",
              " ('sleep time  big/little lunch tomorrow at olive garden',\n",
              "  array([-2.6588717, -2.2194042, -3.0000272, -1.8998643, -2.688772 ,\n",
              "         -2.4467363, -2.1298723, -2.7714727, -2.8678403, -2.4160619,\n",
              "         -3.3190775, -2.7937489, -3.158474 ], dtype=float32),\n",
              "  3,\n",
              "  'neutral'),\n",
              " ('Almost ready to leave the house to head to WTHR',\n",
              "  array([-2.8257253, -2.2735174, -3.042409 , -2.011248 , -2.868206 ,\n",
              "         -2.2461128, -2.270188 , -2.67363  , -2.5812535, -2.5621655,\n",
              "         -3.043396 , -2.608342 , -3.053503 ], dtype=float32),\n",
              "  3,\n",
              "  'neutral'),\n",
              " ('AC is broke at the house. waiting to get an estimate on timeframe to repair. on the bright side, gonna join CoLab this week.',\n",
              "  array([-2.7555006, -2.1252031, -2.7988048, -1.890473 , -3.0654116,\n",
              "         -2.3737977, -2.2676525, -2.922007 , -2.7826312, -2.3539884,\n",
              "         -3.0376778, -2.7279577, -3.2747679], dtype=float32),\n",
              "  3,\n",
              "  'neutral'),\n",
              " ('I need new socks',\n",
              "  array([-3.0188203, -2.2463427, -2.8813746, -1.8766359, -2.7903862,\n",
              "         -2.3537982, -2.4838867, -2.5360923, -2.8473756, -2.3797843,\n",
              "         -3.0938067, -2.5893626, -3.0740979], dtype=float32),\n",
              "  3,\n",
              "  'neutral'),\n",
              " (\"userealbutter door's open, your cup of tea is waiting\",\n",
              "  array([-2.7614398, -2.4653955, -2.8381743, -2.0983396, -2.732451 ,\n",
              "         -2.4467535, -2.005119 , -2.5698357, -2.5931504, -2.419774 ,\n",
              "         -3.2886498, -2.6761062, -3.2716172], dtype=float32),\n",
              "  6,\n",
              "  'love'),\n",
              " ('yess talking 2 a hott guy  happy ass fuk',\n",
              "  array([-2.946549 , -2.1772187, -2.8834634, -1.933704 , -2.8618186,\n",
              "         -2.3310986, -2.2083876, -2.6017537, -2.8021567, -2.5158725,\n",
              "         -3.118585 , -2.665578 , -3.2202358], dtype=float32),\n",
              "  3,\n",
              "  'neutral'),\n",
              " (\"? American Pie FOREVER. I'm watching it right now. They're running naked around on the Streets Would you do that? I would  [ NOT ]\",\n",
              "  array([-2.6661534, -2.2781434, -2.8827786, -2.0107443, -2.8215432,\n",
              "         -2.5841088, -2.0279632, -2.7627392, -2.7305415, -2.266205 ,\n",
              "         -3.307629 , -2.7989378, -3.1683502], dtype=float32),\n",
              "  3,\n",
              "  'neutral'),\n",
              " ('bradiewebbstack hahaha my uncle does that coz my aunty is a whore who left her kids',\n",
              "  array([-2.8214722, -2.154318 , -3.0651221, -2.2715306, -2.9365504,\n",
              "         -2.2068305, -2.1341846, -2.712335 , -2.8325474, -2.3055716,\n",
              "         -2.9356203, -2.5481567, -3.2971292], dtype=float32),\n",
              "  6,\n",
              "  'love'),\n",
              " (\"Going to group therapy session, can't wait to spill my guts... Ha ha ha\",\n",
              "  array([-2.8644433, -2.3324716, -2.931952 , -1.88844  , -2.9212923,\n",
              "         -2.318552 , -2.0306087, -2.8222322, -2.5827465, -2.3996935,\n",
              "         -3.456265 , -2.7555397, -3.2999144], dtype=float32),\n",
              "  3,\n",
              "  'neutral'),\n",
              " ('mitchelmusso Tell us your experience I Loveeeee Youu',\n",
              "  array([-2.7316122, -2.3906379, -2.910108 , -2.1856937, -2.7426407,\n",
              "         -2.4883924, -1.8483121, -2.794083 , -2.708785 , -2.3746338,\n",
              "         -3.2281742, -2.5889838, -3.326032 ], dtype=float32),\n",
              "  6,\n",
              "  'love'),\n",
              " ('Mary_R_Roberts I LOOK forward to seeing and sharing',\n",
              "  array([-2.6189969, -2.6459439, -2.6139286, -2.0481696, -2.6122205,\n",
              "         -2.658669 , -1.7603492, -2.7468195, -2.9713545, -2.5191839,\n",
              "         -3.2486343, -2.666812 , -3.3702824], dtype=float32),\n",
              "  6,\n",
              "  'love'),\n",
              " (\"10) I'm allergic to hot wax\",\n",
              "  array([-2.8937588, -2.232042 , -3.0838566, -1.8495423, -3.1081192,\n",
              "         -2.4354162, -2.244312 , -2.6745102, -2.6242926, -2.3466787,\n",
              "         -3.1154995, -2.566436 , -3.278047 ], dtype=float32),\n",
              "  3,\n",
              "  'neutral'),\n",
              " ('Now comes the fun part  Because you can find only a few offers per country or you live outside US, your changes can be quite tiny.',\n",
              "  array([-2.6233273, -2.3979225, -2.8912039, -2.1202965, -2.901063 ,\n",
              "         -2.483079 , -2.0270598, -2.7977338, -2.7819204, -2.1515422,\n",
              "         -3.0701513, -2.7149274, -3.2427037], dtype=float32),\n",
              "  6,\n",
              "  'love'),\n",
              " ('Snowgirl1972 have to avoid the burning desire to say I already have one  no, no room for piglets, just enough room for chucks',\n",
              "  array([-2.9370658, -2.2430122, -3.0661764, -1.8886393, -2.8536363,\n",
              "         -2.4654913, -2.1995256, -2.59144  , -2.6250606, -2.52683  ,\n",
              "         -3.0227685, -2.555293 , -3.326692 ], dtype=float32),\n",
              "  3,\n",
              "  'neutral'),\n",
              " ('danipoynterjudd yeah but i missed it 2nite',\n",
              "  array([-2.8136961, -2.1788   , -3.0104098, -1.8728757, -3.047689 ,\n",
              "         -2.528768 , -2.0947192, -2.7013922, -2.8512788, -2.2209008,\n",
              "         -3.2427926, -2.8174348, -3.1856964], dtype=float32),\n",
              "  3,\n",
              "  'neutral'),\n",
              " (\"TheRealKitCat Haha...YAY I'M CURED\",\n",
              "  array([-2.9100976, -2.3896036, -3.0888515, -1.692987 , -2.9170203,\n",
              "         -2.4460797, -2.1825123, -2.7252178, -2.833861 , -2.2535543,\n",
              "         -3.3216293, -2.8433237, -3.0536451], dtype=float32),\n",
              "  3,\n",
              "  'neutral'),\n",
              " ('listening to some brandy...never say never cd',\n",
              "  array([-2.7323499, -2.612187 , -2.8291073, -1.7555225, -2.8011637,\n",
              "         -2.4656281, -2.157485 , -2.7773364, -2.6596627, -2.3588676,\n",
              "         -3.1544495, -2.9176345, -3.1024098], dtype=float32),\n",
              "  3,\n",
              "  'neutral'),\n",
              " ('JessDubb u would put it up once I am off work',\n",
              "  array([-2.977214 , -2.0605643, -2.9991155, -2.0700243, -2.8522267,\n",
              "         -2.3951535, -2.3730967, -2.6116595, -2.847114 , -2.2575178,\n",
              "         -3.06418  , -2.4849966, -3.2820406], dtype=float32),\n",
              "  1,\n",
              "  'sadness'),\n",
              " ('CrysWinchester HAHAAH Crys, you blowing the fuses is a typical move',\n",
              "  array([-3.1030095, -2.388432 , -2.9128802, -1.7193627, -3.0208   ,\n",
              "         -2.5112646, -2.1734908, -2.5332708, -2.8830988, -2.2507195,\n",
              "         -3.1830304, -2.7313094, -3.2485962], dtype=float32),\n",
              "  3,\n",
              "  'neutral'),\n",
              " ('end of work... Thank God I accomplished a number of things...  http://plurk.com/p/rpaag',\n",
              "  array([-2.4848726, -2.4095602, -2.8827817, -2.02535  , -2.6773114,\n",
              "         -2.568501 , -2.0017998, -2.7658408, -2.8108263, -2.4213445,\n",
              "         -3.2461903, -2.7674994, -3.1061947], dtype=float32),\n",
              "  6,\n",
              "  'love'),\n",
              " (\"jeffreecuntstar they're getting back together for one more album.. or so i heard.\",\n",
              "  array([-2.5608168, -2.4914844, -3.082469 , -2.1001089, -2.7855344,\n",
              "         -2.4130113, -2.1670907, -2.5887992, -2.7126555, -2.408784 ,\n",
              "         -3.0432284, -2.599128 , -2.9466271], dtype=float32),\n",
              "  3,\n",
              "  'neutral'),\n",
              " (\"artistiquemeg wooohooo I'm fourth row back\",\n",
              "  array([-2.7837615, -2.3774865, -2.9256754, -1.9871242, -2.6660385,\n",
              "         -2.578208 , -1.9505124, -2.7733765, -2.7073295, -2.315608 ,\n",
              "         -3.292119 , -2.6381717, -3.489483 ], dtype=float32),\n",
              "  6,\n",
              "  'love'),\n",
              " ('mileycyrus they all stopped doing drugs',\n",
              "  array([-2.8585343, -2.214381 , -2.7974062, -2.0108569, -2.865981 ,\n",
              "         -2.3680751, -2.2256625, -2.9228873, -2.6374753, -2.4382749,\n",
              "         -2.86956  , -2.774997 , -3.0304177], dtype=float32),\n",
              "  3,\n",
              "  'neutral'),\n",
              " (\"&quot;Ooh-ooh... it's SHINY&quot;. An dmore awe-tastic quotes from THE BEST ANIMATED MOVIE EVER coming up\",\n",
              "  array([-2.825441 , -2.2734187, -3.0263014, -2.091486 , -2.859259 ,\n",
              "         -2.4967031, -1.929732 , -2.7680497, -2.814196 , -2.3176754,\n",
              "         -3.2026997, -2.6119423, -3.0873737], dtype=float32),\n",
              "  6,\n",
              "  'love'),\n",
              " (\"american_eagle Why don't you ship it to Japan?\",\n",
              "  array([-2.8707101, -2.2843375, -3.0944896, -1.8414252, -2.931582 ,\n",
              "         -2.3686073, -2.1155064, -2.7387052, -2.7645192, -2.2025568,\n",
              "         -3.2725334, -2.955687 , -3.1705399], dtype=float32),\n",
              "  3,\n",
              "  'neutral'),\n",
              " (\"Happy Mother's Day to all to all the wonderful moms out there.  -Matalatine\",\n",
              "  array([-2.548883 , -2.9984837, -2.5420218, -1.9924185, -2.7445507,\n",
              "         -2.6854186, -1.5105217, -3.0631297, -2.6549172, -2.611741 ,\n",
              "         -3.47566  , -2.9870317, -3.448265 ], dtype=float32),\n",
              "  6,\n",
              "  'love'),\n",
              " ('ugh i wish this school year would go faster so i can move on in life',\n",
              "  array([-2.7852092, -2.0663638, -2.7337687, -1.932993 , -2.9862428,\n",
              "         -2.4070284, -2.0767732, -2.8143482, -2.8693657, -2.4948394,\n",
              "         -3.2496588, -2.7935336, -3.3001854], dtype=float32),\n",
              "  3,\n",
              "  'neutral'),\n",
              " (\"MLimburg it's the small things in life that count, like being on a blur photograph of google streetview..  keep following \",\n",
              "  array([-2.7711518, -2.4832244, -2.8153648, -2.0323904, -2.5990648,\n",
              "         -2.2845676, -1.8761339, -2.8641422, -2.8047068, -2.5833569,\n",
              "         -3.1351218, -2.7506032, -3.4043326], dtype=float32),\n",
              "  6,\n",
              "  'love'),\n",
              " ('i just bit my tongue.  blood everywhere',\n",
              "  array([-2.6225545, -2.497324 , -2.8832352, -1.8915088, -2.7092288,\n",
              "         -2.4865649, -2.1052213, -2.7566156, -2.788993 , -2.5386612,\n",
              "         -3.167234 , -2.639636 , -3.0116644], dtype=float32),\n",
              "  3,\n",
              "  'neutral'),\n",
              " (\"Trying to get drunk at alexandre's I love this place Awesome cheap drinks And awesome people\",\n",
              "  array([-2.9143007, -2.3182836, -2.8972552, -1.9824183, -2.7888353,\n",
              "         -2.5033758, -1.796417 , -2.7833753, -2.8878796, -2.4679842,\n",
              "         -3.2818792, -2.6726356, -3.3157945], dtype=float32),\n",
              "  6,\n",
              "  'love'),\n",
              " ('at the theatre.... seeing star trek for a second time becuase i am that cool',\n",
              "  array([-2.8099008, -2.4198012, -2.7824283, -1.8702829, -2.758944 ,\n",
              "         -2.5901542, -2.139681 , -2.748242 , -2.6505785, -2.1871765,\n",
              "         -3.541604 , -2.7802656, -3.1954203], dtype=float32),\n",
              "  3,\n",
              "  'neutral'),\n",
              " ('goodlemax can you send me two coldplay songs?  clocks and viva la vida.',\n",
              "  array([-2.7567406, -2.3933997, -2.8525581, -1.8441285, -2.6443672,\n",
              "         -2.5358477, -2.183767 , -2.5260167, -2.8440118, -2.3312855,\n",
              "         -3.1704369, -2.8617015, -3.4430895], dtype=float32),\n",
              "  3,\n",
              "  'neutral'),\n",
              " (\"udupendra I'll keep that in mind when he gets tonked for 40 off his 4 overs.\",\n",
              "  array([-2.6560102, -2.3479662, -2.908143 , -2.076552 , -2.7116365,\n",
              "         -2.6463037, -1.93835  , -2.8110678, -2.5805292, -2.428108 ,\n",
              "         -3.0878906, -2.7518663, -3.2313771], dtype=float32),\n",
              "  6,\n",
              "  'love'),\n",
              " (\"No B2G1 for me.  Trying to save cash for next month's vacation.\",\n",
              "  array([-3.0307   , -2.1648827, -2.991891 , -2.0293393, -2.786561 ,\n",
              "         -2.3400843, -2.2720425, -2.6623254, -2.8384929, -2.4034047,\n",
              "         -2.8835912, -2.6194267, -3.0618935], dtype=float32),\n",
              "  3,\n",
              "  'neutral'),\n",
              " ('3 to go, and uploading photos to email would be ten tenenen tenen.. DONE',\n",
              "  array([-2.9752352, -2.4283402, -2.8954546, -1.9280634, -2.877613 ,\n",
              "         -2.2569983, -2.2661388, -2.6924388, -2.6420646, -2.4063632,\n",
              "         -2.9883924, -2.583953 , -3.2060237], dtype=float32),\n",
              "  3,\n",
              "  'neutral'),\n",
              " ('dada8dee you tooooo dada  such good times',\n",
              "  array([-2.732717 , -2.375237 , -2.7292283, -2.0872111, -2.995081 ,\n",
              "         -2.4726334, -1.9222155, -2.7396295, -2.6222217, -2.3479347,\n",
              "         -3.2207143, -2.7676477, -3.3118806], dtype=float32),\n",
              "  6,\n",
              "  'love'),\n",
              " ('clevert I thought so, I will text you later this week to catch up  Did you open the links I sent you via email yet? heh',\n",
              "  array([-2.8481328, -2.213756 , -2.8361092, -2.0002763, -2.9220858,\n",
              "         -2.4120271, -1.9259753, -2.565793 , -2.9537306, -2.563612 ,\n",
              "         -3.3767579, -2.6601923, -3.231533 ], dtype=float32),\n",
              "  6,\n",
              "  'love'),\n",
              " ('myprivatekeri  Thank you',\n",
              "  array([-2.6317096, -2.9230263, -2.791543 , -1.9492035, -2.707706 ,\n",
              "         -2.7997375, -1.6417047, -2.8002439, -2.651515 , -2.4041624,\n",
              "         -3.3856368, -2.8630447, -3.3032546], dtype=float32),\n",
              "  6,\n",
              "  'love'),\n",
              " ('service staff answered questions i had, thoroughly, diagnosed problems with my car.',\n",
              "  array([-2.8450446, -2.3186378, -2.8918588, -2.0410893, -2.7482743,\n",
              "         -2.3605275, -2.1366405, -2.8239927, -2.558127 , -2.3220487,\n",
              "         -3.1708615, -2.8913457, -3.010199 ], dtype=float32),\n",
              "  3,\n",
              "  'neutral'),\n",
              " ('The beer buzz is almost gone.. The world has become complicated again',\n",
              "  array([-2.83931  , -2.366984 , -2.7143846, -1.9373908, -3.014707 ,\n",
              "         -2.4799256, -2.1511393, -2.8368773, -2.6204622, -2.3210468,\n",
              "         -3.1337988, -2.8171291, -2.8930507], dtype=float32),\n",
              "  3,\n",
              "  'neutral'),\n",
              " ('jerrytrainor We never miss ICarly - my son has a huge crush on Miranda',\n",
              "  array([-2.5691743, -2.410629 , -2.9374926, -1.9920846, -2.885126 ,\n",
              "         -2.5164707, -2.0738204, -2.662428 , -2.7438912, -2.3300087,\n",
              "         -3.354022 , -2.5123105, -3.3662336], dtype=float32),\n",
              "  3,\n",
              "  'neutral'),\n",
              " ('Galaraza stop being mean to me ur hurting my feelings',\n",
              "  array([-2.6763954, -2.3706162, -2.806169 , -1.9904944, -2.6917822,\n",
              "         -2.4282606, -2.0780249, -2.786345 , -2.696031 , -2.5038028,\n",
              "         -3.1899161, -2.7823076, -3.0875936], dtype=float32),\n",
              "  3,\n",
              "  'neutral'),\n",
              " (\"stuartdavis C'mon, we're talking about philos-ophy - the love of wisdom.   I need a &quot;mat&quot; - a context to intersubjectively &quot;ground&quot; it.\",\n",
              "  array([-2.8276954, -2.4388967, -2.9351997, -2.038288 , -2.8860002,\n",
              "         -2.3079598, -2.1142783, -2.8874927, -2.6700883, -2.2673092,\n",
              "         -3.0771794, -2.5863538, -3.1166918], dtype=float32),\n",
              "  3,\n",
              "  'neutral'),\n",
              " ('Bit down in the dumps today    Such an awful day   Maybe good time to write a song   (Y)',\n",
              "  array([-2.8600802, -2.2020454, -2.8806038, -1.9324113, -2.853328 ,\n",
              "         -2.516039 , -2.168931 , -2.776084 , -2.5624094, -2.3523607,\n",
              "         -3.149303 , -2.8244104, -3.1758614], dtype=float32),\n",
              "  3,\n",
              "  'neutral'),\n",
              " (\"djbelle LMAOI was JUST thinking how I fucking hate  least 3 people that I'm following...but I haven't unfollowed em' yet. I'm a loon.\",\n",
              "  array([-2.8690522, -2.2126114, -3.1864147, -2.0021634, -2.8283806,\n",
              "         -2.3335104, -2.1217868, -2.8613434, -2.643184 , -2.2480462,\n",
              "         -3.062614 , -2.7575793, -3.284813 ], dtype=float32),\n",
              "  3,\n",
              "  'neutral'),\n",
              " ('mitsougelinas oui ta soeur',\n",
              "  array([-2.7812908, -2.5522819, -2.8125515, -1.9469905, -2.6318235,\n",
              "         -2.4071357, -1.8810885, -2.983803 , -2.6169822, -2.621358 ,\n",
              "         -3.1970284, -2.6916661, -3.2712018], dtype=float32),\n",
              "  6,\n",
              "  'love'),\n",
              " ('myxletter good luck tomorrow',\n",
              "  array([-2.7856152, -2.4904275, -2.8852348, -1.972091 , -2.5234048,\n",
              "         -2.3953679, -1.8244832, -2.9482737, -2.6904225, -2.520389 ,\n",
              "         -3.2775517, -2.8994772, -3.3720949], dtype=float32),\n",
              "  6,\n",
              "  'love'),\n",
              " (\"mbrevoort Thanks - that works a treat  Need to post that xml really though - thinking about how to emulate rails' ActiveResource\",\n",
              "  array([-2.6918256, -2.3084507, -2.9788911, -1.9394982, -2.8662848,\n",
              "         -2.5337293, -1.9371138, -2.6725857, -2.7445211, -2.3992662,\n",
              "         -3.2979963, -2.7808576, -3.3601193], dtype=float32),\n",
              "  6,\n",
              "  'love'),\n",
              " ('OfficialBabyV I wish you where going to be in the Saga',\n",
              "  array([-2.798061 , -2.5465708, -2.8581424, -1.9555154, -2.787844 ,\n",
              "         -2.2248526, -2.087833 , -2.5560522, -2.7273664, -2.5559964,\n",
              "         -3.1435316, -2.6943119, -3.2988174], dtype=float32),\n",
              "  3,\n",
              "  'neutral'),\n",
              " ('dbackwardsman yes  a blonder one for sure',\n",
              "  array([-2.9232101, -2.3892336, -3.0163264, -1.8935777, -2.999629 ,\n",
              "         -2.2644618, -2.146239 , -2.762486 , -2.5977776, -2.4235241,\n",
              "         -3.1831138, -2.681644 , -3.0298605], dtype=float32),\n",
              "  3,\n",
              "  'neutral'),\n",
              " ('i hate the bus...any donations toward my car fund?',\n",
              "  array([-2.8285131, -2.2601824, -2.9082308, -1.8781947, -2.9395463,\n",
              "         -2.4207358, -2.2493474, -2.6581435, -2.601097 , -2.3122747,\n",
              "         -3.1889076, -2.77139  , -3.3576183], dtype=float32),\n",
              "  3,\n",
              "  'neutral'),\n",
              " ('humanabstract anything',\n",
              "  array([-3.1012993, -2.3216136, -2.9954872, -1.8630815, -2.8307781,\n",
              "         -2.5513391, -2.4627142, -2.6106777, -2.5832045, -2.3383238,\n",
              "         -2.8343277, -2.5775495, -3.0094814], dtype=float32),\n",
              "  3,\n",
              "  'neutral'),\n",
              " (\"michelleer well to me it's summer when the cricket season starts actually  and yeah, so do i. but only when they have sparkly wings\",\n",
              "  array([-2.7653704, -2.2203195, -3.0733888, -2.001577 , -2.9372816,\n",
              "         -2.508252 , -2.1950543, -2.4893317, -2.839404 , -2.4324117,\n",
              "         -2.8489957, -2.5537803, -3.313904 ], dtype=float32),\n",
              "  3,\n",
              "  'neutral'),\n",
              " (\"had fun at chel's with nicole and cried watching benjamin button   exciting night i must say\",\n",
              "  array([-2.6875174, -2.395672 , -2.9398866, -1.984451 , -2.8376179,\n",
              "         -2.5643744, -2.0253305, -2.644675 , -2.7523475, -2.3723552,\n",
              "         -3.3519955, -2.5732558, -3.1313188], dtype=float32),\n",
              "  3,\n",
              "  'neutral'),\n",
              " ('got my wisdom teeth removed it hurts.',\n",
              "  array([-2.8764782, -2.0721543, -2.840073 , -2.0400467, -2.9259977,\n",
              "         -2.291715 , -2.4201558, -2.7042203, -2.8931978, -2.2075796,\n",
              "         -2.9376893, -2.844149 , -3.1644485], dtype=float32),\n",
              "  3,\n",
              "  'neutral'),\n",
              " (\"slept for 11 hours after an exhausting but a fun fun out of town trip. high for the day so far? woke up to good ol' fried chicken\",\n",
              "  array([-2.8875208, -2.2907653, -3.102608 , -1.8897128, -2.8801072,\n",
              "         -2.332408 , -2.4306452, -2.7261245, -2.9991639, -2.2851126,\n",
              "         -2.919138 , -2.4527273, -3.0205042], dtype=float32),\n",
              "  3,\n",
              "  'neutral'),\n",
              " (\"oh yeah... happy Mothers day to every mom out there and to my friend's moms\",\n",
              "  array([-2.6054115, -2.487932 , -2.6407804, -2.1807885, -2.650539 ,\n",
              "         -2.5485706, -1.9295776, -2.5570164, -2.692112 , -2.4988616,\n",
              "         -3.1582317, -2.739468 , -3.4994493], dtype=float32),\n",
              "  6,\n",
              "  'love'),\n",
              " ('In a really Good mood for absolutely no reason  tee her',\n",
              "  array([-2.8107972, -2.354878 , -3.0180886, -1.975638 , -2.865004 ,\n",
              "         -2.191906 , -2.1030095, -2.7841473, -2.6595342, -2.416403 ,\n",
              "         -3.1942773, -2.8957772, -3.0090456], dtype=float32),\n",
              "  3,\n",
              "  'neutral'),\n",
              " ('rayvinhsu welcome to win 7. I am sure you will like the new OS but if you have any issues do feel free to ask',\n",
              "  array([-2.6335084, -2.6949599, -2.9998722, -1.8811486, -2.80542  ,\n",
              "         -2.4741406, -1.7415192, -2.9097762, -2.678897 , -2.5322638,\n",
              "         -3.401252 , -2.7045248, -3.335114 ], dtype=float32),\n",
              "  6,\n",
              "  'love'),\n",
              " ('http://twitpic.com/4jco5 - The Result of working the Green/Black fingers...',\n",
              "  array([-2.805749 , -2.3342407, -2.8506644, -1.8689108, -2.7151017,\n",
              "         -2.5354128, -1.9979792, -2.744683 , -2.8297937, -2.5221915,\n",
              "         -3.3324435, -2.6002445, -3.3247256], dtype=float32),\n",
              "  3,\n",
              "  'neutral'),\n",
              " (\"Yup, I'm pretty sure summer could not have started off any better than the one this year\",\n",
              "  array([-2.7617755, -2.2524407, -2.8854256, -2.0376306, -3.0720277,\n",
              "         -2.2729256, -2.106989 , -2.477555 , -2.7568378, -2.518059 ,\n",
              "         -3.14765  , -2.8509915, -3.0840719], dtype=float32),\n",
              "  3,\n",
              "  'neutral'),\n",
              " ('LIVE FROM NEW YORK ITS SATURDAY NIGHT  finally a new one',\n",
              "  array([-2.5472593, -2.4934225, -2.6777866, -1.9763916, -2.8528833,\n",
              "         -2.6821303, -1.7983465, -2.7251093, -2.7902167, -2.550581 ,\n",
              "         -3.2493358, -2.7713077, -3.3883858], dtype=float32),\n",
              "  6,\n",
              "  'love'),\n",
              " ('my arms hurt',\n",
              "  array([-2.940133 , -2.29008  , -2.949047 , -1.9741259, -2.621554 ,\n",
              "         -2.3371613, -2.346788 , -2.6840253, -2.587616 , -2.3600008,\n",
              "         -2.9823937, -2.846391 , -3.1462872], dtype=float32),\n",
              "  3,\n",
              "  'neutral'),\n",
              " (\"KellyContant (votes) sadly no.. but did you vote for my log yet?  I'm gonna vote for yours\",\n",
              "  array([-2.4494429, -2.4082785, -3.0055916, -1.9505947, -2.8363667,\n",
              "         -2.5907917, -2.017219 , -2.6555693, -2.9341538, -2.3152628,\n",
              "         -3.3431334, -2.6390042, -3.3123007], dtype=float32),\n",
              "  3,\n",
              "  'neutral'),\n",
              " (\"Getting anxious for Blink- 182's new album\",\n",
              "  array([-2.8093965, -2.267334 , -3.0999563, -2.0979772, -2.9423938,\n",
              "         -2.2144513, -2.2032526, -2.7273061, -2.7763896, -2.3748877,\n",
              "         -2.836732 , -2.6657948, -3.053891 ], dtype=float32),\n",
              "  3,\n",
              "  'neutral'),\n",
              " (\"kman_19 I watched a little today Didn't know you were sick, you did awesome nonetheless Hope u feel better\",\n",
              "  array([-2.6336882, -2.4185562, -2.9184165, -1.8111548, -2.9257417,\n",
              "         -2.6095796, -1.882087 , -2.6726446, -2.761854 , -2.4378123,\n",
              "         -3.4898653, -2.868085 , -3.3443832], dtype=float32),\n",
              "  3,\n",
              "  'neutral'),\n",
              " (\"http://bit.ly/147HEU  - don't judge me. tucking myself in tonight  mogwai on repeat\",\n",
              "  array([-2.7357612, -2.202348 , -2.9697294, -1.8695496, -2.9802756,\n",
              "         -2.48185  , -2.090137 , -2.6273823, -2.642963 , -2.5147753,\n",
              "         -3.3009667, -2.6711385, -3.4820366], dtype=float32),\n",
              "  3,\n",
              "  'neutral'),\n",
              " ('CKHerm Glad you got to walk.  Finish the damn thesis.',\n",
              "  array([-2.7046359, -2.1786997, -2.853923 , -2.0699003, -2.882894 ,\n",
              "         -2.2229695, -2.3780546, -2.755274 , -2.6618323, -2.3390746,\n",
              "         -3.219563 , -2.7100449, -3.1518006], dtype=float32),\n",
              "  3,\n",
              "  'neutral'),\n",
              " (\"Oh, yes... Happy NINE year annivarsary to Hanson's second studio album, &quot;This Time Around.&quot;\",\n",
              "  array([-2.7495298, -2.3298237, -2.9259567, -1.9897548, -2.860491 ,\n",
              "         -2.3220348, -2.008637 , -2.8501234, -2.668918 , -2.3738012,\n",
              "         -3.1446452, -2.8402255, -3.2937136], dtype=float32),\n",
              "  3,\n",
              "  'neutral'),\n",
              " ('liadoria nat has a twitter acct',\n",
              "  array([-3.0195599, -2.2010171, -2.7298236, -1.879015 , -2.8026614,\n",
              "         -2.4116957, -2.366792 , -2.904036 , -2.6648123, -2.3947754,\n",
              "         -3.0587337, -2.675267 , -3.0580306], dtype=float32),\n",
              "  3,\n",
              "  'neutral'),\n",
              " ('Don_J i soo dont wanna work tmrw  ...only on a half day tho so hopefully the sun will stay out for me Gonna go get showered, tweet l8rs',\n",
              "  array([-2.8205764, -2.0715356, -3.0046115, -1.898525 , -3.0421627,\n",
              "         -2.4076693, -2.301568 , -2.701888 , -2.7879605, -2.2588282,\n",
              "         -3.0322099, -2.7641716, -3.4144313], dtype=float32),\n",
              "  3,\n",
              "  'neutral'),\n",
              " ('davidarchie needs to make plans to come back to uk yest he made my year  love him xo',\n",
              "  array([-2.9395034, -2.1818695, -3.0683427, -2.1301281, -2.816255 ,\n",
              "         -2.3775227, -1.8675252, -2.6802194, -2.8936987, -2.200627 ,\n",
              "         -3.3333097, -2.8823256, -3.3379369], dtype=float32),\n",
              "  6,\n",
              "  'love'),\n",
              " ('charlieks tonita_face emmaleeks and nana.wish i was there last night',\n",
              "  array([-2.8413732, -2.3692615, -2.7124572, -1.9004376, -3.0034359,\n",
              "         -2.3274   , -1.8169363, -2.6761203, -2.9114933, -2.6442409,\n",
              "         -3.4706028, -2.73315  , -3.437531 ], dtype=float32),\n",
              "  6,\n",
              "  'love'),\n",
              " (\"edziardo : Hi, there I'm sorry for not telling you  Let's meet up With yayi_meirizka too. You promised to treat us XD\",\n",
              "  array([-2.7430701, -2.274852 , -2.9592292, -2.0864356, -2.9038246,\n",
              "         -2.3916337, -2.172258 , -2.8020651, -2.8483257, -2.1764731,\n",
              "         -3.3113575, -2.487141 , -3.1025662], dtype=float32),\n",
              "  3,\n",
              "  'neutral'),\n",
              " ('god, brera, why is your plot twist going to fucking everything up i can feel it',\n",
              "  array([-2.6388593, -2.3187134, -2.8482542, -2.1090655, -2.9214692,\n",
              "         -2.5477715, -1.8710833, -2.5470734, -2.9057465, -2.4324121,\n",
              "         -3.169582 , -2.7254825, -3.3127902], dtype=float32),\n",
              "  6,\n",
              "  'love'),\n",
              " (\"Gotta get creative with these mothers day gifts. I'm gonna win them over with my love\",\n",
              "  array([-2.640527 , -2.5896373, -2.845265 , -2.2248566, -2.6699717,\n",
              "         -2.5569024, -1.5437546, -2.7982688, -2.7744682, -2.4883666,\n",
              "         -3.4509509, -2.8696902, -3.4334533], dtype=float32),\n",
              "  6,\n",
              "  'love'),\n",
              " (\"LOL Was it nice today? because I totally just woke up and wasted my day  Working on a few things for this youtube project I'm in w00t\",\n",
              "  array([-2.7742524, -2.2713342, -3.0078483, -1.9812819, -3.0916538,\n",
              "         -2.5933259, -2.0101178, -2.7505584, -2.5618348, -2.281488 ,\n",
              "         -3.1903605, -2.8012702, -3.0388203], dtype=float32),\n",
              "  3,\n",
              "  'neutral'),\n",
              " ('Hecks yeah. Jandy timsamlake is too rawesome',\n",
              "  array([-2.925469 , -2.1589463, -3.0328503, -1.827079 , -2.9094324,\n",
              "         -2.420794 , -2.0925238, -2.708551 , -2.9219186, -2.4531431,\n",
              "         -3.1128218, -2.7266238, -3.2514439], dtype=float32),\n",
              "  3,\n",
              "  'neutral'),\n",
              " ('JoelMadden People from England can watch this one  Thankyou',\n",
              "  array([-2.6806905, -2.3835764, -2.87147  , -2.122088 , -2.660636 ,\n",
              "         -2.458806 , -2.0537193, -2.6041863, -2.7266684, -2.4291444,\n",
              "         -3.158604 , -2.724249 , -3.133239 ], dtype=float32),\n",
              "  6,\n",
              "  'love'),\n",
              " (\"I'm dying to see the reaction on their faces  .. its going to be FUN gedan begad\",\n",
              "  array([-2.738833 , -2.578771 , -2.838186 , -1.9619746, -2.8210635,\n",
              "         -2.6618462, -1.844169 , -2.5877318, -2.5483415, -2.5289028,\n",
              "         -3.2704787, -2.7270799, -3.3156648], dtype=float32),\n",
              "  6,\n",
              "  'love'),\n",
              " ('Gonna go watch Shorty Street &amp; then prison break marathon then bed maybe. Nobodies texting me',\n",
              "  array([-2.737785 , -2.1823297, -3.1386888, -2.0689192, -2.7702844,\n",
              "         -2.6196818, -2.1846156, -2.6567566, -2.7525804, -2.1303687,\n",
              "         -3.1702578, -2.5667908, -3.4007368], dtype=float32),\n",
              "  3,\n",
              "  'neutral'),\n",
              " ('Have I mentioned this bus was sloooow? on it for about one hour now',\n",
              "  array([-2.9422126, -2.188937 , -2.9457674, -1.9961642, -2.996006 ,\n",
              "         -2.400664 , -2.510418 , -2.7293227, -2.5830913, -2.1709926,\n",
              "         -2.9577558, -2.698947 , -2.979066 ], dtype=float32),\n",
              "  3,\n",
              "  'neutral'),\n",
              " (\"Panda express, it's been so long. I've missed you\",\n",
              "  array([-2.631525 , -2.311904 , -2.606509 , -2.1329908, -2.6854703,\n",
              "         -2.466412 , -1.6957498, -2.964645 , -2.7871652, -2.7419887,\n",
              "         -3.333762 , -2.9896266, -3.3086972], dtype=float32),\n",
              "  6,\n",
              "  'love'),\n",
              " (\"myepeenisbigger hey jesse, here's your background  let me know what you think http://tinyurl.com/cf2yuj\",\n",
              "  array([-2.7840774, -2.5492685, -2.697382 , -1.9597006, -2.8962605,\n",
              "         -2.5871177, -1.6943996, -2.757732 , -2.7738147, -2.3900602,\n",
              "         -3.5436392, -2.8264704, -3.4418705], dtype=float32),\n",
              "  6,\n",
              "  'love'),\n",
              " (\"plsdontgogurl That's the one. I wish I have a video compilation of jordanknight's thrusting\",\n",
              "  array([-2.8566666, -2.3612583, -3.1135914, -2.0107052, -2.8406186,\n",
              "         -2.3461385, -2.028124 , -2.6640012, -2.7214642, -2.3682232,\n",
              "         -3.2881765, -2.54958  , -3.2273383], dtype=float32),\n",
              "  3,\n",
              "  'neutral'),\n",
              " ('clothes_w thank you..',\n",
              "  array([-2.8462472, -2.30031  , -2.7985897, -2.0035043, -2.604011 ,\n",
              "         -2.4167771, -1.8486271, -2.971187 , -2.7555895, -2.5565462,\n",
              "         -3.3521276, -2.8131614, -3.2727096], dtype=float32),\n",
              "  6,\n",
              "  'love'),\n",
              " ('got the twilight board game today  good old ebay..',\n",
              "  array([-2.6962674, -2.4036708, -2.840611 , -1.8509346, -2.8335066,\n",
              "         -2.3804529, -2.282748 , -2.8476343, -2.501241 , -2.4468455,\n",
              "         -3.2195735, -2.7861676, -3.0966806], dtype=float32),\n",
              "  3,\n",
              "  'neutral'),\n",
              " ('facebook is being a bitch',\n",
              "  array([-2.7724998, -2.2464414, -2.9903836, -1.7696794, -3.0488925,\n",
              "         -2.495946 , -2.1739814, -2.8074985, -2.7637045, -2.3584738,\n",
              "         -3.0398562, -2.829042 , -3.1554112], dtype=float32),\n",
              "  3,\n",
              "  'neutral'),\n",
              " ('with thee ladies getting retarded',\n",
              "  array([-2.926117 , -2.3029463, -2.9025042, -1.832598 , -2.8738558,\n",
              "         -2.4009838, -2.2427282, -2.6976109, -2.7059238, -2.4207184,\n",
              "         -2.9380774, -2.8057942, -3.1745791], dtype=float32),\n",
              "  3,\n",
              "  'neutral'),\n",
              " ('Shoot, are we all done with the mustard jokes now?',\n",
              "  array([-2.832378 , -2.3944867, -2.9867444, -1.7532318, -3.0272155,\n",
              "         -2.2711258, -2.2441187, -2.7212777, -2.676014 , -2.363938 ,\n",
              "         -3.2543778, -2.848567 , -3.1380537], dtype=float32),\n",
              "  3,\n",
              "  'neutral'),\n",
              " ('McCainBlogette Pretty sure you are hero status... You rock my socks Ms McCain.',\n",
              "  array([-2.6679523, -2.418035 , -3.1596985, -1.8684205, -2.6442378,\n",
              "         -2.3538923, -1.9755884, -2.9817746, -2.8141685, -2.3532085,\n",
              "         -3.2219868, -2.8526783, -3.3055449], dtype=float32),\n",
              "  3,\n",
              "  'neutral'),\n",
              " ('devilworks wow.???? ??????',\n",
              "  array([-2.8459854, -2.349559 , -3.0130963, -2.0051837, -2.8350673,\n",
              "         -2.231678 , -1.7914588, -2.7508836, -2.995681 , -2.5236697,\n",
              "         -3.3699534, -2.7687998, -3.249592 ], dtype=float32),\n",
              "  6,\n",
              "  'love'),\n",
              " ('thatjaymie I did',\n",
              "  array([-3.1323686, -2.2762804, -3.0017233, -1.8020631, -2.9822733,\n",
              "         -2.279193 , -2.3670022, -2.7148285, -2.7023735, -2.4442303,\n",
              "         -2.94353  , -2.7021735, -2.9476914], dtype=float32),\n",
              "  3,\n",
              "  'neutral'),\n",
              " ('Ugh, I hate 90 degree weather',\n",
              "  array([-2.872625 , -2.2675054, -2.9475842, -1.9545252, -2.8976295,\n",
              "         -2.378087 , -2.1944852, -2.6789505, -2.6587858, -2.3350115,\n",
              "         -3.0756133, -2.7952714, -3.12934  ], dtype=float32),\n",
              "  3,\n",
              "  'neutral'),\n",
              " (\"I can't upload a picture. Everything's too big\",\n",
              "  array([-2.6297455, -2.305009 , -2.8531742, -2.0283   , -2.7687583,\n",
              "         -2.3881342, -1.9664061, -2.9020092, -2.8319974, -2.4988089,\n",
              "         -3.294155 , -2.6337903, -3.2307   ], dtype=float32),\n",
              "  6,\n",
              "  'love'),\n",
              " (\"geishadoll you're welcome Chica\",\n",
              "  array([-2.901074 , -2.812136 , -2.7628522, -2.0400846, -2.3860126,\n",
              "         -2.5213997, -1.6495769, -2.656843 , -2.766757 , -2.6446934,\n",
              "         -3.5744069, -2.8000588, -3.368089 ], dtype=float32),\n",
              "  6,\n",
              "  'love'),\n",
              " ('Vote for Board of the Month May 2009 (licensed members only) http://tinyurl.com/c8uj28 Good luck everybody',\n",
              "  array([-2.6097064, -2.7752833, -2.794911 , -2.245602 , -2.7114377,\n",
              "         -2.6093984, -1.5166557, -2.7580783, -2.6712847, -2.5005708,\n",
              "         -3.2414412, -2.9570105, -3.4430559], dtype=float32),\n",
              "  6,\n",
              "  'love'),\n",
              " ('kkanester  No, but apparently a distant relative died in east africa, leaving me as his only heir. Once I send 5K I should have 250k',\n",
              "  array([-2.7740965, -2.1792214, -2.8587384, -1.882431 , -2.9328568,\n",
              "         -2.3014007, -2.4467874, -2.7904394, -2.6649754, -2.4178047,\n",
              "         -3.0905004, -2.5986242, -3.3523467], dtype=float32),\n",
              "  3,\n",
              "  'neutral'),\n",
              " ('vectorfunk Presentation went well  Yes, I also met a buch of cool people. Checked your portfolio, nice work/details in the projects.',\n",
              "  array([-2.8303418, -2.2048237, -3.0609457, -2.03192  , -2.9990633,\n",
              "         -2.4473836, -1.9818864, -2.6123278, -2.7998989, -2.316699 ,\n",
              "         -3.2959385, -2.6545944, -3.2568622], dtype=float32),\n",
              "  6,\n",
              "  'love'),\n",
              " (\"There is a MacBook Pro sitting close by and my poor MacBook is ashamed with it's plastic face and sides...\",\n",
              "  array([-3.0425396, -2.3893433, -2.7641144, -1.8511013, -2.91475  ,\n",
              "         -2.4918633, -2.0857568, -2.567601 , -2.6298232, -2.4680529,\n",
              "         -3.164886 , -2.7787344, -3.1840405], dtype=float32),\n",
              "  3,\n",
              "  'neutral'),\n",
              " (\"mlomb hi, the parody for iPhone is hysterical, not because it's funny, but because one cannot play the video on iPhone\",\n",
              "  array([-2.8005602, -2.504381 , -2.8835294, -1.8790494, -2.7977924,\n",
              "         -2.4260058, -2.2216887, -2.7405982, -2.6587255, -2.2889717,\n",
              "         -3.0193677, -2.7877808, -3.1069646], dtype=float32),\n",
              "  3,\n",
              "  'neutral'),\n",
              " ('is watching Mock the Week and is slowing cooking',\n",
              "  array([-2.9007835, -2.131283 , -2.9392285, -2.0169759, -2.8158607,\n",
              "         -2.2824826, -2.3992267, -2.8118036, -2.7049646, -2.2461796,\n",
              "         -3.0456195, -2.8021517, -3.0644124], dtype=float32),\n",
              "  3,\n",
              "  'neutral'),\n",
              " ('I is goin to bed now',\n",
              "  array([-2.7339864, -2.131939 , -2.7678833, -2.1194403, -3.0404415,\n",
              "         -2.4476442, -2.3458686, -2.571241 , -2.6951654, -2.2966774,\n",
              "         -3.064772 , -2.7082324, -3.088262 ], dtype=float32),\n",
              "  3,\n",
              "  'neutral'),\n",
              " (\"It's so awesome to know that there are people who think I have what it takes to make it in Nashville, and who offer to help if I want it.\",\n",
              "  array([-2.4590974, -2.4941523, -2.7721882, -2.060806 , -2.7829723,\n",
              "         -2.3497694, -1.9701151, -2.7290957, -2.9111283, -2.5311427,\n",
              "         -3.2876916, -2.5781386, -3.4160163], dtype=float32),\n",
              "  6,\n",
              "  'love'),\n",
              " ('pmcclory hmm. Tough choice. You got some matches?',\n",
              "  array([-2.9091651, -2.3440065, -2.9537997, -1.9706566, -2.967801 ,\n",
              "         -2.3091545, -2.111178 , -2.5382423, -2.6740575, -2.4398293,\n",
              "         -3.1166863, -2.7996922, -3.0815523], dtype=float32),\n",
              "  3,\n",
              "  'neutral'),\n",
              " ('is gonna shower, and take a nap...very tired...',\n",
              "  array([-2.7199588, -2.3414834, -2.8168721, -1.9909387, -2.7631917,\n",
              "         -2.3829913, -2.354381 , -2.4644475, -2.58045  , -2.5155158,\n",
              "         -3.1904745, -2.7289567, -3.141808 ], dtype=float32),\n",
              "  3,\n",
              "  'neutral'),\n",
              " ('About to get crazy',\n",
              "  array([-2.8646407, -2.000313 , -2.962323 , -1.879418 , -2.9771118,\n",
              "         -2.3665743, -2.3160076, -2.7060542, -2.8941503, -2.3687363,\n",
              "         -3.1058898, -3.0066905, -2.9970655], dtype=float32),\n",
              "  3,\n",
              "  'neutral'),\n",
              " ('i am so going to see transformers on imax.   SO EXCITED',\n",
              "  array([-2.603321 , -2.74363  , -2.6155138, -2.101843 , -2.5295403,\n",
              "         -2.8937297, -1.5703638, -2.9698353, -2.5890832, -2.642961 ,\n",
              "         -3.4050477, -2.9726894, -3.1864314], dtype=float32),\n",
              "  6,\n",
              "  'love'),\n",
              " ('Definition of senioritis: Me. About to go to chem II and calculus. Not good classes to feel like slackin',\n",
              "  array([-2.7833185, -2.1594448, -2.9050448, -1.941323 , -2.7354388,\n",
              "         -2.4736104, -2.334286 , -2.589107 , -2.7664528, -2.4674203,\n",
              "         -3.1170733, -2.5703497, -3.3546367], dtype=float32),\n",
              "  3,\n",
              "  'neutral'),\n",
              " (\"DAEONE haha wtf is that You don't want me to leave\",\n",
              "  array([-2.623784 , -2.220098 , -3.000699 , -1.9458774, -3.023433 ,\n",
              "         -2.4239213, -2.0123858, -2.5901718, -2.8524513, -2.379198 ,\n",
              "         -3.536282 , -2.837572 , -3.1615796], dtype=float32),\n",
              "  3,\n",
              "  'neutral'),\n",
              " ('going to church  god bless you all.',\n",
              "  array([-2.5767026, -2.7647579, -2.4324782, -2.2038276, -2.573535 ,\n",
              "         -2.4145708, -1.7807543, -2.9754934, -2.676322 , -2.604889 ,\n",
              "         -3.084553 , -2.8900156, -3.3953648], dtype=float32),\n",
              "  6,\n",
              "  'love'),\n",
              " ('monicaobrien again, agreed. but having a program showing your friends are on facebook would be easier than giving every1 yer info',\n",
              "  array([-2.8612833, -2.15629  , -2.9372573, -2.0055082, -2.914678 ,\n",
              "         -2.4001303, -2.2554998, -2.7430549, -2.7404468, -2.3010137,\n",
              "         -3.010644 , -2.6957057, -3.126468 ], dtype=float32),\n",
              "  3,\n",
              "  'neutral'),\n",
              " (\"amanga46    WOW  That is so awesome, Andre   It will be great, I know  Can't wait.   And you dad's aren't so bad either\",\n",
              "  array([-2.616376 , -2.3085902, -3.1495636, -2.111441 , -2.8177419,\n",
              "         -2.6010263, -1.9367056, -2.4992769, -2.7391586, -2.3631434,\n",
              "         -3.32741  , -2.6263537, -3.3142729], dtype=float32),\n",
              "  6,\n",
              "  'love'),\n",
              " (\"wrhunt and what did you do last night, I don't recall being invited\",\n",
              "  array([-3.0028338, -2.1209846, -3.0051942, -1.9052266, -3.0015392,\n",
              "         -2.3988535, -2.1241105, -2.866863 , -2.7844913, -2.333686 ,\n",
              "         -3.1462746, -2.7007535, -3.0724373], dtype=float32),\n",
              "  3,\n",
              "  'neutral'),\n",
              " (\"kfb1991 I can't really say much because none of it is set in stone.. but I'm planning a charity concert for Cystic Fibrosis\",\n",
              "  array([-2.7458386, -2.263777 , -2.9427369, -2.0708678, -2.8515835,\n",
              "         -2.4664657, -2.2574892, -2.7872968, -2.6900897, -2.2985659,\n",
              "         -3.1579216, -2.4171243, -3.1180334], dtype=float32),\n",
              "  3,\n",
              "  'neutral'),\n",
              " ('I was awoken by loud banging and it continues all day  Good thing I got an early rest last night',\n",
              "  array([-2.8705797, -2.1639872, -2.9370184, -1.9984877, -3.148479 ,\n",
              "         -2.1700056, -2.3670998, -2.7998822, -2.7806728, -2.226931 ,\n",
              "         -2.919774 , -2.7683344, -3.1779203], dtype=float32),\n",
              "  3,\n",
              "  'neutral'),\n",
              " ('Devastated,set alarm for 9.30,forgot to turn 7.30 alarm off got up at 7.30 and showered thinking it was 9.30,I am a full fool',\n",
              "  array([-2.8267403, -2.1571817, -3.1161327, -1.9638985, -2.927198 ,\n",
              "         -2.4361913, -2.121435 , -2.6900136, -2.735326 , -2.4480975,\n",
              "         -3.1494422, -2.6682093, -3.0335975], dtype=float32),\n",
              "  3,\n",
              "  'neutral'),\n",
              " ('so very irratated',\n",
              "  array([-3.0198627, -2.2358854, -2.941615 , -2.2125535, -2.7690713,\n",
              "         -2.3266091, -2.2591197, -2.7560925, -2.4097319, -2.3209164,\n",
              "         -2.93697  , -2.8932233, -2.8591313], dtype=float32),\n",
              "  3,\n",
              "  'neutral'),\n",
              " ('going to look in the refrigerator for a taste snack to eat',\n",
              "  array([-3.1183553, -2.089256 , -3.0082755, -2.1401336, -2.9302716,\n",
              "         -2.4651208, -2.3525763, -2.4822178, -2.6046715, -2.3367407,\n",
              "         -2.9399593, -2.5610478, -3.0522728], dtype=float32),\n",
              "  1,\n",
              "  'sadness'),\n",
              " (\"Don't think I'm gonna be able to go to see the JB 3D Concert...wrong time, no where very close by\",\n",
              "  array([-2.6652107, -2.4249518, -2.7756355, -2.048451 , -2.9017305,\n",
              "         -2.3230238, -2.1833212, -2.7680514, -2.6893334, -2.416923 ,\n",
              "         -3.131888 , -2.595881 , -3.0577059], dtype=float32),\n",
              "  3,\n",
              "  'neutral'),\n",
              " ('mileycyrus my computer is being stupid and wont let me vote  . if i could i would vote for u.',\n",
              "  array([-2.7500672, -2.1329296, -2.816666 , -1.8247528, -2.8193011,\n",
              "         -2.524562 , -2.1482334, -2.71736  , -2.9588935, -2.5274968,\n",
              "         -3.4007735, -2.677421 , -3.2133517], dtype=float32),\n",
              "  3,\n",
              "  'neutral'),\n",
              " (\"nikkidang Yeah I've been going there for the last month  SO amaaaazing, I'll bring some back for you\",\n",
              "  array([-2.8202343, -2.3744147, -2.7533011, -1.9260042, -2.8517237,\n",
              "         -2.450599 , -1.9409399, -2.6112843, -2.8614907, -2.4019089,\n",
              "         -3.4369504, -2.7821789, -3.3494887], dtype=float32),\n",
              "  3,\n",
              "  'neutral'),\n",
              " ('i saw my credit-card statement. maybe i should receive the unholy Aiden fan package yaaaaay.',\n",
              "  array([-2.649391 , -2.4262028, -3.0075169, -2.0342462, -2.8430061,\n",
              "         -2.4840019, -2.028902 , -2.6074657, -2.7474446, -2.3903675,\n",
              "         -3.1534138, -2.725956 , -2.9956572], dtype=float32),\n",
              "  6,\n",
              "  'love'),\n",
              " (\"I WANT A GARDEN  sitting inside when it's sunny sucks.\",\n",
              "  array([-2.7426224, -2.217    , -2.691029 , -1.8683667, -3.0686264,\n",
              "         -2.406042 , -2.1120574, -2.6787639, -3.1108813, -2.3598654,\n",
              "         -3.2394342, -2.781393 , -3.2688382], dtype=float32),\n",
              "  3,\n",
              "  'neutral'),\n",
              " ('honestly last night was amazing, everything was perfect',\n",
              "  array([-2.6405816, -2.4870985, -2.8245826, -1.965326 , -2.662242 ,\n",
              "         -2.5876706, -1.9592563, -2.822311 , -2.8265138, -2.382996 ,\n",
              "         -3.2788033, -2.6608112, -3.1794114], dtype=float32),\n",
              "  6,\n",
              "  'love'),\n",
              " ('My sister graduated today  it was amazing and super emotional. Wow ...',\n",
              "  array([-2.8718789, -2.6270232, -2.8172464, -2.104251 , -2.9623027,\n",
              "         -2.5546184, -1.6775649, -2.7415612, -2.479928 , -2.3964949,\n",
              "         -3.3189147, -2.8899856, -3.1669416], dtype=float32),\n",
              "  6,\n",
              "  'love'),\n",
              " ('kerkat28 i posted it let me know what you think? theres a really cute cut out in the back too.',\n",
              "  array([-2.7917967, -2.230469 , -2.848518 , -1.997515 , -2.9279845,\n",
              "         -2.4382906, -2.092939 , -2.766352 , -2.7188854, -2.450385 ,\n",
              "         -3.2778525, -2.6223893, -3.0358849], dtype=float32),\n",
              "  3,\n",
              "  'neutral'),\n",
              " ('ExocetAU Hey lovely.. hope you had a good day  Thanks for an awsome night and teaching me how to put together a tie...hahaha',\n",
              "  array([-2.8033822, -2.6360664, -2.8000703, -2.0569859, -2.7610478,\n",
              "         -2.5400302, -1.725415 , -2.6161904, -2.709876 , -2.4824638,\n",
              "         -3.4448102, -2.6448264, -3.4164639], dtype=float32),\n",
              "  6,\n",
              "  'love'),\n",
              " ('tried oprahs free unfried kfc and loved it  i went back for another try and topped it with boba and wolverine.Chilled with pope,dave,ben',\n",
              "  array([-2.5889323, -2.4400945, -3.04031  , -1.7078516, -2.9153876,\n",
              "         -2.4779768, -2.421506 , -2.7366612, -2.7342505, -2.2266011,\n",
              "         -3.1636307, -2.8437128, -3.130769 ], dtype=float32),\n",
              "  3,\n",
              "  'neutral'),\n",
              " ('decadentdecay Chica Two more days  I want the US Elle too.',\n",
              "  array([-2.6786923, -2.508121 , -2.9227862, -2.241326 , -2.7610898,\n",
              "         -2.5930324, -1.7142382, -2.6649144, -2.6236434, -2.3847728,\n",
              "         -3.2317882, -2.7907667, -3.307867 ], dtype=float32),\n",
              "  6,\n",
              "  'love'),\n",
              " (\"tommcfly but it all went too quick and there wasn't a chance lol\",\n",
              "  array([-2.8935132, -2.225254 , -2.7610178, -2.0169961, -2.8731265,\n",
              "         -2.2483554, -2.205777 , -2.7832296, -2.729598 , -2.3592987,\n",
              "         -3.0240092, -2.8211951, -3.2616246], dtype=float32),\n",
              "  3,\n",
              "  'neutral'),\n",
              " ('erinmusicluver  i thought you liked the name',\n",
              "  array([-2.7842014, -2.3561277, -2.7162309, -2.0043018, -2.8807025,\n",
              "         -2.301323 , -2.0260215, -2.9703627, -2.8003993, -2.519362 ,\n",
              "         -3.132799 , -2.5614228, -3.191637 ], dtype=float32),\n",
              "  3,\n",
              "  'neutral'),\n",
              " ('Remy_Foster Just so i can see how they look with the other icons. Both themes btw.',\n",
              "  array([-2.5950012, -2.4001052, -2.8548722, -2.0443711, -2.8370733,\n",
              "         -2.2821593, -1.9022393, -2.6502237, -2.7100177, -2.5817485,\n",
              "         -3.2521   , -2.8911324, -3.4832456], dtype=float32),\n",
              "  6,\n",
              "  'love'),\n",
              " ('Spraypainthero wh-wha? hacky sack plans sans Jackie???',\n",
              "  array([-2.9793913, -2.0824606, -3.1709096, -1.8748746, -2.8397229,\n",
              "         -2.3346057, -2.4166567, -2.5843787, -2.737383 , -2.2726285,\n",
              "         -3.029766 , -2.8103156, -3.4122434], dtype=float32),\n",
              "  3,\n",
              "  'neutral'),\n",
              " ('back home with my puppyy',\n",
              "  array([-2.81352  , -2.3509493, -2.9791827, -1.9672316, -2.6911826,\n",
              "         -2.350198 , -2.2394915, -2.717404 , -2.6461492, -2.517643 ,\n",
              "         -3.1386342, -2.502029 , -3.1819031], dtype=float32),\n",
              "  3,\n",
              "  'neutral'),\n",
              " ('Waking up after talking on the phone to my amazing friend all night long. My eyes and stomach are the only ones complaining. I love boy.',\n",
              "  array([-2.6374433, -2.3884857, -2.7410278, -2.0255003, -2.7644932,\n",
              "         -2.4308274, -1.9167423, -2.627053 , -2.7779164, -2.6570916,\n",
              "         -3.2278028, -2.709194 , -3.4624703], dtype=float32),\n",
              "  6,\n",
              "  'love'),\n",
              " (\"I'm so sleepy now...g'night HAPPY MOTHER'S DAY to your Mother, Mama, Ma, Mommy (whatever you call them. LoL) from Mie\",\n",
              "  array([-2.6647003, -2.357674 , -2.9279895, -2.02481  , -2.768392 ,\n",
              "         -2.3461962, -2.064085 , -2.707878 , -2.8956423, -2.3028724,\n",
              "         -3.290979 , -2.684411 , -3.2862272], dtype=float32),\n",
              "  3,\n",
              "  'neutral'),\n",
              " ('Roast was yummy, I think mum was impressed',\n",
              "  array([-2.7346985, -2.1532667, -2.8847313, -1.9105737, -2.9824712,\n",
              "         -2.328906 , -2.3359702, -2.8317213, -2.819033 , -2.3536782,\n",
              "         -2.9189532, -2.740766 , -3.264253 ], dtype=float32),\n",
              "  3,\n",
              "  'neutral'),\n",
              " ('Happy Mothers Day to all the wonderful MOMS out there. MOMS are what makes the world stay balanced. Have a great Mothers Day',\n",
              "  array([-2.6756678, -3.129011 , -2.72397  , -2.1272445, -2.6769729,\n",
              "         -2.7308135, -1.2469752, -2.8960805, -2.7966669, -2.8001924,\n",
              "         -3.244376 , -3.2164814, -3.6829126], dtype=float32),\n",
              "  6,\n",
              "  'love'),\n",
              " ('Maxwell5587 wow. hehehe. mushy-mushy mode.',\n",
              "  array([-2.795518 , -2.5806904, -2.9358716, -1.8364655, -3.0118196,\n",
              "         -2.439762 , -1.950784 , -2.6260521, -2.7711809, -2.26524  ,\n",
              "         -3.3686285, -2.8283143, -3.2219133], dtype=float32),\n",
              "  3,\n",
              "  'neutral'),\n",
              " (\"I'm cooking meatballs for lunch  yaaayyy ...\",\n",
              "  array([-2.9682498, -2.202464 , -2.8627331, -1.9870174, -2.993825 ,\n",
              "         -2.360506 , -2.1099777, -2.8361256, -2.7297194, -2.3023543,\n",
              "         -3.2287672, -2.5976176, -3.214352 ], dtype=float32),\n",
              "  3,\n",
              "  'neutral'),\n",
              " ('qwe4423 ?. Pick up that, as fast you can',\n",
              "  array([-2.7887506, -2.385026 , -3.0674286, -1.8624561, -2.8747625,\n",
              "         -2.3888555, -2.3074667, -2.6869688, -2.6505084, -2.3427026,\n",
              "         -3.1316733, -2.709978 , -2.9573975], dtype=float32),\n",
              "  3,\n",
              "  'neutral'),\n",
              " ('jtimberlake good luck I have no doubt you will be hilarious. really hoping to see you dressed as some kind of foam food item  and go...',\n",
              "  array([-3.0390353, -2.2108574, -2.9956427, -1.8542267, -2.946506 ,\n",
              "         -2.5792508, -1.8847262, -2.648043 , -2.8181682, -2.472619 ,\n",
              "         -3.4840322, -2.6508439, -3.2297816], dtype=float32),\n",
              "  3,\n",
              "  'neutral'),\n",
              " (\"kateblogs It's never too late - they just need to buck their ideas up and stop being such a bunch of stuffy old reactionaries\",\n",
              "  array([-2.7166114, -2.296466 , -2.811587 , -2.0341933, -2.8129182,\n",
              "         -2.4421747, -2.0378046, -2.671466 , -2.750669 , -2.3458996,\n",
              "         -3.2444816, -2.7596254, -3.382111 ], dtype=float32),\n",
              "  3,\n",
              "  'neutral'),\n",
              " ('Excited for Rove tonight Jennifer Garner and Gina Riley',\n",
              "  array([-2.7976348, -2.6066074, -2.9186974, -1.987206 , -2.588666 ,\n",
              "         -2.6119766, -1.64106  , -2.8756738, -2.6282353, -2.641497 ,\n",
              "         -3.096872 , -2.971043 , -3.3349328], dtype=float32),\n",
              "  6,\n",
              "  'love'),\n",
              " ('oh no, gotta fillout more paperwork for my new job, daayum, this is going to take a while',\n",
              "  array([-2.7459605, -2.1534297, -2.9030988, -2.06663  , -2.9574277,\n",
              "         -2.361906 , -2.2540123, -2.478239 , -2.7667294, -2.4212708,\n",
              "         -3.1606941, -2.7427595, -3.1069336], dtype=float32),\n",
              "  3,\n",
              "  'neutral'),\n",
              " (\"JamesDReid i got coupons to Popeye's chicken but I'll probably end up getting a burrito at freshii - this salad joint. healthy\",\n",
              "  array([-2.8896809, -2.031627 , -2.88483  , -2.072546 , -2.9691558,\n",
              "         -2.450462 , -2.2655358, -2.7402263, -2.5504105, -2.4025393,\n",
              "         -3.2646189, -2.4832475, -3.34094  ], dtype=float32),\n",
              "  1,\n",
              "  'sadness'),\n",
              " (\"I'm going to see sweeney todd on stage with my best friend for her bday today (I know I'm going to be the one who sings along)\",\n",
              "  array([-2.6842136, -2.3047168, -2.8962588, -2.0554094, -2.9488678,\n",
              "         -2.2398791, -2.1230292, -2.7263694, -2.7728066, -2.2933352,\n",
              "         -3.2118723, -2.8128126, -3.1956415], dtype=float32),\n",
              "  3,\n",
              "  'neutral'),\n",
              " ('Damnation. I just woke up.',\n",
              "  array([-2.756755 , -2.2509737, -2.8016918, -2.0445876, -2.8488586,\n",
              "         -2.4680269, -2.2868967, -2.6738777, -2.6526952, -2.3839817,\n",
              "         -2.9628596, -2.6702614, -3.1170287], dtype=float32),\n",
              "  3,\n",
              "  'neutral'),\n",
              " (\"ha ha ha I slept in again, three days in a row must be a new personal best  today I'm going to attempt to finish my regluing my fans.\",\n",
              "  array([-2.8563595, -2.349679 , -2.8661437, -1.9234152, -2.7664542,\n",
              "         -2.5285203, -2.117094 , -2.7693324, -2.727682 , -2.3331716,\n",
              "         -3.1298518, -2.7347107, -3.0500667], dtype=float32),\n",
              "  3,\n",
              "  'neutral'),\n",
              " (\"aimeesays aww i hope it does fly by because JT episodes are usually really good (and it's early but so far this ep hassn't disappointed)\",\n",
              "  array([-2.9422338, -2.3608508, -3.045722 , -1.7610048, -2.7214959,\n",
              "         -2.6097379, -1.8679717, -2.6866236, -2.9044185, -2.4290075,\n",
              "         -3.474372 , -2.8533645, -3.217256 ], dtype=float32),\n",
              "  3,\n",
              "  'neutral'),\n",
              " (\"those secondary school cooking lessons came to good use today. I made shepherd's pie for my mama.\",\n",
              "  array([-2.5845027, -2.4765356, -2.9507656, -1.9358317, -2.8076165,\n",
              "         -2.5144634, -2.0487056, -2.6467986, -2.7483582, -2.4117515,\n",
              "         -3.0761142, -2.6972895, -3.3332407], dtype=float32),\n",
              "  3,\n",
              "  'neutral'),\n",
              " ('im so not feelinq this huqe ass pimple smack in the middle of my doom. it aint riqht man',\n",
              "  array([-3.0302079, -2.176008 , -3.1011488, -1.9549916, -3.0039468,\n",
              "         -2.3222947, -2.4645205, -2.6089704, -2.795782 , -2.1228743,\n",
              "         -3.2057848, -2.5723479, -3.0428028], dtype=float32),\n",
              "  3,\n",
              "  'neutral'),\n",
              " ('msmissy two. Just going to visit someone',\n",
              "  array([-3.001369 , -2.1941924, -2.9306645, -2.0113416, -2.8663764,\n",
              "         -2.1296632, -2.3249924, -2.7469268, -2.6733508, -2.3383176,\n",
              "         -3.0437462, -2.7693744, -3.2674522], dtype=float32),\n",
              "  3,\n",
              "  'neutral'),\n",
              " ('EugeniaChavez http://twitpic.com/4w1gg - love it',\n",
              "  array([-2.9387426, -2.7380824, -2.91182  , -2.028297 , -2.6424918,\n",
              "         -2.4925144, -1.5424982, -2.7619228, -2.7977312, -2.5779016,\n",
              "         -3.549965 , -2.6520848, -3.5259304], dtype=float32),\n",
              "  6,\n",
              "  'love'),\n",
              " ('quitsmokingdiary  5 Weeks tomorrow since giving up YAAAAAAYY                I dont want to talk about it',\n",
              "  array([-2.8873038, -2.057101 , -2.8757558, -2.0586252, -2.9203901,\n",
              "         -2.4507804, -2.2313907, -2.6512415, -2.755228 , -2.4160419,\n",
              "         -3.18173  , -2.5712903, -3.133937 ], dtype=float32),\n",
              "  1,\n",
              "  'sadness'),\n",
              " (\"Omg i'm going to robinson with tyler wfm. And i freakin miss anthony  ugh today kinda sucks. Lex&lt;3\",\n",
              "  array([-2.7127914, -2.1452086, -3.1600008, -1.9309058, -2.7704868,\n",
              "         -2.5017784, -2.165869 , -2.5504467, -2.7691867, -2.4559948,\n",
              "         -3.401816 , -2.5898867, -3.3506174], dtype=float32),\n",
              "  3,\n",
              "  'neutral'),\n",
              " ('is aching from rugby, good game',\n",
              "  array([-2.8225832, -2.2984474, -3.0442514, -2.0447218, -2.9372804,\n",
              "         -2.2158842, -1.9690311, -2.728256 , -2.9373248, -2.484168 ,\n",
              "         -3.1471238, -2.5730329, -3.2086377], dtype=float32),\n",
              "  6,\n",
              "  'love'),\n",
              " ('Time to wind down and relax a little.  I can only change the world a little through Twitter each evening.  The rest will be up to others.',\n",
              "  array([-2.6207576, -2.3771164, -2.8471828, -2.0618823, -2.9574056,\n",
              "         -2.4450667, -2.1096582, -2.5528574, -2.7881384, -2.3812854,\n",
              "         -3.081236 , -2.58034  , -3.3303034], dtype=float32),\n",
              "  3,\n",
              "  'neutral'),\n",
              " ('mexecution your right, it is a great plant  i love it',\n",
              "  array([-2.60211  , -2.7181015, -2.8673587, -2.0672617, -2.6610036,\n",
              "         -2.5481536, -1.8829083, -2.7413285, -2.5180101, -2.3252895,\n",
              "         -3.338571 , -2.810226 , -3.2777567], dtype=float32),\n",
              "  6,\n",
              "  'love'),\n",
              " (\"So, I finally got my but on Twitter. Let's hope I make good use of this site\",\n",
              "  array([-2.7859998, -2.483796 , -2.8674307, -1.9397912, -2.7971644,\n",
              "         -2.4586124, -1.8882521, -2.726551 , -2.7514338, -2.4226074,\n",
              "         -3.290257 , -2.7537389, -3.2820563], dtype=float32),\n",
              "  6,\n",
              "  'love'),\n",
              " ('gave clear explanations in my obtaining my car.',\n",
              "  array([-2.5483637, -2.309067 , -2.8817554, -2.1058095, -2.7777863,\n",
              "         -2.3287654, -2.424774 , -2.6203113, -2.7589474, -2.3835778,\n",
              "         -3.084494 , -2.5938256, -3.0424523], dtype=float32),\n",
              "  3,\n",
              "  'neutral'),\n",
              " ('wesleyadamquinn i missed the chicago show  boo me.',\n",
              "  array([-3.0058749, -2.3768864, -2.887278 , -1.8455472, -3.0544026,\n",
              "         -2.4002016, -1.9952514, -2.730598 , -2.710717 , -2.2952416,\n",
              "         -3.2055523, -2.8419116, -3.2464588], dtype=float32),\n",
              "  3,\n",
              "  'neutral'),\n",
              " (\"AndreaNBC13HD You're right....I'm 29 and  I've heard the song a time or two\",\n",
              "  array([-2.5318213, -2.4846487, -2.8789701, -1.9973238, -2.9290953,\n",
              "         -2.3964405, -2.150568 , -2.7090979, -2.6117923, -2.3460526,\n",
              "         -3.2072077, -2.6242223, -3.3347342], dtype=float32),\n",
              "  3,\n",
              "  'neutral'),\n",
              " ('I think today I shall listen to some Gary Numan before starting some remixes',\n",
              "  array([-2.5735283, -2.4134712, -2.8304496, -1.9627273, -2.7024825,\n",
              "         -2.540488 , -1.8824297, -2.8656654, -2.7459962, -2.4911318,\n",
              "         -3.1774778, -2.9081416, -3.3112993], dtype=float32),\n",
              "  6,\n",
              "  'love'),\n",
              " ('party in the beach',\n",
              "  array([-2.7610745, -2.516442 , -2.7925715, -1.7685571, -3.0255218,\n",
              "         -2.4725826, -2.045969 , -2.7610452, -2.7217216, -2.4854364,\n",
              "         -3.2016144, -2.7559066, -3.0898402], dtype=float32),\n",
              "  3,\n",
              "  'neutral'),\n",
              " ('paula_mcfly Haha Yeah, I heard they that Leicester won  I was home by my self, with a movie, some candy and a pizza..  Amazing evening',\n",
              "  array([-2.8302214, -2.3701117, -3.0119424, -1.9365468, -2.8119235,\n",
              "         -2.5090756, -1.9530619, -2.649673 , -2.7297974, -2.336145 ,\n",
              "         -3.322298 , -2.6894553, -3.3735802], dtype=float32),\n",
              "  3,\n",
              "  'neutral'),\n",
              " (\"Sometimes games are cruel because they're not real... like last night when I won $128,600 on Wheel of Fortune\",\n",
              "  array([-2.6172323, -2.194913 , -2.8880515, -1.9924276, -2.8724322,\n",
              "         -2.3373477, -2.2916682, -2.6943297, -2.8258982, -2.2662807,\n",
              "         -3.2911785, -2.6917944, -3.3865013], dtype=float32),\n",
              "  3,\n",
              "  'neutral'),\n",
              " ('OfficialBgizzle  Whaaaaaaaaaat?  Thas HOT B    Super nice',\n",
              "  array([-2.8736565, -2.7018063, -2.8249488, -1.8226683, -2.8189101,\n",
              "         -2.5300837, -1.7362149, -2.8337636, -2.8893094, -2.496023 ,\n",
              "         -3.2416627, -2.6161897, -3.4734044], dtype=float32),\n",
              "  6,\n",
              "  'love'),\n",
              " ('sallyLFC I did my best, it is Sunday after all',\n",
              "  array([-2.7118466, -2.4671662, -2.9373698, -1.9225912, -2.830012 ,\n",
              "         -2.6782827, -2.159027 , -2.5909917, -2.7276917, -2.2180226,\n",
              "         -3.3127606, -2.5755618, -3.1070735], dtype=float32),\n",
              "  3,\n",
              "  'neutral'),\n",
              " ('victoriax64 im sorry',\n",
              "  array([-2.890564 , -2.2337825, -2.999806 , -1.9868804, -2.7518523,\n",
              "         -2.4669878, -2.0429478, -2.7392693, -2.7728667, -2.4021637,\n",
              "         -2.962473 , -2.77867  , -3.2019253], dtype=float32),\n",
              "  3,\n",
              "  'neutral'),\n",
              " ('johnlacey had someone tell me tonight &quot;there are only 2 states to be in, QLD and Pissed&quot;',\n",
              "  array([-3.1357212, -1.865421 , -2.9522033, -2.290704 , -2.90759  ,\n",
              "         -2.4938903, -2.539399 , -2.3516345, -2.8413882, -2.142239 ,\n",
              "         -2.6695857, -2.9140363, -3.2784958], dtype=float32),\n",
              "  1,\n",
              "  'sadness'),\n",
              " ('denvy Oh whoops, my bad',\n",
              "  array([-2.7900794, -2.4324312, -2.9669666, -1.9604014, -2.7208092,\n",
              "         -2.4950197, -1.974463 , -2.8125458, -2.659207 , -2.316605 ,\n",
              "         -3.403923 , -2.697975 , -3.1677155], dtype=float32),\n",
              "  3,\n",
              "  'neutral'),\n",
              " ('Another two hours of work. Ugh. It goes by so slow. And im sore',\n",
              "  array([-2.957868 , -2.2403116, -2.7857528, -2.3288531, -2.8457997,\n",
              "         -2.2025585, -2.169424 , -2.4290912, -2.6142442, -2.4967132,\n",
              "         -3.2051249, -2.6974602, -3.0349207], dtype=float32),\n",
              "  6,\n",
              "  'love'),\n",
              " ('MikeyNEF mmmm... looks so yummy good seeing u',\n",
              "  array([-2.6235638, -2.217947 , -2.676106 , -2.0808473, -2.7303195,\n",
              "         -2.6363425, -1.8301817, -2.687047 , -3.0242505, -2.4925742,\n",
              "         -3.361143 , -2.7812006, -3.4504695], dtype=float32),\n",
              "  6,\n",
              "  'love'),\n",
              " ('AchtungMusic haha. I know. Why are you up so early, then?',\n",
              "  array([-2.8664863, -2.3663373, -2.7898095, -2.0994983, -2.9373748,\n",
              "         -2.3882337, -2.0669415, -2.790905 , -2.5963047, -2.2638397,\n",
              "         -3.1310897, -2.6314914, -3.258338 ], dtype=float32),\n",
              "  6,\n",
              "  'love'),\n",
              " (\"southbel took my computer in for a new dvd drive &amp; screen wouldn't come back on  Had to order new computer &amp; wait...\",\n",
              "  array([-2.974706 , -2.3979654, -3.0573032, -1.9344997, -2.783914 ,\n",
              "         -2.436381 , -2.137973 , -2.7868915, -2.7183444, -2.19562  ,\n",
              "         -3.1235518, -2.6854095, -3.0307865], dtype=float32),\n",
              "  3,\n",
              "  'neutral'),\n",
              " ('ReeceReece Kind of, good job though.  I know no better.  I might see you this Friday w/ Arbie.',\n",
              "  array([-2.9013238, -2.2887673, -3.0219996, -1.8424782, -2.7032056,\n",
              "         -2.4796863, -2.316447 , -2.5772872, -2.7830229, -2.1433535,\n",
              "         -3.3466158, -2.800305 , -3.3225718], dtype=float32),\n",
              "  3,\n",
              "  'neutral'),\n",
              " ('Goodmorning World',\n",
              "  array([-2.836329 , -2.3685172, -2.7908561, -1.8498083, -2.9121742,\n",
              "         -2.4365256, -1.9007772, -2.8269706, -2.887156 , -2.607369 ,\n",
              "         -3.2221804, -2.702886 , -3.1630764], dtype=float32),\n",
              "  3,\n",
              "  'neutral'),\n",
              " ('P-Nutt got a new collar and leash today  http://apps.facebook.com/dogbook/profile/view/1034415',\n",
              "  array([-2.5168598, -2.7057705, -2.949175 , -2.097464 , -2.713361 ,\n",
              "         -2.572986 , -1.6475934, -2.8207316, -2.7474914, -2.563785 ,\n",
              "         -3.2385526, -2.7704406, -3.2272553], dtype=float32),\n",
              "  6,\n",
              "  'love'),\n",
              " (\"just_kap But I think it's cute.  Do this every night okay?\",\n",
              "  array([-2.7400944, -2.3769102, -2.9064922, -1.9323475, -2.8627508,\n",
              "         -2.5097997, -1.9899924, -2.7082644, -2.8469234, -2.2520719,\n",
              "         -3.3735874, -2.741121 , -3.2337182], dtype=float32),\n",
              "  3,\n",
              "  'neutral'),\n",
              " ('94 more days till BH comes back to LA',\n",
              "  array([-3.0789719, -2.270073 , -2.8926506, -1.8269234, -2.9654095,\n",
              "         -2.4154263, -2.478602 , -2.7772348, -2.9072862, -2.0740962,\n",
              "         -2.9233584, -2.6801457, -3.1052608], dtype=float32),\n",
              "  3,\n",
              "  'neutral'),\n",
              " ('weathers let me down this morning...ugh...hada gd nite tho',\n",
              "  array([-3.035056 , -2.2577298, -3.1490817, -2.0210707, -2.7980242,\n",
              "         -2.2167895, -2.4360795, -2.5600512, -2.7158282, -2.317039 ,\n",
              "         -2.895493 , -2.7052674, -2.9876971], dtype=float32),\n",
              "  3,\n",
              "  'neutral'),\n",
              " ('shoptilldrop yeah I know what you mean, but the 1st season got me hooked and I HAVE to watch it now in case something BIG happens.',\n",
              "  array([-2.8193712, -2.4872532, -2.9126763, -2.0424595, -2.845955 ,\n",
              "         -2.5487955, -1.6840166, -2.8585806, -2.6099157, -2.4486022,\n",
              "         -3.3007765, -2.742666 , -3.419169 ], dtype=float32),\n",
              "  6,\n",
              "  'love'),\n",
              " ('gregmike saw that across the street for manuels. fur coats must be in short supply somewhere',\n",
              "  array([-2.7899966, -2.2064803, -2.7068326, -2.1317651, -2.7540476,\n",
              "         -2.3017511, -2.1835449, -2.7554264, -2.7144394, -2.4132447,\n",
              "         -3.0290809, -2.7558017, -3.3395073], dtype=float32),\n",
              "  3,\n",
              "  'neutral'),\n",
              " (\"ShadoWingh I'm only allergic to some bunnies. Are you allergic to all fur? That sucks Isn't that cosmic irony, a furry allergic to fur\",\n",
              "  array([-2.8407822, -2.2816436, -2.8895454, -1.8637887, -2.9705741,\n",
              "         -2.5359495, -2.2450829, -2.6837947, -2.640651 , -2.2640033,\n",
              "         -3.3364034, -2.6499608, -3.154289 ], dtype=float32),\n",
              "  3,\n",
              "  'neutral'),\n",
              " (\"Stuck on the 710 ... Going to my 2nd job ...  ... Why can't I find a good office job???\",\n",
              "  array([-2.9046547, -2.1266522, -2.899446 , -1.9006922, -2.8994465,\n",
              "         -2.5136619, -2.2904024, -2.448071 , -2.5783389, -2.4272292,\n",
              "         -3.285934 , -2.8165317, -3.3140888], dtype=float32),\n",
              "  3,\n",
              "  'neutral'),\n",
              " ('denisev3 it was a biligual sweatshop LOL I talk 2 him once in a while but not as much, he got an r6',\n",
              "  array([-3.1570635, -1.9163213, -2.8704503, -1.9620209, -3.1198485,\n",
              "         -2.53754  , -2.6208153, -2.3276956, -2.9424615, -2.18891  ,\n",
              "         -2.9512315, -2.8676314, -3.0860252], dtype=float32),\n",
              "  1,\n",
              "  'sadness'),\n",
              " ('Just got up from a nap.. Relaxing for the night',\n",
              "  array([-2.8655457, -2.2007852, -2.7574677, -1.9056327, -2.9842339,\n",
              "         -2.2996154, -2.2995598, -2.7841883, -2.6105494, -2.5393772,\n",
              "         -3.120621 , -2.6873894, -3.1560085], dtype=float32),\n",
              "  3,\n",
              "  'neutral'),\n",
              " ('preetishenoy good weather reminds me..I read your post on Sugar cane juice n other things..This weather calls for some of those things',\n",
              "  array([-2.862448 , -2.171232 , -3.010952 , -1.8944856, -3.0269134,\n",
              "         -2.289535 , -2.2706974, -2.691269 , -2.78366  , -2.3908806,\n",
              "         -3.106715 , -2.6063538, -3.3113105], dtype=float32),\n",
              "  3,\n",
              "  'neutral'),\n",
              " (\"jakeron I'm not trying to get more followers. I'm trying to get MORE INTERACTION\",\n",
              "  array([-2.7096796, -2.4683871, -2.7914646, -1.8642995, -3.0586028,\n",
              "         -2.619417 , -1.8315591, -2.6010382, -2.7635126, -2.4886584,\n",
              "         -3.307448 , -2.779256 , -3.3979897], dtype=float32),\n",
              "  6,\n",
              "  'love'),\n",
              " (\"james_a_michael Hey thanks for another great day I'm going to sleep now I'll chat with you tomorrow  Sweet dreams\",\n",
              "  array([-2.8906054, -2.6117268, -2.5014517, -1.8933749, -2.6198502,\n",
              "         -2.6994138, -1.8277403, -2.6602244, -2.7289743, -2.4785967,\n",
              "         -3.3858542, -2.9805577, -3.3815994], dtype=float32),\n",
              "  6,\n",
              "  'love'),\n",
              " ('snarkattack kicking it incredibly old-schoolÃ¯Â¿Â½ I whole-heartedly approved',\n",
              "  array([-3.0553362, -2.056824 , -2.976073 , -2.0001361, -3.038669 ,\n",
              "         -2.4334934, -2.1079483, -2.7378645, -2.6122503, -2.3777676,\n",
              "         -3.201009 , -2.6122484, -3.3054383], dtype=float32),\n",
              "  3,\n",
              "  'neutral'),\n",
              " ('Cleaning all day today after he runs off to do his stuff and setting my schedule for the week.  I feel much better now and calmer too',\n",
              "  array([-2.8458815, -2.1316   , -2.5895329, -2.0642917, -2.8791301,\n",
              "         -2.370959 , -2.164084 , -2.7754765, -2.845683 , -2.4901023,\n",
              "         -3.2412033, -2.765512 , -2.9661727], dtype=float32),\n",
              "  3,\n",
              "  'neutral'),\n",
              " ('Peddlee Haha... How could u? dun eat properly rt? see lar~ Go take medicine',\n",
              "  array([-2.8723433, -2.131232 , -3.034822 , -1.8099661, -2.9339914,\n",
              "         -2.3750353, -2.244059 , -2.7094898, -2.772952 , -2.3286471,\n",
              "         -3.2202244, -2.8241706, -3.3524737], dtype=float32),\n",
              "  3,\n",
              "  'neutral'),\n",
              " (\"the car's quality throughout and numerous features speaks for itself.\",\n",
              "  array([-2.6861815, -2.687952 , -2.8261795, -1.9503245, -2.793531 ,\n",
              "         -2.4662123, -1.8846767, -2.6907892, -2.5650141, -2.4042084,\n",
              "         -3.1999896, -2.9635322, -3.2994735], dtype=float32),\n",
              "  6,\n",
              "  'love'),\n",
              " ('listening to hardqueen after last nights Up from the Underground screening, awesome job latapia',\n",
              "  array([-2.5861707, -2.437523 , -2.9606736, -1.9004533, -2.8810763,\n",
              "         -2.5168378, -1.9705012, -2.702197 , -2.7723298, -2.3614144,\n",
              "         -3.2409625, -2.7827168, -3.3524914], dtype=float32),\n",
              "  3,\n",
              "  'neutral'),\n",
              " ('bgt What happened Greg  That was a rubbish follow up',\n",
              "  array([-2.7070355, -2.4732053, -2.7269688, -1.790166 , -2.740212 ,\n",
              "         -2.5463855, -2.213574 , -2.6030602, -2.7831082, -2.4901924,\n",
              "         -3.119142 , -2.7283025, -3.3225837], dtype=float32),\n",
              "  3,\n",
              "  'neutral'),\n",
              " ('LeviFig Already fixed that actually',\n",
              "  array([-2.7720485, -2.2084785, -3.0135999, -2.0524385, -3.024464 ,\n",
              "         -2.4007707, -2.2946126, -2.5824866, -2.7460349, -2.2261763,\n",
              "         -2.9192631, -2.7209282, -3.1574273], dtype=float32),\n",
              "  3,\n",
              "  'neutral'),\n",
              " ('tranceasleep if you could get down to easton, you could join us',\n",
              "  array([-2.7603455, -2.2767725, -3.0666764, -1.9379596, -3.1449585,\n",
              "         -2.3253434, -2.1423314, -2.626443 , -2.6693232, -2.3885782,\n",
              "         -3.2818794, -2.638266 , -3.1487565], dtype=float32),\n",
              "  3,\n",
              "  'neutral'),\n",
              " ('Finally off work',\n",
              "  array([-3.02651  , -2.0806234, -2.8654366, -1.9777893, -2.9916587,\n",
              "         -2.2890506, -2.3536096, -2.711361 , -2.6601713, -2.5204759,\n",
              "         -3.0543904, -2.751037 , -2.8660927], dtype=float32),\n",
              "  3,\n",
              "  'neutral'),\n",
              " ('jamie_oliver whats for breaky then, russtle something up for my hangover please our jamie lmao',\n",
              "  array([-2.9571505, -2.0262413, -3.0219126, -1.8798323, -2.840548 ,\n",
              "         -2.7583704, -2.1172316, -2.8995242, -2.4856563, -2.320095 ,\n",
              "         -3.1817374, -2.8472033, -3.3071086], dtype=float32),\n",
              "  3,\n",
              "  'neutral'),\n",
              " ('i was okay with waiting since they said they would wash and vacuum it in addition to the oil change and diagnosing the sound.',\n",
              "  array([-2.7460213, -2.277586 , -2.9609938, -1.9885762, -2.7877321,\n",
              "         -2.452379 , -2.3663988, -2.7507563, -2.5617492, -2.4926367,\n",
              "         -2.8101475, -2.5495493, -3.1915693], dtype=float32),\n",
              "  3,\n",
              "  'neutral'),\n",
              " ('brazilianlinda Whoops, totally read that wrong. Ahem. Yes, I am participating in the 10 day may madness. My ebook is up there.',\n",
              "  array([-2.6553233, -2.3235402, -3.0977407, -1.8936867, -2.8903108,\n",
              "         -2.57203  , -1.9883568, -2.5748973, -2.7833292, -2.4643717,\n",
              "         -3.2902195, -2.6344135, -3.3464775], dtype=float32),\n",
              "  3,\n",
              "  'neutral'),\n",
              " ('clemchaz Thank you so much  Have a fantastic day',\n",
              "  array([-2.754272 , -2.557055 , -2.6923594, -1.9774836, -2.6738524,\n",
              "         -2.8557658, -1.5206622, -2.9780524, -2.8799849, -2.892169 ,\n",
              "         -3.3497443, -2.644723 , -3.2440047], dtype=float32),\n",
              "  6,\n",
              "  'love'),\n",
              " ('wooh 100th tweet  i have no life xD',\n",
              "  array([-2.536846 , -2.3737164, -2.6576853, -2.0581012, -2.6835358,\n",
              "         -2.3873467, -1.8901851, -2.8320704, -2.784925 , -2.6846237,\n",
              "         -3.395049 , -2.7975807, -3.3427901], dtype=float32),\n",
              "  6,\n",
              "  'love'),\n",
              " (\"Just finished watching Star Trek in IMAX. . . Could've watched it all night. . . Live long and prosper\",\n",
              "  array([-2.9130177, -2.2923405, -2.9714801, -1.9277523, -2.9458156,\n",
              "         -2.3241858, -2.0406802, -2.6016667, -2.7101398, -2.4416804,\n",
              "         -3.296825 , -2.7617784, -3.2258441], dtype=float32),\n",
              "  3,\n",
              "  'neutral'),\n",
              " ('morning done my school work doing nothing all day now  what about u twitters',\n",
              "  array([-2.9300892, -2.2087543, -2.9099617, -1.9443028, -2.841109 ,\n",
              "         -2.5923245, -2.0129404, -2.771302 , -2.7263772, -2.2661252,\n",
              "         -3.2702863, -2.6871686, -3.3643394], dtype=float32),\n",
              "  3,\n",
              "  'neutral'),\n",
              " (\"ElJefe_GM That's the plan\",\n",
              "  array([-2.79296  , -2.4234025, -2.9886136, -1.892371 , -2.9146085,\n",
              "         -2.5570486, -2.025644 , -2.7211046, -2.6010866, -2.5001965,\n",
              "         -3.0959573, -2.5640192, -3.1914558], dtype=float32),\n",
              "  3,\n",
              "  'neutral'),\n",
              " ('andyclemmensen have you seen the game on the website? awesomness go on msn',\n",
              "  array([-2.9414544, -2.3901484, -2.5928617, -1.8933992, -2.7798877,\n",
              "         -2.5303447, -1.8217463, -2.8549364, -2.898575 , -2.6318095,\n",
              "         -3.2436962, -2.7795877, -3.191326 ], dtype=float32),\n",
              "  6,\n",
              "  'love'),\n",
              " ('PeachyPictures oh dear, I take back my request.... I get so drunk on fizz And I def do regret it the next day, sure fired hangover',\n",
              "  array([-2.865162 , -2.2791588, -3.128941 , -1.9201982, -2.9189472,\n",
              "         -2.5277243, -1.9913554, -2.644438 , -2.744205 , -2.2921722,\n",
              "         -3.2841651, -2.6479383, -3.343524 ], dtype=float32),\n",
              "  3,\n",
              "  'neutral'),\n",
              " ('lein_  Leiiin I can play the introoo',\n",
              "  array([-2.8177748, -2.2725427, -3.1162553, -1.9009326, -2.8901935,\n",
              "         -2.2872665, -2.2313216, -2.7061746, -2.6863866, -2.427342 ,\n",
              "         -3.1099272, -2.6241517, -3.2527208], dtype=float32),\n",
              "  3,\n",
              "  'neutral'),\n",
              " ('annyo84 we will  we shall meet somewhere between utah and indiana.',\n",
              "  array([-2.8399937, -2.2226486, -3.2090664, -1.8971262, -3.061029 ,\n",
              "         -2.3317778, -2.3352408, -2.69317  , -2.842723 , -2.2177603,\n",
              "         -2.9116597, -2.653132 , -3.158062 ], dtype=float32),\n",
              "  3,\n",
              "  'neutral'),\n",
              " ('studioyourcom on 14th of may we exist 5 years',\n",
              "  array([-2.6698718, -2.4837222, -2.8587189, -1.9051106, -3.0125437,\n",
              "         -2.2823422, -1.9457948, -2.6724286, -2.7991545, -2.5840702,\n",
              "         -3.155765 , -2.7971144, -3.2683299], dtype=float32),\n",
              "  3,\n",
              "  'neutral'),\n",
              " ('DavidArchie  the website is http://tinyurl.com/c7yojg  idk if the place is around ur area..',\n",
              "  array([-2.8357487, -2.394755 , -2.9851792, -1.6992701, -2.761036 ,\n",
              "         -2.4549284, -2.1624649, -2.7735898, -2.8729806, -2.3915803,\n",
              "         -3.2471788, -2.7205305, -3.2842126], dtype=float32),\n",
              "  3,\n",
              "  'neutral'),\n",
              " ('ARsexhair ohh heyyy',\n",
              "  array([-2.9094565, -2.3836079, -2.9555743, -1.8766577, -2.9780655,\n",
              "         -2.5569248, -1.9548229, -2.646566 , -2.5809903, -2.367167 ,\n",
              "         -3.390666 , -2.6669178, -3.3635323], dtype=float32),\n",
              "  3,\n",
              "  'neutral'),\n",
              " (\"blp2008 lol yep  tell rhonda i said happy mother's day\",\n",
              "  array([-2.6315413, -2.42972  , -2.9121318, -1.800171 , -2.685188 ,\n",
              "         -2.4971893, -2.126215 , -2.7954655, -2.7579813, -2.3672752,\n",
              "         -3.231605 , -2.795923 , -3.4503698], dtype=float32),\n",
              "  3,\n",
              "  'neutral'),\n",
              " ('i love my mommy',\n",
              "  array([-2.5703628, -2.8154845, -2.742563 , -1.8150694, -2.3872948,\n",
              "         -2.632876 , -1.752236 , -3.013114 , -2.6858983, -2.6448457,\n",
              "         -3.5647368, -3.1274428, -3.2493143], dtype=float32),\n",
              "  6,\n",
              "  'love'),\n",
              " ('i HATE U.S. history',\n",
              "  array([-2.8973885, -2.055835 , -2.7929533, -2.015184 , -2.8045492,\n",
              "         -2.4262528, -2.1394877, -2.7246423, -2.7572126, -2.527143 ,\n",
              "         -3.0792475, -2.8142862, -3.198384 ], dtype=float32),\n",
              "  3,\n",
              "  'neutral'),\n",
              " (\"LindseyMadonna I'm glad for you  I'm fine, thanks. Just another night full of M\",\n",
              "  array([-2.7171109, -2.5397863, -2.6004086, -2.1545267, -2.9262514,\n",
              "         -2.4838507, -1.725786 , -2.8175197, -2.6042752, -2.5437183,\n",
              "         -3.3088763, -2.7404785, -3.3127177], dtype=float32),\n",
              "  6,\n",
              "  'love'),\n",
              " ('my momma is comin 2night   2morrow tennis day with p?nar yuppie ',\n",
              "  array([-2.8765335, -2.0681648, -2.8310902, -2.0428226, -2.909428 ,\n",
              "         -2.5102124, -2.1189232, -2.6241608, -2.8358037, -2.5203958,\n",
              "         -2.8676991, -2.7293582, -3.2433515], dtype=float32),\n",
              "  3,\n",
              "  'neutral'),\n",
              " ('Gernika Had lunch at Bittercreek, they were out of Hopnoxious  Had Sweetgrass IPA tho, so all is still right in the world.',\n",
              "  array([-2.740305 , -2.435927 , -2.9166458, -1.831061 , -2.9081159,\n",
              "         -2.2178848, -2.3481402, -2.8667374, -2.6824293, -2.2654095,\n",
              "         -3.0715308, -2.7327788, -3.3769002], dtype=float32),\n",
              "  3,\n",
              "  'neutral'),\n",
              " (\"etherjammer  I think it's because I'm always offtopic and sometimes inappropriate (germination and &quot;fruit picking&quot; jokes, etc)\",\n",
              "  array([-2.8873696, -2.2080152, -2.9971442, -1.8536986, -3.0504968,\n",
              "         -2.4759333, -2.1289375, -2.6139953, -2.656855 , -2.336834 ,\n",
              "         -3.3561456, -2.7164807, -3.3140168], dtype=float32),\n",
              "  3,\n",
              "  'neutral'),\n",
              " ('bed...sorta. today was good, sara has strep thought Angelina does to; i shared a water with her B4 they told me, i will prob get it to',\n",
              "  array([-2.8587894, -2.1895862, -3.0204291, -2.0677824, -3.01184  ,\n",
              "         -2.3362267, -2.4928663, -2.4552698, -2.4978616, -2.272591 ,\n",
              "         -3.1034303, -2.6425934, -3.227157 ], dtype=float32),\n",
              "  3,\n",
              "  'neutral'),\n",
              " (\"ddlovato You're one very talented singer, dancer and actress. Love your songs. I look forward to your next album. Cheers from the East\",\n",
              "  array([-2.6514115, -2.6001647, -2.8313532, -1.9389331, -2.7701616,\n",
              "         -2.8347363, -1.568948 , -2.8227415, -2.822842 , -2.5730085,\n",
              "         -3.3437843, -2.7486553, -3.566854 ], dtype=float32),\n",
              "  6,\n",
              "  'love'),\n",
              " ('FoxWhisperer  My Dad worked for SW when I graduated HS. Worked at HOU 21 years.   He retired 3 years before I joined the Company.',\n",
              "  array([-2.7106504, -2.0990555, -2.789719 , -2.0971942, -2.979849 ,\n",
              "         -2.3540916, -2.328577 , -2.6221058, -2.7355266, -2.5493617,\n",
              "         -2.9947467, -2.6157584, -3.1082714], dtype=float32),\n",
              "  3,\n",
              "  'neutral'),\n",
              " ('SkinnyInTheCity Good to hear... several of my peeps are working tonight...',\n",
              "  array([-2.5472524, -2.4220948, -2.996161 , -1.8445433, -2.7605457,\n",
              "         -2.4978867, -1.9736626, -2.884675 , -2.9153938, -2.4774342,\n",
              "         -3.0660167, -2.7526498, -3.322853 ], dtype=float32),\n",
              "  3,\n",
              "  'neutral'),\n",
              " ('angiemartinez happy mothers day ang',\n",
              "  array([-2.665001 , -2.6734366, -2.9710321, -1.8954935, -2.736979 ,\n",
              "         -2.7115827, -1.5377206, -2.8963618, -2.8145404, -2.510388 ,\n",
              "         -3.285407 , -2.9127212, -3.662119 ], dtype=float32),\n",
              "  6,\n",
              "  'love'),\n",
              " ('Hmmm.. If I skip the grocery store and head to Walmart, I could potentially leave with so much more.',\n",
              "  array([-2.8631597, -2.3700771, -2.8414583, -1.9681268, -3.015111 ,\n",
              "         -2.4873292, -2.0932639, -2.5602906, -2.5517607, -2.3844802,\n",
              "         -3.0707207, -2.7003758, -3.3526402], dtype=float32),\n",
              "  3,\n",
              "  'neutral'),\n",
              " (\"finally getting sleepy right when the sky brightens ... figures G'nimorning\",\n",
              "  array([-2.8447077, -2.1383798, -2.8358521, -2.0110087, -2.9524596,\n",
              "         -2.3564968, -2.2554154, -2.7251124, -2.7612722, -2.3618016,\n",
              "         -3.035088 , -2.823547 , -3.0114036], dtype=float32),\n",
              "  3,\n",
              "  'neutral'),\n",
              " (\"ItS fRiDaY... I cAn'T wAiT tO bE dOnE wItH wOrK Stuck here till 11\",\n",
              "  array([-2.8197687, -2.2378988, -2.8343232, -1.970403 , -3.1208982,\n",
              "         -2.5352666, -2.3464665, -2.6525328, -2.552762 , -2.16264  ,\n",
              "         -2.969829 , -2.8704305, -3.0982587], dtype=float32),\n",
              "  3,\n",
              "  'neutral'),\n",
              " ('everyone vote for mileycyrus for the mtv movie awards coz my comp is mashed up and wont let me vote  i will somehow',\n",
              "  array([-2.6900005, -2.438263 , -2.7817717, -2.1071475, -2.9531517,\n",
              "         -2.5949483, -1.8949604, -2.5956686, -2.9671755, -2.053832 ,\n",
              "         -3.2428577, -2.771185 , -3.5678012], dtype=float32),\n",
              "  6,\n",
              "  'love'),\n",
              " ('Good morning World   This will be another wonderfull day, starting with breakfst with champions...  my kids ofcourse',\n",
              "  array([-2.8006148, -2.2887104, -2.802794 , -2.0008793, -2.7031455,\n",
              "         -2.6646318, -1.9555068, -2.7664988, -2.6537175, -2.3880098,\n",
              "         -3.2230954, -2.811077 , -3.2491689], dtype=float32),\n",
              "  6,\n",
              "  'love'),\n",
              " ('irishprincess41 it was great to meet ya katie...awesome shows for sure Safe travels home.',\n",
              "  array([-2.7967176, -2.2893486, -2.946084 , -2.2185123, -2.9018247,\n",
              "         -2.5808835, -1.8185312, -2.704159 , -2.774115 , -2.08725  ,\n",
              "         -3.2089124, -2.8082707, -3.5274704], dtype=float32),\n",
              "  6,\n",
              "  'love'),\n",
              " ('fotogypc What kind of help do you need with Machine embroidery?  I may bea able to help',\n",
              "  array([-2.8567472, -2.0448284, -3.0644994, -1.9954104, -3.0097084,\n",
              "         -2.4641387, -1.9775171, -2.7179635, -2.8206878, -2.3418446,\n",
              "         -3.2316916, -2.7716458, -3.383369 ], dtype=float32),\n",
              "  6,\n",
              "  'love'),\n",
              " ('Captain Jack is back',\n",
              "  array([-2.7402873, -2.2473302, -2.8764973, -1.9732901, -2.8460672,\n",
              "         -2.53614  , -2.099288 , -2.7651064, -2.6826797, -2.468707 ,\n",
              "         -3.1552343, -2.703487 , -3.0158136], dtype=float32),\n",
              "  3,\n",
              "  'neutral'),\n",
              " ('am now wearing the other half of the glass of sparking wine',\n",
              "  array([-2.8216338, -2.2392654, -2.874043 , -2.0599267, -2.7975793,\n",
              "         -2.4893265, -2.1388679, -2.7589333, -2.5003412, -2.4610417,\n",
              "         -2.9385052, -2.8851004, -3.020978 ], dtype=float32),\n",
              "  3,\n",
              "  'neutral'),\n",
              " ('with emma  going 2 see diversity today :O  x',\n",
              "  array([-2.7634668, -2.2596679, -3.0020394, -1.9257913, -2.9841018,\n",
              "         -2.4739532, -1.8875059, -2.8796828, -2.6991386, -2.4685278,\n",
              "         -3.3394094, -2.735987 , -3.1606631], dtype=float32),\n",
              "  6,\n",
              "  'love'),\n",
              " ('WerewolfSeth I wanted to see it until I saw that it was PG 13. That totally bummed me out.',\n",
              "  array([-2.691336 , -2.2791433, -2.8110611, -1.9371041, -2.9187407,\n",
              "         -2.5773904, -2.1509116, -2.8529181, -2.6081097, -2.3373935,\n",
              "         -3.3139157, -2.5853674, -3.2300909], dtype=float32),\n",
              "  3,\n",
              "  'neutral'),\n",
              " (\"Sleeeeeeeepy.... I'm off... Goodnight twitterverse\",\n",
              "  array([-2.8959672, -2.530487 , -2.8004482, -2.0308943, -2.8443766,\n",
              "         -2.532219 , -1.6142831, -2.9083633, -2.8296952, -2.4834712,\n",
              "         -3.1938772, -2.7790523, -3.3162603], dtype=float32),\n",
              "  6,\n",
              "  'love'),\n",
              " ('RAVERJONO good, good.  what could it be then? :o',\n",
              "  array([-2.9012573, -2.3011403, -2.9105887, -1.9508135, -2.8540714,\n",
              "         -2.3181734, -2.440344 , -2.823679 , -2.5535488, -2.2618904,\n",
              "         -2.9727988, -2.7368603, -3.0401669], dtype=float32),\n",
              "  3,\n",
              "  'neutral'),\n",
              " ('sagetune lucky you They are my favorite flowers ever and they only come around once a year. Wish twitter had a scratch and sniff option',\n",
              "  array([-2.6996207, -2.6978452, -2.8692248, -2.0343432, -2.765025 ,\n",
              "         -2.634167 , -1.7935379, -2.5819182, -2.794587 , -2.3202481,\n",
              "         -3.2268064, -2.7970822, -3.191853 ], dtype=float32),\n",
              "  6,\n",
              "  'love'),\n",
              " ('All right, time for happy face.',\n",
              "  array([-2.50835  , -2.5382104, -2.789023 , -1.9468167, -2.8983483,\n",
              "         -2.6163225, -1.8485359, -2.908195 , -2.6610067, -2.4280312,\n",
              "         -3.4631853, -2.691143 , -3.271945 ], dtype=float32),\n",
              "  6,\n",
              "  'love'),\n",
              " (\"Mrjaydeeone yes I've been told that I have a problem with stuff like that\",\n",
              "  array([-2.947804 , -2.2383828, -2.9271102, -1.9283134, -2.9555583,\n",
              "         -2.356099 , -2.4787118, -2.549325 , -2.7467322, -2.184803 ,\n",
              "         -3.0665169, -2.6782212, -3.1883488], dtype=float32),\n",
              "  3,\n",
              "  'neutral'),\n",
              " ('i miss everyone... i need faces  , not witty situational updates, but these will do...',\n",
              "  array([-2.7918088, -2.5191905, -2.8799567, -2.0705023, -2.81602  ,\n",
              "         -2.288341 , -1.7340064, -2.7565236, -2.9045734, -2.5808084,\n",
              "         -3.3747666, -2.6687546, -3.206704 ], dtype=float32),\n",
              "  6,\n",
              "  'love'),\n",
              " ('stevelensink thanks stephen, appreciate it',\n",
              "  array([-2.6172533, -2.7254   , -2.6578925, -1.9890462, -2.4101222,\n",
              "         -2.5524077, -2.0390148, -2.6961226, -2.6643453, -2.4274125,\n",
              "         -3.427313 , -2.8281476, -3.2257185], dtype=float32),\n",
              "  3,\n",
              "  'neutral'),\n",
              " (\"Just funny sitting here with external keyboard, mouse, and macbook on bed  just looks strange but it's comfortable\",\n",
              "  array([-2.9452815, -2.1730304, -2.9471774, -1.8987439, -3.047369 ,\n",
              "         -2.4642985, -2.3855183, -2.58165  , -2.782365 , -2.1377797,\n",
              "         -3.0777202, -2.6581733, -3.3482656], dtype=float32),\n",
              "  3,\n",
              "  'neutral'),\n",
              " ('News of the Wierd is so entertaining',\n",
              "  array([-2.571907 , -2.4816093, -2.798809 , -1.9827296, -2.518296 ,\n",
              "         -2.4325995, -2.1287715, -3.0924537, -2.626893 , -2.3775148,\n",
              "         -3.364727 , -2.6310475, -3.2971287], dtype=float32),\n",
              "  3,\n",
              "  'neutral'),\n",
              " ('telltammy I tried both. twittascope is unstoppable.',\n",
              "  array([-2.776146 , -2.3689985, -2.8607898, -1.9930755, -2.9874012,\n",
              "         -2.443331 , -2.1542358, -2.657704 , -2.6220856, -2.5632427,\n",
              "         -2.9695306, -2.5041633, -3.1126893], dtype=float32),\n",
              "  3,\n",
              "  'neutral'),\n",
              " ('smilyross Do tell...',\n",
              "  array([-2.8746593, -2.5263116, -2.9183924, -2.0999038, -2.7609642,\n",
              "         -2.179752 , -2.2034826, -2.6921163, -2.4648228, -2.3596804,\n",
              "         -3.158563 , -2.7435122, -3.071278 ], dtype=float32),\n",
              "  3,\n",
              "  'neutral'),\n",
              " (\"Damn, I never knew I could miss my phone so much for 4 hours till they told me I won't have it back till then\",\n",
              "  array([-2.8915758, -2.0978608, -2.8515408, -2.1128216, -3.0117276,\n",
              "         -2.378061 , -2.1661005, -2.8142362, -2.5664396, -2.3375933,\n",
              "         -2.9703732, -2.8384647, -3.135866 ], dtype=float32),\n",
              "  1,\n",
              "  'sadness'),\n",
              " ('Please visit http://vzerohost.com/info and sign up to alpha test my image hosting service',\n",
              "  array([-2.6076784, -2.7452178, -2.9116552, -1.8980418, -2.6501486,\n",
              "         -2.7564201, -1.7648615, -2.715358 , -2.6676965, -2.4547698,\n",
              "         -3.417576 , -2.7213295, -3.429983 ], dtype=float32),\n",
              "  6,\n",
              "  'love'),\n",
              " ('trying to finish my ass-ignment.please god help me to finish it',\n",
              "  array([-2.8196425, -2.1350546, -2.997684 , -1.9997001, -2.8261404,\n",
              "         -2.3947468, -2.1858487, -2.7038093, -2.7846782, -2.3474188,\n",
              "         -2.9599304, -2.8361318, -3.237859 ], dtype=float32),\n",
              "  3,\n",
              "  'neutral'),\n",
              " (\"I really don't want a limo service to take me to the airport  I want him to. Ok soft moment... Don't get use to these\",\n",
              "  array([-2.9624157, -2.5036764, -3.0493078, -2.062634 , -2.8906736,\n",
              "         -2.4011354, -2.0742683, -2.6007147, -2.6175287, -2.0606563,\n",
              "         -3.1895552, -2.7516758, -3.2033753], dtype=float32),\n",
              "  9,\n",
              "  'happiness'),\n",
              " ('I dont care what kind of graphics or engines video games have nowadays. They are nothing compared to The Oregon Trail and Carmen Sandiego',\n",
              "  array([-2.4600835, -2.46387  , -2.8731248, -2.0605967, -2.4970407,\n",
              "         -2.5509243, -1.7088389, -2.8928332, -2.7581964, -2.7853491,\n",
              "         -3.312478 , -2.9269674, -3.392158 ], dtype=float32),\n",
              "  6,\n",
              "  'love'),\n",
              " (\"watching Star Trek and next to watch it at the movie theater 'cause the movie is really worth it...\",\n",
              "  array([-2.7731695, -2.4387736, -2.9533854, -1.884801 , -2.713896 ,\n",
              "         -2.6450076, -2.0578854, -2.9162476, -2.3636615, -2.4951446,\n",
              "         -3.1809983, -2.8115606, -3.0182168], dtype=float32),\n",
              "  3,\n",
              "  'neutral'),\n",
              " ('This chair is not comfortable at all',\n",
              "  array([-2.765107 , -2.2507284, -2.786725 , -1.9050705, -2.9321072,\n",
              "         -2.3098047, -2.344355 , -2.7199523, -2.7258296, -2.5022898,\n",
              "         -2.9696913, -2.7551785, -3.1096787], dtype=float32),\n",
              "  3,\n",
              "  'neutral'),\n",
              " (\"omg, my right hear us blocked and it's so annoying. what i i wake up deaf?\",\n",
              "  array([-3.0955677, -2.1428134, -3.0481272, -1.9688202, -3.3253112,\n",
              "         -2.2810187, -2.265778 , -2.733777 , -2.714936 , -2.1765454,\n",
              "         -3.24081  , -2.522159 , -3.1137729], dtype=float32),\n",
              "  3,\n",
              "  'neutral'),\n",
              " ('windminstrel Work.',\n",
              "  array([-2.8406081, -2.3261428, -2.8866446, -2.0921743, -2.7890644,\n",
              "         -2.3018842, -1.9754848, -2.696973 , -2.6783466, -2.4048111,\n",
              "         -3.2472749, -2.8575556, -3.1735137], dtype=float32),\n",
              "  6,\n",
              "  'love'),\n",
              " ('finally gonna get sum sleep  that concert was crazy God Bless those ministers',\n",
              "  array([-2.641518 , -2.4338188, -2.7362545, -1.9696412, -3.0304565,\n",
              "         -2.6144705, -1.9358281, -2.6618433, -2.7542708, -2.3496397,\n",
              "         -3.2838006, -2.7190769, -3.2539358], dtype=float32),\n",
              "  6,\n",
              "  'love'),\n",
              " ('I am slowly getting angry at this Jon and Kate Plus 8 thing',\n",
              "  array([-2.7721694, -2.3465626, -2.829428 , -2.0104506, -3.0052924,\n",
              "         -2.4385338, -1.9865878, -2.6111689, -2.7828333, -2.3371341,\n",
              "         -3.2766852, -2.6865735, -3.2956815], dtype=float32),\n",
              "  6,\n",
              "  'love'),\n",
              " ('bsweichsel That was like eight years ago. Not so sure it would happen now',\n",
              "  array([-2.8694644, -2.0247548, -2.972203 , -2.1042905, -3.0680423,\n",
              "         -2.3459218, -2.3646622, -2.7565155, -2.7327724, -2.3073196,\n",
              "         -2.940123 , -2.5900788, -3.080909 ], dtype=float32),\n",
              "  1,\n",
              "  'sadness'),\n",
              " ('southernbell361 Yeah, Jimmy Fallon is back to do a skit. Yay',\n",
              "  array([-2.736186 , -2.455104 , -3.001783 , -2.0360308, -2.5401783,\n",
              "         -2.8564138, -1.6292876, -2.703567 , -2.7164116, -2.577141 ,\n",
              "         -3.5982246, -2.7867088, -3.2538881], dtype=float32),\n",
              "  6,\n",
              "  'love'),\n",
              " (\"MsNewAppearance Hey, thanx for following me, I'll follow you\",\n",
              "  array([-2.8550005, -2.6170516, -3.0149014, -1.8274229, -2.5893283,\n",
              "         -2.5432918, -1.7730422, -2.8956146, -2.6767309, -2.4776294,\n",
              "         -3.4390895, -2.7708704, -3.4004338], dtype=float32),\n",
              "  6,\n",
              "  'love'),\n",
              " (\"BrisvegasLukass yes I do I'll try posting some pics when I can\",\n",
              "  array([-2.7192957, -2.4645667, -2.743041 , -2.101156 , -2.8020713,\n",
              "         -2.5329447, -1.845526 , -2.7121966, -2.6149156, -2.4112868,\n",
              "         -3.331956 , -2.6793458, -3.4835937], dtype=float32),\n",
              "  6,\n",
              "  'love'),\n",
              " ('Robert_day26 ~ Awwwww have fun with the fam boo boo',\n",
              "  array([-2.7259967, -2.4353113, -2.8730714, -1.9176153, -2.7389796,\n",
              "         -2.5809188, -1.8624994, -2.7976713, -2.7458253, -2.3930726,\n",
              "         -3.5141253, -2.716473 , -3.3392148], dtype=float32),\n",
              "  6,\n",
              "  'love'),\n",
              " ('Slipped up and caught the flu  feeling like poop',\n",
              "  array([-2.8209648, -2.1790533, -3.0665736, -1.9796398, -2.9775712,\n",
              "         -2.3149168, -2.4774723, -2.6899357, -2.6496336, -2.315344 ,\n",
              "         -3.0957124, -2.5438957, -3.039469 ], dtype=float32),\n",
              "  3,\n",
              "  'neutral'),\n",
              " (\"Anthony's pretty wicked too.\",\n",
              "  array([-2.676505 , -2.4098122, -2.7974677, -2.0537407, -2.803523 ,\n",
              "         -2.3354852, -2.1843247, -2.7900138, -2.6664205, -2.3831718,\n",
              "         -3.1383224, -2.6068606, -3.1716785], dtype=float32),\n",
              "  3,\n",
              "  'neutral'),\n",
              " ('Friday tubes at work are slow..',\n",
              "  array([-2.8700438, -2.3839881, -2.6691341, -1.929262 , -2.8615804,\n",
              "         -2.2116895, -2.1721642, -2.6153603, -2.6879818, -2.4815345,\n",
              "         -3.1428409, -3.0667696, -3.1839075], dtype=float32),\n",
              "  3,\n",
              "  'neutral'),\n",
              " (\"octoberalex Hmm. Did you mean to start &quot;following&quot; me? Oh and g'morning by the way\",\n",
              "  array([-2.752911 , -2.2642343, -2.8617837, -1.8278795, -3.0452626,\n",
              "         -2.3606775, -2.455048 , -2.7889035, -2.5828042, -2.413136 ,\n",
              "         -2.956828 , -2.7160478, -3.171877 ], dtype=float32),\n",
              "  3,\n",
              "  'neutral'),\n",
              " ('andyramdin Good to see you hear as well, Andy',\n",
              "  array([-2.7146385, -2.401043 , -2.9561515, -1.9753767, -2.589399 ,\n",
              "         -2.5751376, -1.940479 , -2.7831986, -2.710969 , -2.4604757,\n",
              "         -3.3785787, -2.7468226, -3.0869248], dtype=float32),\n",
              "  6,\n",
              "  'love'),\n",
              " ('http://twitpic.com/66mw1 - My poor car',\n",
              "  array([-2.7441268, -2.6301363, -2.7932324, -2.181803 , -2.3523865,\n",
              "         -2.674273 , -1.6370991, -2.8353457, -2.8087006, -2.7075944,\n",
              "         -3.4563198, -2.4661767, -3.5477042], dtype=float32),\n",
              "  6,\n",
              "  'love'),\n",
              " ('I love the video for Da Funk by Daft Punk',\n",
              "  array([-2.61537  , -2.7366738, -2.7086267, -1.8144109, -2.8014884,\n",
              "         -2.470353 , -1.7574078, -2.8346272, -2.794468 , -2.6011403,\n",
              "         -3.3064814, -2.988912 , -3.3907957], dtype=float32),\n",
              "  6,\n",
              "  'love'),\n",
              " ('HAPPY MOTHERS DAY MOM',\n",
              "  array([-2.5514567, -2.8771772, -3.019876 , -2.1351533, -2.7730494,\n",
              "         -2.8508615, -1.4684268, -2.9506931, -2.657679 , -2.518796 ,\n",
              "         -3.275827 , -2.692081 , -3.2275248], dtype=float32),\n",
              "  6,\n",
              "  'love'),\n",
              " (\"ankurb Just kidding Don't go around quoting me\",\n",
              "  array([-2.773132 , -2.4866772, -2.7409067, -1.878743 , -2.663329 ,\n",
              "         -2.5407972, -2.0846832, -2.6720428, -2.7711835, -2.420295 ,\n",
              "         -3.307312 , -2.7406342, -3.15942  ], dtype=float32),\n",
              "  3,\n",
              "  'neutral'),\n",
              " ('http://twitpic.com/6661g - is on her last day at METRO magazine  Ta-ta, dream job. (PS: June issue out now. Czech it out)',\n",
              "  array([-2.7304394, -2.3014665, -2.934067 , -1.9575287, -2.9657366,\n",
              "         -2.5221202, -1.9340816, -2.8642812, -2.786268 , -2.3598316,\n",
              "         -3.1729732, -2.695816 , -3.1829257], dtype=float32),\n",
              "  6,\n",
              "  'love'),\n",
              " (\"Mingo123 SUFFICATION NO BREATHING. It's okay. There'll be more. You're invited to mine, but I can't promise fun times.  *Jinx\",\n",
              "  array([-2.8920436, -2.466127 , -3.0330515, -1.8094374, -2.9807572,\n",
              "         -2.3685453, -2.0484052, -2.7049446, -2.830534 , -2.3975582,\n",
              "         -3.086584 , -2.6099975, -3.259428 ], dtype=float32),\n",
              "  3,\n",
              "  'neutral'),\n",
              " ('Ugh have to report again monday',\n",
              "  array([-2.9635253, -2.2130365, -2.9627943, -1.7770685, -2.8477802,\n",
              "         -2.4608967, -2.3204732, -2.7866724, -2.8016212, -2.4496973,\n",
              "         -2.9454074, -2.7294753, -2.9929724], dtype=float32),\n",
              "  3,\n",
              "  'neutral'),\n",
              " ('Very bad things.......I need to stop thinking',\n",
              "  array([-2.832562 , -2.3013592, -2.7712893, -2.0667558, -2.8428555,\n",
              "         -2.4168408, -2.1812823, -2.727035 , -2.4903553, -2.5044088,\n",
              "         -3.1474302, -2.5927882, -3.1306663], dtype=float32),\n",
              "  3,\n",
              "  'neutral'),\n",
              " ('OMG... Folding my laundry and matched ALL socks to its perfect pair  Good laundry folding day it is',\n",
              "  array([-2.929947 , -2.1507058, -2.8055358, -2.0012374, -2.995264 ,\n",
              "         -2.5110943, -2.2314355, -2.6296792, -2.7925868, -2.2305114,\n",
              "         -3.0808923, -2.6711688, -3.2175803], dtype=float32),\n",
              "  3,\n",
              "  'neutral'),\n",
              " ('what a total bummer, i lost followers',\n",
              "  array([-2.8826063, -2.2820902, -2.9764638, -1.9683269, -2.943475 ,\n",
              "         -2.2498353, -2.237655 , -2.699768 , -2.6006837, -2.4997072,\n",
              "         -3.0893745, -2.6605916, -3.0474477], dtype=float32),\n",
              "  3,\n",
              "  'neutral'),\n",
              " ('Just got a Ipod touch  Downloading apps for it now.',\n",
              "  array([-2.9755275, -2.154252 , -2.8500724, -1.9390845, -3.1293492,\n",
              "         -2.256096 , -2.3468468, -2.8016992, -2.8338258, -2.3033566,\n",
              "         -2.9815612, -2.5676358, -3.211625 ], dtype=float32),\n",
              "  3,\n",
              "  'neutral'),\n",
              " ('The usual. Two family parties today. Happy Birthday Lily  http://twitpic.com/4w472',\n",
              "  array([-2.832395 , -2.7077823, -2.789455 , -2.0366368, -2.3584654,\n",
              "         -2.5077956, -1.8374326, -2.8439467, -2.7077177, -2.5871754,\n",
              "         -3.29171  , -2.7073157, -3.1404958], dtype=float32),\n",
              "  6,\n",
              "  'love'),\n",
              " ('booandginger Thats good  Keep it up guys Would love to come down and visit sonetime',\n",
              "  array([-2.8121886, -2.3549044, -3.0679746, -2.043075 , -2.7598653,\n",
              "         -2.5759497, -1.8593593, -2.7194366, -2.622675 , -2.3564036,\n",
              "         -3.3022914, -2.7497723, -3.2263217], dtype=float32),\n",
              "  6,\n",
              "  'love'),\n",
              " (\"ethmet Hello  ...hehe yup we sure do ...lovely to 'see' you xx\",\n",
              "  array([-2.5425162, -2.4839263, -2.8632283, -1.993747 , -2.898674 ,\n",
              "         -2.7106082, -1.9206687, -2.7824595, -2.5773768, -2.3317146,\n",
              "         -3.2962637, -2.705284 , -3.2784624], dtype=float32),\n",
              "  6,\n",
              "  'love'),\n",
              " ('Cant wait to see my boy tomorrow',\n",
              "  array([-2.6249628, -2.4036658, -2.7627892, -1.9590614, -2.8819954,\n",
              "         -2.3405287, -2.1647856, -2.7457113, -2.6551433, -2.3688593,\n",
              "         -3.2217958, -2.8917089, -3.1571288], dtype=float32),\n",
              "  3,\n",
              "  'neutral'),\n",
              " ('Ryanimay Welcome home  Glad you made it home safe',\n",
              "  array([-2.6052191, -2.6854692, -2.9168584, -1.9362934, -2.5776892,\n",
              "         -2.7877097, -1.877794 , -2.4824724, -2.880621 , -2.4340024,\n",
              "         -3.2740502, -2.6597936, -3.381174 ], dtype=float32),\n",
              "  6,\n",
              "  'love'),\n",
              " ('TODAY IS A GOOD DAY BUT ITS COLD',\n",
              "  array([-2.8167825, -2.081387 , -2.7667055, -1.9428589, -2.9898252,\n",
              "         -2.367644 , -2.331993 , -2.67691  , -2.8129811, -2.2677696,\n",
              "         -2.9852157, -2.994851 , -3.3448267], dtype=float32),\n",
              "  3,\n",
              "  'neutral'),\n",
              " (\"It was my fault for leaving my flip-flops outside my locker while swimming at USF Koret but why oh why would you want to take 'em? #R2IMT\",\n",
              "  array([-2.8513746, -2.1726582, -2.939167 , -2.0527172, -3.0716085,\n",
              "         -2.3006277, -2.0426352, -2.576775 , -2.832598 , -2.4187381,\n",
              "         -3.252001 , -2.582233 , -3.4227648], dtype=float32),\n",
              "  6,\n",
              "  'love'),\n",
              " ('flomingo that sounds cool post video',\n",
              "  array([-2.6560373, -2.2529438, -2.8941126, -1.8573021, -3.010086 ,\n",
              "         -2.37613  , -2.2228127, -2.6037378, -2.9190755, -2.3192058,\n",
              "         -3.2076716, -2.8427792, -3.2781873], dtype=float32),\n",
              "  3,\n",
              "  'neutral'),\n",
              " ('novahalle i love everrything from breadtalk  i would eat the whole place if i could',\n",
              "  array([-2.8303714, -2.377897 , -2.8846538, -1.8474181, -2.8818345,\n",
              "         -2.3509827, -1.9923751, -2.7301407, -2.7596436, -2.5614915,\n",
              "         -3.0815094, -2.7935681, -3.3737485], dtype=float32),\n",
              "  3,\n",
              "  'neutral'),\n",
              " ('BB517  lol he does love spahkly gold things....',\n",
              "  array([-2.9268453, -1.9638551, -2.9666457, -2.238817 , -2.9434109,\n",
              "         -2.2401235, -2.2267249, -2.749224 , -2.7507877, -2.3857923,\n",
              "         -2.9706726, -2.6066737, -3.320746 ], dtype=float32),\n",
              "  1,\n",
              "  'sadness'),\n",
              " (\"V_Simmons everyone has their mistakes to make and lessons to learn. Don't let the negativity get to you.\",\n",
              "  array([-2.6224813, -2.6082482, -2.622899 , -1.8773999, -2.627718 ,\n",
              "         -2.5349443, -2.0531719, -2.8731008, -2.8573217, -2.3769503,\n",
              "         -3.2062967, -2.7032688, -3.380614 ], dtype=float32),\n",
              "  3,\n",
              "  'neutral'),\n",
              " (\"Mosque and mini-golf haha I tied for 1st. It looks like the Yankees aren't playing tonight   but I'll just play Fifa ~Zade~\",\n",
              "  array([-2.5440834, -2.3209252, -2.9139256, -1.9093878, -2.9422493,\n",
              "         -2.5066538, -2.0388181, -2.8587294, -2.8431811, -2.478213 ,\n",
              "         -3.233192 , -2.5304124, -3.2744794], dtype=float32),\n",
              "  3,\n",
              "  'neutral'),\n",
              " (\"Big Sad Face   Bing doesn't work on iPhone.  It just takes you to the regular mobile Live search.\",\n",
              "  array([-2.750045 , -2.4521403, -2.9547665, -1.973674 , -2.7544003,\n",
              "         -2.4017205, -1.9521856, -2.647371 , -2.7648764, -2.487556 ,\n",
              "         -3.162704 , -2.751869 , -3.226316 ], dtype=float32),\n",
              "  6,\n",
              "  'love'),\n",
              " ('triplesix_ Whoop whooop',\n",
              "  array([-2.8550587, -2.1645553, -2.8549943, -2.023032 , -3.1005037,\n",
              "         -2.539363 , -2.219887 , -2.6667566, -2.5767605, -2.152986 ,\n",
              "         -3.1099706, -2.8825521, -3.1455307], dtype=float32),\n",
              "  3,\n",
              "  'neutral'),\n",
              " (\"billdeys it's raining  I'm hiding.\",\n",
              "  array([-3.035948 , -2.1691623, -2.8288388, -1.8238984, -3.0507517,\n",
              "         -2.336412 , -2.35812  , -2.5586948, -2.695354 , -2.4424844,\n",
              "         -3.2181563, -2.7314959, -3.1795008], dtype=float32),\n",
              "  3,\n",
              "  'neutral'),\n",
              " (\"calypsominerals haha well, kinda I'm Mommy to my lil' pom-chi  hehe  thank you ;)\",\n",
              "  array([-2.8530793, -2.232774 , -3.1191697, -1.9248029, -2.8650758,\n",
              "         -2.5632558, -2.0651507, -2.8238943, -2.7046952, -2.2681825,\n",
              "         -3.2009697, -2.6138911, -3.208025 ], dtype=float32),\n",
              "  3,\n",
              "  'neutral'),\n",
              " ('http://twitpic.com/4wh0l - im in love wit this fool from college hill',\n",
              "  array([-2.4954152, -2.5066721, -2.8598304, -1.9532323, -2.612105 ,\n",
              "         -2.543014 , -1.8644742, -2.841716 , -2.9388642, -2.583337 ,\n",
              "         -3.2747078, -2.681556 , -3.3005953], dtype=float32),\n",
              "  6,\n",
              "  'love'),\n",
              " ('Sixxjohn i think i been followin u 4 bout a week so yea kinda',\n",
              "  array([-2.9826756, -2.1873975, -3.0481243, -2.1408556, -3.0085702,\n",
              "         -2.3382206, -2.267693 , -2.666057 , -2.83741  , -2.0924442,\n",
              "         -3.073156 , -2.565755 , -3.0345554], dtype=float32),\n",
              "  9,\n",
              "  'happiness'),\n",
              " ('PheenX crud is all I can say',\n",
              "  array([-2.7996817, -2.28192  , -2.8245542, -2.0834198, -2.997799 ,\n",
              "         -2.4683204, -2.4349618, -2.5686693, -2.6707702, -2.3174765,\n",
              "         -2.815229 , -2.571783 , -2.9883525], dtype=float32),\n",
              "  3,\n",
              "  'neutral'),\n",
              " ('After the sketchy moments at A mtn, the friends and I moved up the trail and sat at the end of the road, just talking and being silly',\n",
              "  array([-2.757865 , -2.2281494, -2.8033507, -2.1036084, -2.9351735,\n",
              "         -2.3930554, -2.1619477, -2.705567 , -2.6581054, -2.4837446,\n",
              "         -2.977503 , -2.6889095, -3.0484452], dtype=float32),\n",
              "  3,\n",
              "  'neutral'),\n",
              " (\"Dhympna Link won't open, but I will try it when i have a better connection tomorrow. I'm curious now\",\n",
              "  array([-2.84995  , -2.3751588, -2.8503637, -1.998678 , -2.9435627,\n",
              "         -2.354972 , -2.2340221, -2.6769602, -2.5435753, -2.4006164,\n",
              "         -3.1001348, -2.615556 , -3.1020794], dtype=float32),\n",
              "  3,\n",
              "  'neutral'),\n",
              " (\"Yay Power = on Phone = charged. It's hot\",\n",
              "  array([-3.0141068, -2.3264499, -2.9875507, -1.9540055, -2.9836564,\n",
              "         -2.4080992, -1.9808979, -2.5007389, -2.726364 , -2.4878983,\n",
              "         -3.2103658, -2.6681874, -3.1623049], dtype=float32),\n",
              "  3,\n",
              "  'neutral'),\n",
              " ('Mamalonglegs resistance was futile Needed pretties to knit with',\n",
              "  array([-2.8087738, -2.264312 , -2.759759 , -1.7697284, -2.8463914,\n",
              "         -2.4804487, -1.9996226, -2.8620942, -2.754414 , -2.671203 ,\n",
              "         -3.284531 , -2.8072848, -3.2915351], dtype=float32),\n",
              "  3,\n",
              "  'neutral'),\n",
              " ('angienewton You mean set up to start using? just jump in Use the # sign with whatever word you want to use',\n",
              "  array([-2.8221989, -2.3030436, -3.0182939, -1.9163804, -2.9507103,\n",
              "         -2.495512 , -1.9860814, -2.8491774, -2.8559833, -2.3048978,\n",
              "         -3.1302109, -2.6322672, -3.1754625], dtype=float32),\n",
              "  3,\n",
              "  'neutral'),\n",
              " ('Happy Mothers Day to all the mums in my life and those that are not',\n",
              "  array([-2.4491184, -3.012237 , -2.938363 , -2.1265645, -2.4570236,\n",
              "         -2.6507182, -1.598785 , -2.7072763, -2.7428236, -2.6403942,\n",
              "         -3.3421326, -2.797975 , -3.35002  ], dtype=float32),\n",
              "  6,\n",
              "  'love'),\n",
              " ('NHL10 I was hoping for a better trailer',\n",
              "  array([-3.03511  , -2.1866555, -2.7726855, -1.9536107, -2.8713977,\n",
              "         -2.3600898, -2.176083 , -2.8326905, -2.7480056, -2.3909643,\n",
              "         -3.101945 , -2.7361658, -3.065387 ], dtype=float32),\n",
              "  3,\n",
              "  'neutral'),\n",
              " ('the big boss is out all week.. small yay. free lunch for the office today, big yay',\n",
              "  array([-2.7349813, -2.261635 , -3.0593984, -2.027435 , -2.6894064,\n",
              "         -2.422819 , -2.0739703, -2.7279017, -2.7873006, -2.2736483,\n",
              "         -3.3720298, -2.6750574, -3.2980442], dtype=float32),\n",
              "  3,\n",
              "  'neutral'),\n",
              " ('Soonmethod clofresh Thanks for the greeting',\n",
              "  array([-2.602651 , -2.3124642, -2.8018901, -2.0086675, -3.0052948,\n",
              "         -2.5563571, -2.0846071, -2.723794 , -2.5881677, -2.3869534,\n",
              "         -3.045332 , -2.905972 , -3.0876665], dtype=float32),\n",
              "  3,\n",
              "  'neutral'),\n",
              " (\"amedawg18 Haha, that's great. Yeah, Zachary Quinto as Spock is really awesome indeed\",\n",
              "  array([-2.7737346, -2.9142094, -2.884701 , -1.8931432, -2.7570553,\n",
              "         -2.4981995, -1.5790063, -2.9093513, -2.8056877, -2.5546103,\n",
              "         -3.53172  , -2.6507316, -3.429244 ], dtype=float32),\n",
              "  6,\n",
              "  'love'),\n",
              " ('WhoaOhNo  ?',\n",
              "  array([-3.145473 , -2.184097 , -2.8804917, -1.9213318, -2.9445534,\n",
              "         -2.3582904, -2.205445 , -2.7699773, -2.9420524, -2.1726632,\n",
              "         -3.1309805, -2.7304015, -3.072969 ], dtype=float32),\n",
              "  3,\n",
              "  'neutral'),\n",
              " ('Sitting at the bonfire, hoping the skies will clears i can use my telescope.',\n",
              "  array([-2.884571 , -2.2618659, -2.710999 , -1.987798 , -2.8937354,\n",
              "         -2.3484585, -2.137073 , -2.4605548, -2.7975328, -2.5292575,\n",
              "         -3.1305041, -2.824658 , -3.2565145], dtype=float32),\n",
              "  3,\n",
              "  'neutral'),\n",
              " (\"I hate when it's cloudy. I either want it to be all sunny or raining. It's cloudy\",\n",
              "  array([-2.7550278, -2.0636177, -2.8038638, -2.1424944, -2.7653215,\n",
              "         -2.4909058, -2.053734 , -2.6886516, -2.7720222, -2.4288678,\n",
              "         -3.1563842, -2.760756 , -3.412825 ], dtype=float32),\n",
              "  6,\n",
              "  'love'),\n",
              " ('lollipop26 Love it You look fabulous and it was so nice to learn something new about you',\n",
              "  array([-2.4977798, -2.8410556, -2.8896704, -1.7859993, -2.7254121,\n",
              "         -2.57054  , -1.66824  , -2.911942 , -2.838161 , -2.563929 ,\n",
              "         -3.473402 , -2.9563637, -3.4225664], dtype=float32),\n",
              "  6,\n",
              "  'love'),\n",
              " ('nothings really going *well*...however currently theres nothing else to look forward to so may aswel make the best of it',\n",
              "  array([-2.7801242, -2.163063 , -3.0539005, -2.0430713, -2.703313 ,\n",
              "         -2.4080915, -2.1959124, -2.7252867, -2.6596665, -2.3613758,\n",
              "         -3.2924895, -2.745391 , -3.062057 ], dtype=float32),\n",
              "  3,\n",
              "  'neutral'),\n",
              " (\"KatsManDEW No I LOVE Jordie's version as well as Joe's and Donnie's ALL 3 are DIFFERENT\",\n",
              "  array([-2.5815935, -2.5547678, -2.9781013, -1.9625425, -2.855826 ,\n",
              "         -2.4733446, -1.9487288, -2.5829747, -2.8260632, -2.4747143,\n",
              "         -3.1217253, -2.6928687, -3.2131069], dtype=float32),\n",
              "  6,\n",
              "  'love'),\n",
              " ('looks like yet another beautiful day in London',\n",
              "  array([-2.643826 , -2.5351565, -2.7724104, -1.9791106, -2.8197913,\n",
              "         -2.3980916, -2.0015314, -2.8022943, -2.6456645, -2.311647 ,\n",
              "         -3.3042614, -2.887002 , -3.215763 ], dtype=float32),\n",
              "  3,\n",
              "  'neutral'),\n",
              " ('cant get onto twitter on the Internet',\n",
              "  array([-2.9202302, -2.1289234, -2.9166925, -2.0576377, -2.782538 ,\n",
              "         -2.37198  , -2.2381914, -2.7308826, -2.641079 , -2.426945 ,\n",
              "         -3.2453847, -2.5000875, -3.2798567], dtype=float32),\n",
              "  3,\n",
              "  'neutral'),\n",
              " ('our south style exhibition is on in less than a week  member fresh gallery otara',\n",
              "  array([-2.6999233, -2.2674983, -2.6214151, -2.1088428, -2.8293328,\n",
              "         -2.6292543, -1.8805225, -2.6794255, -2.8041627, -2.534813 ,\n",
              "         -3.1514697, -2.6916587, -3.4280214], dtype=float32),\n",
              "  6,\n",
              "  'love'),\n",
              " ('GotSoul GREAT song',\n",
              "  array([-2.6236992, -2.3502243, -2.973778 , -1.9426608, -2.794749 ,\n",
              "         -2.4780443, -2.0742319, -2.8418674, -2.5316541, -2.388248 ,\n",
              "         -3.2762423, -2.8689818, -3.1504023], dtype=float32),\n",
              "  3,\n",
              "  'neutral'),\n",
              " (\"As a reward for getting so much done yesterday, I'm playing World of Warcraft today. Yay\",\n",
              "  array([-2.7293744, -2.6628456, -3.002749 , -2.060738 , -2.7433758,\n",
              "         -2.4559183, -1.5876338, -2.8389535, -2.764965 , -2.6355655,\n",
              "         -3.4105062, -2.57116  , -3.4796083], dtype=float32),\n",
              "  6,\n",
              "  'love'),\n",
              " ('Watching Ladyhawke on channel 4 &amp; most likely to stay in bed all day',\n",
              "  array([-2.5441768, -2.0546794, -2.9231796, -1.9742959, -2.888928 ,\n",
              "         -2.4848845, -2.0873046, -2.572569 , -2.8979783, -2.505246 ,\n",
              "         -3.3098564, -2.8889077, -3.4287553], dtype=float32),\n",
              "  3,\n",
              "  'neutral'),\n",
              " (\"It's good to be home\",\n",
              "  array([-2.6616611, -2.3189335, -2.7538903, -2.0294964, -2.8250346,\n",
              "         -2.3076892, -2.1182508, -2.8243155, -2.7579174, -2.33245  ,\n",
              "         -3.3109522, -2.7952156, -3.2125182], dtype=float32),\n",
              "  3,\n",
              "  'neutral'),\n",
              " ('Damn, need to replace MacBook display. CHF 670 for work and hardware - almost half of the MB price',\n",
              "  array([-2.920716 , -2.1082523, -3.0240312, -1.8693568, -2.9138265,\n",
              "         -2.25943  , -2.2374115, -2.7784576, -2.501773 , -2.6377583,\n",
              "         -3.147612 , -2.8480372, -3.2211967], dtype=float32),\n",
              "  3,\n",
              "  'neutral'),\n",
              " (\"mrskutcher Happy Mother's Day\",\n",
              "  array([-2.6724443, -2.6640415, -2.9591074, -2.3157606, -2.4091725,\n",
              "         -2.8538032, -1.4129113, -2.9770703, -2.566465 , -2.7391083,\n",
              "         -3.4276786, -2.790534 , -3.3956294], dtype=float32),\n",
              "  6,\n",
              "  'love'),\n",
              " (\"scottiejen knackered been awake since 5 as couldn't sleep just started work now. coffee and toast sounds awesome  chris has been busy\",\n",
              "  array([-2.8674867, -2.2420378, -2.917645 , -2.0031774, -2.8544507,\n",
              "         -2.548915 , -2.230794 , -2.6185374, -2.736143 , -2.1037078,\n",
              "         -3.2057004, -2.729985 , -3.237307 ], dtype=float32),\n",
              "  3,\n",
              "  'neutral'),\n",
              " ('is addicted to the pet society app on facebook',\n",
              "  array([-2.7889667, -2.5186188, -2.7618735, -1.8449349, -2.7093873,\n",
              "         -2.6902347, -1.842535 , -2.7552629, -2.75145  , -2.4178338,\n",
              "         -3.4722872, -2.903039 , -3.1836672], dtype=float32),\n",
              "  6,\n",
              "  'love'),\n",
              " ('Great day training and having fun',\n",
              "  array([-2.6025844, -2.321268 , -2.8885343, -2.076036 , -2.8458757,\n",
              "         -2.4414513, -1.9699003, -2.6225815, -2.6261573, -2.508739 ,\n",
              "         -3.2315087, -2.9190693, -3.1636171], dtype=float32),\n",
              "  6,\n",
              "  'love'),\n",
              " (\"LOVED Britain's got talent last night  Shaun and Greg were both amazing  Were they HOT too..can't say I noticed?\",\n",
              "  array([-2.6750722, -2.3738914, -2.9402213, -2.0529172, -3.0091062,\n",
              "         -2.2632117, -1.9127543, -2.8118584, -2.7142403, -2.3517919,\n",
              "         -3.2241082, -2.9344985, -3.1881952], dtype=float32),\n",
              "  6,\n",
              "  'love'),\n",
              " ('mr_craig Tried to follow one of your #FF recommendations but &quot;have been blocked from following by request of the user&quot;',\n",
              "  array([-2.9300425, -2.1392944, -2.9769287, -2.0583127, -3.1044302,\n",
              "         -2.171617 , -2.3911638, -2.7207232, -2.6849077, -2.3706524,\n",
              "         -2.9509273, -2.5780373, -3.1191578], dtype=float32),\n",
              "  3,\n",
              "  'neutral'),\n",
              " ('Wossy those splinters look very painful...but you were being very heroic saving mr. Pickle',\n",
              "  array([-2.7899947, -2.1863315, -3.0166442, -2.0359082, -2.9529755,\n",
              "         -2.3059273, -2.240339 , -2.689412 , -2.8277154, -2.2915964,\n",
              "         -3.0927446, -2.5988708, -3.2054198], dtype=float32),\n",
              "  3,\n",
              "  'neutral'),\n",
              " (\"faeriegal713 Yep, finished, chocked full of spelling and grammatical errors, but I'm cleaning it up tomorrow and popping it up  hehe\",\n",
              "  array([-3.0873978, -2.271048 , -2.9547381, -1.8603685, -2.8656435,\n",
              "         -2.3054316, -2.333625 , -2.593844 , -2.6487517, -2.3358955,\n",
              "         -3.0611691, -2.7752967, -3.257029 ], dtype=float32),\n",
              "  3,\n",
              "  'neutral'),\n",
              " ('http://twitpic.com/4jccd - and also these hi top Reeboks.  cause i can',\n",
              "  array([-2.7529554, -2.4823856, -2.9105926, -1.8467759, -2.7540016,\n",
              "         -2.633285 , -2.1087496, -2.8927507, -2.7494333, -2.285016 ,\n",
              "         -3.2484303, -2.50653  , -3.1682181], dtype=float32),\n",
              "  3,\n",
              "  'neutral'),\n",
              " ('a_tall_blonde   ~~Hello~~~  and thanks for the follow.',\n",
              "  array([-2.5847464, -2.6852493, -2.9183893, -2.0217943, -2.643464 ,\n",
              "         -2.5020037, -1.7553809, -2.6167867, -2.8747945, -2.3924026,\n",
              "         -3.4603999, -2.8189192, -3.4387927], dtype=float32),\n",
              "  6,\n",
              "  'love'),\n",
              " ('Mfjmaf Namaskar &amp; Namaste r both the same. Marathi people say Namaskar its a marathi word.... should i ? ...naaaah ',\n",
              "  array([-2.891267 , -2.2729642, -2.997701 , -1.9691067, -2.632748 ,\n",
              "         -2.33516  , -2.2807505, -2.724461 , -2.715702 , -2.285374 ,\n",
              "         -3.2606602, -2.6051588, -3.3412974], dtype=float32),\n",
              "  3,\n",
              "  'neutral'),\n",
              " (\"MedicQT geez, 15 years? You'd think they would have had that checked out years ago\",\n",
              "  array([-2.8811598, -2.256031 , -2.9226823, -1.9882023, -2.8648212,\n",
              "         -2.1601968, -2.3056593, -2.8381817, -2.888504 , -2.325306 ,\n",
              "         -3.070844 , -2.69316  , -2.9867377], dtype=float32),\n",
              "  3,\n",
              "  'neutral'),\n",
              " ('DavidArchie you finished eating?',\n",
              "  array([-3.0440183, -2.2212849, -2.84135  , -1.8702987, -2.9283893,\n",
              "         -2.3865108, -2.304846 , -2.8642638, -2.6892323, -2.2502356,\n",
              "         -3.2302442, -2.7494833, -2.9485765], dtype=float32),\n",
              "  3,\n",
              "  'neutral'),\n",
              " ('and i would recommend buying a bmw to anyone that would ask my opinion.',\n",
              "  array([-2.6851919, -2.3986535, -2.9448338, -1.9559482, -3.0171652,\n",
              "         -2.3199697, -2.4349144, -2.5832796, -2.4184582, -2.4149966,\n",
              "         -3.1433315, -2.5790806, -3.2402515], dtype=float32),\n",
              "  3,\n",
              "  'neutral'),\n",
              " ('If you are my other half - meet me in Groningen, please ',\n",
              "  array([-2.634415 , -2.4624534, -2.7418919, -2.139307 , -2.6241505,\n",
              "         -2.4382737, -1.9813024, -2.7283943, -2.6669514, -2.4454393,\n",
              "         -3.366757 , -2.6043892, -3.4051752], dtype=float32),\n",
              "  6,\n",
              "  'love'),\n",
              " (\"Man I can't stop being freakin' hungry\",\n",
              "  array([-2.8839452, -2.165116 , -2.9502714, -2.0497   , -3.1202168,\n",
              "         -2.1775808, -2.3466299, -2.6219647, -2.7390647, -2.2807062,\n",
              "         -3.0662122, -2.7553847, -3.0919788], dtype=float32),\n",
              "  3,\n",
              "  'neutral'),\n",
              " (\"findingurstyle lol it's funny but it's not the back... it's all in the legs ;) and I've never hurt my back Thank God  Thanks 4 watchin\",\n",
              "  array([-2.9111347, -2.2347407, -2.810772 , -2.0977683, -2.8616521,\n",
              "         -2.4586015, -2.0200355, -2.7280416, -2.777172 , -2.220714 ,\n",
              "         -3.3101654, -2.6378865, -3.3191695], dtype=float32),\n",
              "  6,\n",
              "  'love'),\n",
              " ('Afternoon from office  My cubicle has been moved but not the system yippie Mine is one of te few surviving &quot;good&quot; system..',\n",
              "  array([-2.9553194, -1.9561622, -2.9217424, -1.9710612, -3.0988252,\n",
              "         -2.5271564, -2.4661033, -2.6408796, -2.667714 , -2.3226812,\n",
              "         -3.0953088, -2.623416 , -3.0586548], dtype=float32),\n",
              "  1,\n",
              "  'sadness'),\n",
              " (\"hey my luvs miss you all . .got the email thanks. Jglam I'll call you in a bit\",\n",
              "  array([-2.6819668, -2.5305004, -2.744332 , -2.0661378, -2.8652024,\n",
              "         -2.5411794, -1.8612734, -2.7800448, -2.6800508, -2.3767762,\n",
              "         -3.1539927, -2.7022965, -3.3079782], dtype=float32),\n",
              "  6,\n",
              "  'love'),\n",
              " (\"I'm at the anime store iat rivercenter going crazy at all the Pokemon stuff. I wish I had money\",\n",
              "  array([-2.892201 , -2.3081925, -2.78869  , -1.9599047, -3.0220075,\n",
              "         -2.612923 , -2.0593705, -2.8526573, -2.510966 , -2.2793095,\n",
              "         -3.1871521, -2.6759317, -3.1746986], dtype=float32),\n",
              "  3,\n",
              "  'neutral'),\n",
              " ('Mahnx Yeah for sure',\n",
              "  array([-2.8927116, -2.2416563, -2.950912 , -1.8824923, -2.8837175,\n",
              "         -2.4431152, -2.341153 , -2.7292967, -2.629053 , -2.225992 ,\n",
              "         -3.1705709, -2.7137184, -3.1913767], dtype=float32),\n",
              "  3,\n",
              "  'neutral'),\n",
              " (\"JJaneBB I didn't include that in my getaway music.  I fail.\",\n",
              "  array([-3.1178284, -2.199754 , -2.8541832, -1.9823244, -2.9544907,\n",
              "         -2.1584144, -2.218832 , -2.6562662, -2.7479172, -2.382059 ,\n",
              "         -3.182183 , -2.724831 , -3.2306433], dtype=float32),\n",
              "  3,\n",
              "  'neutral'),\n",
              " ('FelixKev hey Kev - keep with it. It seems crap at first but will def be worthwhile Add LOADS of people, much more interesting',\n",
              "  array([-2.743257 , -2.1376204, -3.1246266, -1.9187895, -2.8709192,\n",
              "         -2.5332265, -2.05822  , -2.5837545, -2.7849498, -2.4350212,\n",
              "         -3.1584992, -2.8336139, -3.2933636], dtype=float32),\n",
              "  3,\n",
              "  'neutral'),\n",
              " ('i love it when justin timberlake hosts snl; hilarious',\n",
              "  array([-2.7694402, -2.7169023, -2.940073 , -2.0618963, -2.5728474,\n",
              "         -2.4241676, -1.5925332, -2.8007872, -2.8105812, -2.4670177,\n",
              "         -3.4367611, -2.8383846, -3.633953 ], dtype=float32),\n",
              "  6,\n",
              "  'love'),\n",
              " ('playing guitar hero, waiting for Abby to text me after prom',\n",
              "  array([-2.5032756, -2.5808375, -2.9785585, -2.0248737, -2.7714534,\n",
              "         -2.2912319, -2.1288798, -2.688467 , -2.7664924, -2.1727679,\n",
              "         -3.1334653, -2.909023 , -3.3788052], dtype=float32),\n",
              "  3,\n",
              "  'neutral'),\n",
              " ('amcmoore Have fun, hon Ooh, look what a poet I am.',\n",
              "  array([-2.83811  , -2.6581802, -2.9211025, -1.8880641, -2.8829865,\n",
              "         -2.407064 , -1.757164 , -2.752359 , -2.8501384, -2.458854 ,\n",
              "         -3.219459 , -2.8057847, -3.2192078], dtype=float32),\n",
              "  6,\n",
              "  'love'),\n",
              " ('who_the_heck Haha LOL  the english work they doo in college',\n",
              "  array([-2.8891993, -2.3271744, -2.8521144, -2.0100195, -2.8086152,\n",
              "         -2.4263527, -1.8517637, -2.7058866, -2.6201572, -2.5585737,\n",
              "         -3.23441  , -2.8187475, -3.3988574], dtype=float32),\n",
              "  6,\n",
              "  'love'),\n",
              " ('I *really* want to go to the coldplay concert tomorrow',\n",
              "  array([-2.9139214, -2.3381743, -2.9283214, -1.9583422, -3.0010958,\n",
              "         -2.3591316, -2.2115135, -2.4941225, -2.535975 , -2.3608894,\n",
              "         -3.2229548, -2.72819  , -3.2283926], dtype=float32),\n",
              "  3,\n",
              "  'neutral'),\n",
              " ('iamkryssa twitter does not suck missy love you',\n",
              "  array([-2.6123   , -2.7603478, -2.6732383, -1.9384644, -2.6069536,\n",
              "         -2.8729029, -1.5909386, -2.7021146, -2.8399873, -2.5782127,\n",
              "         -3.7037592, -2.8880825, -3.3618631], dtype=float32),\n",
              "  6,\n",
              "  'love'),\n",
              " ('Download movie  &quot;81st Annual Academy Awards Pre-Show&quot; http://tinyurl.com/cdue53 cool #movie',\n",
              "  array([-2.7440996, -2.4217677, -2.9162965, -1.7652438, -2.806281 ,\n",
              "         -2.501483 , -1.9856608, -2.8274784, -2.8288016, -2.5859823,\n",
              "         -3.2874637, -2.6767964, -3.1637092], dtype=float32),\n",
              "  3,\n",
              "  'neutral'),\n",
              " ('handlewithcare  Nice start to the holiday',\n",
              "  array([-2.7176785, -2.6214633, -2.8519404, -2.0015678, -2.5739632,\n",
              "         -2.6276429, -1.7838596, -2.5457602, -2.8391914, -2.4720635,\n",
              "         -3.3660173, -2.7086318, -3.523409 ], dtype=float32),\n",
              "  6,\n",
              "  'love'),\n",
              " ('doing the andy dance  the one on fonzie gomez show ;) haha',\n",
              "  array([-2.6010687, -2.5007203, -3.139759 , -1.7885895, -2.6991644,\n",
              "         -2.6625757, -1.8978012, -2.8176918, -2.8206267, -2.3743916,\n",
              "         -3.374677 , -2.6771698, -3.4739962], dtype=float32),\n",
              "  3,\n",
              "  'neutral'),\n",
              " ('cocotian of course i do.. such an adorable face.',\n",
              "  array([-2.5093372, -2.2844372, -2.9588428, -1.9829863, -3.09091  ,\n",
              "         -2.2742698, -2.0320735, -2.782796 , -2.7289958, -2.5277624,\n",
              "         -3.233584 , -2.7225792, -3.3296583], dtype=float32),\n",
              "  3,\n",
              "  'neutral'),\n",
              " ('jaystokes4 lol oh ok..well n that case..thank u',\n",
              "  array([-2.7903774, -2.4418185, -2.99372  , -1.9193122, -2.9240265,\n",
              "         -2.486644 , -2.1581473, -2.7354033, -2.597394 , -2.2945623,\n",
              "         -3.1219194, -2.586738 , -3.1496303], dtype=float32),\n",
              "  3,\n",
              "  'neutral'),\n",
              " ('ceemce Home Friday makes me  too',\n",
              "  array([-2.8207111, -2.3987138, -2.7862773, -1.8593774, -2.9211767,\n",
              "         -2.4736528, -2.1727312, -2.7831607, -2.649151 , -2.3787436,\n",
              "         -3.2388406, -2.5746226, -3.230032 ], dtype=float32),\n",
              "  3,\n",
              "  'neutral'),\n",
              " (\"Enjoying Mother's Day\",\n",
              "  array([-2.8373928, -2.4148276, -2.7875085, -2.0741088, -2.815033 ,\n",
              "         -2.4100351, -1.8419752, -2.9440417, -2.7458043, -2.2730174,\n",
              "         -3.246182 , -2.9418685, -3.1002545], dtype=float32),\n",
              "  6,\n",
              "  'love'),\n",
              " (\"TomFelton Haha What's it like looking back on work? Or fun, as I'm sure it was\",\n",
              "  array([-2.7769818, -2.1820009, -2.8950164, -2.1246102, -2.9081388,\n",
              "         -2.3143272, -2.1229854, -2.9113734, -2.7249727, -2.3044295,\n",
              "         -3.2519617, -2.6185915, -3.0850308], dtype=float32),\n",
              "  6,\n",
              "  'love'),\n",
              " ('mzstokes No twitpic?  lol',\n",
              "  array([-2.8265517, -2.4060807, -2.792638 , -1.9267119, -2.568708 ,\n",
              "         -2.2703252, -2.401744 , -2.678214 , -2.636201 , -2.4996343,\n",
              "         -3.2842243, -2.5995574, -3.24299  ], dtype=float32),\n",
              "  3,\n",
              "  'neutral'),\n",
              " ('Molltini ok. lol. i miss you too. i hope your cramps get better. i know how painful they can be.',\n",
              "  array([-2.583775 , -2.4912677, -2.8078928, -2.1549792, -2.6066878,\n",
              "         -2.5642052, -1.582264 , -2.7822213, -2.8319366, -2.613852 ,\n",
              "         -3.2528625, -3.0587194, -3.5220659], dtype=float32),\n",
              "  6,\n",
              "  'love'),\n",
              " ('elm8 my sentiments exactly',\n",
              "  array([-2.642295 , -2.2879622, -2.8640451, -1.9172419, -2.799846 ,\n",
              "         -2.3721724, -2.3057215, -2.733334 , -2.74256  , -2.376556 ,\n",
              "         -3.1382766, -2.8898406, -3.0308251], dtype=float32),\n",
              "  3,\n",
              "  'neutral'),\n",
              " ('iamlittleboots happy birthday',\n",
              "  array([-2.7966752, -2.6157408, -2.8175256, -1.9641025, -2.5388036,\n",
              "         -2.72522  , -1.578553 , -3.0485837, -2.92407  , -2.4643357,\n",
              "         -3.2667327, -2.8756628, -3.3709517], dtype=float32),\n",
              "  6,\n",
              "  'love'),\n",
              " ('i then had to bring th vehicle back to have the touch-up areas buffed and polished.',\n",
              "  array([-2.6524127, -2.5806246, -2.8237364, -1.9024607, -2.8994617,\n",
              "         -2.3903213, -2.4051864, -2.644426 , -2.589871 , -2.2328115,\n",
              "         -3.0530064, -2.692018 , -3.2178078], dtype=float32),\n",
              "  3,\n",
              "  'neutral'),\n",
              " ('RopeMarksMuse _what_ did you do?  Let me guess... you skipped sports and bought a new pinkish outfit?',\n",
              "  array([-2.935925 , -2.2646909, -3.0454547, -1.9529873, -3.109126 ,\n",
              "         -2.358596 , -2.103991 , -2.7910576, -2.817219 , -2.2906384,\n",
              "         -3.0219245, -2.5893638, -3.0712066], dtype=float32),\n",
              "  3,\n",
              "  'neutral'),\n",
              " (\"ahhhhh, I am falling asleep here, there is no way I'll be able to survive Liverpool   Although, I can't wait to have my Nan's food.\",\n",
              "  array([-2.6826797, -2.1884456, -2.9058428, -1.8303549, -3.115025 ,\n",
              "         -2.5057263, -2.3431342, -2.7103305, -2.7932153, -2.251391 ,\n",
              "         -3.2466302, -2.644618 , -3.2309213], dtype=float32),\n",
              "  3,\n",
              "  'neutral'),\n",
              " ('Good morning Driving to work',\n",
              "  array([-2.86618  , -2.2826111, -2.7150288, -1.9146428, -2.7787166,\n",
              "         -2.4727645, -2.1582897, -2.8503036, -2.8525927, -2.403265 ,\n",
              "         -3.0468678, -2.6522405, -3.1812708], dtype=float32),\n",
              "  3,\n",
              "  'neutral'),\n",
              " ('work all day',\n",
              "  array([-2.8471494, -2.054955 , -2.8856416, -1.88902  , -2.940824 ,\n",
              "         -2.3326056, -2.3937693, -2.6433516, -2.901856 , -2.3634837,\n",
              "         -3.0295136, -2.9296503, -3.1278248], dtype=float32),\n",
              "  3,\n",
              "  'neutral'),\n",
              " ('idann, now that sounds better',\n",
              "  array([-2.6993294, -2.591204 , -2.9178386, -1.9179962, -2.5373478,\n",
              "         -2.4767487, -1.918918 , -2.8644218, -2.6484632, -2.5687332,\n",
              "         -3.2718837, -2.7062092, -3.2733884], dtype=float32),\n",
              "  3,\n",
              "  'neutral'),\n",
              " ('PostmodernMacro Younger then mine. So no problems here.',\n",
              "  array([-2.724915 , -2.409114 , -2.814066 , -1.984518 , -2.9593983,\n",
              "         -2.3855996, -2.129119 , -2.6872058, -2.558937 , -2.375304 ,\n",
              "         -3.301228 , -2.6565323, -3.2481327], dtype=float32),\n",
              "  3,\n",
              "  'neutral'),\n",
              " ('nikki_78 yes i have to agree it does',\n",
              "  array([-2.98491  , -2.4216352, -2.7046123, -1.8467995, -2.928691 ,\n",
              "         -2.4437556, -2.0823104, -2.539699 , -2.7091205, -2.4141588,\n",
              "         -3.3606863, -2.6894174, -3.395041 ], dtype=float32),\n",
              "  3,\n",
              "  'neutral'),\n",
              " ('HayleyTxxx hey  YAY thanks  wow ur page is awesome',\n",
              "  array([-2.7695777, -2.586387 , -3.1377792, -1.8686898, -2.8294926,\n",
              "         -2.5061002, -1.7133379, -2.8524811, -2.7785234, -2.4063196,\n",
              "         -3.3661804, -2.7479405, -3.3562722], dtype=float32),\n",
              "  6,\n",
              "  'love'),\n",
              " ('I should get a metal for making it to work this morning...',\n",
              "  array([-2.898261 , -2.2798488, -3.0049052, -1.992805 , -2.936037 ,\n",
              "         -2.3202791, -2.0547292, -2.8034935, -2.7113104, -2.307883 ,\n",
              "         -2.997469 , -2.8188856, -3.1900172], dtype=float32),\n",
              "  3,\n",
              "  'neutral'),\n",
              " ('Relaxing with my daughter watching Friends',\n",
              "  array([-2.9088247, -2.143858 , -2.9549465, -1.9184964, -2.9620035,\n",
              "         -2.24406  , -2.3216805, -2.756222 , -2.8042548, -2.311764 ,\n",
              "         -3.0442688, -2.8883836, -3.0569332], dtype=float32),\n",
              "  3,\n",
              "  'neutral'),\n",
              " ('http://twitpic.com/4we4j - Speed lessons on the main screens on center court I had to take this pic',\n",
              "  array([-2.7274942, -2.3451786, -2.847537 , -2.00373  , -2.8188028,\n",
              "         -2.356439 , -1.9549043, -2.8593843, -2.8457482, -2.3409631,\n",
              "         -3.3033843, -2.7300994, -3.3144183], dtype=float32),\n",
              "  6,\n",
              "  'love'),\n",
              " ('now, in a weird mood  muahaz',\n",
              "  array([-2.8030188, -2.4332755, -2.9745672, -2.1125462, -2.9670162,\n",
              "         -2.4987776, -2.034317 , -2.5362206, -2.5534406, -2.465302 ,\n",
              "         -3.1722405, -2.4861073, -3.0342898], dtype=float32),\n",
              "  6,\n",
              "  'love'),\n",
              " (\"we're getting another puppy  ... not cool... really\",\n",
              "  array([-2.5541286, -2.5834265, -2.8974774, -2.0432231, -2.6535726,\n",
              "         -2.278826 , -2.1570678, -2.7115598, -2.6834955, -2.3836706,\n",
              "         -3.150893 , -2.8072662, -3.1388328], dtype=float32),\n",
              "  3,\n",
              "  'neutral'),\n",
              " ('Just have to say again how much I like the new twitteriffic',\n",
              "  array([-2.7128315, -2.3582954, -2.8541021, -1.895901 , -2.723241 ,\n",
              "         -2.6241267, -1.9773175, -2.8154116, -2.8053231, -2.3048117,\n",
              "         -3.397006 , -2.7386184, -3.3132715], dtype=float32),\n",
              "  3,\n",
              "  'neutral'),\n",
              " ('xxmarypoppinsxx thanks. Ive got a holiday in a few weeks and also more concerts to look forward to',\n",
              "  array([-2.666758 , -2.5713587, -2.774558 , -1.9182291, -2.516993 ,\n",
              "         -2.6043684, -1.9182701, -2.8097413, -2.665805 , -2.5177085,\n",
              "         -3.5574965, -2.7193701, -3.2570877], dtype=float32),\n",
              "  3,\n",
              "  'neutral'),\n",
              " ('prayagn I think we have it pretty much figured out. adawada added a box in the Helsinki group where you can see the tweets',\n",
              "  array([-2.5382602, -2.5273786, -2.8890152, -2.0728676, -2.7558203,\n",
              "         -2.4224808, -1.8865526, -2.7870579, -2.6198068, -2.4475532,\n",
              "         -3.3365984, -2.7960577, -3.2625918], dtype=float32),\n",
              "  6,\n",
              "  'love'),\n",
              " (\"dorkita buu i didn't get it right  plop i was so close... &quot;URBAN&quot;\",\n",
              "  array([-3.1088307, -2.4998968, -2.840446 , -1.8001534, -2.8802652,\n",
              "         -2.259595 , -2.2391763, -2.7256567, -2.6264133, -2.339014 ,\n",
              "         -3.1507473, -2.8515475, -3.04318  ], dtype=float32),\n",
              "  3,\n",
              "  'neutral'),\n",
              " (\"Alyssa_Milano Hey there  Thought i'd tweet you to say Hi..I have so much to write but theres no space in this little box hehe Damn\",\n",
              "  array([-2.9242306, -2.3607237, -2.83081  , -2.047667 , -2.9657085,\n",
              "         -2.3190815, -2.0042684, -2.6678648, -2.5256038, -2.3402257,\n",
              "         -3.4073963, -2.716109 , -3.3720329], dtype=float32),\n",
              "  6,\n",
              "  'love'),\n",
              " (\"i don't even want to go to the store to get ice cream.  i wasted a cute outfit on... sitting on my ass on twitter\",\n",
              "  array([-2.8475027, -2.3008165, -2.8736076, -2.0290933, -3.0033662,\n",
              "         -2.3294764, -1.8670309, -2.6615229, -2.855316 , -2.3682353,\n",
              "         -3.2551498, -2.8304446, -3.3887954], dtype=float32),\n",
              "  6,\n",
              "  'love'),\n",
              " (\"13 hours til i'm on a plane. Ahhh yay\",\n",
              "  array([-2.7592661, -2.3180776, -2.7939653, -1.9647619, -3.0280356,\n",
              "         -2.4692006, -1.8274089, -2.741712 , -2.8306417, -2.3998353,\n",
              "         -3.3458502, -2.7925053, -3.433518 ], dtype=float32),\n",
              "  6,\n",
              "  'love'),\n",
              " ('Andreaheartscgh ooo thanks for the danger radio link  loves it...how did the test go?',\n",
              "  array([-2.820116 , -2.3718562, -2.9794917, -1.9270965, -2.8965416,\n",
              "         -2.4804635, -2.0043793, -2.692636 , -2.6556435, -2.4197836,\n",
              "         -3.387298 , -2.608161 , -3.1541195], dtype=float32),\n",
              "  3,\n",
              "  'neutral'),\n",
              " ('andycane wow.... really?? is this necessary??',\n",
              "  array([-2.6930072, -2.1662834, -3.0293574, -2.0170665, -2.9043806,\n",
              "         -2.3320904, -2.1435137, -2.6281977, -2.8301215, -2.4752603,\n",
              "         -3.2416515, -2.5900643, -3.2770102], dtype=float32),\n",
              "  3,\n",
              "  'neutral'),\n",
              " ('Marcyluvstravel omg I dont blame you hope you didnt hurt him too bad',\n",
              "  array([-2.6919723, -2.2995608, -2.8744063, -2.012531 , -2.8098004,\n",
              "         -2.4055285, -2.1089153, -2.6111028, -2.6846476, -2.5942452,\n",
              "         -3.3459694, -2.6363356, -3.061965 ], dtype=float32),\n",
              "  3,\n",
              "  'neutral'),\n",
              " ('Wossy juleskaos good show ... And the killers rock ... But they cut em short',\n",
              "  array([-2.9046602, -2.415239 , -2.9199786, -1.8302102, -2.6109705,\n",
              "         -2.4838653, -2.1576548, -2.595571 , -2.6714997, -2.4452212,\n",
              "         -3.1514015, -2.8691535, -3.241761 ], dtype=float32),\n",
              "  3,\n",
              "  'neutral'),\n",
              " (\"Just watched Star Trek. A+ That was so well done. I think I'm down to see it again. Who wants to join me?\",\n",
              "  array([-2.9805741, -2.330508 , -2.8157496, -2.1447277, -2.7451837,\n",
              "         -2.444796 , -2.0843575, -2.6450295, -2.5188165, -2.4255042,\n",
              "         -3.2363372, -2.5927577, -3.0889387], dtype=float32),\n",
              "  6,\n",
              "  'love'),\n",
              " (\"Best show of my life. Guess I'm going to sc this week\",\n",
              "  array([-2.6656003, -2.3221724, -2.8919468, -1.9529582, -2.8841577,\n",
              "         -2.5054963, -2.0781476, -2.7848632, -2.7179859, -2.374897 ,\n",
              "         -3.2040296, -2.6086802, -3.287094 ], dtype=float32),\n",
              "  3,\n",
              "  'neutral'),\n",
              " ('http://twitpic.com/4w3he The pretty flowers john mains brought the ladies 2nite',\n",
              "  array([-2.7124815, -2.8769631, -2.8137288, -2.110999 , -2.452622 ,\n",
              "         -2.9114575, -1.3849438, -2.9075215, -2.782351 , -2.7556372,\n",
              "         -3.6120706, -2.741683 , -3.3845477], dtype=float32),\n",
              "  6,\n",
              "  'love'),\n",
              " (\"facit Hahaha. No, I haven't. I think I'll reserve it for next weekend. Have some paperwork to do. Or maybe tonight\",\n",
              "  array([-2.8399088, -2.2854683, -2.949997 , -1.9879555, -2.8013153,\n",
              "         -2.3683853, -2.218754 , -2.851361 , -2.6459167, -2.3282664,\n",
              "         -2.965947 , -2.6190324, -3.3004775], dtype=float32),\n",
              "  3,\n",
              "  'neutral'),\n",
              " ('ya know why today sucks? its been raining, we have no $, &amp; no possibility of a magic friday.  so whats goin down tonight?',\n",
              "  array([-2.9428065, -2.2219865, -2.791254 , -1.9694325, -2.9602916,\n",
              "         -2.4919143, -2.0728512, -2.6895814, -2.5870833, -2.3987994,\n",
              "         -3.245829 , -2.771947 , -3.1659293], dtype=float32),\n",
              "  3,\n",
              "  'neutral'),\n",
              " (\"Wishing all a Wonderful and Happy Mother's Day\",\n",
              "  array([-2.6458063, -2.6914449, -2.8451529, -2.1939893, -2.7584448,\n",
              "         -2.8538427, -1.2586817, -3.0808263, -2.7879333, -2.8496575,\n",
              "         -3.3869905, -2.9683394, -3.321498 ], dtype=float32),\n",
              "  6,\n",
              "  'love'),\n",
              " (\"I love summer, but I oddly don't want this school year to end.\",\n",
              "  array([-2.5919275, -2.331448 , -2.7789817, -2.1673307, -3.0025082,\n",
              "         -2.2075818, -2.3826056, -2.5520706, -2.6129644, -2.3836153,\n",
              "         -2.9699512, -2.8296168, -3.0867157], dtype=float32),\n",
              "  3,\n",
              "  'neutral'),\n",
              " (\"cosRobPerkins You're the third person to ask me out on Mon afternoon ;) I'm so sorry, but I'm helping tutor my friend for C1/C2  xx\",\n",
              "  array([-2.8196943, -2.0823011, -2.8735383, -1.9767622, -2.9895697,\n",
              "         -2.4858944, -2.1880121, -2.5883224, -2.9467258, -2.3134613,\n",
              "         -3.1174412, -2.7161846, -3.2689853], dtype=float32),\n",
              "  3,\n",
              "  'neutral'),\n",
              " ('took plenty of time to explain every detail about the car even after all paperwork signed',\n",
              "  array([-2.771154 , -2.2350063, -3.0076215, -2.002774 , -3.0482385,\n",
              "         -2.3521032, -2.362971 , -2.6257749, -2.643382 , -2.4593902,\n",
              "         -2.854309 , -2.6410742, -2.9675982], dtype=float32),\n",
              "  3,\n",
              "  'neutral'),\n",
              " ('Mr_PaulEvans heyyyyy boo',\n",
              "  array([-2.839933 , -2.3606   , -2.9253485, -1.7083926, -2.8445482,\n",
              "         -2.72331  , -1.8376944, -2.7787795, -2.8913844, -2.768187 ,\n",
              "         -3.4059987, -2.6430988, -3.1078064], dtype=float32),\n",
              "  3,\n",
              "  'neutral'),\n",
              " ('ok, twitter doesnt like me   i must be really dumb...how do i send a msg?',\n",
              "  array([-2.6335392, -2.1429498, -3.1274333, -2.1000457, -2.93779  ,\n",
              "         -2.3343651, -2.1406522, -2.5983453, -2.6431303, -2.442309 ,\n",
              "         -3.2550178, -2.7309833, -3.1960335], dtype=float32),\n",
              "  3,\n",
              "  'neutral'),\n",
              " ('tommcfly thanx Tom  love u too  have a great day',\n",
              "  array([-2.6565187, -2.4945195, -2.8605309, -1.8480327, -2.6893935,\n",
              "         -2.6384802, -1.8700864, -2.8409538, -2.947963 , -2.3992012,\n",
              "         -3.312253 , -2.751848 , -3.293233 ], dtype=float32),\n",
              "  3,\n",
              "  'neutral'),\n",
              " ('Sucky day so far hope it gets better',\n",
              "  array([-2.8180153, -2.2396197, -2.69733  , -2.2537086, -2.7538671,\n",
              "         -2.608567 , -1.9134412, -2.5739388, -2.8833919, -2.4051325,\n",
              "         -3.391799 , -2.5076156, -3.24557  ], dtype=float32),\n",
              "  6,\n",
              "  'love'),\n",
              " ('DonnieWahlberg lol i wos gona send mine in bt i was too late  xx',\n",
              "  array([-2.9168444, -2.3634734, -2.7605624, -2.0391133, -2.8440118,\n",
              "         -2.3554404, -2.2791836, -2.7101436, -2.5527546, -2.2253098,\n",
              "         -3.1596813, -2.7585835, -3.1068237], dtype=float32),\n",
              "  3,\n",
              "  'neutral'),\n",
              " ('CherryBlossoms4 YEYYYY MADDY IS FABULOUSSSSSS GOD BLESS HER',\n",
              "  array([-2.7102926, -2.5193174, -2.8689377, -1.7207513, -2.6339202,\n",
              "         -2.6558733, -1.8818657, -2.9514084, -3.0766535, -2.4127822,\n",
              "         -3.3617287, -2.7295108, -3.3505173], dtype=float32),\n",
              "  3,\n",
              "  'neutral'),\n",
              " ('sitting in bed thinking',\n",
              "  array([-2.976471 , -2.194835 , -2.8394022, -1.889174 , -2.8369493,\n",
              "         -2.3833835, -2.3216197, -2.733392 , -2.5767384, -2.4150872,\n",
              "         -3.0692935, -2.8846774, -3.0719552], dtype=float32),\n",
              "  3,\n",
              "  'neutral'),\n",
              " ('Is hungry with a sub',\n",
              "  array([-2.8880703, -2.2013276, -3.0267491, -2.0486324, -2.6927924,\n",
              "         -2.379334 , -2.3408146, -2.678141 , -2.7867694, -2.313732 ,\n",
              "         -2.9408455, -2.8340487, -2.8314817], dtype=float32),\n",
              "  3,\n",
              "  'neutral'),\n",
              " (\"thatswhack74 aww that's sweet i made a home made card and i wrote her a song...   it wasn't that much but oh well..\",\n",
              "  array([-2.761335 , -2.2923841, -2.9099617, -2.0733864, -2.965101 ,\n",
              "         -2.363255 , -2.2073846, -2.6004372, -2.6069293, -2.314539 ,\n",
              "         -3.1847434, -2.742568 , -3.0519493], dtype=float32),\n",
              "  3,\n",
              "  'neutral'),\n",
              " ('at BIF.... i love this buliding....',\n",
              "  array([-2.7833357, -2.423974 , -2.9946237, -1.9391874, -2.8308635,\n",
              "         -2.3925169, -2.2883663, -2.6691165, -2.5022678, -2.3984365,\n",
              "         -3.0633593, -2.7196379, -3.0112917], dtype=float32),\n",
              "  3,\n",
              "  'neutral'),\n",
              " (\"Ugh. My feet feel like they're going to fall off.\",\n",
              "  array([-2.9271495, -2.2159743, -2.9238698, -2.1426027, -3.034555 ,\n",
              "         -2.3868876, -2.1712265, -2.7070918, -2.7395406, -2.1533122,\n",
              "         -2.8148751, -2.7177968, -3.2462988], dtype=float32),\n",
              "  3,\n",
              "  'neutral'),\n",
              " ('tidewaterknits Definitely I have usually found that critics know virtually nothing of what constitutes a good movie. Rarely am I wrong.',\n",
              "  array([-2.672263 , -2.455018 , -2.7870245, -2.1276972, -2.9163272,\n",
              "         -2.4242759, -2.0729487, -2.6020675, -2.676536 , -2.4114773,\n",
              "         -2.9242332, -2.6655655, -3.219656 ], dtype=float32),\n",
              "  6,\n",
              "  'love'),\n",
              " ('razzbingo britain is shit',\n",
              "  array([-3.022081 , -2.299077 , -2.963951 , -1.8056465, -2.83773  ,\n",
              "         -2.3497634, -2.341403 , -2.6921573, -2.8241887, -2.3689413,\n",
              "         -2.866085 , -2.7727978, -3.1068022], dtype=float32),\n",
              "  3,\n",
              "  'neutral'),\n",
              " ('mkeguy69 thank you  have a great weekend',\n",
              "  array([-2.701126 , -2.7085047, -2.8062413, -2.0166016, -2.668352 ,\n",
              "         -2.6952999, -1.6474367, -2.6584942, -2.8189092, -2.5815845,\n",
              "         -3.4657416, -2.6142468, -3.3988314], dtype=float32),\n",
              "  6,\n",
              "  'love'),\n",
              " ('Aww people must be COLOR BLIND  HUH random1',\n",
              "  array([-2.8027487, -2.3505144, -2.7911584, -1.9351608, -2.757742 ,\n",
              "         -2.4040792, -2.1613224, -2.8078756, -2.7515583, -2.3555553,\n",
              "         -3.0982783, -2.8195252, -3.088591 ], dtype=float32),\n",
              "  3,\n",
              "  'neutral'),\n",
              " (\"missbossy Yeah that's me  I used my initials for my Flickr account\",\n",
              "  array([-3.1674047, -2.205111 , -3.0856562, -2.005732 , -2.7690408,\n",
              "         -2.400402 , -1.990041 , -2.7293544, -2.6432285, -2.4219575,\n",
              "         -3.173525 , -2.660075 , -3.2100496], dtype=float32),\n",
              "  6,\n",
              "  'love'),\n",
              " ('amberchase ~ We voted You have 760 now.',\n",
              "  array([-2.7389607, -2.4424167, -2.74822  , -1.9328496, -2.7686925,\n",
              "         -2.6481056, -1.9790536, -2.7363899, -2.7259994, -2.3172593,\n",
              "         -3.4227421, -2.7254863, -3.195625 ], dtype=float32),\n",
              "  3,\n",
              "  'neutral'),\n",
              " ('nothing to do this evening.. MISSING LIFESTORY',\n",
              "  array([-2.9049056, -2.2934809, -2.801763 , -1.7935245, -2.9626007,\n",
              "         -2.4538357, -2.1827924, -2.8236754, -2.773191 , -2.3999338,\n",
              "         -3.3003087, -2.5504484, -3.2342486], dtype=float32),\n",
              "  3,\n",
              "  'neutral'),\n",
              " ('THANKS GUYS 200 FOLLOWERS',\n",
              "  array([-2.6254478, -2.4977002, -3.001645 , -1.9938698, -2.7773943,\n",
              "         -2.5855918, -1.6809961, -2.709709 , -2.7635124, -2.551236 ,\n",
              "         -3.3525949, -2.8968987, -3.2726226], dtype=float32),\n",
              "  6,\n",
              "  'love'),\n",
              " ('Wish I had a laptop charger so I could tweet faster',\n",
              "  array([-2.9027584, -2.2006066, -2.7857919, -1.9898126, -2.8036675,\n",
              "         -2.407117 , -2.217978 , -2.7078214, -2.537599 , -2.4317896,\n",
              "         -3.2598062, -2.8136506, -3.112237 ], dtype=float32),\n",
              "  3,\n",
              "  'neutral'),\n",
              " (\"Congratulation's to phil packer on completing the london marathon  x a shining example to us all x\",\n",
              "  array([-2.6081567, -2.7142391, -2.8922884, -2.0968688, -2.643191 ,\n",
              "         -2.5950665, -1.6513407, -2.8413506, -2.5824788, -2.778578 ,\n",
              "         -3.332782 , -2.7017188, -3.092823 ], dtype=float32),\n",
              "  6,\n",
              "  'love'),\n",
              " ('Hanster7705 ahhahahaha ARIYAN  i want to listen to that now  i used up bandwidth by downloading a hamish and andy podcast',\n",
              "  array([-2.7844896, -2.2838585, -2.8513327, -1.83986  , -3.2690873,\n",
              "         -2.3047323, -2.298836 , -2.79792  , -2.62534  , -2.3367329,\n",
              "         -3.1390958, -2.6785898, -3.2298527], dtype=float32),\n",
              "  3,\n",
              "  'neutral'),\n",
              " ('ihatecrayons http://twitpic.com/4w75p - I like it',\n",
              "  array([-2.647698 , -2.4444473, -2.9089563, -1.9323591, -2.8225284,\n",
              "         -2.6490312, -1.7428868, -2.8460026, -2.7650476, -2.4177523,\n",
              "         -3.3174329, -2.8219857, -3.4426727], dtype=float32),\n",
              "  6,\n",
              "  'love'),\n",
              " (\"howie_d Aaaww That's so good to know, I'm glad James is doing great  We LOVE you guys KIsses from Venezuela\",\n",
              "  array([-2.7219448, -2.3848977, -2.9609513, -1.8681141, -2.8711457,\n",
              "         -2.6159556, -1.7087095, -2.7345588, -2.8371663, -2.5620894,\n",
              "         -3.4191291, -2.8866076, -3.3249054], dtype=float32),\n",
              "  6,\n",
              "  'love'),\n",
              " ('rowsell you really chose the wrong time of year to do this didnt you',\n",
              "  array([-2.7844512, -2.21892  , -2.8657143, -2.1544921, -2.6012678,\n",
              "         -2.5020561, -2.207181 , -2.6510103, -2.7898953, -2.4348688,\n",
              "         -3.184986 , -2.5631232, -2.9480727], dtype=float32),\n",
              "  3,\n",
              "  'neutral'),\n",
              " ('Looking at my quince pics, ahh good memories.... To be young again....  Lol #fb',\n",
              "  array([-2.7368326, -2.2791567, -2.9472485, -1.9927908, -2.9551291,\n",
              "         -2.4750812, -2.138112 , -2.699314 , -2.6485224, -2.2550058,\n",
              "         -3.1697917, -2.689056 , -3.2937899], dtype=float32),\n",
              "  3,\n",
              "  'neutral'),\n",
              " (\"wita  Still think it's unfair that Infamous isn't on PC. =/\",\n",
              "  array([-2.8088822, -2.3286808, -2.8863792, -1.8656158, -2.6478865,\n",
              "         -2.516796 , -2.2324233, -2.871414 , -2.725104 , -2.355016 ,\n",
              "         -3.0440788, -2.7040367, -3.1865773], dtype=float32),\n",
              "  3,\n",
              "  'neutral'),\n",
              " ('Spending a wonderful Mothers Day with Brad, Mom and Dad.  Happy Mothers Day to all Moms',\n",
              "  array([-2.8773649, -2.9835875, -2.6087353, -1.9082482, -2.556768 ,\n",
              "         -2.7557461, -1.4990718, -2.9158287, -2.8444624, -2.6466622,\n",
              "         -3.3888578, -2.9819663, -3.2433681], dtype=float32),\n",
              "  6,\n",
              "  'love'),\n",
              " (\"It's Midnight - I'm outta here.  HAPPY MOTHER'S DAY FELLOW MOMMIES  (And to non-Mommies too).  May EVERYONE have a special day\",\n",
              "  array([-2.638324 , -2.401488 , -2.986481 , -2.0218291, -2.7416682,\n",
              "         -2.5936775, -1.8307915, -2.7275987, -2.8567498, -2.3308778,\n",
              "         -3.360796 , -2.69352  , -3.406036 ], dtype=float32),\n",
              "  6,\n",
              "  'love'),\n",
              " ('I got me a little too much sun today',\n",
              "  array([-2.9612274, -2.0883505, -2.9253664, -2.01243  , -3.0059834,\n",
              "         -2.2860785, -2.4082062, -2.5838165, -2.8416967, -2.3434432,\n",
              "         -2.8530574, -2.7311544, -3.13975  ], dtype=float32),\n",
              "  3,\n",
              "  'neutral'),\n",
              " ('shadowdealer I did  For Thursday',\n",
              "  array([-3.051733 , -2.1653523, -2.8649397, -1.8715582, -2.8107486,\n",
              "         -2.577385 , -2.2230203, -2.7138085, -2.6698103, -2.347043 ,\n",
              "         -3.1248138, -2.7410543, -3.1446712], dtype=float32),\n",
              "  3,\n",
              "  'neutral'),\n",
              " ('super excited',\n",
              "  array([-2.929901 , -2.3184252, -2.9656315, -1.7527375, -2.821116 ,\n",
              "         -2.5188236, -2.341206 , -2.8339648, -2.7792113, -2.2398355,\n",
              "         -2.9600735, -2.8314023, -3.0169766], dtype=float32),\n",
              "  3,\n",
              "  'neutral'),\n",
              " ('Luv you sissy',\n",
              "  array([-2.936819 , -2.2917619, -2.9671197, -1.8114564, -2.9562342,\n",
              "         -2.4407778, -2.297207 , -2.7793717, -2.5535886, -2.4175959,\n",
              "         -3.0176845, -2.8110385, -2.9319766], dtype=float32),\n",
              "  3,\n",
              "  'neutral'),\n",
              " ('RX2904 you, my friend, are a true fan',\n",
              "  array([-2.3675814, -2.682314 , -2.7038074, -2.098424 , -2.710476 ,\n",
              "         -2.4697113, -1.8553369, -2.7604482, -2.5749478, -2.561284 ,\n",
              "         -3.514058 , -2.7906494, -3.4115558], dtype=float32),\n",
              "  6,\n",
              "  'love'),\n",
              " (\"pastorpeterko Hey Peter, thanks for the follow. So many Sydney pastors tweet Shame no Bris pastors are on Twitter; we're behind.\",\n",
              "  array([-2.712367 , -2.5504942, -2.879708 , -1.9179227, -2.8286324,\n",
              "         -2.733766 , -1.7214698, -2.6337318, -2.7993152, -2.413423 ,\n",
              "         -3.2702193, -2.9351664, -3.314464 ], dtype=float32),\n",
              "  6,\n",
              "  'love'),\n",
              " ('officialTila Thanks for the interview mama  Enjoy your night',\n",
              "  array([-2.4928455, -2.717366 , -2.7602334, -2.0338497, -2.523997 ,\n",
              "         -2.704109 , -1.8884679, -2.6726322, -2.8095489, -2.3314376,\n",
              "         -3.3482666, -2.7692704, -3.3672037], dtype=float32),\n",
              "  6,\n",
              "  'love'),\n",
              " (\"MarkHeartofBiz Yeah, if I lived on the rez, I'd already be dead.\",\n",
              "  array([-2.721717 , -2.387604 , -2.6026247, -2.1093094, -2.7447824,\n",
              "         -2.496604 , -2.268133 , -2.5766332, -2.9026785, -2.2705905,\n",
              "         -3.0206852, -2.5851514, -3.2558687], dtype=float32),\n",
              "  3,\n",
              "  'neutral'),\n",
              " (\"My brother just woke me up to help him with his homework. I'm not happy\",\n",
              "  array([-2.7570772, -2.1105416, -2.829235 , -1.9277729, -2.8421438,\n",
              "         -2.4880276, -2.1791968, -2.7806346, -2.7620406, -2.5177336,\n",
              "         -3.0951343, -2.7762337, -3.1472845], dtype=float32),\n",
              "  3,\n",
              "  'neutral'),\n",
              " ('Watching the CAVS',\n",
              "  array([-3.0855303, -1.9820739, -2.967072 , -2.1209016, -2.892669 ,\n",
              "         -2.5789485, -2.5344954, -2.4459853, -2.7278173, -2.170779 ,\n",
              "         -2.8008273, -2.8330889, -3.0186238], dtype=float32),\n",
              "  1,\n",
              "  'sadness'),\n",
              " ('Ive got the greatest boyfriend in the world. I love him so so much.',\n",
              "  array([-2.555704 , -2.5700474, -2.8127902, -2.1416535, -2.5688508,\n",
              "         -2.4330735, -1.6401228, -2.944697 , -2.853359 , -2.570251 ,\n",
              "         -3.3373108, -2.8981438, -3.4251676], dtype=float32),\n",
              "  6,\n",
              "  'love'),\n",
              " ('Welcoming new #followers: chillisoft, Hansieboy, keylman  luongdat, pleasehelpmenow &amp; FLWbooks. Thanks for the love. Tweet on',\n",
              "  array([-2.7440796, -2.4974937, -2.868701 , -1.9425159, -2.5883117,\n",
              "         -2.5947258, -1.7187923, -2.9611273, -2.8369632, -2.5125403,\n",
              "         -3.4162588, -2.8091068, -3.2271447], dtype=float32),\n",
              "  6,\n",
              "  'love'),\n",
              " (\"yay doctors  now interview then back 2 the doctor's for blood work\",\n",
              "  array([-2.8879273, -2.3429973, -3.095476 , -1.8441939, -2.8268344,\n",
              "         -2.7382002, -1.710985 , -2.8142946, -2.8100634, -2.4759223,\n",
              "         -3.474964 , -2.708518 , -3.258226 ], dtype=float32),\n",
              "  6,\n",
              "  'love'),\n",
              " ('May 10 is Human Kindness Day.',\n",
              "  array([-2.6365733, -2.9765263, -2.6771274, -2.2328513, -2.5572436,\n",
              "         -2.566376 , -1.4872353, -2.9549696, -2.5731058, -2.5347862,\n",
              "         -3.353501 , -3.1904972, -3.2876081], dtype=float32),\n",
              "  6,\n",
              "  'love'),\n",
              " ('lelebaby21 JazzyFiierce u guys are soo unfair smh...',\n",
              "  array([-2.8497233, -2.5288372, -2.881076 , -1.84373  , -2.624341 ,\n",
              "         -2.5274277, -1.862617 , -2.6357994, -2.8219852, -2.5480206,\n",
              "         -3.180153 , -2.8652964, -3.4253287], dtype=float32),\n",
              "  3,\n",
              "  'neutral'),\n",
              " ('jenkellytisdale  good luck  haha i loved your character in the bring it on: in it to win it  movie',\n",
              "  array([-2.525763 , -2.616645 , -2.624679 , -1.9867871, -2.6871982,\n",
              "         -2.4564743, -1.7130489, -3.2339983, -2.9920537, -2.5292044,\n",
              "         -3.2607677, -2.703291 , -3.5549195], dtype=float32),\n",
              "  6,\n",
              "  'love'),\n",
              " ('PRE-ORDER collection is launched EVERYTHING BELOW $20  VISIT US NOW http://bit.ly/haDfr',\n",
              "  array([-2.446193 , -2.3551922, -2.9194312, -1.8854785, -2.8094118,\n",
              "         -2.6970139, -1.9751817, -2.7589102, -2.7545123, -2.363114 ,\n",
              "         -3.4582481, -2.8901677, -3.2644231], dtype=float32),\n",
              "  3,\n",
              "  'neutral'),\n",
              " ('finally leavin tha studio.Made some really really good music Very pleased wit tha turnout  ',\n",
              "  array([-2.5652175, -2.327259 , -2.9781284, -1.7814503, -2.7237563,\n",
              "         -2.5473847, -2.030549 , -2.6913233, -2.8353078, -2.5563679,\n",
              "         -3.3512099, -2.8925934, -3.3097908], dtype=float32),\n",
              "  3,\n",
              "  'neutral'),\n",
              " ('TaylaMcCloud yeah i did haha 3rd episode is up as well',\n",
              "  array([-2.897335 , -2.3405013, -2.7838519, -2.031319 , -2.9814787,\n",
              "         -2.4999912, -1.9621259, -2.7092032, -2.5700157, -2.2715561,\n",
              "         -3.4663873, -2.6666923, -3.3456216], dtype=float32),\n",
              "  6,\n",
              "  'love'),\n",
              " ('Less than 99 days til warped tour.',\n",
              "  array([-2.7234843, -2.5939357, -2.9422212, -1.846346 , -2.8133771,\n",
              "         -2.5446703, -1.8574378, -2.6876307, -2.7462838, -2.3948247,\n",
              "         -3.3024797, -2.9040246, -3.2313457], dtype=float32),\n",
              "  3,\n",
              "  'neutral'),\n",
              " (\"no school today that's greeeeeat\",\n",
              "  array([-2.9762425, -2.1467617, -2.9394174, -2.079141 , -2.9172218,\n",
              "         -2.3332121, -2.5689669, -2.5506263, -2.6652107, -2.1534855,\n",
              "         -3.0742726, -2.7034664, -3.0028555], dtype=float32),\n",
              "  3,\n",
              "  'neutral'),\n",
              " ('AmberClare I want too soo bad, I hate missing GUMBO, but I have a shoot tommorrow that I have to be at for 8:30.  So No GUMBO for me....',\n",
              "  array([-2.9897432, -2.3321755, -2.9454336, -1.8093828, -3.0968356,\n",
              "         -2.410836 , -2.1037302, -2.7985125, -2.7504885, -2.2105212,\n",
              "         -3.110858 , -2.7043667, -3.398241 ], dtype=float32),\n",
              "  3,\n",
              "  'neutral'),\n",
              " (\"TheOriginalTeam Ooh can I have some? I'm hungry but I don't wanna get outta bed\",\n",
              "  array([-2.8095303, -2.2121034, -2.9819288, -1.8293008, -2.8529568,\n",
              "         -2.3712816, -2.3876858, -2.725429 , -2.7973237, -2.2598753,\n",
              "         -3.2903342, -2.7652369, -3.0979376], dtype=float32),\n",
              "  3,\n",
              "  'neutral'),\n",
              " ('richa_august84 hahahaha now that is a spooky wish babes  how about a lifetime supply of shoes with matching bags and constant weight?',\n",
              "  array([-2.7289112, -2.2058177, -3.0714126, -1.9612095, -2.9532332,\n",
              "         -2.546732 , -1.8280547, -2.7457917, -2.8764832, -2.3840537,\n",
              "         -3.4007196, -2.7500975, -3.31609  ], dtype=float32),\n",
              "  6,\n",
              "  'love'),\n",
              " ('i wish i could take my pillow to school. dead serious.',\n",
              "  array([-2.7904997, -2.1665595, -2.929105 , -2.0381386, -3.1069658,\n",
              "         -2.3161035, -2.101749 , -2.7182121, -2.6828942, -2.350863 ,\n",
              "         -3.224909 , -2.7676406, -3.1589038], dtype=float32),\n",
              "  3,\n",
              "  'neutral'),\n",
              " ('http://skipall.com/8p.png  The come apart easy enough',\n",
              "  array([-2.6496036, -2.541102 , -2.7803774, -1.9629252, -2.6002457,\n",
              "         -2.6395006, -1.7172071, -2.7344332, -2.795568 , -2.5210598,\n",
              "         -3.5056963, -2.940373 , -3.3931484], dtype=float32),\n",
              "  6,\n",
              "  'love'),\n",
              " (\"teamellyn sounds cool Liverpool's ace, especially if you like the beatles cos there's museums and shops dedicated to them\",\n",
              "  array([-2.7182055, -2.6155148, -2.8278012, -1.8006406, -2.649497 ,\n",
              "         -2.712991 , -1.8357038, -2.6630843, -3.1829324, -2.2850978,\n",
              "         -3.4003258, -2.7549658, -3.5038784], dtype=float32),\n",
              "  3,\n",
              "  'neutral'),\n",
              " ('Why are CDs in HMV so overpriced? Ã¯Â¿Â½12.99 for billyraycyrus? I hate having no money',\n",
              "  array([-2.6633654, -2.2335606, -2.966809 , -1.9497542, -3.0277436,\n",
              "         -2.4949906, -2.123875 , -2.72755  , -2.503444 , -2.4822998,\n",
              "         -3.350195 , -2.6172056, -3.2174306], dtype=float32),\n",
              "  3,\n",
              "  'neutral'),\n",
              " (\"I'm getting back into taylorswift13 again\",\n",
              "  array([-2.9145489, -2.3161297, -2.919592 , -1.9849707, -2.8573432,\n",
              "         -2.4214222, -2.195161 , -2.6583805, -2.7441134, -2.2591498,\n",
              "         -3.1145878, -2.6069853, -3.1878605], dtype=float32),\n",
              "  3,\n",
              "  'neutral'),\n",
              " ('markman641 HAPPY MOTHERS DAY MARK',\n",
              "  array([-2.646775 , -2.65897  , -2.7644138, -2.0837204, -2.5286856,\n",
              "         -2.6032379, -1.7005684, -2.9116132, -2.8631592, -2.4830012,\n",
              "         -3.1995134, -2.7594993, -3.3195188], dtype=float32),\n",
              "  6,\n",
              "  'love'),\n",
              " (\"Spending Mother's Day with Mom.\",\n",
              "  array([-2.6203809, -2.479625 , -2.980033 , -2.0260198, -2.6189837,\n",
              "         -2.567593 , -2.043754 , -2.6744533, -2.6623316, -2.4203637,\n",
              "         -2.9542842, -2.8259516, -3.1541624], dtype=float32),\n",
              "  3,\n",
              "  'neutral'),\n",
              " (\"StaciJShelton Well tell me what fashion tips you need and I'm your woman  hehehe\",\n",
              "  array([-2.7371097, -2.189919 , -2.980757 , -2.009564 , -3.0305083,\n",
              "         -2.449099 , -2.0488586, -2.650032 , -2.6340759, -2.3153386,\n",
              "         -3.325835 , -2.7870364, -3.3170924], dtype=float32),\n",
              "  3,\n",
              "  'neutral'),\n",
              " ('boredddddddd, work tomorrow..  and sunday. i hate clarks',\n",
              "  array([-3.054596 , -2.0648699, -2.875448 , -1.84199  , -2.8990512,\n",
              "         -2.342067 , -2.2892606, -2.7968967, -2.7614276, -2.3585408,\n",
              "         -3.1140113, -2.8442237, -3.2907803], dtype=float32),\n",
              "  3,\n",
              "  'neutral'),\n",
              " ('lilyroseallen yes........there are many cool things americans cannot watch',\n",
              "  array([-2.742641 , -2.5198822, -2.8104455, -2.1524677, -2.7388532,\n",
              "         -2.573462 , -1.7559984, -2.8206298, -2.6171782, -2.3904252,\n",
              "         -3.3887396, -2.711347 , -3.2005599], dtype=float32),\n",
              "  6,\n",
              "  'love'),\n",
              " (\"PC_Tech I just woke up a little while ago i did sleep a couple of hours lol i'm wide awake now\",\n",
              "  array([-3.0788674, -2.2204566, -2.8664343, -2.026373 , -2.7951653,\n",
              "         -2.4921231, -2.0628967, -2.5897753, -2.6735737, -2.3300674,\n",
              "         -3.2158422, -2.83742  , -3.0843172], dtype=float32),\n",
              "  3,\n",
              "  'neutral'),\n",
              " ('bored , cleanin the house',\n",
              "  array([-2.974554 , -2.0089126, -2.8369572, -2.0504436, -2.7866173,\n",
              "         -2.3038197, -2.1487374, -2.911057 , -2.9824228, -2.4108388,\n",
              "         -2.9101515, -2.8283343, -3.1949239], dtype=float32),\n",
              "  1,\n",
              "  'sadness'),\n",
              " ('I will surely vote for AllisonOfficial.',\n",
              "  array([-2.7543008, -2.379191 , -2.896923 , -2.0389125, -2.8450804,\n",
              "         -2.4851317, -1.9730172, -2.6744127, -2.7464519, -2.3638904,\n",
              "         -3.1197138, -2.7868834, -3.102464 ], dtype=float32),\n",
              "  6,\n",
              "  'love'),\n",
              " ('ltbored to death',\n",
              "  array([-2.8897977, -2.2014973, -2.8810618, -2.0277967, -2.9566736,\n",
              "         -2.3002045, -2.3624125, -2.5243464, -2.497388 , -2.5348487,\n",
              "         -2.964698 , -2.854275 , -3.020141 ], dtype=float32),\n",
              "  3,\n",
              "  'neutral'),\n",
              " (\"Banette_ good to be back It's really late though and I just got back from scaring some people and I'm pleased but really tired\",\n",
              "  array([-2.7935054, -2.1850038, -2.790052 , -1.977154 , -3.0555048,\n",
              "         -2.405108 , -2.4171863, -2.6707938, -2.6978838, -2.3820038,\n",
              "         -3.0617595, -2.6306608, -2.953397 ], dtype=float32),\n",
              "  3,\n",
              "  'neutral'),\n",
              " ('I think I might have to call it a night. Getting that falling feeling, need to fall into bed. Night, night, tweople',\n",
              "  array([-2.9523249, -2.1413562, -3.0451174, -1.9851224, -3.026773 ,\n",
              "         -2.2935953, -2.2719126, -2.6398647, -2.6791835, -2.3343844,\n",
              "         -3.0487692, -2.7238996, -3.1478004], dtype=float32),\n",
              "  3,\n",
              "  'neutral'),\n",
              " (\"ok so this eye doctor guy is taking forever and i'm sitting in a cold room by myself...what? A jerk\",\n",
              "  array([-2.950022 , -2.177317 , -2.9052591, -2.0560663, -3.1728644,\n",
              "         -2.3148046, -2.2621574, -2.6760936, -2.4961948, -2.3407803,\n",
              "         -3.1216085, -2.6912904, -3.0476732], dtype=float32),\n",
              "  3,\n",
              "  'neutral'),\n",
              " (\"Friday night has gone too quickly   My bottle's gone for tomorrow.. come on Everton\",\n",
              "  array([-2.603136 , -2.4149778, -2.8234463, -1.9520035, -2.944687 ,\n",
              "         -2.639403 , -1.7086648, -2.6240087, -2.8272367, -2.5430892,\n",
              "         -3.3320565, -2.8529656, -3.6356773], dtype=float32),\n",
              "  6,\n",
              "  'love'),\n",
              " ('prompt follow up delivery and briefing given by your sales manager mr.arun',\n",
              "  array([-2.4671571, -2.587531 , -2.836565 , -2.1647613, -2.8227127,\n",
              "         -2.4717216, -1.8768142, -2.8162913, -2.4897537, -2.4515097,\n",
              "         -3.3637557, -2.8036213, -3.0903175], dtype=float32),\n",
              "  6,\n",
              "  'love'),\n",
              " ('xo_mcflyandjb hey i loved your chapter more soon okay?  xx',\n",
              "  array([-2.8724227, -2.426967 , -2.811848 , -1.8304265, -2.621345 ,\n",
              "         -2.644783 , -1.8605506, -2.6170402, -2.9630811, -2.3870096,\n",
              "         -3.3353777, -2.9557633, -3.4686222], dtype=float32),\n",
              "  3,\n",
              "  'neutral'),\n",
              " (\"We'll write a song that turns out the lights &lt;3\",\n",
              "  array([-2.777339 , -2.3470852, -2.980579 , -1.9242531, -3.1158037,\n",
              "         -2.3493433, -2.2699847, -2.6092787, -2.669014 , -2.3714037,\n",
              "         -2.8986874, -2.6644878, -3.1863172], dtype=float32),\n",
              "  3,\n",
              "  'neutral'),\n",
              " ('Not talking to anais anymore.',\n",
              "  array([-2.6000745, -2.1576753, -2.7550366, -2.175187 , -2.8227353,\n",
              "         -2.290735 , -2.3138678, -2.7266152, -2.6513214, -2.3805518,\n",
              "         -3.1073527, -2.81209  , -3.2155032], dtype=float32),\n",
              "  1,\n",
              "  'sadness'),\n",
              " ('MoreDior if u can smell goodness all around you and energy of big city and pinch on butt feel real YES u are in Chicago',\n",
              "  array([-2.9058945, -2.730034 , -2.6916432, -2.0779586, -2.8614302,\n",
              "         -2.705906 , -1.736613 , -2.4777296, -2.8385615, -2.3093033,\n",
              "         -3.2061012, -2.645046 , -3.3895035], dtype=float32),\n",
              "  6,\n",
              "  'love'),\n",
              " (\"first year in ages where i'm not going to the crafty raft :O i don't mind though, i don't even like the crafty raft\",\n",
              "  array([-2.8784313, -2.1409376, -3.0637054, -1.9611024, -2.924488 ,\n",
              "         -2.235805 , -2.1771824, -2.6737852, -2.8658626, -2.6004543,\n",
              "         -3.039627 , -2.5692828, -3.2126746], dtype=float32),\n",
              "  3,\n",
              "  'neutral'),\n",
              " ('is off to RENT soon  Hope I can get home tonight though with all the train problems :s ...',\n",
              "  array([-3.0250185, -2.1859226, -2.971799 , -2.1949205, -2.8744128,\n",
              "         -2.4138947, -2.0921516, -2.5440798, -2.7264647, -2.2502806,\n",
              "         -3.2434916, -2.4897404, -3.328982 ], dtype=float32),\n",
              "  6,\n",
              "  'love'),\n",
              " (\"shortyyyy Aww how cute You'd love my bathroom  http://twitpic.com/4jez4\",\n",
              "  array([-2.7567983, -2.8493018, -2.7334185, -2.025733 , -2.3577116,\n",
              "         -2.5634923, -1.7289331, -2.8688297, -2.7819858, -2.5250769,\n",
              "         -3.3985257, -2.815163 , -3.205689 ], dtype=float32),\n",
              "  6,\n",
              "  'love'),\n",
              " ('Happy Mothers Day mom  I love you',\n",
              "  array([-2.644274 , -2.818175 , -2.8802948, -2.065689 , -2.4955902,\n",
              "         -2.7219434, -1.5196917, -3.2393756, -2.667579 , -2.745595 ,\n",
              "         -3.4743845, -2.659621 , -3.0871673], dtype=float32),\n",
              "  6,\n",
              "  'love'),\n",
              " ('we were impressed with the salesman.',\n",
              "  array([-2.4650397, -2.533331 , -2.8669608, -2.2018533, -2.6837654,\n",
              "         -2.5888002, -2.0702262, -2.8910732, -2.4957309, -2.3106089,\n",
              "         -2.8615167, -2.8088286, -3.124774 ], dtype=float32),\n",
              "  6,\n",
              "  'love'),\n",
              " (\"ryanmtedder He is the truth But what about Maxwell? You can't forget the future father of my children\",\n",
              "  array([-2.851532 , -2.2924223, -2.8196752, -1.954232 , -2.8019495,\n",
              "         -2.5347648, -2.0219421, -2.551159 , -2.6398191, -2.4704719,\n",
              "         -3.4425519, -2.7590437, -3.2620852], dtype=float32),\n",
              "  3,\n",
              "  'neutral'),\n",
              " ('Bah a coworker ran into work late and her bag smacked into my knee  it really hurts now',\n",
              "  array([-2.8244298, -2.1576257, -2.9470057, -2.0061657, -2.9737499,\n",
              "         -2.5341175, -2.0001874, -2.6383603, -2.663465 , -2.4704208,\n",
              "         -3.3574257, -2.6199474, -3.2457395], dtype=float32),\n",
              "  6,\n",
              "  'love'),\n",
              " (\"I think I'm going to go outside and have a very John Cage moment   Music majors rejoice\",\n",
              "  array([-2.9745703, -2.3861508, -3.0225356, -2.1130607, -2.6919265,\n",
              "         -2.5373433, -1.8379389, -2.5478747, -2.7304556, -2.45541  ,\n",
              "         -3.0250962, -2.6278157, -3.4617023], dtype=float32),\n",
              "  6,\n",
              "  'love'),\n",
              " ('selenagomez aww  cant wait to have you back in LA &lt;333',\n",
              "  array([-2.7982278, -2.268866 , -2.9239564, -2.0626607, -2.8732567,\n",
              "         -2.6339588, -1.6908987, -2.703845 , -2.8109004, -2.5486684,\n",
              "         -3.2435791, -2.7420745, -3.3989017], dtype=float32),\n",
              "  6,\n",
              "  'love'),\n",
              " ('Who thinks I should start doing iPhone App Development business?  reply to win an EasyWriter Pro code',\n",
              "  array([-2.6675432, -2.3377771, -2.9092085, -2.0134997, -2.8739574,\n",
              "         -2.5176802, -2.0401435, -2.6667225, -2.771328 , -2.3562963,\n",
              "         -3.1530457, -2.6814265, -3.1978912], dtype=float32),\n",
              "  3,\n",
              "  'neutral'),\n",
              " (\"Just watched The Goode Family premiere online... And I think this may be the last episode I watch. It's pretty amazingly mediocre  pass.\",\n",
              "  array([-2.8410769, -2.1684673, -2.799317 , -1.9679068, -2.9591475,\n",
              "         -2.4251275, -2.2710075, -2.5536306, -2.7531748, -2.3153055,\n",
              "         -3.0607345, -2.8813472, -3.219543 ], dtype=float32),\n",
              "  3,\n",
              "  'neutral'),\n",
              " ('is the luckiest girl in the world &lt;3',\n",
              "  array([-2.7124674, -2.3618784, -2.8099332, -1.8496151, -2.992074 ,\n",
              "         -2.51939  , -1.9545944, -2.7290041, -2.7333174, -2.5168025,\n",
              "         -3.1990914, -2.7986848, -3.3003721], dtype=float32),\n",
              "  3,\n",
              "  'neutral'),\n",
              " ('Neekatron that sounds delicious',\n",
              "  array([-2.8528259, -2.440803 , -2.7594197, -2.0207462, -2.8112693,\n",
              "         -2.4179893, -1.8850381, -2.753691 , -2.7619727, -2.5086992,\n",
              "         -3.310154 , -2.648984 , -3.1506681], dtype=float32),\n",
              "  6,\n",
              "  'love'),\n",
              " ('Have to go to my old house and finish moving.',\n",
              "  array([-2.794665 , -2.313585 , -2.8651686, -2.122593 , -2.8313625,\n",
              "         -2.3136466, -2.1504507, -2.6142476, -2.6024256, -2.5395658,\n",
              "         -3.207909 , -2.535271 , -3.1441917], dtype=float32),\n",
              "  3,\n",
              "  'neutral'),\n",
              " ('BHA It takes a big man to type a sad tweet like that',\n",
              "  array([-2.8079615, -2.18496  , -2.8975506, -1.9768267, -2.8184428,\n",
              "         -2.53201  , -2.412315 , -2.692782 , -2.6935585, -2.3488753,\n",
              "         -2.8346338, -2.7079053, -3.0263324], dtype=float32),\n",
              "  3,\n",
              "  'neutral'),\n",
              " ('My industrial is repierced, and I made a cute little friend',\n",
              "  array([-2.948032 , -2.4145384, -3.0101752, -1.6843634, -3.029058 ,\n",
              "         -2.3713138, -2.11567  , -2.7583103, -2.7088404, -2.3662271,\n",
              "         -3.1428425, -2.8558712, -3.3099277], dtype=float32),\n",
              "  3,\n",
              "  'neutral'),\n",
              " (\"I am so full. No more food tonight... I don't want no cake and ice cream at this party.\",\n",
              "  array([-2.758009 , -2.249009 , -2.8642528, -2.0445352, -2.7202992,\n",
              "         -2.328885 , -2.1216857, -2.6204495, -2.5937068, -2.5575275,\n",
              "         -3.227947 , -2.8326216, -3.2697048], dtype=float32),\n",
              "  3,\n",
              "  'neutral'),\n",
              " ('tom_pollard I have no denial for this because it is the fucking truth',\n",
              "  array([-2.8718677, -2.2284198, -2.9093235, -1.9723078, -2.9786777,\n",
              "         -2.2592053, -2.293052 , -2.7547884, -2.7503624, -2.21435  ,\n",
              "         -3.068441 , -2.753221 , -3.2482648], dtype=float32),\n",
              "  3,\n",
              "  'neutral'),\n",
              " ('Finally home sweet home',\n",
              "  array([-2.5552888, -2.5117385, -2.6875782, -2.1144314, -2.679826 ,\n",
              "         -2.413186 , -1.8019834, -2.8702164, -2.6498868, -2.7951095,\n",
              "         -3.3217275, -2.6924636, -3.2935624], dtype=float32),\n",
              "  6,\n",
              "  'love'),\n",
              " ('pixelmatrix Because those companies that make the bag sealers will go out of business.',\n",
              "  array([-2.6614547, -2.5452838, -2.8535218, -1.8762385, -2.7715702,\n",
              "         -2.5486956, -1.7753701, -2.7738829, -2.8813126, -2.6941257,\n",
              "         -3.2989888, -2.686995 , -3.2278888], dtype=float32),\n",
              "  6,\n",
              "  'love'),\n",
              " ('everybody needs some time on thier own  Guns N Roses x ? http://blip.fm/~5z5kz',\n",
              "  array([-2.5734758, -2.5836396, -2.9707341, -1.9473958, -2.6396987,\n",
              "         -2.826871 , -1.6932952, -2.5469785, -2.7640004, -2.571621 ,\n",
              "         -3.407307 , -2.9467974, -3.3126113], dtype=float32),\n",
              "  6,\n",
              "  'love'),\n",
              " (\"Happy Mother's Day Mom I love You\",\n",
              "  array([-2.9904344, -2.8610039, -2.7750678, -2.097237 , -2.7179174,\n",
              "         -2.8024302, -1.2616944, -2.9689343, -2.8843389, -2.7440822,\n",
              "         -3.3998528, -2.889367 , -3.2971706], dtype=float32),\n",
              "  6,\n",
              "  'love'),\n",
              " (\"Now i'm fully awake\",\n",
              "  array([-2.7117105, -2.3852425, -2.928481 , -1.9010429, -2.7475724,\n",
              "         -2.3942797, -2.1194181, -2.8185253, -2.7460883, -2.4272227,\n",
              "         -3.0988698, -2.7348647, -3.1932268], dtype=float32),\n",
              "  3,\n",
              "  'neutral'),\n",
              " ('If EVERYONE constantly retweeted that it would make it',\n",
              "  array([-2.7762482, -2.2476015, -3.0340986, -2.1636972, -2.968452 ,\n",
              "         -2.321635 , -2.2363045, -2.6296399, -2.6941838, -2.2597287,\n",
              "         -2.9122407, -2.7518215, -2.986497 ], dtype=float32),\n",
              "  3,\n",
              "  'neutral'),\n",
              " ('good morning everyone hope you al have a lovely sunday  (and i do hope it doesnt rain tomorrow :|)',\n",
              "  array([-2.4880395, -2.4688082, -2.84679  , -1.8632617, -2.7612863,\n",
              "         -2.6486826, -1.9930663, -2.6319418, -2.8526826, -2.362144 ,\n",
              "         -3.4355521, -2.934904 , -3.22831  ], dtype=float32),\n",
              "  3,\n",
              "  'neutral'),\n",
              " (\"H]ouse starts on Sunday and I'm sad as I can't afford Sky,\",\n",
              "  array([-2.7985706, -2.3161893, -2.9400604, -1.9643829, -2.8831663,\n",
              "         -2.2653663, -2.2087889, -2.6220338, -2.7824707, -2.4360461,\n",
              "         -3.0526156, -2.650003 , -3.274559 ], dtype=float32),\n",
              "  3,\n",
              "  'neutral'),\n",
              " (\"reyt fancies a valentinos. Worst of times considering i can't have any\",\n",
              "  array([-2.6644082, -2.2809548, -2.8147936, -1.9984317, -2.8744545,\n",
              "         -2.518768 , -2.0759137, -2.7436419, -2.6474893, -2.5276964,\n",
              "         -3.2975638, -2.4959757, -3.328014 ], dtype=float32),\n",
              "  3,\n",
              "  'neutral'),\n",
              " (\"Lozingsleep Damn, that charming skater look is kind of....HOT A hot mess  Catherine pls don't hate me for hitting on your friends. tnx\",\n",
              "  array([-2.7495317, -2.508128 , -2.7839613, -1.7227072, -3.0856533,\n",
              "         -2.5669122, -1.7412484, -2.8245056, -2.8850474, -2.591601 ,\n",
              "         -3.5364819, -2.7924342, -3.3243775], dtype=float32),\n",
              "  3,\n",
              "  'neutral'),\n",
              " (\"clarexsaula I am excited. Ashley and Matt should be here within the next half hour and that's when it all really starts for me.\",\n",
              "  array([-2.7722576, -2.5643716, -2.8268409, -2.001633 , -2.9552755,\n",
              "         -2.4201427, -1.8068593, -2.5612206, -2.8167396, -2.4201818,\n",
              "         -3.2795534, -2.8156567, -3.2799914], dtype=float32),\n",
              "  6,\n",
              "  'love'),\n",
              " ('woot, just won http://www.wowhead.com/?item=40328 for my tanking set, when the offspecs were allowed to roll, i got a 100',\n",
              "  array([-2.8376894, -2.377904 , -2.8481998, -1.9237032, -2.9075177,\n",
              "         -2.3898401, -2.2206144, -2.7453842, -2.9015555, -2.2958694,\n",
              "         -3.1146128, -2.4999619, -3.1335247], dtype=float32),\n",
              "  3,\n",
              "  'neutral'),\n",
              " ('Ben I Love yahh babe &lt;333 i miss you hope to see u tomorrow  Mommy i love  you tomorrow happy mothers day happy mother day to all moms',\n",
              "  array([-2.8663898, -2.9602842, -2.6553087, -1.9362247, -2.5727367,\n",
              "         -2.6798499, -1.4406343, -3.0256507, -2.8876925, -2.3617675,\n",
              "         -3.4811153, -3.203319 , -3.6807039], dtype=float32),\n",
              "  6,\n",
              "  'love'),\n",
              " ('harperkzm that sucks  booo.',\n",
              "  array([-2.9088578, -2.2679996, -2.7957156, -1.8191369, -2.9705675,\n",
              "         -2.4683113, -2.1266696, -2.7229738, -2.800515 , -2.4189975,\n",
              "         -3.2892332, -2.6447413, -3.2265158], dtype=float32),\n",
              "  3,\n",
              "  'neutral'),\n",
              " ('Watching ET today  &lt;3 Supposed to have a clip from New Moon  Hating Drag Me To Hell',\n",
              "  array([-2.8758378, -2.304525 , -2.9430757, -1.8388336, -2.820355 ,\n",
              "         -2.3893864, -2.3012424, -2.5911098, -2.8575535, -2.1832767,\n",
              "         -3.1141863, -2.8187551, -3.454561 ], dtype=float32),\n",
              "  3,\n",
              "  'neutral'),\n",
              " ('they assigned me a loaner car,absolutely free of charge, so i could keep up with my personal life.',\n",
              "  array([-2.6972327, -2.402321 , -2.8492336, -2.1732357, -2.8952065,\n",
              "         -2.3110223, -2.0951567, -2.7233195, -2.5116217, -2.54421  ,\n",
              "         -3.0737548, -2.5806296, -3.0877771], dtype=float32),\n",
              "  6,\n",
              "  'love'),\n",
              " ('Someone in UNITED STATES liked Eleminis http://tinyurl.com/dhlq5t',\n",
              "  array([-2.7694466, -2.2462945, -2.9265041, -1.9054826, -2.8752792,\n",
              "         -2.4837003, -1.9278809, -2.8321261, -2.637753 , -2.4642148,\n",
              "         -3.5097313, -2.8738577, -3.1696806], dtype=float32),\n",
              "  3,\n",
              "  'neutral'),\n",
              " (\"shaveblog Problem is, Flash isnt GPU accelerated.  The Atom 330 can't play Youtube HD or Hulu HD fullscreen   Big deal with Plex...\",\n",
              "  array([-2.7264662, -2.3408058, -3.0264049, -1.8914442, -2.8799329,\n",
              "         -2.3683887, -2.2141871, -2.6673272, -2.7737   , -2.3616958,\n",
              "         -3.1471176, -2.6962357, -3.1377356], dtype=float32),\n",
              "  3,\n",
              "  'neutral'),\n",
              " (\"didn't twitter much yesterday.apologizes for not responding,goodnight\",\n",
              "  array([-2.8631544, -2.3463202, -2.9347758, -1.8415625, -2.7081027,\n",
              "         -2.6009948, -1.9699945, -2.707193 , -2.84999  , -2.4035165,\n",
              "         -3.3623877, -2.6662912, -3.3234572], dtype=float32),\n",
              "  3,\n",
              "  'neutral'),\n",
              " ('HA. Totally posting an update at 2am.Its lightning outside, pretty.',\n",
              "  array([-2.8445377, -2.3715124, -2.8549318, -1.9304599, -2.7369666,\n",
              "         -2.5584352, -2.1639566, -2.8364532, -2.5939283, -2.2058077,\n",
              "         -3.3459368, -2.6681798, -3.2022667], dtype=float32),\n",
              "  3,\n",
              "  'neutral'),\n",
              " (\"Wife and kids have made it to San Antonio...almost to Corpus  Praying for safety the rest of the way.  Guess I'll watch the game alone\",\n",
              "  array([-2.74223  , -2.2872856, -2.7130904, -1.9117955, -3.1718469,\n",
              "         -2.4350998, -2.1067283, -2.8728619, -2.5967603, -2.429509 ,\n",
              "         -3.2008514, -2.8267646, -3.002316 ], dtype=float32),\n",
              "  3,\n",
              "  'neutral'),\n",
              " (\"and we're back in buisiness\",\n",
              "  array([-2.6323323, -2.4258034, -2.8809054, -2.0355709, -2.9139385,\n",
              "         -2.3721883, -2.173751 , -2.6060016, -2.6046715, -2.3005345,\n",
              "         -3.0253425, -2.878746 , -3.2442932], dtype=float32),\n",
              "  3,\n",
              "  'neutral'),\n",
              " ('Hope you all have a great Bank Holiday Monday',\n",
              "  array([-2.6706676, -2.542618 , -2.9404142, -1.977043 , -2.6941912,\n",
              "         -2.4837556, -2.021951 , -2.6784549, -2.562716 , -2.322983 ,\n",
              "         -3.2050605, -2.931251 , -3.2249777], dtype=float32),\n",
              "  3,\n",
              "  'neutral'),\n",
              " ('BlokesLib lol trying to take after her old man eh? Good for her hehehe very cute',\n",
              "  array([-2.738729 , -2.333914 , -2.8952556, -2.0258796, -2.7740097,\n",
              "         -2.5832968, -1.9014192, -2.6755624, -2.7514   , -2.534905 ,\n",
              "         -3.1481395, -2.5966659, -3.3654213], dtype=float32),\n",
              "  6,\n",
              "  'love'),\n",
              " (\"YO I'm just on the computer\",\n",
              "  array([-3.0065913, -2.137151 , -2.7802272, -1.937047 , -2.9216905,\n",
              "         -2.550303 , -2.2264428, -2.71736  , -2.7075036, -2.3550708,\n",
              "         -3.1930053, -2.544346 , -3.2346902], dtype=float32),\n",
              "  3,\n",
              "  'neutral'),\n",
              " ('Played the Eclectricity Festival  The Custard Factory last night was an UNREAL atmos right till the end Glad i played last set',\n",
              "  array([-2.8569803, -2.3288748, -2.8267117, -1.8689489, -2.86171  ,\n",
              "         -2.331563 , -2.3199165, -2.7471364, -2.8298817, -2.2394304,\n",
              "         -3.1546724, -2.6940074, -3.2403243], dtype=float32),\n",
              "  3,\n",
              "  'neutral'),\n",
              " ('twicullen good day K',\n",
              "  array([-3.1608844, -2.3899841, -2.8636642, -1.87024  , -2.8352976,\n",
              "         -2.5623806, -2.1208057, -2.6031773, -2.6781797, -2.2283587,\n",
              "         -3.0516927, -2.821793 , -3.1732159], dtype=float32),\n",
              "  3,\n",
              "  'neutral'),\n",
              " ('camikaos pheasant dreams, kaotic ones',\n",
              "  array([-2.7573614, -2.5848756, -2.5248682, -1.948563 , -2.6207848,\n",
              "         -2.617077 , -1.6214687, -2.8445153, -2.8358595, -2.8490772,\n",
              "         -3.3004985, -3.0046017, -3.3794408], dtype=float32),\n",
              "  6,\n",
              "  'love'),\n",
              " ('http://twitpic.com/4wukt - We bought Ludi her own rug. Dogs are the best',\n",
              "  array([-2.738615 , -2.645957 , -2.8249922, -2.1020706, -2.6228213,\n",
              "         -2.432806 , -1.757486 , -2.8677502, -2.726686 , -2.4879117,\n",
              "         -3.402945 , -2.7383215, -3.0634751], dtype=float32),\n",
              "  6,\n",
              "  'love'),\n",
              " ('In pain,, poor me, I HATE THE SUN',\n",
              "  array([-2.8108196, -2.0424616, -3.1124623, -1.9868724, -2.7598412,\n",
              "         -2.337773 , -2.4172587, -2.6769023, -2.6859903, -2.2435548,\n",
              "         -3.1380603, -2.887075 , -3.2862349], dtype=float32),\n",
              "  3,\n",
              "  'neutral'),\n",
              " ('this visit the microphone was replaced .',\n",
              "  array([-2.7373827, -2.361899 , -2.74726  , -1.9783716, -2.8881705,\n",
              "         -2.3309667, -2.2383828, -2.784527 , -2.7214546, -2.3853707,\n",
              "         -2.9948938, -2.727841 , -3.1209087], dtype=float32),\n",
              "  3,\n",
              "  'neutral'),\n",
              " (\"kouzrah etherreal WAS my main preoccupation. Now it's EtherREAL's preoccupation... humm... me ? schizophrenic ?\",\n",
              "  array([-3.0351977, -2.0905275, -3.0086126, -2.0283375, -2.966906 ,\n",
              "         -2.2653725, -2.38096  , -2.6553035, -2.623193 , -2.3623962,\n",
              "         -3.1361432, -2.5425158, -3.205895 ], dtype=float32),\n",
              "  3,\n",
              "  'neutral'),\n",
              " ('(amandastorlie) Shut up and put your money where your mouth is thats what you get for waking up in vegas',\n",
              "  array([-2.6720662, -2.4781628, -3.1769834, -1.89588  , -2.847943 ,\n",
              "         -2.5396838, -2.003706 , -2.6079288, -2.733499 , -2.150749 ,\n",
              "         -3.2330272, -2.9654222, -3.2872982], dtype=float32),\n",
              "  3,\n",
              "  'neutral'),\n",
              " ('Listening to maylene and wondering why cant I pull off as many cool southern metal licks as them',\n",
              "  array([-2.9191236, -2.2548604, -3.0256226, -1.9615417, -2.9432464,\n",
              "         -2.3797493, -2.1891327, -2.797954 , -2.6437821, -2.4276328,\n",
              "         -3.12828  , -2.3730726, -3.2855275], dtype=float32),\n",
              "  3,\n",
              "  'neutral'),\n",
              " ('dorkchops WOOHOOO very cool see I knew u would get to see her',\n",
              "  array([-2.7966409, -2.1853662, -3.0088964, -1.8137635, -2.9470057,\n",
              "         -2.5470636, -2.2291296, -2.6413383, -2.8170428, -2.4142513,\n",
              "         -3.1888065, -2.5950623, -3.2342844], dtype=float32),\n",
              "  3,\n",
              "  'neutral'),\n",
              " ('Been so busy for the entire week. Be able to take a breath next Tuesday',\n",
              "  array([-2.7468472, -2.492145 , -2.667688 , -1.991854 , -2.6859622,\n",
              "         -2.4784884, -2.122192 , -2.8147686, -2.653847 , -2.233551 ,\n",
              "         -3.264984 , -2.8066156, -3.233068 ], dtype=float32),\n",
              "  3,\n",
              "  'neutral'),\n",
              " (\"i can't wait. 2 more days till happiness.\",\n",
              "  array([-2.634944 , -2.2804253, -2.8128123, -2.0360858, -2.7886624,\n",
              "         -2.571343 , -2.051877 , -2.620452 , -2.7293787, -2.4971418,\n",
              "         -3.3773682, -2.5293338, -3.3571947], dtype=float32),\n",
              "  3,\n",
              "  'neutral'),\n",
              " ('Dang My voice wont came out And my snots is covering all my tissues... DANGIT I hate FLU',\n",
              "  array([-2.9797635, -2.1697772, -3.068928 , -1.861078 , -3.0010993,\n",
              "         -2.2488897, -2.3355327, -2.5651684, -2.70227  , -2.4083972,\n",
              "         -3.2697294, -2.631639 , -3.2937927], dtype=float32),\n",
              "  3,\n",
              "  'neutral'),\n",
              " ('MissSnoozer it will show up after awhile.  Mine took an hour',\n",
              "  array([-2.967239 , -1.9047787, -2.887115 , -2.0919883, -3.0982492,\n",
              "         -2.2652755, -2.34445  , -2.7479846, -2.7266817, -2.5007422,\n",
              "         -2.9302738, -2.6746886, -3.173332 ], dtype=float32),\n",
              "  1,\n",
              "  'sadness'),\n",
              " ('11hunabku11 Swine Flu victims unite  http://oinkflu.info',\n",
              "  array([-2.7954726, -2.9100828, -2.668372 , -1.9331048, -2.518364 ,\n",
              "         -2.8092167, -1.4874427, -3.0039148, -2.6212983, -2.799416 ,\n",
              "         -3.3789876, -2.8970392, -3.4682555], dtype=float32),\n",
              "  6,\n",
              "  'love'),\n",
              " (\"dragonflly93 I'm writing more fanfic.\",\n",
              "  array([-2.9428525, -2.3229775, -2.8462427, -1.9489465, -3.0181327,\n",
              "         -2.3917644, -1.9978279, -2.7558122, -2.607366 , -2.2935257,\n",
              "         -3.2537549, -2.7855527, -3.3723955], dtype=float32),\n",
              "  3,\n",
              "  'neutral'),\n",
              " (\"I can't believe Clinton and Bush were both here, doing a seminar together and I did not go\",\n",
              "  array([-2.6163998, -2.2762399, -2.8638034, -2.0831435, -2.7023234,\n",
              "         -2.5203621, -2.2381241, -2.6389284, -2.6886115, -2.2064047,\n",
              "         -3.30434  , -2.7498755, -3.2605028], dtype=float32),\n",
              "  3,\n",
              "  'neutral'),\n",
              " ('bbrownnewcolleg congratulations',\n",
              "  array([-2.9618583, -2.268387 , -3.0290432, -1.9353262, -2.7454567,\n",
              "         -2.1724055, -2.478371 , -2.8373384, -2.7705183, -2.3882828,\n",
              "         -2.9286516, -2.612729 , -2.9906259], dtype=float32),\n",
              "  3,\n",
              "  'neutral'),\n",
              " ('http://twitpic.com/67s14 - Saw a family of five get out of this motor home and into laundromat to clean clothes and bedding',\n",
              "  array([-2.8842971, -2.2394948, -2.8686423, -1.9512415, -2.8819895,\n",
              "         -2.498908 , -1.9457189, -2.7924302, -2.8945694, -2.4164727,\n",
              "         -3.0624547, -2.6506343, -3.3688903], dtype=float32),\n",
              "  6,\n",
              "  'love'),\n",
              " ('mikebrinkman Actually, the post shows they know what happens when you overflow...',\n",
              "  array([-2.8394635, -2.27678  , -3.061408 , -1.866662 , -2.751059 ,\n",
              "         -2.4601796, -2.0479407, -2.8684142, -2.9761858, -2.1829798,\n",
              "         -3.1908414, -2.8278599, -3.2589054], dtype=float32),\n",
              "  3,\n",
              "  'neutral'),\n",
              " ('Watching the Twins handle the Mariners again Whoo-hoo  Tony http://www.trustyfotografie.com',\n",
              "  array([-2.7489128, -2.4601934, -2.8551607, -1.8850648, -2.5777445,\n",
              "         -2.5578408, -1.8877034, -2.8707108, -2.948973 , -2.3676252,\n",
              "         -3.2181795, -2.9589689, -3.1766071], dtype=float32),\n",
              "  3,\n",
              "  'neutral'),\n",
              " ('CloverandBee YEA Way to go Super excited for a great Midwest resource Midwest pride',\n",
              "  array([-2.8467298, -2.263176 , -2.9987721, -1.9594572, -2.9648075,\n",
              "         -2.3881783, -1.9512762, -2.5971336, -2.843253 , -2.5854068,\n",
              "         -3.1232886, -2.6231263, -3.2960854], dtype=float32),\n",
              "  6,\n",
              "  'love'),\n",
              " (\"path189 why weren't we invited?\",\n",
              "  array([-2.84028  , -2.3464131, -2.8793561, -1.9351189, -2.7357006,\n",
              "         -2.3251615, -2.110834 , -2.820897 , -2.6819756, -2.4998205,\n",
              "         -3.3194518, -2.677116 , -3.0675774], dtype=float32),\n",
              "  3,\n",
              "  'neutral'),\n",
              " (\"BurT_E  It's an honour being your friend http://bit.ly/LhgZ2\",\n",
              "  array([-2.5931864, -2.5430782, -2.8953223, -2.0059354, -2.5926886,\n",
              "         -2.529696 , -1.8700031, -2.8057094, -2.651477 , -2.5103097,\n",
              "         -3.1649857, -2.8119335, -3.3933263], dtype=float32),\n",
              "  6,\n",
              "  'love'),\n",
              " ('i already hate my tan lines  oh well better get used to them',\n",
              "  array([-2.7235973, -2.1939602, -2.9690619, -1.8103601, -3.0296898,\n",
              "         -2.451036 , -2.2826483, -2.4875333, -2.815425 , -2.4914837,\n",
              "         -3.1167068, -2.7234762, -3.3336654], dtype=float32),\n",
              "  3,\n",
              "  'neutral'),\n",
              " ('christinerose Congratulations on winning the Indie Award',\n",
              "  array([-2.7437444, -2.7454016, -2.7297096, -1.8852477, -2.7427304,\n",
              "         -2.5823643, -1.7289804, -2.9111083, -2.686058 , -2.478292 ,\n",
              "         -3.4667902, -2.7997737, -3.2578132], dtype=float32),\n",
              "  6,\n",
              "  'love'),\n",
              " (\"pjhoody &quot;It's your birthday, so I know you wanna riiidddddeeee out&quot; Have fun in the club\",\n",
              "  array([-2.636682 , -2.311473 , -2.6913457, -1.9831398, -2.8825226,\n",
              "         -2.5901642, -2.1400146, -2.5367382, -2.8011034, -2.4043257,\n",
              "         -3.243026 , -2.5916436, -3.4715035], dtype=float32),\n",
              "  3,\n",
              "  'neutral'),\n",
              " (\"PHXPhoto No kidding there Ugh ... One thing I know for sure - it won't be me showing the property this weekend\",\n",
              "  array([-2.9413378, -2.4228897, -2.8712587, -1.8979276, -2.9525757,\n",
              "         -2.6371126, -2.1016018, -2.7082682, -2.6250467, -2.1979556,\n",
              "         -3.2637253, -2.596378 , -3.14439  ], dtype=float32),\n",
              "  3,\n",
              "  'neutral'),\n",
              " (\"Have to wait till Friday to pick up my Visa for China- not as expedited as I would have hoped, but at it's done   #geeksonaplane\",\n",
              "  array([-2.874888 , -2.1767554, -2.9251804, -1.9057364, -2.9838607,\n",
              "         -2.5325608, -2.3118773, -2.6677184, -2.7235944, -2.2386901,\n",
              "         -3.1635191, -2.625355 , -3.1621299], dtype=float32),\n",
              "  3,\n",
              "  'neutral'),\n",
              " (\"sexybrandy well... I don't drink\",\n",
              "  array([-2.7358613, -2.3778768, -3.0268648, -1.8660369, -3.0248194,\n",
              "         -2.5608666, -1.9228413, -2.8042939, -2.5567148, -2.4334023,\n",
              "         -3.3279567, -2.6695821, -3.3180847], dtype=float32),\n",
              "  3,\n",
              "  'neutral'),\n",
              " (\"LittleMary01 I miss you too Not sure when I'll next be on msn - mum's computer is tempermental...there's always fb email?\",\n",
              "  array([-2.8291442, -2.347276 , -3.2249024, -1.8510145, -2.8334548,\n",
              "         -2.50436  , -2.1523986, -2.7799013, -2.8902118, -2.1885908,\n",
              "         -3.0705914, -2.5968618, -3.1906962], dtype=float32),\n",
              "  3,\n",
              "  'neutral'),\n",
              " ('MariahCarey &quot;VISION OF LOVE&quot; Play now &quot;i had the vision of luv n it was aaaaaoOUoOuoOUU that u..turn out..toOoo&quot; Mariah this ur part',\n",
              "  array([-2.9837584, -2.2576904, -2.988838 , -1.7633542, -2.888403 ,\n",
              "         -2.4077892, -2.4432244, -2.6392708, -2.727024 , -2.2766836,\n",
              "         -3.2959104, -2.5360134, -3.359136 ], dtype=float32),\n",
              "  3,\n",
              "  'neutral'),\n",
              " ('????? http//isgd/wxMt  ??????? ???  and may the source be with you',\n",
              "  array([-2.762281 , -2.3795424, -2.7101564, -1.93237  , -2.6951632,\n",
              "         -2.5995452, -2.0445595, -2.6474788, -2.771616 , -2.4210415,\n",
              "         -3.4313595, -2.670885 , -3.2728245], dtype=float32),\n",
              "  3,\n",
              "  'neutral'),\n",
              " (\"pd1001 Aw poor you..ironing Eek lol It's raining here too.....prob try and get out with the kids later..nt too exciting im afraid\",\n",
              "  array([-2.91369  , -2.112961 , -2.8681774, -1.9194406, -2.853718 ,\n",
              "         -2.2906575, -2.4370382, -2.911314 , -2.8591855, -2.2930617,\n",
              "         -3.024788 , -2.6477153, -3.145445 ], dtype=float32),\n",
              "  3,\n",
              "  'neutral'),\n",
              " ('May the fourth be with you.  Oh come on, no one had actually spelled it out yet',\n",
              "  array([-2.6965528, -2.3269844, -2.9652984, -1.9957008, -2.6856883,\n",
              "         -2.558365 , -2.0272791, -2.7234077, -2.600872 , -2.4485557,\n",
              "         -3.2090645, -2.8475316, -3.0889223], dtype=float32),\n",
              "  3,\n",
              "  'neutral'),\n",
              " ('This is the last time to get it right...  hello loves....',\n",
              "  array([-2.6234057, -2.6080847, -2.7476196, -2.0691013, -2.8825135,\n",
              "         -2.522784 , -1.7365642, -2.5754113, -2.5628912, -2.5222306,\n",
              "         -3.3290508, -3.0132997, -3.423604 ], dtype=float32),\n",
              "  6,\n",
              "  'love'),\n",
              " ('mtomsjr Thank u hun. Say the same to yours.  Good Night. LIQUID DREAMS',\n",
              "  array([-2.478886 , -2.6597705, -2.6451273, -2.1064315, -2.7241848,\n",
              "         -2.6468925, -1.7422628, -2.6900039, -2.7909133, -2.6198783,\n",
              "         -3.4474342, -2.6762877, -3.2382104], dtype=float32),\n",
              "  6,\n",
              "  'love'),\n",
              " ('klm I knew that. I attended an innovation seminar at Picnic 2007.',\n",
              "  array([-2.9460669, -2.1419082, -2.8939292, -1.9438088, -2.9611664,\n",
              "         -2.212521 , -2.5414233, -2.8497248, -2.6137314, -2.209763 ,\n",
              "         -3.0439053, -2.848891 , -3.097414 ], dtype=float32),\n",
              "  3,\n",
              "  'neutral'),\n",
              " ('im going to work',\n",
              "  array([-2.749175 , -2.3951664, -2.8617265, -2.34598  , -2.7901511,\n",
              "         -2.251572 , -2.2111478, -2.5431721, -2.3740704, -2.5655282,\n",
              "         -3.1307592, -2.6507256, -2.9405327], dtype=float32),\n",
              "  6,\n",
              "  'love'),\n",
              " ('natbubba yeah, totally unfair.  we should just. FLAME THEM EVERYWHERE',\n",
              "  array([-2.8326206, -2.4184217, -2.909852 , -2.0089426, -2.760817 ,\n",
              "         -2.3855767, -1.9147544, -2.6851406, -2.693472 , -2.4823828,\n",
              "         -3.2413926, -2.826827 , -3.1442244], dtype=float32),\n",
              "  6,\n",
              "  'love'),\n",
              " ('taylorswift13 Hayley Williams is pretty much amazzing',\n",
              "  array([-2.935317 , -2.261425 , -2.8131871, -1.6284767, -2.8981812,\n",
              "         -2.5119762, -2.1404638, -2.8998342, -2.8200588, -2.5851173,\n",
              "         -3.4087949, -2.721245 , -3.130058 ], dtype=float32),\n",
              "  3,\n",
              "  'neutral'),\n",
              " ('made reservation to bring my car in 1 week in advance and requested a loner car.',\n",
              "  array([-2.8246512, -2.3142128, -3.0070376, -1.921829 , -3.0098517,\n",
              "         -2.3160462, -2.3211021, -2.789053 , -2.5992827, -2.2950296,\n",
              "         -2.9798121, -2.6881156, -3.1112232], dtype=float32),\n",
              "  3,\n",
              "  'neutral'),\n",
              " ('khalen it was good. Next time you get oohed you know where to go',\n",
              "  array([-2.8248057, -2.6327868, -2.486992 , -1.972451 , -2.9864488,\n",
              "         -2.5430374, -1.9938993, -2.6700082, -2.5914788, -2.4419136,\n",
              "         -3.2113228, -2.6835694, -3.1822405], dtype=float32),\n",
              "  3,\n",
              "  'neutral'),\n",
              " ('is up and ready',\n",
              "  array([-2.8067448, -2.2926495, -2.7941418, -1.8839217, -2.858417 ,\n",
              "         -2.5567293, -2.3876076, -2.5981524, -2.6926768, -2.336773 ,\n",
              "         -3.1274052, -2.7304351, -2.97786  ], dtype=float32),\n",
              "  3,\n",
              "  'neutral'),\n",
              " ('DawnRichard giv ya mom n gman happy mothers day',\n",
              "  array([-2.85713  , -2.7309916, -2.8182554, -2.1308239, -2.433946 ,\n",
              "         -2.7118602, -1.5168376, -2.829956 , -2.6131682, -2.577961 ,\n",
              "         -3.4380515, -3.104884 , -3.2126045], dtype=float32),\n",
              "  6,\n",
              "  'love'),\n",
              " ('BlokesLib lmao you witty wacko...loves it',\n",
              "  array([-2.799063 , -2.6001077, -2.9846907, -1.865061 , -2.658905 ,\n",
              "         -2.600613 , -1.9065043, -2.794899 , -2.7850947, -2.3034682,\n",
              "         -3.2803385, -2.6432996, -3.350243 ], dtype=float32),\n",
              "  3,\n",
              "  'neutral'),\n",
              " ('watching FRIENDS reduces stress inside me. Thanks to Bright, Kauffman, and Crane who are created these series  love love love',\n",
              "  array([-2.6874824, -2.5580945, -2.6009376, -2.097866 , -2.7748327,\n",
              "         -2.5362446, -1.6337999, -2.7695413, -2.8084059, -2.5825906,\n",
              "         -3.382899 , -2.8665988, -3.4592462], dtype=float32),\n",
              "  6,\n",
              "  'love'),\n",
              " ('worldfamousKid awwwww poor Drew... I hope you feel better before Krush',\n",
              "  array([-2.8126316, -2.5198534, -2.9188807, -2.1713367, -2.8067825,\n",
              "         -2.5861104, -1.7209901, -2.5905745, -2.6204941, -2.444509 ,\n",
              "         -3.4249172, -2.684896 , -3.1803918], dtype=float32),\n",
              "  6,\n",
              "  'love'),\n",
              " (\"rsxy ive been spending time w/my momma we're celebrating mother's day for her early  ive been good how was woodburn?\",\n",
              "  array([-2.802703 , -2.1624274, -2.9453237, -2.0719163, -2.8280482,\n",
              "         -2.416246 , -2.2064805, -2.6961098, -2.6618896, -2.4005032,\n",
              "         -3.0350919, -2.6679595, -3.1727614], dtype=float32),\n",
              "  3,\n",
              "  'neutral'),\n",
              " (\"louisecherrie fab although don't think anyone could measure up to the standard set by jason donovan  \",\n",
              "  array([-2.780262 , -2.3227935, -3.1320984, -1.7924085, -2.9156818,\n",
              "         -2.3555183, -2.1950023, -2.712603 , -2.8887694, -2.4396014,\n",
              "         -3.0542326, -2.6784616, -3.1146936], dtype=float32),\n",
              "  3,\n",
              "  'neutral'),\n",
              " ('drumzonly yay. das tut trotzdem weh.',\n",
              "  array([-2.6785994, -2.4491081, -3.0082567, -1.9990988, -2.7307343,\n",
              "         -2.3239822, -2.0185192, -2.618285 , -2.7749648, -2.4863477,\n",
              "         -3.1365266, -2.7892964, -3.1981425], dtype=float32),\n",
              "  3,\n",
              "  'neutral'),\n",
              " ('Huh, another ScarePoint coding Sunday',\n",
              "  array([-2.8358612, -2.2199636, -2.9286847, -2.0197394, -2.980413 ,\n",
              "         -2.4112034, -2.0588791, -2.5829616, -2.7215014, -2.4283404,\n",
              "         -3.2161212, -2.749352 , -3.103383 ], dtype=float32),\n",
              "  3,\n",
              "  'neutral'),\n",
              " ('Carmnx Aawh, that; s too bad',\n",
              "  array([-2.8868828, -2.442494 , -2.948059 , -1.9980065, -2.6388438,\n",
              "         -2.342926 , -2.0922456, -2.554598 , -2.6228075, -2.4238944,\n",
              "         -3.311686 , -2.8438547, -3.1054072], dtype=float32),\n",
              "  3,\n",
              "  'neutral'),\n",
              " ('danielshockk coooooooool, yes, CIWWAF are awesome.',\n",
              "  array([-2.9492393, -2.244781 , -2.8530047, -1.9280269, -3.0521207,\n",
              "         -2.3712962, -1.9986677, -2.9699707, -2.7007587, -2.222129 ,\n",
              "         -3.368268 , -2.693426 , -3.396372 ], dtype=float32),\n",
              "  3,\n",
              "  'neutral'),\n",
              " ('knowledgeable staff.',\n",
              "  array([-2.7960372, -2.6285377, -2.7074628, -1.9291891, -2.3948007,\n",
              "         -2.5488577, -2.029298 , -2.8496342, -2.5566106, -2.460414 ,\n",
              "         -3.2016296, -2.8939326, -3.2936783], dtype=float32),\n",
              "  3,\n",
              "  'neutral'),\n",
              " ('Antwoinne Hey babe, nothing much tryin to see what imma do at work today lol, look like the load isnt so bad.',\n",
              "  array([-2.9517608, -2.2899752, -3.1409457, -2.1325653, -2.8851235,\n",
              "         -2.3480985, -2.0244493, -2.640578 , -2.5843334, -2.3630137,\n",
              "         -3.2419245, -2.6205573, -3.026396 ], dtype=float32),\n",
              "  6,\n",
              "  'love'),\n",
              " ('AroundHarlem that reminds me, i need to pick up a mask 2mrw. Thanks  I prefer not to take meds because i will b addicted',\n",
              "  array([-3.0029926, -2.3293324, -2.9491193, -1.8855227, -3.004199 ,\n",
              "         -2.4507263, -2.2465446, -2.6347866, -2.5443542, -2.2220697,\n",
              "         -3.2292292, -2.7724998, -3.0671039], dtype=float32),\n",
              "  3,\n",
              "  'neutral'),\n",
              " (\"m_jonas101 WOW they're totally amazing and they're more than awesome\",\n",
              "  array([-2.6191134, -2.55586  , -3.0508528, -1.913451 , -2.6654203,\n",
              "         -2.829078 , -1.7186495, -2.9274597, -2.8466578, -2.504091 ,\n",
              "         -3.3924742, -2.4944162, -3.2919285], dtype=float32),\n",
              "  6,\n",
              "  'love'),\n",
              " (\"fridayyyyy.... but i'm working\",\n",
              "  array([-3.0746229, -2.058321 , -2.9384313, -1.9393845, -3.1717362,\n",
              "         -2.3283565, -2.2107632, -2.6374488, -2.7992606, -2.4295208,\n",
              "         -2.9674754, -2.6614301, -3.25395  ], dtype=float32),\n",
              "  3,\n",
              "  'neutral'),\n",
              " (\"Just took a shower.We're gonna go to Church.Time to thank Him for my mother.\",\n",
              "  array([-2.578636 , -2.3172448, -2.7739763, -2.225101 , -2.6464758,\n",
              "         -2.2308085, -2.1597304, -2.7126985, -2.728377 , -2.5098872,\n",
              "         -3.2877703, -2.6519136, -3.204077 ], dtype=float32),\n",
              "  6,\n",
              "  'love'),\n",
              " ('Hi-5 to ALL my friends and ummm thanks for the follow and enjoy the ride IF I make too many trips (I will) for u and u gotta go i get it',\n",
              "  array([-2.8778825, -2.4192085, -2.932939 , -1.9577639, -2.9374847,\n",
              "         -2.2965906, -1.8891156, -2.6555517, -3.0233095, -2.2750623,\n",
              "         -3.3608627, -2.8279881, -3.2187   ], dtype=float32),\n",
              "  6,\n",
              "  'love'),\n",
              " ('ashleytisdale have fun  i dont have school for a while, wish i could go to germany... its like 1 hour away  xoxo',\n",
              "  array([-2.94314  , -2.4222162, -2.9678526, -1.954605 , -2.8355362,\n",
              "         -2.4990404, -1.942023 , -2.6948426, -2.588848 , -2.3734272,\n",
              "         -3.467927 , -2.5838094, -3.249619 ], dtype=float32),\n",
              "  6,\n",
              "  'love'),\n",
              " (\"therealsavannah I think you are a follow-your-dreams-and-they-will-come-true person. That's why your my  favourite YouTube star\",\n",
              "  array([-2.5456092, -2.4469469, -2.9608607, -1.9584188, -2.689254 ,\n",
              "         -2.475597 , -1.8646277, -2.8579087, -2.727831 , -2.441579 ,\n",
              "         -3.4066877, -2.8725376, -3.3330374], dtype=float32),\n",
              "  6,\n",
              "  'love'),\n",
              " (\"baloneyFACE probably the coooolest thing we've ever done\",\n",
              "  array([-2.8883996, -2.3476224, -2.9092774, -1.9496897, -3.0260382,\n",
              "         -2.3071558, -2.2764473, -2.714983 , -2.7119412, -2.269907 ,\n",
              "         -2.9826083, -2.6413636, -3.1385527], dtype=float32),\n",
              "  3,\n",
              "  'neutral'),\n",
              " (\"My son had surgery yesterday so mommy and son time won't be as long today\",\n",
              "  array([-2.8513641, -2.2507112, -3.0844877, -1.8558049, -2.8639765,\n",
              "         -2.4109087, -2.1898873, -2.7018209, -2.8506927, -2.2818851,\n",
              "         -3.1479692, -2.7091415, -3.2286015], dtype=float32),\n",
              "  3,\n",
              "  'neutral'),\n",
              " ('Dann and I are in Vegas. We misconnected and our next flight is at 4:45 to Midway. Tonight I will be in a hotel w/o undies',\n",
              "  array([-2.745633 , -2.3535688, -2.8438113, -2.001364 , -2.962173 ,\n",
              "         -2.4311256, -2.0882475, -2.7447715, -2.6626825, -2.264636 ,\n",
              "         -3.1786814, -2.7183187, -3.261193 ], dtype=float32),\n",
              "  3,\n",
              "  'neutral'),\n",
              " ('Dinner with the fam... I have missed them',\n",
              "  array([-2.7733617, -2.229527 , -2.8640833, -1.773757 , -2.9576526,\n",
              "         -2.4382386, -2.1852965, -2.8745956, -2.7090702, -2.3853319,\n",
              "         -3.3541355, -2.7379675, -3.3021915], dtype=float32),\n",
              "  3,\n",
              "  'neutral'),\n",
              " ('ageofbrillig nice one  what do you suggest I order there?',\n",
              "  array([-2.8734167, -2.4017146, -3.025595 , -1.8681664, -2.9131947,\n",
              "         -2.3746605, -2.173878 , -2.577284 , -2.5264978, -2.4302325,\n",
              "         -3.3423355, -2.6043334, -3.3334131], dtype=float32),\n",
              "  3,\n",
              "  'neutral'),\n",
              " ('Sneaking out. Going to work for a friend',\n",
              "  array([-2.79217  , -2.2982574, -2.7108593, -2.0307176, -2.7305827,\n",
              "         -2.397413 , -2.2686992, -2.7208314, -2.8698287, -2.2750366,\n",
              "         -3.1622412, -2.6861107, -3.0971403], dtype=float32),\n",
              "  3,\n",
              "  'neutral'),\n",
              " (\"gi_ri_ja  it sucks, doesn't it?\",\n",
              "  array([-2.7351327, -2.481075 , -2.7187662, -2.055603 , -2.521926 ,\n",
              "         -2.5486975, -1.9891896, -2.6194997, -2.7712126, -2.4459186,\n",
              "         -3.4791946, -2.6643088, -3.2278256], dtype=float32),\n",
              "  6,\n",
              "  'love'),\n",
              " (\"Today is my Mother's birthday- Happy Birthday &amp; I love you She is an angel whom has helped me so much during this time of my life\",\n",
              "  array([-2.5364008, -2.7657864, -2.7480311, -1.8970803, -2.5822406,\n",
              "         -2.5692496, -1.7639902, -2.8120232, -2.8969526, -2.7499964,\n",
              "         -3.3323288, -2.6848488, -3.2924757], dtype=float32),\n",
              "  6,\n",
              "  'love'),\n",
              " ('LisaHopeCyrus sry twitterfon is kinda shit i will stay at tweetie  this world is so unfair you always have to pay for good stuff :/',\n",
              "  array([-2.862245 , -2.223374 , -2.926525 , -2.072651 , -3.0475512,\n",
              "         -2.3692906, -2.0081577, -2.506742 , -2.741439 , -2.3989077,\n",
              "         -3.294828 , -2.7192762, -3.216402 ], dtype=float32),\n",
              "  6,\n",
              "  'love'),\n",
              " ('Booo totally bored',\n",
              "  array([-2.8873117, -2.2603228, -2.9158788, -1.9887094, -2.7565749,\n",
              "         -2.4524481, -2.2783334, -2.602476 , -2.8313935, -2.293009 ,\n",
              "         -2.9953666, -2.6574616, -3.1522546], dtype=float32),\n",
              "  3,\n",
              "  'neutral'),\n",
              " ('At my parents, net is good  Enjoyin myself too.',\n",
              "  array([-2.7787251, -2.1930947, -3.045692 , -2.2332792, -2.9032838,\n",
              "         -2.309763 , -2.215163 , -2.5522647, -2.5256982, -2.457891 ,\n",
              "         -3.0693793, -2.6436102, -3.0526924], dtype=float32),\n",
              "  1,\n",
              "  'sadness'),\n",
              " ('My #musicmonday offering: http://tinyurl.com/dg9ad5 Tony Christie feat. All Seeing I - Walk Like a Panther',\n",
              "  array([-2.8854375, -2.5040467, -2.7078004, -2.0617194, -2.688662 ,\n",
              "         -2.523851 , -1.6729382, -2.7650676, -2.6736097, -2.542024 ,\n",
              "         -3.4711366, -2.8206005, -3.4626188], dtype=float32),\n",
              "  6,\n",
              "  'love'),\n",
              " ('whaaay, first day on my own tomorrow. this should go well',\n",
              "  array([-2.8347807, -2.5200772, -2.991983 , -1.8394308, -2.7063255,\n",
              "         -2.3542726, -1.89313  , -2.7621474, -2.8484862, -2.5053635,\n",
              "         -3.4329329, -2.672052 , -3.345593 ], dtype=float32),\n",
              "  3,\n",
              "  'neutral'),\n",
              " ('lovemedown hello hello hello  what u up to tonight??',\n",
              "  array([-2.8935037, -2.2235284, -3.0045972, -2.117821 , -2.7700987,\n",
              "         -2.2853215, -1.6749699, -2.765983 , -2.998538 , -2.6601877,\n",
              "         -3.2853734, -2.8497412, -3.3013527], dtype=float32),\n",
              "  6,\n",
              "  'love'),\n",
              " ('Money Laundering tip 5 - Sell the business or constructed hotel etc and take possession of your now clean money',\n",
              "  array([-2.7695332, -2.2682915, -2.9798136, -2.0782497, -2.9710565,\n",
              "         -2.3351104, -2.202401 , -2.4226131, -2.7486205, -2.3303404,\n",
              "         -3.1762972, -2.6504922, -3.2979832], dtype=float32),\n",
              "  3,\n",
              "  'neutral'),\n",
              " (\"Whoa, I didn't mean to sleep for more than an hour\",\n",
              "  array([-2.8738446, -2.1455898, -2.983408 , -1.9101305, -2.8809736,\n",
              "         -2.1955793, -2.3703027, -2.8179402, -2.5993066, -2.536011 ,\n",
              "         -2.9796216, -2.8565598, -3.090085 ], dtype=float32),\n",
              "  3,\n",
              "  'neutral'),\n",
              " ('he answered all of our questions.',\n",
              "  array([-2.4316456, -2.1636624, -2.8539948, -2.1487422, -2.880405 ,\n",
              "         -2.4245095, -2.1846752, -2.8981671, -2.8285332, -2.3928907,\n",
              "         -3.013235 , -2.793675 , -2.9978337], dtype=float32),\n",
              "  3,\n",
              "  'neutral'),\n",
              " (\"sophieveronica Ha-ha abbreviate it , so it's not so bulky\",\n",
              "  array([-2.8117447, -2.2754235, -2.971727 , -1.9082762, -2.8135345,\n",
              "         -2.265956 , -2.2859175, -2.7174742, -2.8096452, -2.3215933,\n",
              "         -3.1069002, -2.7596235, -3.2250948], dtype=float32),\n",
              "  3,\n",
              "  'neutral'),\n",
              " ('solobasssteve Morning, dude Ivy has decided she wants to go on a boat today. Are you guys around this PM? Would be nice to see you.',\n",
              "  array([-2.8127537, -2.3618217, -3.1171498, -2.079266 , -2.7180336,\n",
              "         -2.5015845, -1.9631021, -2.5721686, -2.709573 , -2.3082721,\n",
              "         -3.182238 , -2.7407117, -3.2279072], dtype=float32),\n",
              "  6,\n",
              "  'love'),\n",
              " ('KatherineLunt Really bored tonight though  Your book I think (Y) xxxxx',\n",
              "  array([-2.692863 , -2.210692 , -3.0621722, -1.9185076, -2.8318133,\n",
              "         -2.3373632, -2.2269197, -2.6167867, -2.9004712, -2.35372  ,\n",
              "         -3.2433677, -2.7055278, -3.3019412], dtype=float32),\n",
              "  3,\n",
              "  'neutral'),\n",
              " ('Happy Mothers May to my Mak   Love you always XOXO.',\n",
              "  array([-2.4803605, -2.5855563, -2.697547 , -2.00114  , -2.625443 ,\n",
              "         -2.7656128, -1.7217189, -2.8920836, -2.6591568, -2.5041168,\n",
              "         -3.4133992, -2.971376 , -3.4142823], dtype=float32),\n",
              "  6,\n",
              "  'love'),\n",
              " ('Sulumits Retsambew is thinking: A billion here, a billion there, pretty soon it adds up to real money.',\n",
              "  array([-2.632488 , -2.3252258, -2.8482604, -2.0449708, -2.814087 ,\n",
              "         -2.5019486, -2.099358 , -2.607192 , -2.4219232, -2.4459698,\n",
              "         -3.2651372, -2.912593 , -3.2987306], dtype=float32),\n",
              "  3,\n",
              "  'neutral'),\n",
              " ('woken up by a bacon and egg sandwich in bed - man I have good housemates',\n",
              "  array([-2.839375 , -2.329263 , -3.0545154, -1.827115 , -2.9453723,\n",
              "         -2.5337586, -2.2352698, -2.7331355, -2.7741895, -2.3017106,\n",
              "         -3.0886176, -2.6524518, -2.9244173], dtype=float32),\n",
              "  3,\n",
              "  'neutral'),\n",
              " (\"MeredthSalenger Ur so cute..I'm a fan of Dream A Little Dream, This Kiss and appearances like in Dawson's Creek  Make more flicks\",\n",
              "  array([-2.7992709, -2.1793494, -3.0593843, -2.0714915, -2.8690853,\n",
              "         -2.517229 , -2.0203526, -2.6399617, -2.762433 , -2.3069887,\n",
              "         -3.2603831, -2.6546938, -3.2109764], dtype=float32),\n",
              "  6,\n",
              "  'love'),\n",
              " ('I want to go outside and play in the sunshine, but I have to sit in front of a computer all day   At least I can have lunch on the patio',\n",
              "  array([-2.7224426, -2.1233215, -2.7357373, -2.0375173, -2.8591766,\n",
              "         -2.3192055, -2.4117086, -2.7224917, -2.760319 , -2.211559 ,\n",
              "         -3.0308285, -2.927645 , -3.3868823], dtype=float32),\n",
              "  3,\n",
              "  'neutral'),\n",
              " (\"sky14kemea There gone.  Now I'm going home.  Make me sad to leave the mall.\",\n",
              "  array([-2.7732968, -2.3416593, -2.9816494, -1.9337052, -2.9035525,\n",
              "         -2.2759385, -2.218628 , -2.660276 , -2.7674527, -2.404566 ,\n",
              "         -3.1265578, -2.591805 , -3.2712154], dtype=float32),\n",
              "  3,\n",
              "  'neutral'),\n",
              " ('kamathvasanth: wait till the vacation ends u shud be cycling a lot then',\n",
              "  array([-2.7919943, -2.166959 , -3.004274 , -1.964862 , -2.8104103,\n",
              "         -2.5618615, -2.0628407, -2.8111842, -2.625116 , -2.5197852,\n",
              "         -3.0642486, -2.6914675, -3.1587214], dtype=float32),\n",
              "  3,\n",
              "  'neutral'),\n",
              " ('Why am i even trying to go to sleep. Its 28c in here. I miss the cold winter nights',\n",
              "  array([-2.737333 , -2.1774209, -2.8320684, -1.924449 , -2.6424174,\n",
              "         -2.3157835, -2.4656549, -2.6099882, -2.7216833, -2.4720273,\n",
              "         -3.0052845, -2.9131243, -3.3609464], dtype=float32),\n",
              "  3,\n",
              "  'neutral'),\n",
              " ('oh yea mspacers my boy just hooked up my page  it looks kewl at least i think so and it only took him 5 minutes www.myspace.com/missmickey',\n",
              "  array([-2.8486657, -2.1656942, -2.9938145, -1.9332875, -2.7823374,\n",
              "         -2.4072223, -1.9433188, -2.7409058, -3.0359015, -2.362343 ,\n",
              "         -3.3874278, -2.7372363, -3.436821 ], dtype=float32),\n",
              "  3,\n",
              "  'neutral'),\n",
              " ('SaundraYee hey, welcome to Twitter',\n",
              "  array([-2.6980023, -2.4218407, -2.8447113, -1.9769833, -2.3313637,\n",
              "         -2.5930629, -1.7919884, -2.9123058, -2.9090502, -2.6599736,\n",
              "         -3.4412243, -2.8000028, -3.29632  ], dtype=float32),\n",
              "  6,\n",
              "  'love'),\n",
              " ('Had a good day 2day  off to bed. Nite tweeps.',\n",
              "  array([-2.8910012, -2.3498383, -2.928584 , -1.8647233, -3.0475206,\n",
              "         -2.526332 , -2.0581846, -2.8047092, -2.6256764, -2.1835227,\n",
              "         -3.3162775, -2.7709203, -3.1913085], dtype=float32),\n",
              "  3,\n",
              "  'neutral'),\n",
              " ('Lady Gaga - Poker face (acoustic)  is really really good, she really can sing',\n",
              "  array([-2.6517715, -2.4588943, -2.8738577, -1.9005265, -2.944592 ,\n",
              "         -2.6679387, -1.9491675, -2.7284622, -2.6838775, -2.3613687,\n",
              "         -3.2312207, -2.7537935, -3.1592143], dtype=float32),\n",
              "  3,\n",
              "  'neutral'),\n",
              " (\"KnightGrl OMG I'm sorry to hear that I will keep my fingers crossed that you find something\",\n",
              "  array([-2.6530423, -2.34686  , -2.672008 , -2.0779297, -2.6134846,\n",
              "         -2.4807768, -1.9730933, -2.887255 , -2.8960512, -2.5634046,\n",
              "         -3.230464 , -2.517827 , -3.3403912], dtype=float32),\n",
              "  6,\n",
              "  'love'),\n",
              " (\"Think I'll go enjoy the sun's rays again...I LOVE being off work\",\n",
              "  array([-2.8275962, -2.4676192, -2.8941956, -2.1451495, -2.6940312,\n",
              "         -2.4569287, -1.906392 , -2.6590514, -2.7370682, -2.3049319,\n",
              "         -3.3127627, -2.560829 , -3.394805 ], dtype=float32),\n",
              "  6,\n",
              "  'love'),\n",
              " ('Oh gosh how I want the party to be over and done with already.',\n",
              "  array([-2.6520185, -2.290001 , -2.8215566, -1.9351376, -2.8873525,\n",
              "         -2.5083818, -2.043214 , -2.634725 , -2.9343185, -2.438063 ,\n",
              "         -3.198154 , -2.7124672, -3.2668452], dtype=float32),\n",
              "  3,\n",
              "  'neutral'),\n",
              " ('e__O lol but tiz a good song',\n",
              "  array([-2.908813 , -2.3066435, -2.7268276, -1.882209 , -2.8496208,\n",
              "         -2.5129852, -2.205449 , -2.731861 , -2.7029438, -2.450284 ,\n",
              "         -3.138548 , -2.5970302, -3.1494408], dtype=float32),\n",
              "  3,\n",
              "  'neutral'),\n",
              " ('Movie is pretty interesting actually. Gonna finish watching it.  probably seeing star trek tomorrow. &lt;3 ZQ. lol',\n",
              "  array([-2.7972884, -2.2603304, -2.9854705, -1.8639467, -3.0992043,\n",
              "         -2.4286442, -2.181098 , -2.6239967, -2.7595224, -2.2304804,\n",
              "         -3.2484097, -2.828796 , -3.1762075], dtype=float32),\n",
              "  3,\n",
              "  'neutral'),\n",
              " ('TheRealKeeks Not Pretty But one hell of a show  non the less',\n",
              "  array([-2.858271 , -2.210425 , -2.854055 , -1.8195513, -2.8202543,\n",
              "         -2.4701157, -2.5469458, -2.7834654, -2.6901455, -2.3115294,\n",
              "         -2.985136 , -2.754716 , -3.0403352], dtype=float32),\n",
              "  3,\n",
              "  'neutral'),\n",
              " ('should be coming out of hospital today',\n",
              "  array([-2.9454675, -2.2739851, -3.0607088, -1.8337555, -2.8766527,\n",
              "         -2.2240477, -2.4483156, -2.7249672, -2.6057384, -2.380084 ,\n",
              "         -3.120899 , -2.9689355, -2.8216631], dtype=float32),\n",
              "  3,\n",
              "  'neutral'),\n",
              " ('Boooo my 2nd wkend bein 21 n ima b in tha house alone',\n",
              "  array([-2.7371068, -2.248133 , -2.8778377, -1.951877 , -2.849594 ,\n",
              "         -2.476181 , -2.1970742, -2.5502229, -2.8405416, -2.386241 ,\n",
              "         -3.191914 , -2.7436135, -3.1131678], dtype=float32),\n",
              "  3,\n",
              "  'neutral'),\n",
              " ('Sad because i cant go over my friends house',\n",
              "  array([-2.9926105, -2.1074264, -2.8406446, -1.9375485, -3.0576267,\n",
              "         -2.3574576, -2.3911371, -2.6990476, -2.6576824, -2.4910727,\n",
              "         -3.1066875, -2.587016 , -2.9475322], dtype=float32),\n",
              "  3,\n",
              "  'neutral'),\n",
              " (\"Happy mama's day to all the mamas.\",\n",
              "  array([-2.8123846, -2.9625883, -2.503977 , -1.9358438, -2.661713 ,\n",
              "         -2.809802 , -1.4535706, -3.0390723, -2.689032 , -2.866702 ,\n",
              "         -3.0095274, -3.1771402, -3.3615842], dtype=float32),\n",
              "  6,\n",
              "  'love'),\n",
              " ('happy mothers day  esp to my mommy',\n",
              "  array([-2.88094  , -2.631977 , -2.7553296, -1.945357 , -2.464989 ,\n",
              "         -2.800127 , -1.7384964, -2.7919655, -2.6988215, -2.5752192,\n",
              "         -3.2992501, -2.735783 , -3.286499 ], dtype=float32),\n",
              "  6,\n",
              "  'love'),\n",
              " (\"Fran_v  haha i was in your boat yesterday.. you'll pick it up in no time\",\n",
              "  array([-2.8573701, -2.2953353, -2.8933425, -2.028772 , -2.9507606,\n",
              "         -2.5177193, -2.3016896, -2.5871036, -2.6675737, -2.1961496,\n",
              "         -2.986529 , -2.6003854, -3.1860096], dtype=float32),\n",
              "  3,\n",
              "  'neutral'),\n",
              " (\"Dameunited thanks well impressed it's much better than my last one  must b the clean living + Gluten free lactose free food\",\n",
              "  array([-2.7569582, -2.1957583, -2.8179893, -2.012539 , -2.981265 ,\n",
              "         -2.3963952, -1.997056 , -2.5582683, -2.8475997, -2.606291 ,\n",
              "         -3.1356509, -2.652381 , -3.4681902], dtype=float32),\n",
              "  6,\n",
              "  'love'),\n",
              " (\"ashestoashessn2 Fab, eh?  Feel free to come along for some pre-ep 4 chat and drinks over at Luigi's - http://www.luigis.org.uk tomorrow\",\n",
              "  array([-2.8343978, -2.551118 , -2.9126525, -1.8969169, -2.7453995,\n",
              "         -2.6421285, -1.8948544, -2.6296177, -2.6178882, -2.3414476,\n",
              "         -3.2809443, -2.9783936, -3.1373162], dtype=float32),\n",
              "  6,\n",
              "  'love'),\n",
              " ('troublebrother no, stay and play',\n",
              "  array([-3.0073352, -2.2152054, -2.8104963, -1.8503675, -2.9660454,\n",
              "         -2.4203608, -2.1625912, -2.7607455, -2.919578 , -2.1964293,\n",
              "         -3.4276416, -2.6614404, -3.2713046], dtype=float32),\n",
              "  3,\n",
              "  'neutral'),\n",
              " ('Looks like I have a couple hours of software updates to install on the brand-new machine... feels just like Windows',\n",
              "  array([-2.681703 , -2.3550637, -2.9646783, -2.158369 , -2.8695316,\n",
              "         -2.3844178, -2.0198076, -2.6365256, -2.8077564, -2.328278 ,\n",
              "         -3.0043073, -2.6517425, -3.2567828], dtype=float32),\n",
              "  6,\n",
              "  'love'),\n",
              " ('ZnaTrainer Ahhh Music to my ears',\n",
              "  array([-2.6555586, -2.5708785, -2.8868809, -1.8455489, -2.7999713,\n",
              "         -2.488069 , -1.8843249, -2.7874222, -2.6629224, -2.4610813,\n",
              "         -3.2449803, -2.976984 , -3.2917717], dtype=float32),\n",
              "  3,\n",
              "  'neutral'),\n",
              " ('Just had an amazinq qirls-niqht-out. I quess its always qreat to have an excuse to wear tiny dresses &amp; heels',\n",
              "  array([-3.040668 , -1.9616451, -2.9229083, -1.9575816, -3.0006065,\n",
              "         -2.4526145, -2.3961089, -2.672335 , -2.6102405, -2.2473085,\n",
              "         -3.3334837, -2.8209853, -3.0749912], dtype=float32),\n",
              "  3,\n",
              "  'neutral'),\n",
              " ('eating breakfast  getting ready to go to school ;(',\n",
              "  array([-2.773838 , -2.2807477, -3.0909271, -1.9126397, -2.9258666,\n",
              "         -2.3676984, -2.3668544, -2.729928 , -2.7346869, -2.4139287,\n",
              "         -3.0155625, -2.5827224, -2.8657002], dtype=float32),\n",
              "  3,\n",
              "  'neutral'),\n",
              " ('Man i am being boring today not tweeting  How are you guys?',\n",
              "  array([-2.8607912, -2.193119 , -2.826023 , -1.8346753, -2.900941 ,\n",
              "         -2.4586215, -2.0325184, -2.6816044, -2.9410958, -2.4588115,\n",
              "         -3.4259083, -2.7452674, -3.2909865], dtype=float32),\n",
              "  3,\n",
              "  'neutral'),\n",
              " ('has such a freakin migraine',\n",
              "  array([-2.9938664, -2.2268753, -2.9591827, -1.8073446, -2.9953103,\n",
              "         -2.391831 , -2.3411386, -2.645698 , -2.7130976, -2.2473025,\n",
              "         -3.1175199, -2.8746977, -3.1073518], dtype=float32),\n",
              "  3,\n",
              "  'neutral'),\n",
              " ('very customer focused sales person at high wycombe who kept me updated on progress as the car came from sytner sheffield.',\n",
              "  array([-2.5557256, -2.673862 , -2.7764187, -2.0694802, -2.6625855,\n",
              "         -2.5717049, -2.0619178, -2.7636223, -2.8571587, -2.30887  ,\n",
              "         -3.218254 , -2.4745872, -3.0492773], dtype=float32),\n",
              "  6,\n",
              "  'love'),\n",
              " ('Relaxin after a fun day',\n",
              "  array([-2.8662753, -2.181502 , -2.7815995, -1.8638495, -3.0642383,\n",
              "         -2.4587774, -2.1526892, -2.7898026, -2.6872845, -2.504275 ,\n",
              "         -2.9874444, -2.7641344, -3.2158012], dtype=float32),\n",
              "  3,\n",
              "  'neutral'),\n",
              " ('Happy &quot;Star Wars&quot; Day, Twitters.  http://migre.me/SiE :*',\n",
              "  array([-2.6642826, -2.3507686, -3.0571437, -1.8946118, -2.7711294,\n",
              "         -2.5682483, -1.9970403, -2.6688194, -2.6893911, -2.5367057,\n",
              "         -3.3503046, -2.6649892, -3.179607 ], dtype=float32),\n",
              "  3,\n",
              "  'neutral'),\n",
              " ('alekandsteph thanks for adding me, glad to have you',\n",
              "  array([-2.6124785, -2.7894416, -2.951142 , -2.1753638, -2.6142101,\n",
              "         -2.4932659, -1.618419 , -2.8404007, -2.8097234, -2.5666544,\n",
              "         -3.2154384, -2.6716971, -3.204489 ], dtype=float32),\n",
              "  6,\n",
              "  'love'),\n",
              " ('the second time i brought my bmw in to get the part installed, chet let me know not all the parts were ordered as the trim would be damaged when weathering was replaced.',\n",
              "  array([-2.6551144, -2.1971228, -2.825565 , -1.9926376, -3.045611 ,\n",
              "         -2.306697 , -2.3719158, -2.6098661, -2.7181745, -2.4822764,\n",
              "         -2.9738727, -2.7627294, -3.0966365], dtype=float32),\n",
              "  3,\n",
              "  'neutral'),\n",
              " (\"i wish i was at angelcore's burning trees and trying on dresses...\",\n",
              "  array([-2.741688 , -2.3730235, -2.9187918, -2.0897079, -2.8428676,\n",
              "         -2.4953752, -1.9108472, -2.588415 , -2.699512 , -2.397624 ,\n",
              "         -3.0297604, -2.764889 , -3.4635735], dtype=float32),\n",
              "  6,\n",
              "  'love'),\n",
              " ('when i fell on my ass today i ripped my blue volcom boxers',\n",
              "  array([-2.7094352, -2.1193495, -2.8205032, -1.9460818, -2.8973742,\n",
              "         -2.3379636, -2.3634944, -2.8122802, -2.8671074, -2.397096 ,\n",
              "         -2.961173 , -2.7103603, -3.2457166], dtype=float32),\n",
              "  3,\n",
              "  'neutral'),\n",
              " ('up at 4:30am west coast time..gettin ready to catch my flight back home..soooo excited to go back to my two fav boyzzzz  puppy n BF',\n",
              "  array([-2.842247 , -2.3255572, -2.9259975, -1.9273624, -2.9321446,\n",
              "         -2.3858652, -2.171965 , -2.5663023, -2.6737568, -2.4045074,\n",
              "         -3.0068207, -2.782226 , -3.2670805], dtype=float32),\n",
              "  3,\n",
              "  'neutral'),\n",
              " ('JennifeAniston I think is The parent trap &amp; High school musical',\n",
              "  array([-2.5528708, -2.516094 , -2.961044 , -1.8825896, -2.5593247,\n",
              "         -2.7629962, -1.9995189, -2.7074146, -2.7829118, -2.4487607,\n",
              "         -3.0910563, -2.7825613, -3.2379038], dtype=float32),\n",
              "  3,\n",
              "  'neutral'),\n",
              " ('plynke plus, look at all the orbs you either have ghosts or you need to clean the mirror',\n",
              "  array([-2.960559 , -2.274941 , -2.8294072, -1.8127978, -2.9904978,\n",
              "         -2.6661847, -1.9654666, -2.8253658, -2.558421 , -2.375768 ,\n",
              "         -3.227788 , -2.833397 , -3.3473468], dtype=float32),\n",
              "  3,\n",
              "  'neutral'),\n",
              " ('claudiatan http://twitpic.com/4jber - aww .... then we wonder why they hate us later..... lol',\n",
              "  array([-2.607933 , -2.4730601, -2.934362 , -1.86581  , -2.761304 ,\n",
              "         -2.6450024, -2.160974 , -2.649558 , -2.6710548, -2.4136298,\n",
              "         -3.278026 , -2.6785223, -3.017867 ], dtype=float32),\n",
              "  3,\n",
              "  'neutral'),\n",
              " (\"Ship. I'm stuck.\",\n",
              "  array([-2.739769 , -2.4580445, -2.9283667, -1.8590949, -2.8156762,\n",
              "         -2.2747993, -2.1864517, -2.7669187, -2.597312 , -2.5519514,\n",
              "         -3.1922903, -2.7757134, -3.0602245], dtype=float32),\n",
              "  3,\n",
              "  'neutral'),\n",
              " ('karaokevegan Happy Mothersday',\n",
              "  array([-2.5890841, -2.6341355, -2.871839 , -1.9292192, -2.6706505,\n",
              "         -2.5974138, -1.7874854, -2.5662944, -3.0123813, -2.4080782,\n",
              "         -3.3276956, -2.818509 , -3.5519938], dtype=float32),\n",
              "  6,\n",
              "  'love'),\n",
              " ('Heading home  i love my boys',\n",
              "  array([-2.7781723, -2.9196727, -2.897713 , -1.9527032, -2.5728621,\n",
              "         -2.5273473, -1.7317357, -2.8483233, -2.7567902, -2.2372308,\n",
              "         -3.3741267, -2.9111876, -3.3010721], dtype=float32),\n",
              "  6,\n",
              "  'love'),\n",
              " ('Heavenly Donuts at 11:30 at night...sounds like a heavenly match to me.  SIYAL8R',\n",
              "  array([-2.771974 , -2.4286957, -2.7090628, -1.885873 , -2.7838788,\n",
              "         -2.6053777, -1.9966384, -2.6035454, -2.7060928, -2.5441077,\n",
              "         -3.3714886, -2.6434097, -3.359818 ], dtype=float32),\n",
              "  3,\n",
              "  'neutral'),\n",
              " ('My inner desire is to go to an isle in the middle of the Mediterranean to soak up the sun; Good night... as I dream that inner desire.',\n",
              "  array([-2.5661163, -2.415637 , -2.8699408, -2.062388 , -2.7912474,\n",
              "         -2.3326087, -2.0860677, -2.8137546, -2.566232 , -2.4408631,\n",
              "         -3.165061 , -2.7442951, -3.295546 ], dtype=float32),\n",
              "  3,\n",
              "  'neutral'),\n",
              " ('its a perfect op for everyone to advertise their blogs',\n",
              "  array([-2.8036041, -2.2814445, -2.867632 , -1.9702377, -2.8245132,\n",
              "         -2.6049843, -2.1781945, -2.5679564, -2.8179934, -2.4181426,\n",
              "         -3.0080266, -2.481782 , -3.3231378], dtype=float32),\n",
              "  3,\n",
              "  'neutral'),\n",
              " (\"DreamsAnais_MJA ..I don't know who gon do the yelling &amp; cussing for upgrades when u go.\",\n",
              "  array([-2.7217207, -2.1821544, -2.9758952, -1.8556747, -2.982552 ,\n",
              "         -2.711457 , -2.0606594, -2.6933646, -2.7297482, -2.4767876,\n",
              "         -3.1278944, -2.6835146, -3.2043831], dtype=float32),\n",
              "  3,\n",
              "  'neutral'),\n",
              " ('24 hours and $400 later and I hav a new telecom phone that dosent work.  Stupid telecom',\n",
              "  array([-2.9748807, -2.0698867, -3.050753 , -2.0301356, -2.8708205,\n",
              "         -2.3663387, -2.302076 , -2.7197976, -2.6548226, -2.2656646,\n",
              "         -3.0955467, -2.6775985, -3.2279184], dtype=float32),\n",
              "  3,\n",
              "  'neutral'),\n",
              " ('Had a fun late night talk with koerter  Good night world.',\n",
              "  array([-2.7032647, -2.278453 , -2.798612 , -1.9724476, -2.973048 ,\n",
              "         -2.4121773, -2.1534584, -2.8085365, -2.7157648, -2.2925305,\n",
              "         -3.160352 , -2.7866359, -3.1649945], dtype=float32),\n",
              "  3,\n",
              "  'neutral'),\n",
              " (\"bgbrwneyesNY hm... i don't I can recommend any white chocolates though.. you have to move to the 'dark' side first..\",\n",
              "  array([-2.9158022, -2.352869 , -2.92904  , -1.8885319, -2.9432058,\n",
              "         -2.2852767, -2.1354911, -2.6603675, -2.4928472, -2.5149436,\n",
              "         -3.4036171, -2.726447 , -3.1892223], dtype=float32),\n",
              "  3,\n",
              "  'neutral'),\n",
              " (\"KDVCashville omg that was my twin sister's fav song\",\n",
              "  array([-2.7791152, -2.572228 , -2.7954862, -1.8892767, -2.8879523,\n",
              "         -2.622522 , -1.7122035, -2.7705796, -2.795905 , -2.4723444,\n",
              "         -3.342355 , -2.7847311, -3.3431253], dtype=float32),\n",
              "  6,\n",
              "  'love'),\n",
              " ('A little twitter mention on SNL',\n",
              "  array([-2.7473783, -2.3553987, -2.8169882, -2.0275927, -2.8708858,\n",
              "         -2.3486586, -1.8911414, -2.8512287, -2.8750105, -2.4666524,\n",
              "         -3.5014834, -2.63678  , -3.0842547], dtype=float32),\n",
              "  6,\n",
              "  'love'),\n",
              " ('TweetTwang gotta check with the bro on that...and mine is a girl',\n",
              "  array([-2.7685974, -2.287825 , -3.1170158, -1.8291087, -2.9382656,\n",
              "         -2.5077121, -2.1283193, -2.705181 , -2.6250916, -2.3753784,\n",
              "         -3.3799992, -2.61923  , -3.262535 ], dtype=float32),\n",
              "  3,\n",
              "  'neutral'),\n",
              " ('JennLovesM5 DUDE WHAT? I WANNNNAAAA GOOOOOO',\n",
              "  array([-2.960885 , -2.279191 , -2.8544576, -1.9183761, -2.9657457,\n",
              "         -2.42757  , -2.1803582, -2.4945426, -2.6790373, -2.3988013,\n",
              "         -3.3543487, -2.6578116, -3.178938 ], dtype=float32),\n",
              "  3,\n",
              "  'neutral'),\n",
              " (\"coraline was scary yesterday, didn't puke luckily.  ahaa. 1 week &amp; 1 day till i'm 14 baby\",\n",
              "  array([-2.8398569, -2.1822076, -3.0389152, -1.9154469, -2.9470305,\n",
              "         -2.3763642, -2.2161732, -2.840454 , -2.7465687, -2.2278361,\n",
              "         -3.2510364, -2.7329688, -3.0981138], dtype=float32),\n",
              "  3,\n",
              "  'neutral'),\n",
              " (\"BGT  Piers shouldn't have buzzed when the little girls were singing\",\n",
              "  array([-3.018063 , -2.3063014, -2.8569024, -2.0586288, -2.7182803,\n",
              "         -2.519279 , -2.3471327, -2.6946783, -2.720781 , -2.2806275,\n",
              "         -2.7356439, -2.6331897, -2.9576197], dtype=float32),\n",
              "  3,\n",
              "  'neutral'),\n",
              " (\"i wanna vote for Miley Cyrus for the mtv movie awards..but i don't know where i could  somebody could send me a link? thaank you &lt;3\",\n",
              "  array([-2.635539 , -2.3243017, -2.871192 , -2.0003672, -2.8422034,\n",
              "         -2.620046 , -1.960384 , -2.6019616, -2.8119886, -2.361739 ,\n",
              "         -3.1787286, -2.7244678, -3.4750338], dtype=float32),\n",
              "  6,\n",
              "  'love'),\n",
              " (\"alroaker Loved the comment on flashcads I'm old school too\",\n",
              "  array([-2.9902854, -2.1878653, -3.0505805, -2.0051885, -2.7750099,\n",
              "         -2.3628178, -2.2702374, -2.7422924, -2.7313876, -2.3776696,\n",
              "         -2.9204612, -2.661455 , -3.0009375], dtype=float32),\n",
              "  3,\n",
              "  'neutral'),\n",
              " ('is really really ready',\n",
              "  array([-2.9744763, -2.38696  , -3.0128686, -2.1069057, -2.7322426,\n",
              "         -2.2735293, -2.1524985, -2.7510614, -2.701497 , -2.3174143,\n",
              "         -3.1132598, -2.5770454, -2.9547653], dtype=float32),\n",
              "  3,\n",
              "  'neutral'),\n",
              " ('On another note, geoDefense Easy down. Onwards to the medium maps, where a whole other world of pain awaits my exploration',\n",
              "  array([-2.7114344, -2.3846636, -2.8923755, -1.9262731, -2.9375036,\n",
              "         -2.3663762, -1.9601504, -2.7788217, -2.686593 , -2.3161077,\n",
              "         -3.2813077, -2.9710422, -3.3541572], dtype=float32),\n",
              "  3,\n",
              "  'neutral'),\n",
              " ('Alright gang. Gotta go park with family for an hour. Back then  Mwahs to yu if you head to bed before then',\n",
              "  array([-3.0974789, -2.1115177, -2.971838 , -1.7377771, -3.0561657,\n",
              "         -2.4939418, -2.391546 , -2.7927032, -2.829235 , -2.1966896,\n",
              "         -3.1265368, -2.7197104, -3.1173162], dtype=float32),\n",
              "  3,\n",
              "  'neutral'),\n",
              " (\"jaysun093  yes it is. Sucks don't it\",\n",
              "  array([-2.79776  , -2.591105 , -3.0825796, -2.043923 , -2.781855 ,\n",
              "         -2.6289725, -1.6886016, -2.5370884, -2.7047944, -2.397559 ,\n",
              "         -3.3433635, -2.7124045, -3.4645514], dtype=float32),\n",
              "  6,\n",
              "  'love'),\n",
              " (\"can't believe the weekend is over already  Where does the time go?  Had a nice day with the fam. today.  Mum had a good day too.\",\n",
              "  array([-2.6153684, -2.3307796, -2.8697453, -1.9325395, -2.8791547,\n",
              "         -2.631814 , -2.0730023, -2.651351 , -2.73743  , -2.3259406,\n",
              "         -3.1449404, -2.7733474, -3.3325412], dtype=float32),\n",
              "  3,\n",
              "  'neutral'),\n",
              " ('My hips are too wide to rock those mario Kart shorts  why couldn i have the bone structure of a 12 year old boy?',\n",
              "  array([-2.9753494, -2.3147662, -2.8725595, -1.8175416, -2.8241322,\n",
              "         -2.4297879, -2.122859 , -2.8262691, -2.8181863, -2.3718126,\n",
              "         -3.1562293, -2.6837835, -3.1954327], dtype=float32),\n",
              "  3,\n",
              "  'neutral'),\n",
              " (\"nsane8 Icametumbling  Whether that's good or bad, I can't disagree with you there.\",\n",
              "  array([-2.7122464, -2.6799278, -2.9692154, -1.9489031, -2.8083274,\n",
              "         -2.311369 , -2.1187935, -2.570583 , -2.4903326, -2.3857458,\n",
              "         -3.2664168, -2.6987944, -3.356996 ], dtype=float32),\n",
              "  3,\n",
              "  'neutral'),\n",
              " ('richa_august84 - requoting the gyaan - the more you live life, the more you fail to notice how you live it - quote By muthu...',\n",
              "  array([-2.6714945, -2.5189533, -3.0634434, -2.0211747, -2.8725452,\n",
              "         -2.5086892, -1.9567822, -2.7317123, -2.5141835, -2.394663 ,\n",
              "         -3.1892886, -2.5970268, -3.2466824], dtype=float32),\n",
              "  6,\n",
              "  'love'),\n",
              " ('Great dinner and great friends Follow kristaeccleston She is my cupcake',\n",
              "  array([-3.0250244, -2.7052922, -2.7425656, -2.0074544, -2.6797585,\n",
              "         -2.62855  , -1.5966486, -2.7848155, -2.7635794, -2.3513014,\n",
              "         -3.3155794, -2.869515 , -3.5257492], dtype=float32),\n",
              "  6,\n",
              "  'love'),\n",
              " (\"phantomdata lmao I'm glad you guys liked it\",\n",
              "  array([-2.583125 , -2.4734457, -2.9153833, -1.9371121, -2.8138673,\n",
              "         -2.5546498, -1.8474605, -2.7010705, -2.8262818, -2.4788675,\n",
              "         -3.3022823, -2.655665 , -3.530818 ], dtype=float32),\n",
              "  6,\n",
              "  'love'),\n",
              " ('ChesterBaker Really laughing out loud Seeing a limo in front of MacDonalds is just to funny',\n",
              "  array([-3.0001957, -2.0483546, -3.072895 , -2.0395615, -2.8342528,\n",
              "         -2.3985755, -2.3051488, -2.6441212, -2.7416217, -2.2623472,\n",
              "         -2.988655 , -2.79911  , -3.10799  ], dtype=float32),\n",
              "  3,\n",
              "  'neutral'),\n",
              " (\"jake thomas looks so precious :'( i hate when they say &quot;there it is i see the white light&quot; in every ghost whisperer show\",\n",
              "  array([-2.9222083, -2.083251 , -2.9359307, -1.9278815, -2.9890342,\n",
              "         -2.2810578, -2.456198 , -2.9783564, -2.7884622, -2.34959  ,\n",
              "         -2.8663197, -2.5703754, -3.1318803], dtype=float32),\n",
              "  3,\n",
              "  'neutral'),\n",
              " ('Happy mothers day to those of u that are mothers, and happy mothers day to all of your mothers      I miss my mom....',\n",
              "  array([-2.5913553, -2.9760947, -2.714671 , -1.959878 , -2.7183084,\n",
              "         -2.637772 , -1.7574651, -2.8721867, -2.6540685, -2.4197836,\n",
              "         -3.1283941, -2.7657447, -3.3696456], dtype=float32),\n",
              "  6,\n",
              "  'love'),\n",
              " ('look how exotic BADDESTnLA choke on this dick talks to me',\n",
              "  array([-2.7589083, -2.3493807, -2.997002 , -1.7620146, -2.9906225,\n",
              "         -2.4424102, -2.0623324, -2.7497044, -2.7289193, -2.4356315,\n",
              "         -3.1679769, -2.7936363, -3.348256 ], dtype=float32),\n",
              "  3,\n",
              "  'neutral'),\n",
              " (\"Happy mother's day to all the mom's Love you mom\",\n",
              "  array([-2.6078935, -3.081958 , -2.8955035, -1.8844658, -2.6451588,\n",
              "         -2.6920977, -1.445484 , -2.9502916, -2.774032 , -2.7692842,\n",
              "         -3.448101 , -2.9044452, -3.3561687], dtype=float32),\n",
              "  6,\n",
              "  'love'),\n",
              " ('xHayleeey no.1 dont really mean anything to me anymore :L it did when good old top of the pops was on every sat or friday or something',\n",
              "  array([-2.7211845, -2.2767844, -2.924024 , -2.1182725, -2.7687268,\n",
              "         -2.4742138, -2.0584495, -2.6682012, -2.6790442, -2.2586284,\n",
              "         -3.1608148, -2.8177924, -3.260158 ], dtype=float32),\n",
              "  6,\n",
              "  'love'),\n",
              " ('its stormy',\n",
              "  array([-3.1381292, -2.4553738, -3.0156877, -1.8898641, -2.815384 ,\n",
              "         -2.370668 , -2.2240877, -2.5945573, -2.5566857, -2.3902283,\n",
              "         -3.1056302, -2.667058 , -2.9733286], dtype=float32),\n",
              "  3,\n",
              "  'neutral'),\n",
              " ('PaulaMacKay I think he thought about it, but then I sneezed on him',\n",
              "  array([-2.7527492, -2.1261792, -3.149951 , -2.0501509, -3.0174012,\n",
              "         -2.4231486, -2.7295666, -2.6098504, -2.7066553, -2.3462796,\n",
              "         -2.879901 , -2.2988114, -2.9953418], dtype=float32),\n",
              "  3,\n",
              "  'neutral'),\n",
              " ('Lady_Luck13 they are SO cute',\n",
              "  array([-2.7673683, -2.3490844, -2.7732668, -1.9409225, -2.8672035,\n",
              "         -2.6551213, -1.848866 , -2.8165712, -2.5728047, -2.4414911,\n",
              "         -3.3712537, -2.9116757, -3.238319 ], dtype=float32),\n",
              "  6,\n",
              "  'love'),\n",
              " ('Trying to figure out what to do tonight. See the game? Social events w. friends? Or stay home and play the s**t out of my drums',\n",
              "  array([-2.8337526, -2.2822652, -2.644538 , -2.022575 , -2.7199378,\n",
              "         -2.5368395, -2.0905678, -2.7928672, -2.7116923, -2.2830362,\n",
              "         -3.1397138, -2.8244207, -3.3550072], dtype=float32),\n",
              "  3,\n",
              "  'neutral'),\n",
              " ('Chilling with some tv quite bored at the moment',\n",
              "  array([-3.0218728, -2.2692735, -2.8065758, -2.0182197, -3.0611913,\n",
              "         -2.3064165, -2.32239  , -2.86007  , -2.5275426, -2.1586552,\n",
              "         -2.9246173, -2.85809  , -3.0694363], dtype=float32),\n",
              "  3,\n",
              "  'neutral'),\n",
              " (\"Happy Mother's day  Show some love to your Beautiful and Amazing Mom  &lt;3\",\n",
              "  array([-2.7084444, -2.4018674, -2.9823468, -1.800127 , -2.7691202,\n",
              "         -2.5928566, -1.8337891, -2.926146 , -2.6611643, -2.6141934,\n",
              "         -3.2622085, -2.9194508, -3.2048423], dtype=float32),\n",
              "  3,\n",
              "  'neutral'),\n",
              " ('jennahmonet jennah can u just tell jay i said good night plz? im asking nicely',\n",
              "  array([-2.9085221, -2.361239 , -2.878737 , -1.9618812, -2.7784262,\n",
              "         -2.4425864, -2.0867696, -2.8144598, -2.6973839, -2.3634806,\n",
              "         -3.3105755, -2.570615 , -3.0621443], dtype=float32),\n",
              "  3,\n",
              "  'neutral'),\n",
              " (\"Got the keys to my new flat - gorgeous weather for weekend - and i'm spending it &quot;PACKING&quot;\",\n",
              "  array([-2.9556012, -2.217171 , -3.0045285, -1.8552564, -2.7873616,\n",
              "         -2.493026 , -2.292579 , -2.6883645, -2.6675608, -2.1841207,\n",
              "         -3.1911845, -2.9519753, -3.1131053], dtype=float32),\n",
              "  3,\n",
              "  'neutral'),\n",
              " (\"GabrielSaporta heard you slutted it up I'm totally jealz~ I missed it. Maybe next time\",\n",
              "  array([-2.8328493, -2.3978434, -2.8457952, -1.9631698, -2.897181 ,\n",
              "         -2.5050008, -1.8646214, -2.6638346, -2.6228728, -2.312353 ,\n",
              "         -3.4575677, -2.952539 , -3.3548176], dtype=float32),\n",
              "  6,\n",
              "  'love'),\n",
              " (\"God I HATE scary movies. They are not fun at all. I'm such a wimpy.\",\n",
              "  array([-2.8819323, -2.1875308, -2.8471675, -2.1486619, -2.8884244,\n",
              "         -2.3735101, -2.167711 , -2.589744 , -2.775427 , -2.2939806,\n",
              "         -3.0077887, -2.7987642, -3.0930593], dtype=float32),\n",
              "  3,\n",
              "  'neutral'),\n",
              " ('Finally off work...long night.  Hangin with KrispySwiggs',\n",
              "  array([-2.8875465, -2.3833208, -3.0242033, -1.7837647, -2.8090632,\n",
              "         -2.3847985, -2.153181 , -2.8069243, -2.705483 , -2.3398423,\n",
              "         -3.4165554, -2.6204011, -3.2757313], dtype=float32),\n",
              "  3,\n",
              "  'neutral'),\n",
              " ('OK. Done with Sunday morning findings. Time to enjoy the sunny day',\n",
              "  array([-2.6539426, -2.417116 , -2.7302547, -1.9382982, -2.828493 ,\n",
              "         -2.4933958, -2.0232253, -2.9117377, -2.6088576, -2.2812433,\n",
              "         -3.2275586, -2.8837955, -3.454449 ], dtype=float32),\n",
              "  3,\n",
              "  'neutral'),\n",
              " ('patricklanglois http://twitpic.com/4w52z - Patrick should come here and say hi',\n",
              "  array([-2.5701826, -2.534202 , -3.0053167, -1.9803822, -2.6544065,\n",
              "         -2.668073 , -1.689995 , -2.7713523, -2.8177447, -2.575352 ,\n",
              "         -3.3165476, -2.6582947, -3.5907834], dtype=float32),\n",
              "  6,\n",
              "  'love'),\n",
              " (\"i want to wake up early, and get a coffee tomorrow (today)   it's going to be a busyy day but have to keep writing.. booo whoo\",\n",
              "  array([-2.9336553, -2.2536993, -2.9006038, -1.941241 , -2.93541  ,\n",
              "         -2.421392 , -2.3215702, -2.6452818, -2.7463794, -2.1301928,\n",
              "         -3.1030636, -2.745121 , -3.2155232], dtype=float32),\n",
              "  3,\n",
              "  'neutral'),\n",
              " ('BMartha hello there',\n",
              "  array([-2.2888746, -2.4853292, -2.930336 , -2.0420315, -2.8713818,\n",
              "         -2.621789 , -1.8508142, -2.7905252, -2.7168937, -2.688092 ,\n",
              "         -3.3373685, -2.6174848, -3.1753595], dtype=float32),\n",
              "  6,\n",
              "  'love'),\n",
              " ('Watching water boy  about to grub on some carnisada. Yum,Yum',\n",
              "  array([-2.8200364, -2.5156407, -2.9064932, -1.9120955, -2.7298744,\n",
              "         -2.3742046, -2.029898 , -2.940136 , -2.633494 , -2.1911771,\n",
              "         -3.353241 , -2.7871802, -3.3683465], dtype=float32),\n",
              "  3,\n",
              "  'neutral'),\n",
              " (\"SarahWV  worse case scenario i'll take tomorrow am off. are you still up or you just woke up?\",\n",
              "  array([-2.710542 , -2.306415 , -2.7936592, -1.9387863, -2.8258348,\n",
              "         -2.597059 , -2.1219852, -2.700613 , -2.6859827, -2.3150992,\n",
              "         -3.4055057, -2.707599 , -3.1869078], dtype=float32),\n",
              "  3,\n",
              "  'neutral'),\n",
              " (\"iamdiddy iambodie ....I hugged my hater 2day. Then told her its #nobitchassnessfriday I'm now in trouble for cursing my mgr.\",\n",
              "  array([-2.8260863, -2.1636806, -3.1083286, -1.8179929, -2.8438876,\n",
              "         -2.524973 , -2.2808082, -2.5598648, -2.773952 , -2.5608885,\n",
              "         -3.1601224, -2.5231166, -3.2500927], dtype=float32),\n",
              "  3,\n",
              "  'neutral'),\n",
              " ('Annaeeee yeah I m so happy for them that they should moved on and out there partying I m so happy',\n",
              "  array([-2.5221834, -2.4749308, -3.1787012, -1.9623532, -2.8751347,\n",
              "         -2.6444695, -1.7908709, -2.6638033, -2.7472105, -2.4800963,\n",
              "         -3.1406279, -2.8027372, -3.2783663], dtype=float32),\n",
              "  6,\n",
              "  'love'),\n",
              " (\"IdleThumbs Up is out?  I didn't get the memo   It looks amazing.\",\n",
              "  array([-2.8904216, -2.1373994, -2.8128195, -1.988868 , -2.898446 ,\n",
              "         -2.4152577, -2.003382 , -2.9446993, -2.7372293, -2.4246445,\n",
              "         -3.3017297, -2.6728663, -3.256617 ], dtype=float32),\n",
              "  3,\n",
              "  'neutral'),\n",
              " ('Dojie is that u trying to say i have a cold steal heart  lol',\n",
              "  array([-3.0527833, -2.0222948, -2.9060163, -1.8865304, -2.9405105,\n",
              "         -2.3676808, -2.16804  , -2.6829476, -2.7158024, -2.5036006,\n",
              "         -3.4403348, -2.7927842, -3.1330285], dtype=float32),\n",
              "  3,\n",
              "  'neutral'),\n",
              " ('JackieShimamoto i love cobra starship  thanks for the suggestion',\n",
              "  array([-2.4008374, -2.911902 , -2.6455374, -1.9276452, -2.4240794,\n",
              "         -2.6112952, -1.7880596, -2.8867326, -2.6952367, -2.75635  ,\n",
              "         -3.3744626, -3.008182 , -3.2488403], dtype=float32),\n",
              "  6,\n",
              "  'love'),\n",
              " ('boring. i wanna go for taekwando',\n",
              "  array([-2.9244335, -2.1429112, -2.896567 , -2.0041358, -2.8047838,\n",
              "         -2.4597085, -2.0373085, -2.8386326, -2.6973267, -2.430834 ,\n",
              "         -3.030614 , -2.8672345, -3.1316042], dtype=float32),\n",
              "  3,\n",
              "  'neutral'),\n",
              " (\"Happy Mother's Day to all the Ladies... With all the moments we cherish with our children, today let those moments cherish you in return.\",\n",
              "  array([-3.1977282, -2.9446716, -3.0568209, -1.8191983, -2.7542922,\n",
              "         -2.5622466, -1.3257071, -3.1651835, -2.669176 , -2.7160506,\n",
              "         -3.4212518, -3.0782926, -3.3647056], dtype=float32),\n",
              "  6,\n",
              "  'love'),\n",
              " ('courrtneyyy Thank you so much  Me neitherrrr',\n",
              "  array([-2.741822 , -2.236419 , -2.8121037, -2.0293527, -2.6880102,\n",
              "         -2.6128304, -2.0362394, -2.6004996, -2.62042  , -2.583531 ,\n",
              "         -3.2432446, -2.736322 , -3.244573 ], dtype=float32),\n",
              "  3,\n",
              "  'neutral'),\n",
              " ('at home and sick    http://yfrog.com/17zw1j',\n",
              "  array([-2.6625094, -2.641574 , -2.9889855, -1.9162323, -2.630381 ,\n",
              "         -2.7402537, -1.755245 , -2.789996 , -2.745318 , -2.3986742,\n",
              "         -3.2428699, -2.8368278, -3.2738938], dtype=float32),\n",
              "  6,\n",
              "  'love'),\n",
              " (\"Can't I mix and match  Dumb drive in\",\n",
              "  array([-2.9930558, -2.1174853, -2.9438748, -1.8711083, -2.9634714,\n",
              "         -2.4314823, -2.44176  , -2.5347748, -2.8366408, -2.360155 ,\n",
              "         -3.115943 , -2.6002562, -3.0907907], dtype=float32),\n",
              "  3,\n",
              "  'neutral'),\n",
              " ('just got out of prom, it was fun  off too after prom text me',\n",
              "  array([-2.7878904, -2.488526 , -2.9617534, -1.9683018, -2.9431722,\n",
              "         -2.500546 , -1.9745142, -2.4217944, -2.9177961, -2.1593752,\n",
              "         -3.3022473, -2.8486142, -3.283665 ], dtype=float32),\n",
              "  3,\n",
              "  'neutral'),\n",
              " (\"NewMoon_addict yeah like super short  I guess I'll just have to hold my breath till Sunday.\",\n",
              "  array([-2.7656574, -2.2527683, -2.8767576, -2.1413503, -2.7522726,\n",
              "         -2.5029745, -1.9629076, -2.6510825, -2.7391076, -2.2529972,\n",
              "         -3.331014 , -2.9159636, -3.1730483], dtype=float32),\n",
              "  6,\n",
              "  'love'),\n",
              " (\"Waiting for the dang pizza to cook. It's almost 9 and we still have not eaten wifey fail. Did I mention I feel like crap\",\n",
              "  array([-2.7755706, -2.0642345, -3.0282192, -2.1440995, -3.051023 ,\n",
              "         -2.222452 , -2.322099 , -2.699285 , -2.5902011, -2.230314 ,\n",
              "         -3.1161933, -2.776748 , -3.347989 ], dtype=float32),\n",
              "  1,\n",
              "  'sadness'),\n",
              " ('Training #Stud-Life: A fost Tiberiu Lovin la noi. Am aflat ca sunt imbecili peste tot. FUN',\n",
              "  array([-2.8541145, -2.3170903, -3.0106053, -1.8593837, -2.699432 ,\n",
              "         -2.371944 , -2.3374915, -2.614334 , -2.7733102, -2.4094582,\n",
              "         -3.092126 , -2.6992397, -3.135158 ], dtype=float32),\n",
              "  3,\n",
              "  'neutral'),\n",
              " ('tried to swat a fly with my Buddhist magazine... bad karma',\n",
              "  array([-2.9560468, -2.0997684, -2.8908072, -1.9895926, -3.0075045,\n",
              "         -2.2994137, -2.1248662, -2.7490144, -2.8665798, -2.352021 ,\n",
              "         -3.3093095, -2.7301347, -3.0744615], dtype=float32),\n",
              "  3,\n",
              "  'neutral'),\n",
              " ('chai tea then sleeeeeeep. lunch with the family tomorrow',\n",
              "  array([-2.8757167, -2.5340877, -2.9496918, -1.7193938, -2.7775578,\n",
              "         -2.443425 , -2.1219723, -2.6732864, -2.6032913, -2.391408 ,\n",
              "         -3.2611217, -2.9376278, -3.2696552], dtype=float32),\n",
              "  3,\n",
              "  'neutral'),\n",
              " ('Watching SNL. Awhh, Chris Pine is a cutieee',\n",
              "  array([-2.8600864, -2.3202093, -2.9635196, -1.9631646, -2.880023 ,\n",
              "         -2.2761178, -1.9521574, -2.6859279, -2.5925136, -2.605533 ,\n",
              "         -3.2347627, -2.8385115, -3.2991567], dtype=float32),\n",
              "  6,\n",
              "  'love'),\n",
              " (\"wishes all you moms a happy &amp; blessed Mother's Day\",\n",
              "  array([-2.619825 , -2.6076899, -2.7400508, -1.8413241, -2.6670961,\n",
              "         -2.7388635, -1.7919168, -2.826808 , -2.5836186, -2.687825 ,\n",
              "         -3.1807833, -2.8187747, -3.6649683], dtype=float32),\n",
              "  6,\n",
              "  'love'),\n",
              " ('WeTheTRAVIS goodnight lovely',\n",
              "  array([-2.8238735, -2.6703417, -2.9620855, -1.7711143, -2.8142004,\n",
              "         -2.731514 , -1.6500726, -2.9121003, -2.6218898, -2.5899456,\n",
              "         -3.273481 , -2.9145694, -3.262834 ], dtype=float32),\n",
              "  6,\n",
              "  'love'),\n",
              " ('Zanna85 i changed my mind dammit a Tsar can change his mind at any time without no prior notice',\n",
              "  array([-2.9113173, -2.1915755, -2.975802 , -2.0231698, -2.8762445,\n",
              "         -2.2840924, -2.3488958, -2.763522 , -2.5868523, -2.439698 ,\n",
              "         -2.953755 , -2.6018176, -3.0981839], dtype=float32),\n",
              "  3,\n",
              "  'neutral'),\n",
              " ('with k0nartistt',\n",
              "  array([-2.891773 , -2.324349 , -2.878792 , -1.7301415, -2.761933 ,\n",
              "         -2.4708805, -2.2457993, -2.7783797, -2.6214972, -2.5198443,\n",
              "         -3.2584014, -2.7368026, -3.1903334], dtype=float32),\n",
              "  3,\n",
              "  'neutral'),\n",
              " ('MissKellyO  wish I could eat with you all ',\n",
              "  array([-2.8528662, -2.3287997, -2.6859922, -1.9347516, -2.8632538,\n",
              "         -2.4100285, -1.978879 , -2.822841 , -2.6753404, -2.5596156,\n",
              "         -3.246716 , -2.8473668, -3.1095257], dtype=float32),\n",
              "  3,\n",
              "  'neutral'),\n",
              " (\"jsmithready It'd be really hard to give up my chocolate while reading.  Does chocolate count as a food?\",\n",
              "  array([-2.8649135, -2.1610057, -2.8953142, -1.9489542, -3.0791414,\n",
              "         -2.4760914, -2.0911286, -2.67006  , -2.7160559, -2.411076 ,\n",
              "         -3.0369697, -2.698353 , -3.3219519], dtype=float32),\n",
              "  3,\n",
              "  'neutral'),\n",
              " ('throwedmind210 No sun  but I can see the ocean nowI almost ran over a squirrel driving home from the store, was so foggy Where r you?',\n",
              "  array([-2.97005  , -2.1399348, -2.8200243, -2.0677235, -2.8249915,\n",
              "         -2.3410766, -2.3852663, -2.5979962, -2.80416  , -2.3878322,\n",
              "         -3.0905528, -2.6159232, -2.956984 ], dtype=float32),\n",
              "  3,\n",
              "  'neutral'),\n",
              " ('wishes that you would see not with your eyes but with your heart.  http://plurk.com/p/sv5bb',\n",
              "  array([-2.8251526, -2.47999  , -2.7277312, -2.288321 , -2.72266  ,\n",
              "         -2.3335328, -1.6938088, -2.9184327, -2.7963498, -2.3687985,\n",
              "         -3.347311 , -2.8522   , -3.1667101], dtype=float32),\n",
              "  6,\n",
              "  'love'),\n",
              " ('Ooooh Kay Its time for me to stop twitterin and get going...',\n",
              "  array([-2.8647013, -2.2600858, -3.0843978, -1.7454559, -2.931787 ,\n",
              "         -2.5453181, -2.0553584, -2.653156 , -2.619196 , -2.3305163,\n",
              "         -3.4295316, -3.0464978, -3.2681751], dtype=float32),\n",
              "  3,\n",
              "  'neutral'),\n",
              " (\"ericworre say hello to Marina Green ... couldn't participate in Barcelona this weeken\",\n",
              "  array([-2.899511 , -2.1787813, -3.0671878, -1.8727696, -2.931316 ,\n",
              "         -2.313774 , -2.1433804, -2.863443 , -2.6109805, -2.4699538,\n",
              "         -3.2117705, -2.7269   , -3.1888528], dtype=float32),\n",
              "  3,\n",
              "  'neutral'),\n",
              " ('Migg But I can still putt 30 yards longer than you can hit your driver',\n",
              "  array([-2.884633 , -2.2484665, -2.9080129, -1.8347983, -3.019966 ,\n",
              "         -2.3531377, -2.42757  , -2.6452012, -2.7028332, -2.3976502,\n",
              "         -3.0211296, -2.6735773, -3.0895853], dtype=float32),\n",
              "  3,\n",
              "  'neutral'),\n",
              " ('FML.. today sucks.. i just hope the dance will bring my soul up.. i pray, but im still sad..i hateee todayyyyyy &gt;;(',\n",
              "  array([-2.7157502, -2.180977 , -3.0145462, -1.9505768, -2.927219 ,\n",
              "         -2.5985863, -2.117057 , -2.6125195, -2.6865387, -2.4045217,\n",
              "         -3.2486   , -2.7592003, -3.0491722], dtype=float32),\n",
              "  3,\n",
              "  'neutral'),\n",
              " (\"purple_cath a couple of years  I knew you had one but I couldn't find you for awhile..here you are\",\n",
              "  array([-2.8612685, -2.279992 , -3.018865 , -1.8129756, -2.9785423,\n",
              "         -2.441718 , -2.11763  , -2.8179653, -2.7992551, -2.283848 ,\n",
              "         -3.1193779, -2.7459347, -3.2326522], dtype=float32),\n",
              "  3,\n",
              "  'neutral'),\n",
              " ('very much disappointed with the angels and demons movie  shame, it was a great book',\n",
              "  array([-3.042647 , -2.4105725, -3.0137458, -1.8139911, -2.9668238,\n",
              "         -2.3208346, -2.2781193, -2.6262777, -2.8348722, -2.1368933,\n",
              "         -3.0881052, -2.780115 , -3.180396 ], dtype=float32),\n",
              "  3,\n",
              "  'neutral'),\n",
              " ('_handz_ well you know those &quot;kind of guys&quot; are just idiots',\n",
              "  array([-2.9472013, -2.486879 , -3.0879774, -1.6833181, -2.987749 ,\n",
              "         -2.4554682, -2.1369386, -2.6903906, -2.6356845, -2.3466587,\n",
              "         -3.2801886, -2.7485433, -3.172479 ], dtype=float32),\n",
              "  3,\n",
              "  'neutral'),\n",
              " (\"I'm soooo bored. just fuckin got a new phone and called my man but hes busy and one else bored???\",\n",
              "  array([-3.2148652, -2.1184926, -3.074294 , -1.9568943, -2.9798934,\n",
              "         -2.3140092, -2.3819113, -2.5929365, -2.8050294, -2.208077 ,\n",
              "         -3.0273952, -2.6354635, -3.1071708], dtype=float32),\n",
              "  3,\n",
              "  'neutral'),\n",
              " ('o, and happy mothers day',\n",
              "  array([-2.608034 , -2.58074  , -2.9313836, -1.8919749, -2.8973022,\n",
              "         -2.7647843, -1.7738187, -2.7290168, -2.8436742, -2.3325984,\n",
              "         -3.3956244, -2.7373848, -3.222297 ], dtype=float32),\n",
              "  6,\n",
              "  'love'),\n",
              " (\"eavellan that was so much fun the banana dessert alone is worth the trip to austin we'll be back soon\",\n",
              "  array([-2.5203242, -2.2390845, -2.9607053, -1.9884325, -2.8618426,\n",
              "         -2.561132 , -2.1392176, -2.700281 , -2.7468166, -2.300247 ,\n",
              "         -3.084413 , -2.7944643, -3.3892555], dtype=float32),\n",
              "  3,\n",
              "  'neutral'),\n",
              " ('jairodriguez you are super hot on your show',\n",
              "  array([-2.755708 , -2.576208 , -2.812078 , -2.1216564, -2.791544 ,\n",
              "         -2.565352 , -1.4682219, -2.780651 , -2.911812 , -2.725215 ,\n",
              "         -3.4728615, -2.8130698, -3.245426 ], dtype=float32),\n",
              "  6,\n",
              "  'love'),\n",
              " ('Love the idea of giving each year a theme. This is the year of new beginnings',\n",
              "  array([-2.6349475, -2.775899 , -2.8847864, -2.0575056, -2.7089455,\n",
              "         -2.7353678, -1.5394826, -2.811183 , -2.5507708, -2.6294317,\n",
              "         -3.1609917, -3.0906017, -3.2638052], dtype=float32),\n",
              "  6,\n",
              "  'love'),\n",
              " (\"I'm suffering from restless legs and butt syndrome.\",\n",
              "  array([-2.8768933, -2.2562258, -2.9055207, -2.0434012, -2.8777559,\n",
              "         -2.3856633, -2.1841693, -2.593916 , -2.742226 , -2.1918058,\n",
              "         -3.0035262, -2.9230218, -3.230777 ], dtype=float32),\n",
              "  3,\n",
              "  'neutral'),\n",
              " (\"jlynn242001 ur there when I'm not  lol\",\n",
              "  array([-2.8826375, -2.0500352, -2.8463573, -1.8683336, -2.8863468,\n",
              "         -2.429578 , -2.2654512, -2.7898588, -2.6767604, -2.447248 ,\n",
              "         -3.284643 , -2.7822819, -3.2413304], dtype=float32),\n",
              "  3,\n",
              "  'neutral'),\n",
              " ('typicalhigh Yay me  But, what in particular?',\n",
              "  array([-3.0114546, -2.061207 , -3.0890193, -1.9541931, -2.9462361,\n",
              "         -2.3556304, -2.2192955, -2.6852617, -2.6640697, -2.4270444,\n",
              "         -3.1103454, -2.7539616, -3.084072 ], dtype=float32),\n",
              "  3,\n",
              "  'neutral'),\n",
              " ('happy mothers day  my mum  (also to my sis kamyisonfire and my &quot;mum&quot; jess, ahah)',\n",
              "  array([-2.7616405, -2.4708786, -2.8234076, -1.8030537, -2.655336 ,\n",
              "         -2.4521   , -2.0189822, -2.6649485, -2.9947667, -2.5205746,\n",
              "         -3.3016381, -2.6089468, -3.5604706], dtype=float32),\n",
              "  3,\n",
              "  'neutral'),\n",
              " (\"sleeping in was interupted by JACK-HAMMERS at 9am Damn Universe says GET UP But I was up intil 3am 'cause I thougth I'd be sleeping in\",\n",
              "  array([-3.1067255, -2.067928 , -3.2253537, -1.8828882, -2.8918047,\n",
              "         -2.418917 , -2.4464345, -2.562195 , -2.7118583, -2.2412593,\n",
              "         -3.1009083, -2.743236 , -3.066698 ], dtype=float32),\n",
              "  3,\n",
              "  'neutral'),\n",
              " (\"Anyone got any remedies for neck pain? Haven't been able to turn my head properly without a bad twinge for a few days now\",\n",
              "  array([-3.009396 , -2.1581645, -2.8705144, -2.1466048, -2.8744946,\n",
              "         -2.305368 , -2.281205 , -2.712627 , -2.716216 , -2.2760339,\n",
              "         -2.9540348, -2.689227 , -3.0360608], dtype=float32),\n",
              "  3,\n",
              "  'neutral'),\n",
              " ('At Halu for dinner... Second time this week',\n",
              "  array([-2.925879 , -2.3970916, -3.012329 , -2.0123682, -2.6460903,\n",
              "         -2.2522938, -2.118802 , -2.744842 , -2.6790657, -2.4160738,\n",
              "         -3.296353 , -2.6548588, -3.0617328], dtype=float32),\n",
              "  3,\n",
              "  'neutral'),\n",
              " (\"Today is just not my day. I can't seem to feel any better. If i dont eat, im hungry. If i do eat, i feel like im gonna be sick. Blah\",\n",
              "  array([-2.5589838, -2.4077463, -2.832813 , -2.2634938, -2.6946626,\n",
              "         -2.31525  , -1.9499096, -2.8010588, -2.6888125, -2.6138196,\n",
              "         -3.314672 , -2.4704883, -3.2617726], dtype=float32),\n",
              "  6,\n",
              "  'love'),\n",
              " ('sway_sway_baby mighty boosh kicks arse',\n",
              "  array([-2.7664886, -2.4233756, -2.9360404, -1.7744617, -2.864684 ,\n",
              "         -2.5559888, -1.9353087, -2.817268 , -2.9169736, -2.2291327,\n",
              "         -3.3788142, -2.9660237, -3.2247517], dtype=float32),\n",
              "  3,\n",
              "  'neutral'),\n",
              " ('wow its only 9:30',\n",
              "  array([-2.8026438, -2.1754556, -3.0844433, -1.9399011, -2.748074 ,\n",
              "         -2.3335278, -2.2788823, -2.6064143, -2.6461189, -2.3342736,\n",
              "         -3.4155679, -2.8377247, -3.2214885], dtype=float32),\n",
              "  3,\n",
              "  'neutral'),\n",
              " ('Im liking escape the fate alot tonight.  excited for ESTK      NemoNemesis',\n",
              "  array([-2.9086869, -2.2276118, -2.818019 , -2.1624813, -2.782815 ,\n",
              "         -2.3736095, -2.0964105, -2.8182535, -2.7067432, -2.2946432,\n",
              "         -3.2727332, -2.5837018, -3.115847 ], dtype=float32),\n",
              "  6,\n",
              "  'love'),\n",
              " ('bbyowls i cant afford it  go to school here ? ',\n",
              "  array([-2.9143248, -2.2516525, -2.9950583, -2.154183 , -2.7891073,\n",
              "         -2.3698015, -2.0212183, -2.6175845, -2.676088 , -2.396422 ,\n",
              "         -3.2222984, -2.6121662, -3.1956367], dtype=float32),\n",
              "  6,\n",
              "  'love'),\n",
              " ('7thscreen Damn First Yes, than Frank Zappa...',\n",
              "  array([-2.711106 , -2.453492 , -2.8638172, -2.067572 , -2.9130979,\n",
              "         -2.5286002, -1.9682931, -2.6662066, -2.5904727, -2.460362 ,\n",
              "         -3.1486816, -2.5261776, -3.2847161], dtype=float32),\n",
              "  6,\n",
              "  'love'),\n",
              " ('Comin back from the mall didnt get anything cause i have no money and stuff  but tuesday is pay day ilu ~Joshy~',\n",
              "  array([-2.9850972, -2.0197055, -2.901053 , -1.8766315, -3.1823385,\n",
              "         -2.3412533, -2.2295253, -2.8376694, -2.9440806, -2.251408 ,\n",
              "         -3.2010567, -2.7381287, -3.1808143], dtype=float32),\n",
              "  3,\n",
              "  'neutral'),\n",
              " ('bradiewebbstack ooh yay, its been forevs since last ss tv  baked dinner is so good, how yummy. I had prawns  xx',\n",
              "  array([-3.0512156, -2.262936 , -2.959453 , -1.8574228, -2.882769 ,\n",
              "         -2.4429495, -2.1699095, -2.7739015, -2.7908936, -2.272543 ,\n",
              "         -3.2405803, -2.5323474, -3.2645752], dtype=float32),\n",
              "  3,\n",
              "  'neutral'),\n",
              " (\"THE_WOCKEEZ I wanna go But I won't be there  I'm sure that the show will be great\",\n",
              "  array([-2.7300916, -2.373936 , -2.7822235, -1.9848583, -2.890068 ,\n",
              "         -2.4268548, -1.8533691, -2.6930559, -2.6451466, -2.67945  ,\n",
              "         -3.2049384, -2.8617811, -3.3028102], dtype=float32),\n",
              "  6,\n",
              "  'love'),\n",
              " ('HAPPY MOTHERS DAY TO ALL THE MOTHERS OUT THERE',\n",
              "  array([-2.628307 , -2.693354 , -2.5424833, -1.9399579, -2.4925582,\n",
              "         -2.8017926, -1.5848   , -2.9844651, -2.7613795, -2.915348 ,\n",
              "         -3.5368028, -2.847884 , -3.3712234], dtype=float32),\n",
              "  6,\n",
              "  'love'),\n",
              " ('just downed 10 live abalone sashimi with 2 bottles of sake with father-in-law.  Very happy',\n",
              "  array([-2.6670613, -2.4344833, -2.8220453, -1.9984086, -2.936759 ,\n",
              "         -2.2970479, -2.122528 , -2.6798897, -2.7698407, -2.2700334,\n",
              "         -3.3111975, -2.6915936, -3.3312595], dtype=float32),\n",
              "  3,\n",
              "  'neutral'),\n",
              " ('Goin to bed... Finally. So sleepy *Happy mothers day*',\n",
              "  array([-2.7128227, -2.5104232, -2.9491265, -1.7524729, -2.8735194,\n",
              "         -2.4539292, -1.8459778, -2.8182201, -2.9125402, -2.2918212,\n",
              "         -3.4743476, -3.0184875, -3.461842 ], dtype=float32),\n",
              "  3,\n",
              "  'neutral'),\n",
              " (\"Myke329 yooo myyyyye bust how I'm sick tooo... Just shoot me.  Long night tonight.\",\n",
              "  array([-3.0220222, -2.161294 , -2.9566011, -2.0332603, -2.892244 ,\n",
              "         -2.3236969, -2.151244 , -2.6224446, -2.5222569, -2.3444376,\n",
              "         -3.2320037, -2.8833346, -3.2369037], dtype=float32),\n",
              "  3,\n",
              "  'neutral'),\n",
              " (\"miarav Wanna come with?  Before we go to Myka's party.\",\n",
              "  array([-2.9327965, -2.5480113, -2.9314184, -1.9920319, -2.5092807,\n",
              "         -2.544322 , -1.9897451, -2.6929312, -2.5825787, -2.4376645,\n",
              "         -3.1682959, -2.735666 , -3.1091108], dtype=float32),\n",
              "  6,\n",
              "  'love'),\n",
              " (\"Cant stop playin' in my head  -- pussycat dolls jai ho ellen degeneres [HD] http://bit.ly/HxLfm\",\n",
              "  array([-2.7180629, -2.665927 , -2.8422608, -2.2245088, -2.5647602,\n",
              "         -2.6495695, -1.4084679, -2.7912076, -2.784278 , -2.779896 ,\n",
              "         -3.5059156, -2.8786058, -3.3664038], dtype=float32),\n",
              "  6,\n",
              "  'love'),\n",
              " ('Waaaaaaaa they kicked us out of the bank. Getting it until monday  OMG Chilito',\n",
              "  array([-2.7846832, -2.1302783, -2.9536598, -2.0047486, -3.083434 ,\n",
              "         -2.3735487, -2.1311917, -2.7405941, -2.6365693, -2.4103365,\n",
              "         -3.2188559, -2.7040508, -3.1677291], dtype=float32),\n",
              "  3,\n",
              "  'neutral'),\n",
              " (\"LushLtd Well aren't you just the kindest people in the world  Unfortunately, I have no such enquiries\",\n",
              "  array([-2.9277053, -2.2039838, -2.9355206, -2.0405493, -2.9881268,\n",
              "         -2.4350636, -2.0455363, -2.706753 , -2.6530194, -2.3328013,\n",
              "         -3.2241082, -2.7173946, -3.0852242], dtype=float32),\n",
              "  3,\n",
              "  'neutral'),\n",
              " ('Need dayquil',\n",
              "  array([-2.8177657, -2.4517503, -2.8833628, -2.0446808, -2.735898 ,\n",
              "         -2.3394613, -2.3410645, -2.518091 , -2.5621958, -2.4399333,\n",
              "         -2.8556213, -2.8070235, -3.0263987], dtype=float32),\n",
              "  3,\n",
              "  'neutral'),\n",
              " ('Godawful hangover today. Worth it tho',\n",
              "  array([-2.637766 , -2.322361 , -2.7369845, -1.9086242, -2.9083705,\n",
              "         -2.4275796, -2.227055 , -2.7584877, -2.6622846, -2.3836105,\n",
              "         -3.120019 , -2.891356 , -3.1778083], dtype=float32),\n",
              "  3,\n",
              "  'neutral'),\n",
              " ('Tweeten Out  Tix deals for NKOTB 5/28 Was $43 NOW *$38 http://tinyurl.com/NKOTBTweetenTixsDeal &lt;-or other SEAT Prices /NKOTB Dates',\n",
              "  array([-2.852625 , -2.2775273, -2.827766 , -1.8591484, -2.8783917,\n",
              "         -2.451037 , -2.0894687, -2.698571 , -2.8027582, -2.3856573,\n",
              "         -3.2162857, -2.7592716, -3.3460479], dtype=float32),\n",
              "  3,\n",
              "  'neutral'),\n",
              " ('ddlovato http://twitpic.com/4vuuy - thats the most colorful thing ive seen all day,wow.',\n",
              "  array([-2.6652966, -2.4363217, -2.9047613, -2.0391603, -2.7514544,\n",
              "         -2.6033611, -1.7824253, -2.7248554, -2.6762094, -2.5082014,\n",
              "         -3.143495 , -2.759818 , -3.5158782], dtype=float32),\n",
              "  6,\n",
              "  'love'),\n",
              " ('about to run the hinckley half marathon  Fingers crossed for a &lt;1h30m time',\n",
              "  array([-2.7802255, -2.25415  , -2.9554367, -1.827106 , -2.8200893,\n",
              "         -2.4943144, -2.2419205, -2.6212196, -2.7506952, -2.400949 ,\n",
              "         -3.3443909, -2.8145814, -3.0112615], dtype=float32),\n",
              "  3,\n",
              "  'neutral'),\n",
              " (\"Hi, my name is Kate and I'm addicted to mm's\",\n",
              "  array([-2.6549597, -2.0951738, -3.01864  , -2.1027422, -2.9923866,\n",
              "         -2.4709797, -2.0037596, -2.6490235, -2.7479825, -2.4240892,\n",
              "         -3.0182545, -2.9117327, -3.2299373], dtype=float32),\n",
              "  6,\n",
              "  'love'),\n",
              " ('bogwhoppit Aw  yes we had it out for weeks got asked to return it in end I wish they had just bought it for me never mind ??',\n",
              "  array([-3.0343115, -2.0663624, -3.0309756, -1.807889 , -2.8262446,\n",
              "         -2.5966463, -2.2305632, -2.812969 , -2.7747986, -2.3712566,\n",
              "         -3.1124668, -2.7099886, -3.1017227], dtype=float32),\n",
              "  3,\n",
              "  'neutral'),\n",
              " (\"Spendin time with ant before he's gone for the night\",\n",
              "  array([-2.7827659, -2.2466176, -3.0364418, -1.9342216, -2.836981 ,\n",
              "         -2.279499 , -2.4517457, -2.8087304, -2.732986 , -2.164082 ,\n",
              "         -2.9651139, -2.7494972, -3.2947497], dtype=float32),\n",
              "  3,\n",
              "  'neutral'),\n",
              " (\"justgrimes - yep saw that paper immediately after completing the test essay saying i didn't know of research on it\",\n",
              "  array([-2.6785562, -2.167079 , -3.0481849, -2.0952249, -2.678261 ,\n",
              "         -2.5263996, -2.4123251, -2.613626 , -2.792817 , -2.4401088,\n",
              "         -2.927519 , -2.4548984, -3.056902 ], dtype=float32),\n",
              "  3,\n",
              "  'neutral'),\n",
              " ('maxinefrances Ah  Not doing cbeebies epg by any chance are you hehe. need pinkyponk crash warnings ;-) Is your journey home long?',\n",
              "  array([-2.9795647, -2.2663715, -3.112801 , -1.9467252, -3.1278162,\n",
              "         -2.4178538, -2.1633735, -2.6342993, -2.7746913, -2.1064658,\n",
              "         -3.0811582, -2.704223 , -3.1752415], dtype=float32),\n",
              "  3,\n",
              "  'neutral'),\n",
              " ('bout to take a shower.... a cold shower',\n",
              "  array([-2.7851472, -2.3690197, -2.7573903, -2.0293908, -2.7355711,\n",
              "         -2.3922384, -2.1565702, -2.6962705, -2.656625 , -2.4206872,\n",
              "         -3.2771766, -2.5962472, -3.243105 ], dtype=float32),\n",
              "  3,\n",
              "  'neutral'),\n",
              " ('finally got a twitter  follow me tweets &lt;3',\n",
              "  array([-2.7903905, -2.4063287, -3.035669 , -1.8688762, -2.7682116,\n",
              "         -2.5170958, -1.9039936, -2.8730955, -2.89894  , -2.5451822,\n",
              "         -3.1613925, -2.5013661, -3.2371957], dtype=float32),\n",
              "  3,\n",
              "  'neutral'),\n",
              " (\"i'm causing trouble with my partner in crime.\",\n",
              "  array([-2.832939 , -2.2308793, -2.7827425, -2.0864897, -2.9717233,\n",
              "         -2.2782948, -2.1569586, -2.749784 , -2.6100974, -2.4266982,\n",
              "         -3.0903196, -2.7371776, -3.1618304], dtype=float32),\n",
              "  3,\n",
              "  'neutral'),\n",
              " (\"KarlaaM_ A blouse ahahaha I gave her money and she went to get it  Where's your mom??\",\n",
              "  array([-3.0736408, -2.518322 , -2.9573464, -1.8953686, -3.0242796,\n",
              "         -2.33959  , -2.1966436, -2.6043894, -2.5396929, -2.3056662,\n",
              "         -3.0843272, -2.6644702, -3.060392 ], dtype=float32),\n",
              "  3,\n",
              "  'neutral'),\n",
              " ('LaKia unfortunately noy   my life suck this year.',\n",
              "  array([-3.0207577, -2.2330732, -2.9080477, -2.201324 , -2.8866093,\n",
              "         -2.447699 , -1.7763355, -2.6134112, -2.7189424, -2.361862 ,\n",
              "         -3.400237 , -2.795736 , -3.2346098], dtype=float32),\n",
              "  6,\n",
              "  'love'),\n",
              " ('needs shows before wednesay oh well... come one come all... Irvine Improv live  Gotham Showcase 8pm  lots of good comics...then me.',\n",
              "  array([-2.8423193, -2.3885307, -2.934053 , -2.011806 , -2.8751101,\n",
              "         -2.3732424, -2.022145 , -2.7269948, -2.7499099, -2.2568886,\n",
              "         -3.2610285, -2.665379 , -3.2413435], dtype=float32),\n",
              "  3,\n",
              "  'neutral'),\n",
              " ('Teaching people the beauty of twitter',\n",
              "  array([-2.7586582, -2.221548 , -2.8491592, -1.947722 , -2.6951978,\n",
              "         -2.4689195, -2.1546516, -2.6315448, -2.706843 , -2.489779 ,\n",
              "         -3.2367556, -2.9094753, -3.1212153], dtype=float32),\n",
              "  3,\n",
              "  'neutral'),\n",
              " (\"mumof_3girls LOUISE  You r not adopted - ballet it is. You'll love it and then the cocktails after even more\",\n",
              "  array([-2.7763438, -2.529919 , -2.9955235, -1.9336977, -2.8359098,\n",
              "         -2.554459 , -1.8203455, -2.750657 , -2.6184928, -2.445992 ,\n",
              "         -3.3366542, -2.6951208, -3.255849 ], dtype=float32),\n",
              "  6,\n",
              "  'love'),\n",
              " (\"i've been eating cheetos all morning..\",\n",
              "  array([-2.8916805, -2.2652583, -2.8442676, -1.9615877, -3.062243 ,\n",
              "         -2.0816088, -2.3313694, -2.7984138, -2.6386962, -2.47382  ,\n",
              "         -3.0795536, -2.667007 , -3.1901774], dtype=float32),\n",
              "  3,\n",
              "  'neutral'),\n",
              " ('(SINGZ) SO I THINK IM JST ABT DONE BEING UR GIRRRLFRIEND....IM LEAVIN....IM LEAVIN JST LOVE CM',\n",
              "  array([-2.7079878, -2.2651553, -3.0471697, -1.7304182, -3.071815 ,\n",
              "         -2.3098269, -2.1833198, -2.65402  , -2.7402968, -2.67506  ,\n",
              "         -3.2270172, -2.8721118, -3.0693169], dtype=float32),\n",
              "  3,\n",
              "  'neutral'),\n",
              " ('watching Season 2, episode 1 of House before bed... what a great bedtime story',\n",
              "  array([-2.6182637, -2.457426 , -2.5917652, -2.1233215, -2.561114 ,\n",
              "         -2.4470754, -1.9109018, -2.8219972, -2.656456 , -2.4667695,\n",
              "         -3.4958754, -3.0532231, -3.14397  ], dtype=float32),\n",
              "  6,\n",
              "  'love'),\n",
              " ('lpostlethwaite no I wish. Just a van that comes round. We missed him',\n",
              "  array([-2.8140936, -2.256801 , -3.0104413, -2.0343938, -2.8809285,\n",
              "         -2.3575454, -2.137767 , -2.7591515, -2.6495805, -2.303565 ,\n",
              "         -3.1331177, -2.8194098, -3.0053272], dtype=float32),\n",
              "  3,\n",
              "  'neutral'),\n",
              " ('had an appointment but had to wait almost 15 minutes just to meet with a service advisor.',\n",
              "  array([-2.7317858, -2.216445 , -3.0744689, -2.0361187, -2.9367926,\n",
              "         -2.1710851, -2.2019224, -2.6457732, -2.7458453, -2.6131783,\n",
              "         -3.075056 , -2.5420074, -3.2666998], dtype=float32),\n",
              "  3,\n",
              "  'neutral'),\n",
              " ('Elixabef I hear you   Any time earlier than 11am is just mean',\n",
              "  array([-3.1221673, -2.1654851, -2.9081182, -1.7069057, -2.881507 ,\n",
              "         -2.4191518, -2.15961  , -2.6050699, -3.049734 , -2.4947543,\n",
              "         -3.0724769, -2.7575088, -3.4647777], dtype=float32),\n",
              "  3,\n",
              "  'neutral'),\n",
              " (\"daysgoby - thanks  it'll be great    ... and even better as soon as I get that wallet in my grubby little hands  lol\",\n",
              "  array([-2.8028185, -2.2988877, -3.0493064, -1.9789143, -2.765874 ,\n",
              "         -2.4156349, -2.1517453, -2.8100953, -2.7401521, -2.3323536,\n",
              "         -3.0668008, -2.6261876, -3.1209211], dtype=float32),\n",
              "  3,\n",
              "  'neutral'),\n",
              " (\"kristi_crow he's happy because hs is there haha I know we would be\",\n",
              "  array([-2.65614  , -2.173796 , -2.884442 , -2.0480998, -2.9180346,\n",
              "         -2.2859552, -2.170105 , -2.6982088, -2.6675453, -2.4521728,\n",
              "         -3.439519 , -2.6959295, -3.247437 ], dtype=float32),\n",
              "  3,\n",
              "  'neutral'),\n",
              " ('stood for 4 hours in heels. all for looks and to b able to look over tall people.',\n",
              "  array([-2.7406645, -2.3584192, -2.8039522, -1.9685428, -2.8245745,\n",
              "         -2.4965556, -2.0403306, -2.8063707, -2.5270047, -2.4200552,\n",
              "         -3.0725894, -2.8770838, -3.2928944], dtype=float32),\n",
              "  3,\n",
              "  'neutral'),\n",
              " ('bored...disgusting weather..bored..sooo bored for my last weekend here',\n",
              "  array([-3.075721 , -2.3263488, -2.771627 , -1.8033452, -2.955206 ,\n",
              "         -2.3693209, -2.148818 , -2.8397   , -2.7693434, -2.3466575,\n",
              "         -3.4154727, -2.6312861, -3.1017714], dtype=float32),\n",
              "  3,\n",
              "  'neutral'),\n",
              " ('mshemoney Aw Yay',\n",
              "  array([-2.7852743, -2.5620575, -2.8299718, -1.8579018, -2.628942 ,\n",
              "         -2.469635 , -1.9533443, -2.858439 , -2.8326104, -2.5569303,\n",
              "         -3.0518155, -2.6870573, -3.2585337], dtype=float32),\n",
              "  3,\n",
              "  'neutral'),\n",
              " (\"natalyathree damn natalya you gotta tell me whats going on i'd call you but i lost all my phone numbers when i broke my blackberry\",\n",
              "  array([-2.714754 , -2.1336725, -3.0166755, -1.9524063, -2.96916  ,\n",
              "         -2.407007 , -2.1797512, -2.5286205, -2.7829325, -2.3757906,\n",
              "         -3.1609044, -2.9031126, -3.2655954], dtype=float32),\n",
              "  3,\n",
              "  'neutral'),\n",
              " ('robertfreedland it IS a universal treat',\n",
              "  array([-2.9030695, -2.4713287, -2.8674736, -1.8475674, -2.9011297,\n",
              "         -2.3663507, -2.0517907, -2.654377 , -2.7370605, -2.4485893,\n",
              "         -3.3345447, -2.6568918, -3.1794872], dtype=float32),\n",
              "  3,\n",
              "  'neutral'),\n",
              " ('kaleidoscopeFTW But he got to do it with Effy',\n",
              "  array([-3.0153337, -2.2915065, -3.0824983, -1.861503 , -2.9693131,\n",
              "         -2.4155612, -1.9547381, -3.0786862, -2.6355474, -2.4555311,\n",
              "         -3.151125 , -2.644485 , -3.0168972], dtype=float32),\n",
              "  3,\n",
              "  'neutral'),\n",
              " ('found a swing set for sale 2 blocks from home, super cheap. I want it 4 my kids but no one is answering the phone # listed',\n",
              "  array([-2.9397197, -2.2260463, -2.919322 , -1.945161 , -2.9146674,\n",
              "         -2.172419 , -2.3902318, -2.7400515, -2.5914073, -2.3558235,\n",
              "         -3.1159387, -2.8138158, -3.1260972], dtype=float32),\n",
              "  3,\n",
              "  'neutral'),\n",
              " ('istribawel haha iya  starting to tweet again krn mitzy baru ber-tweeter jg Nit.',\n",
              "  array([-2.6760736, -2.2668123, -3.113231 , -1.898502 , -2.8154325,\n",
              "         -2.695008 , -2.1121984, -2.6725063, -2.7939513, -2.4549222,\n",
              "         -3.1102266, -2.5561266, -3.067027 ], dtype=float32),\n",
              "  3,\n",
              "  'neutral'),\n",
              " (\"I'd rather be at #BEATweetup.  Instead, I'm taking my cue from vromans and shutting down. wirechairs annacarollo reprezent-zent\",\n",
              "  array([-2.9406924, -2.4233346, -2.83247  , -1.9792476, -2.6616848,\n",
              "         -2.5739245, -1.9178864, -2.9037056, -2.6510887, -2.174995 ,\n",
              "         -3.2903607, -2.8315039, -3.400577 ], dtype=float32),\n",
              "  6,\n",
              "  'love'),\n",
              " ('ScaryMommy   Sure  My entire blogroll is terribly updated, but this could motivate me to update and redo it',\n",
              "  array([-2.8981667, -2.2108154, -2.913692 , -1.9052222, -3.0102596,\n",
              "         -2.2844644, -2.372559 , -2.6646826, -2.8850465, -2.260671 ,\n",
              "         -3.0922914, -2.5932531, -3.2722125], dtype=float32),\n",
              "  3,\n",
              "  'neutral'),\n",
              " ('Having a cup of tea',\n",
              "  array([-2.9571218, -2.1385763, -2.860244 , -2.0518959, -2.885713 ,\n",
              "         -2.3346841, -2.4833333, -2.7035275, -2.6224556, -2.3467765,\n",
              "         -2.8487058, -2.6454592, -3.1194701], dtype=float32),\n",
              "  3,\n",
              "  'neutral'),\n",
              " ('Tooth ache...but still sipping lol at the fam. Partyyyy',\n",
              "  array([-2.9673562, -2.1623456, -3.073311 , -1.9199841, -2.8938284,\n",
              "         -2.474827 , -2.3242698, -2.7229536, -2.6674316, -2.397325 ,\n",
              "         -3.1158304, -2.496227 , -2.987288 ], dtype=float32),\n",
              "  3,\n",
              "  'neutral'),\n",
              " ('Yay for St Louis traffic',\n",
              "  array([-2.745928 , -2.2428694, -2.882135 , -1.8405696, -2.8586583,\n",
              "         -2.2968872, -2.2414773, -2.8075757, -2.6133242, -2.531614 ,\n",
              "         -3.2856936, -2.862484 , -3.1469312], dtype=float32),\n",
              "  3,\n",
              "  'neutral'),\n",
              " (\"hi from chile It's 9 deg C  winter's coming....cant wait for cali sun.\",\n",
              "  array([-2.7817054, -2.30393  , -2.9084969, -1.8778993, -2.9747725,\n",
              "         -2.4914956, -2.149255 , -2.5996008, -2.6893222, -2.2877078,\n",
              "         -3.3036227, -2.7275434, -3.3680072], dtype=float32),\n",
              "  3,\n",
              "  'neutral'),\n",
              " ('Is feelin right rite now',\n",
              "  array([-2.9120073, -2.2829316, -2.7159858, -1.9532782, -2.763683 ,\n",
              "         -2.3362222, -2.5287642, -2.6422796, -2.7225816, -2.2846193,\n",
              "         -2.9998188, -2.7881846, -3.0759382], dtype=float32),\n",
              "  3,\n",
              "  'neutral'),\n",
              " ('Chilling at home',\n",
              "  array([-2.9848838, -2.2442613, -2.9098735, -2.0075028, -3.0094266,\n",
              "         -2.3530188, -2.367217 , -2.6523325, -2.5086918, -2.4611428,\n",
              "         -2.9488356, -2.7373166, -2.7780995], dtype=float32),\n",
              "  3,\n",
              "  'neutral'),\n",
              " (\"sunmess she was performing at the lifeball in vienna this year but unfortunately i didn't get the chance to see her.\",\n",
              "  array([-2.666452 , -2.1585493, -2.9256232, -2.0294094, -3.002168 ,\n",
              "         -2.424141 , -2.1293747, -2.6520839, -2.8380158, -2.4405353,\n",
              "         -2.9866278, -2.655797 , -3.325361 ], dtype=float32),\n",
              "  3,\n",
              "  'neutral'),\n",
              " ('Been with Sam one year todayyyy.',\n",
              "  array([-2.7902617, -2.2843118, -3.1141863, -1.8114609, -2.790589 ,\n",
              "         -2.3395867, -2.2901666, -2.755186 , -2.729806 , -2.4435067,\n",
              "         -3.182868 , -2.790244 , -2.968873 ], dtype=float32),\n",
              "  3,\n",
              "  'neutral'),\n",
              " (\"May the Forth be with you... ha yes... Today is my birthday  Star Wars day... Aren't i lucky you star wars Fans?\",\n",
              "  array([-2.491025 , -2.5788517, -2.81258  , -1.927844 , -2.7144456,\n",
              "         -2.782493 , -1.9799054, -2.651752 , -2.597324 , -2.433247 ,\n",
              "         -3.5440764, -2.6408095, -3.3064997], dtype=float32),\n",
              "  3,\n",
              "  'neutral'),\n",
              " ('I have the weirdest hives all over my legs and arms. What the heck am I allergic to? It itches SO bad Dang it',\n",
              "  array([-2.7345808, -2.336846 , -2.8157802, -1.951684 , -3.0941403,\n",
              "         -2.5515475, -2.0672047, -2.5989375, -2.871298 , -2.2774065,\n",
              "         -3.247233 , -2.6623335, -3.111239 ], dtype=float32),\n",
              "  3,\n",
              "  'neutral'),\n",
              " ('Math was not fun at all. Oh well, i get to cook as soon as i get home.',\n",
              "  array([-2.8698893, -2.1555204, -3.0950122, -1.9492732, -2.9187956,\n",
              "         -2.314946 , -2.3217812, -2.7624822, -2.7622495, -2.1918151,\n",
              "         -3.1859689, -2.667882 , -3.2139978], dtype=float32),\n",
              "  3,\n",
              "  'neutral'),\n",
              " ('success', array([-2.8364778, -2.119277 , -2.7985666, -2.0387213, -2.735527 ,\n",
              "         -2.1794655, -2.406191 , -2.8061457, -2.6765566, -2.5693185,\n",
              "         -3.0119724, -2.8052244, -3.067766 ], dtype=float32), 3, 'neutral'),\n",
              " ('Fast &amp; Furious = EXCELLENT movie.  And Andy is a great guy   Most of the time....  lol',\n",
              "  array([-2.7853098, -2.1608276, -2.794131 , -1.9887635, -2.8477125,\n",
              "         -2.4412396, -2.267544 , -2.7560701, -2.722776 , -2.333737 ,\n",
              "         -3.0383668, -2.8826013, -3.0712323], dtype=float32),\n",
              "  3,\n",
              "  'neutral'),\n",
              " ('OysteinLund either way, you always tend to make my #followfriday list, sweetie - you do rock that much',\n",
              "  array([-2.6068492, -2.7447104, -2.8694606, -2.0110433, -2.799313 ,\n",
              "         -2.6599448, -1.7355175, -2.6412196, -2.718317 , -2.3491807,\n",
              "         -3.3579142, -2.7406797, -3.4347498], dtype=float32),\n",
              "  6,\n",
              "  'love'),\n",
              " ('NicholeAudrey LOL Ok, &quot;we&quot; will get right on that. I will let you know the verdict manana. Off to watch a movie with my lovely wife',\n",
              "  array([-2.7567546, -2.4538522, -2.9166396, -1.9656725, -2.8601682,\n",
              "         -2.5607967, -1.9388914, -2.6946197, -2.698028 , -2.4835658,\n",
              "         -3.2816405, -2.4405541, -3.3533316], dtype=float32),\n",
              "  6,\n",
              "  'love'),\n",
              " ('really want to see UP, but no one wants to go with me',\n",
              "  array([-2.9377158, -2.1524682, -2.979167 , -2.0914576, -2.8740087,\n",
              "         -2.2476277, -2.5364928, -2.5482504, -2.6490223, -2.2732933,\n",
              "         -2.9235795, -2.8252006, -2.990543 ], dtype=float32),\n",
              "  3,\n",
              "  'neutral'),\n",
              " ('&quot;Everyone has one special thing.&quot;  This guy sets the record  for the longest pronunciation of the word &quot;Fresh&quot;    http://bit.ly/3mD9fV',\n",
              "  array([-2.6969945, -2.4261837, -3.056232 , -1.827256 , -2.861764 ,\n",
              "         -2.5300927, -1.9964864, -2.61762  , -2.9437008, -2.403292 ,\n",
              "         -3.2475471, -2.602912 , -3.3617332], dtype=float32),\n",
              "  3,\n",
              "  'neutral'),\n",
              " (\"geewhy  You're just jealous  Guess you'll be walking around the office tomorrow in your Malo\",\n",
              "  array([-2.8310938, -2.3325026, -2.8551445, -1.9049861, -2.9627585,\n",
              "         -2.3316925, -2.1190214, -2.9477777, -2.853006 , -2.2220283,\n",
              "         -3.1364763, -2.718628 , -3.2002118], dtype=float32),\n",
              "  3,\n",
              "  'neutral'),\n",
              " ('vessel2219 of course',\n",
              "  array([-2.772779 , -2.3055475, -2.68772  , -1.9293232, -2.9475987,\n",
              "         -2.374374 , -2.200611 , -2.76268  , -2.6055288, -2.5744562,\n",
              "         -3.1053596, -2.6436133, -3.2401612], dtype=float32),\n",
              "  3,\n",
              "  'neutral'),\n",
              " (\"monkeymad2 nooooooo not the receipt  don't break my heart\",\n",
              "  array([-2.8025718, -2.3593655, -2.7962508, -1.8272012, -2.6371026,\n",
              "         -2.503824 , -2.2068987, -2.622945 , -2.8903122, -2.330414 ,\n",
              "         -3.146554 , -2.8928723, -3.3308425], dtype=float32),\n",
              "  3,\n",
              "  'neutral'),\n",
              " (\"jj1814 WOMAN, I didn't know you came home  you so suck When are you going back\",\n",
              "  array([-2.7473698, -2.2069793, -2.8598852, -2.0271354, -2.8821723,\n",
              "         -2.7268224, -1.6719519, -2.8318872, -2.7811713, -2.6239707,\n",
              "         -3.4208403, -2.8097234, -3.1874886], dtype=float32),\n",
              "  6,\n",
              "  'love'),\n",
              " ('musicmonday Nicest Thing from Kate Nash',\n",
              "  array([-2.7693567, -2.535469 , -2.6885471, -2.025708 , -2.9106798,\n",
              "         -2.5560338, -1.7357668, -2.7230616, -2.840434 , -2.376718 ,\n",
              "         -3.3880658, -2.7612226, -3.325334 ], dtype=float32),\n",
              "  6,\n",
              "  'love'),\n",
              " ('goatfox yes i have read them many times.',\n",
              "  array([-2.8198605, -2.3734438, -2.8418698, -1.9798868, -2.7386365,\n",
              "         -2.386966 , -2.0738366, -2.8286543, -2.698032 , -2.3980107,\n",
              "         -3.1121502, -2.764124 , -3.1306214], dtype=float32),\n",
              "  3,\n",
              "  'neutral'),\n",
              " (\"ryan_leslie I love the video You are inspiration Mr. Leslie, can't wait for the new album still rocking the debut.\",\n",
              "  array([-2.742305 , -2.7164354, -2.7480855, -1.9581678, -2.6025486,\n",
              "         -2.5595121, -1.7807846, -2.8118951, -2.6744008, -2.4493306,\n",
              "         -3.3171802, -2.8951888, -3.2851658], dtype=float32),\n",
              "  6,\n",
              "  'love'),\n",
              " (\"Hates that my a.c doesn't work Its so hot\",\n",
              "  array([-2.9710584, -2.1400855, -2.8275495, -1.9102442, -3.0657396,\n",
              "         -2.1985888, -2.4046335, -2.8389463, -2.7061105, -2.336395 ,\n",
              "         -3.0695076, -2.657117 , -3.2841184], dtype=float32),\n",
              "  3,\n",
              "  'neutral'),\n",
              " ('YES  I have my e-mail down to one window (most of which are marked for follow-up on Monday).  all the dang paper still here tho',\n",
              "  array([-2.989076 , -2.2125812, -3.0482767, -1.9231608, -2.9719915,\n",
              "         -2.0627675, -2.421454 , -2.7688804, -2.617184 , -2.3731673,\n",
              "         -3.102375 , -2.8117604, -3.087827 ], dtype=float32),\n",
              "  3,\n",
              "  'neutral'),\n",
              " ('MOAM66 I love old school horror movies more, I got Elvira tattooed on my back',\n",
              "  array([-2.6626403, -2.2921193, -2.9890256, -1.9279666, -2.8072424,\n",
              "         -2.4693284, -1.9755213, -2.705436 , -2.8975165, -2.5085714,\n",
              "         -3.1426127, -2.7928052, -3.1725302], dtype=float32),\n",
              "  3,\n",
              "  'neutral'),\n",
              " ('ugh trek of hollie steel  she annoys me &gt;',\n",
              "  array([-2.7575994, -2.378721 , -2.911631 , -2.0659502, -2.7948384,\n",
              "         -2.5470457, -1.7040418, -2.6941907, -2.7552714, -2.5946293,\n",
              "         -3.3208532, -2.7273955, -3.3800888], dtype=float32),\n",
              "  6,\n",
              "  'love'),\n",
              " (\"mpellegrini hurts to be you Sunshine all weekend and you don't get to play. That's sad.\",\n",
              "  array([-2.7625265, -2.3657386, -3.0988207, -2.0215378, -2.848575 ,\n",
              "         -2.3946686, -1.9302474, -2.644147 , -2.8281763, -2.4970825,\n",
              "         -3.2146988, -2.608342 , -3.1042833], dtype=float32),\n",
              "  6,\n",
              "  'love'),\n",
              " ('MichelleZen you need to follow me so I could send you a direct message.',\n",
              "  array([-2.8760002, -2.338941 , -2.939567 , -1.911586 , -2.911786 ,\n",
              "         -2.3349156, -2.1243348, -2.7667625, -2.621544 , -2.3734434,\n",
              "         -3.1119065, -2.732561 , -3.2838688], dtype=float32),\n",
              "  3,\n",
              "  'neutral'),\n",
              " ('cassieebee Why I aint on ur #FF list? im hurt',\n",
              "  array([-2.9936655, -2.2104437, -2.8824587, -1.9352486, -2.7133858,\n",
              "         -2.370956 , -2.169949 , -2.7079825, -2.635697 , -2.3554595,\n",
              "         -3.3482234, -2.8589017, -3.2113047], dtype=float32),\n",
              "  3,\n",
              "  'neutral'),\n",
              " ('i totally do not know how ticketless travel works',\n",
              "  array([-2.8475416, -2.16622  , -2.8111415, -2.0257053, -2.98982  ,\n",
              "         -2.5081983, -2.0458152, -2.7846968, -2.5762076, -2.3464673,\n",
              "         -3.225873 , -2.8154352, -3.1877666], dtype=float32),\n",
              "  3,\n",
              "  'neutral'),\n",
              " ('feels like warm things',\n",
              "  array([-2.7479022, -2.3223996, -2.9200623, -1.9210027, -3.0857325,\n",
              "         -2.2203872, -2.3070934, -2.829402 , -2.6789765, -2.3975391,\n",
              "         -2.9742498, -2.7212067, -3.0325708], dtype=float32),\n",
              "  3,\n",
              "  'neutral'),\n",
              " ('I want to get my braces removed sooo bad',\n",
              "  array([-2.8601296, -2.2976928, -2.92529  , -1.9294857, -3.0545344,\n",
              "         -2.3060656, -2.4081166, -2.6225057, -2.8783312, -2.1807032,\n",
              "         -3.1021504, -2.621794 , -3.0542436], dtype=float32),\n",
              "  3,\n",
              "  'neutral'),\n",
              " (\"AyeBloodyRight no i mean 2moz. I'm workin' 7-1 in a bakers then 6-4 later in a pub\",\n",
              "  array([-2.9423187, -2.1805313, -2.9625497, -1.9136231, -2.985763 ,\n",
              "         -2.4929984, -2.5280178, -2.6795611, -2.6061764, -2.217968 ,\n",
              "         -2.876261 , -2.657478 , -3.1155474], dtype=float32),\n",
              "  3,\n",
              "  'neutral'),\n",
              " (\"RosalieJHale I'm fine, I've just been trying to figure out the meaning behind this song, and I cant think of anything.  urlm.in/cnmt\",\n",
              "  array([-2.6635156, -2.2938795, -2.8787918, -1.9699693, -2.79853  ,\n",
              "         -2.581999 , -2.1148055, -2.737935 , -2.5388947, -2.4242997,\n",
              "         -3.215715 , -2.7958412, -3.1420865], dtype=float32),\n",
              "  3,\n",
              "  'neutral'),\n",
              " (\"gillianre i can barely walk- they're twice the usual size   least its now&amp; not in NY ;) ive requested my song;) u retquestin owt 2nite?X\",\n",
              "  array([-2.8476508, -1.9896315, -3.0048718, -2.0094748, -3.037444 ,\n",
              "         -2.417868 , -2.487538 , -2.602397 , -2.844332 , -2.2278736,\n",
              "         -3.0306146, -2.7291331, -3.0386677], dtype=float32),\n",
              "  1,\n",
              "  'sadness'),\n",
              " ('CobrokeNation Good Morning',\n",
              "  array([-2.9875689, -2.2298791, -2.785743 , -1.7923794, -2.932819 ,\n",
              "         -2.300856 , -2.114705 , -2.7053187, -2.7696242, -2.6052032,\n",
              "         -3.1847143, -2.9407098, -3.1683614], dtype=float32),\n",
              "  3,\n",
              "  'neutral'),\n",
              " (\"Happy mother's day to all moms out there  i just played tong-its a while ago.\",\n",
              "  array([-2.806191 , -2.3509314, -2.9939795, -1.8169534, -2.834366 ,\n",
              "         -2.667745 , -2.0043707, -2.646555 , -2.8178358, -2.2500365,\n",
              "         -3.0974634, -2.8418217, -3.5315578], dtype=float32),\n",
              "  3,\n",
              "  'neutral'),\n",
              " ('RelientTU That would be SOOOOOO much and Geeky to the ultimate LEVEL But I work 9 to 530am',\n",
              "  array([-2.9949765, -2.0631523, -2.9239173, -1.9370623, -2.9035056,\n",
              "         -2.5382557, -2.4259534, -2.5694375, -2.8140569, -2.1853101,\n",
              "         -3.1307547, -2.745101 , -3.0808134], dtype=float32),\n",
              "  3,\n",
              "  'neutral'),\n",
              " ('kingivn Have fun amorsote even tho u forgot my bday which is today',\n",
              "  array([-2.9562056, -2.3905528, -2.9832408, -2.085539 , -3.0536308,\n",
              "         -2.2448668, -2.1408765, -2.5257778, -2.4885006, -2.4383464,\n",
              "         -3.1085496, -2.6531634, -3.0916605], dtype=float32),\n",
              "  3,\n",
              "  'neutral'),\n",
              " ('Orli Snapily you are now famous in Houston, take a look  http://is.gd/ysAh',\n",
              "  array([-2.5093682, -2.2963817, -2.9311984, -1.8272828, -2.9293919,\n",
              "         -2.533864 , -2.0004287, -2.6462364, -3.030137 , -2.5651925,\n",
              "         -3.327173 , -2.6639357, -3.3779445], dtype=float32),\n",
              "  3,\n",
              "  'neutral'),\n",
              " ('mmmmmm, late night Brusters ice cream om nom nom nom',\n",
              "  array([-2.9124775, -2.553103 , -2.9298613, -1.8941236, -2.78116  ,\n",
              "         -2.5953445, -1.9055376, -2.6872241, -2.6685104, -2.2657924,\n",
              "         -3.2433143, -2.8197649, -3.2491236], dtype=float32),\n",
              "  3,\n",
              "  'neutral'),\n",
              " (\"meyen: You MUST watch Grey's. It was their 100th episode. Let me know once you do. I don't want to give out any more details\",\n",
              "  array([-2.544583 , -2.4848855, -2.789072 , -1.866506 , -2.644704 ,\n",
              "         -2.4915838, -2.3544335, -2.9197326, -2.66847  , -2.3476982,\n",
              "         -3.3238091, -2.5335393, -3.2447824], dtype=float32),\n",
              "  3,\n",
              "  'neutral'),\n",
              " (\"Thank you OpenDNS for saving me from Comcast's crappy DNS server. My internet is back up to par finally.\",\n",
              "  array([-2.535284 , -2.7350323, -2.9057655, -2.1015112, -2.7270365,\n",
              "         -2.6342525, -1.667742 , -2.8696795, -2.614018 , -2.5353136,\n",
              "         -3.2211623, -2.6797276, -3.3425052], dtype=float32),\n",
              "  6,\n",
              "  'love'),\n",
              " ('Whats your name: Adelaide-Marie How old r u: 14 Where Do u live: IN THE WORLD  lol i jk, canada(toronto)',\n",
              "  array([-2.9396615, -2.3686066, -2.7581444, -2.085284 , -2.8726225,\n",
              "         -2.3919115, -2.077062 , -2.589189 , -2.7230067, -2.501085 ,\n",
              "         -2.9659991, -2.550886 , -3.2127478], dtype=float32),\n",
              "  6,\n",
              "  'love'),\n",
              " (\"Sandy_B_ Shes bad they won't sort her out and is in a lot of pain\",\n",
              "  array([-2.904375 , -2.1684186, -2.8604355, -1.956682 , -2.9003127,\n",
              "         -2.4112425, -2.241443 , -2.608139 , -2.7245417, -2.459868 ,\n",
              "         -3.1421337, -2.643108 , -3.1641712], dtype=float32),\n",
              "  3,\n",
              "  'neutral'),\n",
              " ('Ate too much vegetarian pizza for dinner But it was so good',\n",
              "  array([-2.8773954, -2.3172264, -2.8764782, -1.9353966, -2.924427 ,\n",
              "         -2.3154397, -2.4035192, -2.7415888, -2.6420057, -2.2412183,\n",
              "         -2.9465127, -2.7735581, -3.108273 ], dtype=float32),\n",
              "  3,\n",
              "  'neutral'),\n",
              " (\"sondrafaye ~ I'm sure that would make Mr. Koons very happy\",\n",
              "  array([-2.627369 , -2.5784461, -2.8324513, -2.0037653, -2.7763286,\n",
              "         -2.3626902, -1.9494962, -2.796478 , -2.6124866, -2.4492443,\n",
              "         -3.411491 , -2.803289 , -3.100469 ], dtype=float32),\n",
              "  6,\n",
              "  'love'),\n",
              " (\"yummy chocolate cake..wish even i got one for my b'day   anybody listening???\",\n",
              "  array([-2.891151 , -2.30892  , -2.9249296, -1.9662144, -2.8987637,\n",
              "         -2.3339424, -2.044113 , -2.7257082, -2.6771631, -2.368729 ,\n",
              "         -3.2473083, -2.751064 , -3.234757 ], dtype=float32),\n",
              "  3,\n",
              "  'neutral'),\n",
              " ('They are out of ice cream at the Crazy Mocha in SS. This means no Espresso Milkshake..',\n",
              "  array([-2.8154345, -2.362635 , -3.1387336, -1.8242154, -2.9541323,\n",
              "         -2.4427269, -2.1424181, -2.738114 , -2.6264048, -2.345238 ,\n",
              "         -3.0575793, -2.6982203, -3.2789307], dtype=float32),\n",
              "  3,\n",
              "  'neutral'),\n",
              " ('Once again I am looking for a new beard - it just fell out the window  Any bright green ones this time?',\n",
              "  array([-2.8496566, -2.1579695, -2.871866 , -2.0169933, -2.9656184,\n",
              "         -2.364788 , -2.1799932, -2.7594383, -2.6871982, -2.2762418,\n",
              "         -3.2907162, -2.710346 , -3.2045026], dtype=float32),\n",
              "  3,\n",
              "  'neutral'),\n",
              " ('YAY My temperature went down  I can have dinner with the family tonight.',\n",
              "  array([-2.8778121, -2.4755862, -2.7589998, -2.0421834, -2.8188417,\n",
              "         -2.6299238, -1.8853192, -2.58874  , -2.7750883, -2.3105562,\n",
              "         -3.2611732, -2.6828513, -3.2286024], dtype=float32),\n",
              "  6,\n",
              "  'love'),\n",
              " (\"thedrumlife Oh we're friends now? You know you're so up &amp; down with me.  I retract my last statement thennnnnnnn.\",\n",
              "  array([-2.7192936, -2.1539555, -2.7334719, -2.1924224, -2.83406  ,\n",
              "         -2.5505743, -2.115146 , -2.7570539, -2.6304007, -2.3739827,\n",
              "         -3.1360793, -2.6684737, -3.1572933], dtype=float32),\n",
              "  6,\n",
              "  'love'),\n",
              " (\"I don't saw the movie\",\n",
              "  array([-2.9283824, -2.2553742, -2.864575 , -2.0068707, -2.9405603,\n",
              "         -2.43169  , -2.383219 , -2.5210626, -2.7712069, -2.211082 ,\n",
              "         -2.898777 , -2.893958 , -2.9132507], dtype=float32),\n",
              "  3,\n",
              "  'neutral'),\n",
              " (\"FINALLY finished studying, 7 pages of double sided notes later... off to cook tea and dessert now. Happy Mother's Day\",\n",
              "  array([-2.9066536, -2.4669008, -2.7527993, -1.8693174, -2.667658 ,\n",
              "         -2.4904766, -1.9632549, -3.0482347, -2.6307464, -2.4817877,\n",
              "         -3.4125056, -2.6281757, -3.1796336], dtype=float32),\n",
              "  3,\n",
              "  'neutral'),\n",
              " ('wishes ashleytisdale would admit she has a new lovah',\n",
              "  array([-2.7072973, -2.4145825, -2.7787328, -1.8272158, -2.6430497,\n",
              "         -2.481393 , -2.318031 , -2.8628578, -2.8463955, -2.2639809,\n",
              "         -3.0906472, -2.7881596, -3.1805868], dtype=float32),\n",
              "  3,\n",
              "  'neutral'),\n",
              " ('it gets worse every year and 2010/2011 will be the worst. oh, and 6 months today',\n",
              "  array([-2.744056 , -2.2353957, -2.8693337, -2.2528176, -2.6535952,\n",
              "         -2.2728796, -2.1852794, -2.7057636, -2.7248201, -2.2509596,\n",
              "         -3.2494326, -2.718391 , -3.2547536], dtype=float32),\n",
              "  6,\n",
              "  'love'),\n",
              " ('going to a garden centre today. should be funn :/ currently drinking egyptian spice tea and watching hollyoaks',\n",
              "  array([-2.8361773, -2.3177161, -2.774328 , -2.1342638, -2.6643054,\n",
              "         -2.4861798, -2.0519524, -2.7447712, -2.6623287, -2.4351943,\n",
              "         -3.195501 , -2.5843468, -3.1523945], dtype=float32),\n",
              "  6,\n",
              "  'love'),\n",
              " (\"Two more loads and the moving crew's done Started at 7am and i'm done for the day Too bad the ac doesn't work in my new place  oh life\",\n",
              "  array([-2.8492742, -2.352845 , -2.9766126, -1.7216027, -3.167623 ,\n",
              "         -2.3767607, -2.195509 , -2.7202544, -2.7000127, -2.3732142,\n",
              "         -3.1132631, -2.8453875, -3.1652455], dtype=float32),\n",
              "  3,\n",
              "  'neutral'),\n",
              " (\"ankita_gaba haha I think we should let the topic drop now. a quick poll would settle the matter if you don't believe me\",\n",
              "  array([-2.6544752, -2.470156 , -2.8615031, -2.004627 , -2.6686697,\n",
              "         -2.5263643, -2.1142435, -2.6055994, -2.7101455, -2.3656151,\n",
              "         -3.216586 , -2.73547  , -3.124738 ], dtype=float32),\n",
              "  3,\n",
              "  'neutral'),\n",
              " ('enjoying a fresh mango bubble-tea slush   but still at work',\n",
              "  array([-2.8108573, -2.0252602, -2.8893661, -2.055325 , -2.7547464,\n",
              "         -2.34576  , -2.5656004, -2.7701616, -2.7463048, -2.31335  ,\n",
              "         -2.944529 , -2.8753657, -2.934001 ], dtype=float32),\n",
              "  1,\n",
              "  'sadness'),\n",
              " ('StampGarden PRETTY I hope I win',\n",
              "  array([-2.885489 , -2.59718  , -2.8470407, -1.8661584, -2.719859 ,\n",
              "         -2.3935888, -2.1593385, -2.6968334, -2.5453134, -2.4288263,\n",
              "         -3.2728972, -2.5770535, -3.311316 ], dtype=float32),\n",
              "  3,\n",
              "  'neutral'),\n",
              " (\"ravenousraven check out her new song &quot;sentimental, wat-a-joke-ental&quot; she's a fren  www.last.fm/music/marple+meg\",\n",
              "  array([-2.7691224, -2.2848706, -2.9221554, -1.7197965, -2.9163322,\n",
              "         -2.6284995, -2.0278423, -2.6440222, -2.7918162, -2.4084268,\n",
              "         -3.3865185, -2.894394 , -3.4070835], dtype=float32),\n",
              "  3,\n",
              "  'neutral'),\n",
              " (\"brigwyn Yup, everything's there.\",\n",
              "  array([-2.7858725, -2.3768146, -2.8247018, -2.036363 , -2.6074   ,\n",
              "         -2.340809 , -1.8762324, -2.945271 , -2.7900906, -2.4804919,\n",
              "         -3.1921282, -2.7955778, -3.4222536], dtype=float32),\n",
              "  6,\n",
              "  'love'),\n",
              " ('in school, wants to read Eclipse, 200-and-some-60 pages read',\n",
              "  array([-3.10392  , -2.1838863, -3.216951 , -1.8717638, -2.9223776,\n",
              "         -2.091811 , -2.3586922, -2.7982116, -2.741859 , -2.378321 ,\n",
              "         -2.9929016, -2.802466 , -3.0385451], dtype=float32),\n",
              "  3,\n",
              "  'neutral'),\n",
              " ('Yay for birthdays  sadly my voice is almost gone :/ but it was a pretty good night',\n",
              "  array([-2.6666172, -2.1231527, -2.9886303, -1.9471494, -3.0773635,\n",
              "         -2.4056554, -2.3759933, -2.7879598, -2.8330183, -2.162775 ,\n",
              "         -3.0009027, -2.7737584, -3.1927857], dtype=float32),\n",
              "  3,\n",
              "  'neutral'),\n",
              " ('nothing sobers you up faster than getting sprayed with a wet hose',\n",
              "  array([-2.9820619, -2.0874164, -2.9247723, -1.9793652, -2.7886887,\n",
              "         -2.1541388, -2.5581617, -2.6369019, -2.771758 , -2.3447933,\n",
              "         -2.9311638, -2.9710166, -3.1251307], dtype=float32),\n",
              "  3,\n",
              "  'neutral'),\n",
              " (\"Woah Awesome show Glad to be back at the hotel, though.. Nightie night and Happy Mother's Day to all you mommy's\",\n",
              "  array([-2.8343477, -2.283441 , -2.9239557, -1.9355904, -2.8199408,\n",
              "         -2.5194285, -1.8865364, -2.6681569, -2.818948 , -2.497151 ,\n",
              "         -3.3524375, -2.7372603, -3.2590415], dtype=float32),\n",
              "  6,\n",
              "  'love'),\n",
              " (\"The first officially beautiful day of the year and I'm stuck inside the office    A Magners and BBQ will make up for it\",\n",
              "  array([-2.8108325, -2.0509932, -3.0008495, -2.2142386, -3.0531938,\n",
              "         -2.2464194, -2.438199 , -2.5959706, -2.880674 , -2.1210372,\n",
              "         -3.063658 , -2.5655315, -3.2759507], dtype=float32),\n",
              "  1,\n",
              "  'sadness'),\n",
              " ('On my way to school not feeln this rainy day at all.... But I had lots of FUN this weekend  ....',\n",
              "  array([-2.5954733, -2.1199584, -3.016826 , -1.9166001, -3.011938 ,\n",
              "         -2.4724813, -2.305888 , -2.833721 , -2.6614053, -2.4100747,\n",
              "         -3.1151118, -2.6744847, -3.1172137], dtype=float32),\n",
              "  3,\n",
              "  'neutral'),\n",
              " ('Came home after getting ratty in a shop with the staff and a blister on the foot. Meh',\n",
              "  array([-3.0087495, -2.297113 , -3.0054417, -1.8702375, -2.7612922,\n",
              "         -2.2652755, -2.137636 , -2.842994 , -2.7354763, -2.4323602,\n",
              "         -3.0617685, -2.7776933, -3.179195 ], dtype=float32),\n",
              "  3,\n",
              "  'neutral'),\n",
              " ('Omg. Its 1:47 am and Kim Possible is on Disney Channel right now. I am glued to the screen',\n",
              "  array([-2.8115804, -2.3097084, -2.9304497, -1.7915733, -3.079104 ,\n",
              "         -2.5147681, -1.9567753, -2.7424693, -2.6545603, -2.495624 ,\n",
              "         -3.263788 , -2.8775313, -3.2032232], dtype=float32),\n",
              "  3,\n",
              "  'neutral'),\n",
              " (\"is looking forward to tonight's dinner date with Mom; is gymming this afternoon; started &quot;bawas kanin&quot; (less rice) movement; is celibate.\",\n",
              "  array([-2.8888044, -2.2725816, -3.179421 , -1.9591411, -2.8434546,\n",
              "         -2.3312826, -2.2866716, -2.5854   , -2.789931 , -2.2969685,\n",
              "         -3.0345707, -2.6369262, -3.107957 ], dtype=float32),\n",
              "  3,\n",
              "  'neutral'),\n",
              " (\"Getting all annoyed cos this weekend's going to be hot. I'm bloody working\",\n",
              "  array([-2.8494034, -1.9938664, -3.0243218, -1.999222 , -3.0197947,\n",
              "         -2.4663663, -2.351169 , -2.6614733, -2.7064157, -2.281056 ,\n",
              "         -3.2570398, -2.631464 , -3.1306877], dtype=float32),\n",
              "  1,\n",
              "  'sadness'),\n",
              " ('I want to read my book, but my conscience is telling me to kill off joe   Ã¯Â¿Â½Ã¯Â¿Â½l Berto',\n",
              "  array([-2.8468475, -2.3058174, -3.1100497, -1.6627455, -2.8122795,\n",
              "         -2.2969728, -2.4396968, -2.8637314, -2.8429031, -2.2857735,\n",
              "         -3.0896547, -2.7489865, -3.3889585], dtype=float32),\n",
              "  3,\n",
              "  'neutral'),\n",
              " ('Note 2 all twoloers: neva stay  a candlelight suites shower is slow and the toilet sux and the bed is tiny',\n",
              "  array([-3.0252457, -2.15676  , -3.0635371, -1.7139381, -2.9812305,\n",
              "         -2.4944744, -2.4308395, -2.590435 , -2.7692945, -2.3680215,\n",
              "         -2.889604 , -2.7817311, -3.2504787], dtype=float32),\n",
              "  3,\n",
              "  'neutral'),\n",
              " (\"Oh man, I feel sick. As in I might have contracted a cold... maybe from the kids' slobber on Thursday\",\n",
              "  array([-2.850675 , -2.2406418, -2.9188232, -1.8569014, -3.0278869,\n",
              "         -2.3704395, -2.3510346, -2.635467 , -2.7665734, -2.3465736,\n",
              "         -3.0032141, -2.7047317, -3.1760805], dtype=float32),\n",
              "  3,\n",
              "  'neutral'),\n",
              " (\"D'oh...forgot the ferry turns around before going. So much for sitting in the sun. And the other side deck is closed.\",\n",
              "  array([-2.9287002, -2.1955094, -3.0655549, -1.9648848, -3.0451672,\n",
              "         -2.261455 , -2.4115727, -2.7880816, -2.4979367, -2.3038359,\n",
              "         -2.9819596, -2.7417638, -3.0333972], dtype=float32),\n",
              "  3,\n",
              "  'neutral'),\n",
              " ('Finished practicing for today. A bit tired.  http://tinyurl.com/pypof6',\n",
              "  array([-2.834857 , -2.5191374, -2.8790956, -1.8483982, -2.8471384,\n",
              "         -2.482595 , -1.7376361, -2.895633 , -2.7429338, -2.4495673,\n",
              "         -3.4585667, -2.8479724, -3.375986 ], dtype=float32),\n",
              "  6,\n",
              "  'love'),\n",
              " ('rahulgoyal1986 Well I will be making beds, creating noise &amp; cleaning cleaning all day long.  With music &amp; a smile  x',\n",
              "  array([-2.960206 , -2.1140575, -3.0337574, -1.8550793, -3.0217228,\n",
              "         -2.4622083, -2.0998805, -2.7373238, -2.8319244, -2.3363917,\n",
              "         -3.1686134, -2.6859581, -3.327057 ], dtype=float32),\n",
              "  3,\n",
              "  'neutral'),\n",
              " ('going to bed  cant take thiss any longeerr maan. [U]',\n",
              "  array([-3.0551028, -2.208034 , -3.0469174, -1.9613371, -3.007832 ,\n",
              "         -2.1947713, -2.4781032, -2.7030902, -2.6069927, -2.2060165,\n",
              "         -2.9807777, -2.7800126, -3.0699902], dtype=float32),\n",
              "  3,\n",
              "  'neutral'),\n",
              " (\"bradiewebbstack awww ily you're so sweet\",\n",
              "  array([-2.7015338, -2.5359888, -2.8450823, -2.0402699, -2.611231 ,\n",
              "         -2.6679175, -1.7354006, -3.0343466, -2.940135 , -2.291984 ,\n",
              "         -3.2609625, -2.6454148, -3.3506079], dtype=float32),\n",
              "  6,\n",
              "  'love'),\n",
              " ('Working  god I hate it haha',\n",
              "  array([-2.9392552, -2.1735213, -2.6856732, -1.9322803, -2.764162 ,\n",
              "         -2.4754934, -2.3468914, -2.6462831, -2.81823  , -2.3564777,\n",
              "         -3.2139482, -2.749743 , -3.0368018], dtype=float32),\n",
              "  3,\n",
              "  'neutral'),\n",
              " (\"can't make it to graduation...\",\n",
              "  array([-2.695608 , -2.3058834, -2.948287 , -1.92702  , -2.909624 ,\n",
              "         -2.3520808, -2.0517967, -2.826067 , -2.4911656, -2.6267328,\n",
              "         -3.213982 , -2.8121622, -3.170041 ], dtype=float32),\n",
              "  3,\n",
              "  'neutral'),\n",
              " ('Finally sleep time',\n",
              "  array([-3.0938494, -2.1600385, -2.6863985, -1.9164367, -2.7708344,\n",
              "         -2.3248692, -2.2189689, -2.7106419, -2.6918416, -2.652483 ,\n",
              "         -3.198134 , -2.710681 , -3.1485863], dtype=float32),\n",
              "  3,\n",
              "  'neutral'),\n",
              " ('still awake.. will get some sleep i have to drive to Fortuna early.. Red Bull will guide me',\n",
              "  array([-2.9413133, -2.1880047, -2.8626566, -1.8469592, -2.9953082,\n",
              "         -2.2444513, -2.305991 , -2.7755644, -2.7754807, -2.3671641,\n",
              "         -3.1246104, -2.7193022, -3.315692 ], dtype=float32),\n",
              "  3,\n",
              "  'neutral'),\n",
              " (\"I want to wish all the Mommy's a happy mothers day\",\n",
              "  array([-2.762326 , -2.2873318, -2.9076326, -1.8770441, -2.9566717,\n",
              "         -2.7053154, -2.0410748, -2.6468363, -2.7767231, -2.2386959,\n",
              "         -3.2452593, -2.7879786, -3.2513208], dtype=float32),\n",
              "  3,\n",
              "  'neutral'),\n",
              " ('nickiminaj pleeeeeease pleeeease make me a dj drop',\n",
              "  array([-2.6673162, -2.463001 , -2.8575923, -2.1376727, -2.8708544,\n",
              "         -2.4362772, -1.5740975, -2.8167577, -2.7988524, -2.6276875,\n",
              "         -3.2136815, -2.8930373, -3.500732 ], dtype=float32),\n",
              "  6,\n",
              "  'love'),\n",
              " ('is working.   I am so happy my job is a radio and not anything physically exhausting....',\n",
              "  array([-2.626328 , -2.3032668, -3.0016475, -2.018337 , -2.9237337,\n",
              "         -2.4458475, -2.0697844, -2.7482295, -2.460363 , -2.4260998,\n",
              "         -3.4091277, -2.7309513, -3.1584482], dtype=float32),\n",
              "  3,\n",
              "  'neutral'),\n",
              " ('has a mallory-weiss tear in her stomach and gastritis...  needless to say my stomach is killing me from my scope today',\n",
              "  array([-2.9676638, -2.1001842, -2.8605022, -1.9873476, -3.0696971,\n",
              "         -2.4738736, -2.1834464, -2.610952 , -2.564787 , -2.4971828,\n",
              "         -3.2176337, -2.6492956, -3.1003973], dtype=float32),\n",
              "  3,\n",
              "  'neutral'),\n",
              " ('titanite lol happy you like it',\n",
              "  array([-2.7513444, -2.4533737, -2.8077323, -1.827456 , -2.8227954,\n",
              "         -2.6642985, -1.8620107, -2.8533297, -2.6625834, -2.6611507,\n",
              "         -3.2295997, -2.6941352, -3.2168317], dtype=float32),\n",
              "  3,\n",
              "  'neutral'),\n",
              " ('aku kbangun gara2 mimpi manyolitha, very bad dream',\n",
              "  array([-2.7993143, -2.6395576, -2.9946249, -1.8184267, -2.883842 ,\n",
              "         -2.5432506, -1.8551564, -2.7302887, -2.7661855, -2.4296997,\n",
              "         -3.265926 , -2.600347 , -3.327405 ], dtype=float32),\n",
              "  3,\n",
              "  'neutral'),\n",
              " ('chishiki Welcome back to Japan',\n",
              "  array([-2.7231696, -2.7770216, -2.5349052, -1.8908498, -2.479269 ,\n",
              "         -2.718998 , -1.7364948, -2.960437 , -2.7032733, -2.716968 ,\n",
              "         -3.4242535, -2.8178277, -3.248066 ], dtype=float32),\n",
              "  6,\n",
              "  'love'),\n",
              " (\"flamingokitty I'm surprised your bf didn't want to play with u Although that would require another guitar...Glad u had fun\",\n",
              "  array([-2.675684 , -2.6656964, -3.0529623, -1.8550361, -2.6640182,\n",
              "         -2.4697697, -1.90344  , -2.7102354, -2.7814596, -2.4448228,\n",
              "         -3.324697 , -2.7551913, -3.2237573], dtype=float32),\n",
              "  3,\n",
              "  'neutral'),\n",
              " (\"i should be finished.... but i'm not.  color drawing, here i come.\",\n",
              "  array([-2.8153763, -2.324018 , -2.9168565, -2.0805316, -2.8995466,\n",
              "         -2.482594 , -2.1208072, -2.7294483, -2.5341518, -2.2701159,\n",
              "         -3.313016 , -2.6117344, -3.0562468], dtype=float32),\n",
              "  3,\n",
              "  'neutral'),\n",
              " ('havin fun my friend?',\n",
              "  array([-2.960533 , -2.0950162, -2.825295 , -1.7165773, -3.001451 ,\n",
              "         -2.4394841, -2.3880696, -2.9472375, -2.823954 , -2.3059564,\n",
              "         -3.4384363, -2.6838784, -3.0898144], dtype=float32),\n",
              "  3,\n",
              "  'neutral'),\n",
              " ('liz_pimpmcgee sorry about ur hair salon  *hug* me and haydee can do ur hair again haha JK',\n",
              "  array([-3.0591655, -2.3826594, -2.8270159, -1.7785109, -2.9528332,\n",
              "         -2.4699829, -2.1165776, -2.7533178, -2.6487255, -2.1582263,\n",
              "         -3.2873003, -2.8924599, -3.420774 ], dtype=float32),\n",
              "  3,\n",
              "  'neutral'),\n",
              " (\"tidesandclouds   eff you. jk, i'll probably make it to philly.\",\n",
              "  array([-2.682003 , -2.4093573, -2.9018378, -2.0623598, -2.776893 ,\n",
              "         -2.592434 , -2.0164535, -2.639751 , -2.600759 , -2.2617671,\n",
              "         -3.2098224, -2.8391895, -3.198339 ], dtype=float32),\n",
              "  6,\n",
              "  'love'),\n",
              " (\"zuzu I didn't get a lot of sleep myself last night. And it is a good thing, reading\",\n",
              "  array([-2.7543292, -2.1016693, -2.6413155, -2.0677204, -2.9253783,\n",
              "         -2.4470396, -1.9940937, -2.805027 , -2.6907887, -2.4752846,\n",
              "         -3.2975516, -2.873472 , -3.3791466], dtype=float32),\n",
              "  6,\n",
              "  'love'),\n",
              " ('VWRmurder Thanks',\n",
              "  array([-2.7767081, -2.2962453, -2.8364964, -1.844829 , -2.86756  ,\n",
              "         -2.5493293, -2.1606297, -2.7378688, -2.8123746, -2.2760305,\n",
              "         -3.1914477, -2.8511562, -3.1266885], dtype=float32),\n",
              "  3,\n",
              "  'neutral'),\n",
              " ('sara_luna everything , I donÃ¯Â¿Â½t know how explain  simply itÃ¯Â¿Â½s patetic',\n",
              "  array([-2.7371342, -2.2726588, -2.96555  , -2.0075395, -2.9026484,\n",
              "         -2.5619187, -2.0139356, -2.6976078, -2.6100821, -2.3406765,\n",
              "         -3.2015026, -2.7496285, -3.2429373], dtype=float32),\n",
              "  3,\n",
              "  'neutral'),\n",
              " ('juz donated books/mags 4 charity. Not only do I feel good but it gave me a good workout from all that heavy lifting',\n",
              "  array([-2.7149634, -2.2928271, -2.9673576, -1.89594  , -3.043057 ,\n",
              "         -2.459036 , -2.1653404, -2.7618613, -2.7068462, -2.2603402,\n",
              "         -3.1152067, -2.6479576, -3.3849978], dtype=float32),\n",
              "  3,\n",
              "  'neutral'),\n",
              " ('SevFletcher exercise is what u make of it. Walk, run, bike, blade, skate, surf, JUST DO IT  feels gooooooood',\n",
              "  array([-2.8308368, -2.1975093, -3.0383072, -1.8464484, -2.96765  ,\n",
              "         -2.4552774, -2.2268317, -2.6313658, -2.6805196, -2.3185227,\n",
              "         -3.2231336, -2.9043498, -3.0884948], dtype=float32),\n",
              "  3,\n",
              "  'neutral'),\n",
              " (\"TheSpencerSmith I'm part of a religion called People-With-Good-Taste-In-Music. We don't celebrate Jonas Brothers Day.\",\n",
              "  array([-2.757517 , -2.4177556, -2.7326427, -2.0052738, -2.6647954,\n",
              "         -2.4052613, -2.2132008, -2.6334782, -2.7414093, -2.2314522,\n",
              "         -3.3298945, -2.7289615, -3.387607 ], dtype=float32),\n",
              "  3,\n",
              "  'neutral'),\n",
              " ('AntonKiselev Congrat on 4AM. I do it every day since one month.',\n",
              "  array([-2.6956384, -2.5316305, -2.9522505, -2.0269675, -2.8338904,\n",
              "         -2.5189857, -1.808027 , -2.7223623, -2.619511 , -2.2092092,\n",
              "         -3.3725421, -3.009378 , -3.3889866], dtype=float32),\n",
              "  6,\n",
              "  'love'),\n",
              " ('leahita Your sweetie is very lucky too  #liberty',\n",
              "  array([-2.7594929, -2.4848516, -2.9288943, -1.8446982, -2.571852 ,\n",
              "         -2.7519069, -1.7525582, -2.662012 , -2.7453818, -2.4903483,\n",
              "         -3.5942712, -2.9921575, -3.3900516], dtype=float32),\n",
              "  6,\n",
              "  'love'),\n",
              " (\"It's 20:50 hs and i'm still at the office...really tired,wanna go home\",\n",
              "  array([-2.887474 , -2.2070813, -2.9068944, -2.1139984, -2.875301 ,\n",
              "         -2.3878183, -2.1424158, -2.7065706, -2.6914885, -2.1505964,\n",
              "         -3.2258217, -2.7285538, -3.2896852], dtype=float32),\n",
              "  3,\n",
              "  'neutral'),\n",
              " ('OK, time to head into Urban Outfitters to see what catches my eye, then head home, since this rain is hindering any more pics for the day',\n",
              "  array([-2.7001839, -2.486541 , -2.980755 , -1.9995152, -3.088756 ,\n",
              "         -2.3469834, -2.156159 , -2.7244089, -2.380918 , -2.2892866,\n",
              "         -3.0794063, -2.7817078, -3.2400813], dtype=float32),\n",
              "  3,\n",
              "  'neutral'),\n",
              " ('testing out ymtumbkr on my iphone  http://tumblr.com/xiy1qycvc',\n",
              "  array([-2.755005 , -2.5592494, -2.8721938, -1.776295 , -2.8547888,\n",
              "         -2.5510483, -1.9896324, -2.4443364, -2.9016309, -2.5716462,\n",
              "         -3.3182888, -2.6385953, -3.3503273], dtype=float32),\n",
              "  3,\n",
              "  'neutral'),\n",
              " (\"siempreuntigre It's the fact that I need to get through half a course by 9 am tomorrow morning that has me down. I'll be at reunions\",\n",
              "  array([-2.8578515, -2.1281154, -2.871079 , -1.9472089, -2.864224 ,\n",
              "         -2.3386655, -2.3042684, -2.6986363, -2.7448282, -2.4259603,\n",
              "         -3.0828328, -2.7525005, -3.1850948], dtype=float32),\n",
              "  3,\n",
              "  'neutral'),\n",
              " ('at thee mall',\n",
              "  array([-2.909651 , -2.267289 , -2.8042068, -1.9095633, -2.7252781,\n",
              "         -2.5239813, -2.3799887, -2.4519644, -2.7591925, -2.3449287,\n",
              "         -3.0215187, -2.8171165, -3.1901221], dtype=float32),\n",
              "  3,\n",
              "  'neutral'),\n",
              " ('I miss my saraH. baby come back  (fuck bbvag smell.)',\n",
              "  array([-2.902901 , -2.3301294, -3.01876  , -1.856354 , -2.6951666,\n",
              "         -2.485736 , -2.1537924, -2.6410594, -2.6960561, -2.3677454,\n",
              "         -3.3266983, -2.6578603, -3.2846596], dtype=float32),\n",
              "  3,\n",
              "  'neutral'),\n",
              " (\"Kinda doing nothing. Life is boring. I feel like changing my look. Let's go shopping tomorrow\",\n",
              "  array([-2.879235 , -2.5779452, -2.7126918, -1.8138133, -2.705939 ,\n",
              "         -2.5000608, -1.9799728, -2.8607657, -2.6901553, -2.2740562,\n",
              "         -3.5194979, -2.8396401, -3.3384395], dtype=float32),\n",
              "  3,\n",
              "  'neutral'),\n",
              " ('Ginchan: AWW Thank you honey.. Didja get mommy a daddy?',\n",
              "  array([-2.6960077, -2.181555 , -2.9625435, -1.9293978, -2.9576857,\n",
              "         -2.6257846, -2.0559716, -2.7056212, -2.695429 , -2.415367 ,\n",
              "         -3.348291 , -2.7090197, -3.1005745], dtype=float32),\n",
              "  3,\n",
              "  'neutral'),\n",
              " ('kgthagreat yea tre hood claim thats atl theme song which it aint lol  but its a youtube vid. that i posted yesterday',\n",
              "  array([-2.9379346, -2.240303 , -2.9905076, -1.8548536, -2.8701055,\n",
              "         -2.5489035, -2.1844058, -2.7144978, -2.6747372, -2.1550205,\n",
              "         -3.3632576, -2.790268 , -3.234877 ], dtype=float32),\n",
              "  3,\n",
              "  'neutral'),\n",
              " ('LauraJames3 I crochet Laura. Simple stitches...I can make a mean afgan',\n",
              "  array([-2.714013 , -2.4161582, -2.881608 , -1.9296153, -2.8988736,\n",
              "         -2.5029104, -2.068244 , -2.810748 , -2.659157 , -2.3344486,\n",
              "         -3.144765 , -2.717642 , -3.129504 ], dtype=float32),\n",
              "  3,\n",
              "  'neutral'),\n",
              " ('dmafiax i know...',\n",
              "  array([-2.9469342, -2.2839477, -2.9479327, -2.0147517, -2.8447237,\n",
              "         -2.3884523, -2.280927 , -2.3976314, -2.7902927, -2.381299 ,\n",
              "         -3.1561902, -2.560351 , -3.144848 ], dtype=float32),\n",
              "  3,\n",
              "  'neutral'),\n",
              " (\"Finallyy done  And done clean'n lay'n down time 4 bed.. goshh its 3 o'clock  Lol nite nite twitta heads\",\n",
              "  array([-2.9304557, -2.176943 , -3.0091   , -1.9432892, -3.0410533,\n",
              "         -2.2226748, -2.2852437, -2.7104213, -2.7940323, -2.4468586,\n",
              "         -3.0323157, -2.5866814, -3.098929 ], dtype=float32),\n",
              "  3,\n",
              "  'neutral'),\n",
              " ('vickybonnett lmao a good push up bra always makes the abs look smaller. in order to have Robbikin-esque abs.. 6 days a week working out',\n",
              "  array([-3.0053043, -2.2962754, -2.8603911, -1.6933057, -2.8980694,\n",
              "         -2.6213472, -2.0234294, -2.6048827, -3.0233827, -2.350744 ,\n",
              "         -3.32653  , -2.8143244, -3.3540804], dtype=float32),\n",
              "  3,\n",
              "  'neutral'),\n",
              " ('morning twitterbugs...nothing like a loooooooooong lie-in',\n",
              "  array([-2.641706 , -2.6354134, -2.770256 , -1.9065988, -2.7533593,\n",
              "         -2.491447 , -1.8568995, -2.9359086, -2.7272482, -2.364063 ,\n",
              "         -3.2777724, -2.746807 , -3.54678  ], dtype=float32),\n",
              "  6,\n",
              "  'love'),\n",
              " ('is enjoying family time. Hoping to be able to make a graceful exit and enjoy some friend time soon',\n",
              "  array([-2.7851186, -2.1523256, -2.8489451, -2.0858643, -3.172567 ,\n",
              "         -2.2047517, -2.250928 , -2.8645556, -2.7530537, -2.259352 ,\n",
              "         -3.0529494, -2.886537 , -2.9125628], dtype=float32),\n",
              "  3,\n",
              "  'neutral'),\n",
              " ('OMJ The 3rd episode of Jonas is too great They are so funny. I wish I was the Pizza Girll. Lol &lt;3',\n",
              "  array([-2.5992734, -2.3623443, -2.9927142, -1.8821017, -2.7653615,\n",
              "         -2.5372033, -1.9036515, -2.7238853, -2.9468002, -2.429441 ,\n",
              "         -3.3543134, -2.7959018, -3.3302984], dtype=float32),\n",
              "  3,\n",
              "  'neutral'),\n",
              " (\"Shouldn't sit weirdly at the pc, I know Im going to hit the deck once I get up\",\n",
              "  array([-2.695336 , -2.160091 , -2.7995715, -2.1357257, -2.6388688,\n",
              "         -2.310945 , -2.2071385, -2.7937565, -2.6956773, -2.4138882,\n",
              "         -3.179595 , -2.8113432, -3.279018 ], dtype=float32),\n",
              "  3,\n",
              "  'neutral'),\n",
              " ('statkallday yessssssir',\n",
              "  array([-2.7806582, -2.4239726, -2.8596084, -1.8856539, -2.6453574,\n",
              "         -2.3898087, -2.131568 , -2.7386656, -2.7921865, -2.5632863,\n",
              "         -3.233117 , -2.6083941, -3.1453452], dtype=float32),\n",
              "  3,\n",
              "  'neutral'),\n",
              " (\"tprettyman ask them what they have done with their lives. be annoying human beings? tell your mama happy mother's day\",\n",
              "  array([-2.7057314, -2.355958 , -2.8873656, -1.9489088, -2.8467188,\n",
              "         -2.5764966, -1.9229169, -2.563686 , -2.8116322, -2.5431404,\n",
              "         -3.2894542, -2.6957765, -3.2324948], dtype=float32),\n",
              "  6,\n",
              "  'love'),\n",
              " (\"It seems like everyone us watching X-Men now, I feel like I've started a revolution  feels nice\",\n",
              "  array([-2.6683238, -2.3540506, -3.038435 , -1.9284323, -3.0702057,\n",
              "         -2.4070988, -2.2360234, -2.580707 , -2.6573138, -2.1455069,\n",
              "         -3.3390212, -2.769549 , -3.2711134], dtype=float32),\n",
              "  3,\n",
              "  'neutral'),\n",
              " ('I love being in charge',\n",
              "  array([-2.7972689, -2.3000693, -2.6506824, -2.0117476, -2.9444551,\n",
              "         -2.3058708, -2.090341 , -2.6969154, -2.6674552, -2.4005315,\n",
              "         -3.1887922, -2.976495 , -3.2503173], dtype=float32),\n",
              "  3,\n",
              "  'neutral'),\n",
              " ('Sweetcakes16 lol well i learned somethin new  thx ',\n",
              "  array([-2.9427943, -2.3012908, -3.140068 , -1.9797127, -3.0252516,\n",
              "         -2.4437687, -1.910408 , -2.573424 , -2.5757644, -2.3639436,\n",
              "         -3.3081217, -2.772201 , -3.3012323], dtype=float32),\n",
              "  6,\n",
              "  'love'),\n",
              " (\"ElsieTay not sure... there are fanciful expensive ones - but some basic ones are not expensive... Try the 24hr 'M' shopping place\",\n",
              "  array([-2.99537  , -2.1649444, -3.0724154, -1.857873 , -2.943602 ,\n",
              "         -2.4197564, -2.2686667, -2.669949 , -2.684462 , -2.3232627,\n",
              "         -3.1331887, -2.7447014, -3.111589 ], dtype=float32),\n",
              "  3,\n",
              "  'neutral'),\n",
              " (\"r_petty I'm leaving community college with a bang\",\n",
              "  array([-2.9874384, -2.1026533, -2.6778734, -1.9354783, -2.7899733,\n",
              "         -2.5504024, -2.0791118, -2.8043873, -2.9893527, -2.4143136,\n",
              "         -3.158465 , -2.5897043, -3.440546 ], dtype=float32),\n",
              "  3,\n",
              "  'neutral'),\n",
              " (\"I want to see Terminator, but everyone's already seen it\",\n",
              "  array([-2.834938 , -2.284974 , -3.0006816, -1.9491009, -3.0615544,\n",
              "         -2.380007 , -2.0564473, -2.8362508, -2.603876 , -2.337179 ,\n",
              "         -3.0135822, -2.7922301, -3.2078729], dtype=float32),\n",
              "  3,\n",
              "  'neutral'),\n",
              " ('just came back from a nice bike ride with her family and is now refreshed thanks to a shower',\n",
              "  array([-2.4464958, -2.2754018, -2.956027 , -1.938796 , -2.903289 ,\n",
              "         -2.3298593, -2.3625681, -2.7586503, -2.7901502, -2.5453908,\n",
              "         -2.9319603, -2.6819906, -3.135807 ], dtype=float32),\n",
              "  3,\n",
              "  'neutral'),\n",
              " ('marsalkey ui. where arre you going to study?',\n",
              "  array([-2.9434047, -2.1816502, -2.773903 , -1.9501514, -2.8820534,\n",
              "         -2.2504764, -2.2650754, -2.7569087, -2.6151183, -2.5468955,\n",
              "         -3.2382958, -2.8304012, -2.9679935], dtype=float32),\n",
              "  3,\n",
              "  'neutral'),\n",
              " ('sueleeBAYbee audiotistic sneak your little butt in',\n",
              "  array([-2.7425961, -2.5153205, -3.0226688, -1.793265 , -2.6672466,\n",
              "         -2.63298  , -1.9414244, -2.7149644, -2.8391774, -2.386467 ,\n",
              "         -3.1922278, -2.8127398, -3.2938461], dtype=float32),\n",
              "  3,\n",
              "  'neutral'),\n",
              " ('BLaCkitaLiaNa7 ay uuuu  happy mothers day',\n",
              "  array([-2.7191577, -2.7011485, -2.9624445, -2.0983384, -2.472786 ,\n",
              "         -2.5807695, -1.5846732, -2.9324331, -2.738275 , -2.412765 ,\n",
              "         -3.4505558, -2.8659272, -3.4630494], dtype=float32),\n",
              "  6,\n",
              "  'love'),\n",
              " (\"moviegirl09 *laughs* reading?  not happening  i'm glad alice was in the shower, she should've seen that we were going to be worried\",\n",
              "  array([-2.600021 , -2.4891763, -2.876728 , -1.9411582, -2.944652 ,\n",
              "         -2.451584 , -2.1610298, -2.728879 , -2.5993686, -2.4296336,\n",
              "         -3.3338594, -2.496017 , -3.1428466], dtype=float32),\n",
              "  3,\n",
              "  'neutral'),\n",
              " ('Hooked4Life Sheesh. No crochet? BAH and humbug. And sleep? Um, I suppose I will someday',\n",
              "  array([-2.7141547, -2.104902 , -2.985187 , -1.9755224, -2.8513873,\n",
              "         -2.5721254, -2.1932356, -2.656448 , -2.806684 , -2.2840014,\n",
              "         -3.127954 , -2.7577653, -3.290059 ], dtype=float32),\n",
              "  3,\n",
              "  'neutral'),\n",
              " (\"Ugh I have to sleep Tomorrow I will sttart my photobook for my Jonas' concert  Its just in 1 week, 4 days and 16 hours (:\",\n",
              "  array([-2.7785153, -2.147929 , -2.9610195, -2.0411813, -2.9802551,\n",
              "         -2.668527 , -1.9835343, -2.6376834, -2.6987174, -2.3920407,\n",
              "         -3.3938847, -2.5460587, -3.230021 ], dtype=float32),\n",
              "  6,\n",
              "  'love'),\n",
              " (\"Liked &quot;I quit smoking in September of last year after 40 years - I hope one day I won't miss it  snivel whine&quot; http://ff.im/-3nVYG\",\n",
              "  array([-2.9358299, -2.3549285, -2.9769814, -1.8430798, -2.9868279,\n",
              "         -2.3025184, -1.9457958, -2.9598088, -2.7923076, -2.395989 ,\n",
              "         -3.246589 , -2.6815991, -3.273891 ], dtype=float32),\n",
              "  3,\n",
              "  'neutral'),\n",
              " (\"aplusk I would think the pres would be afraid you'd Pun'k him\",\n",
              "  array([-3.1712875, -2.2778037, -3.1237717, -1.8894014, -3.0331564,\n",
              "         -2.254266 , -2.428774 , -2.8075213, -2.6942255, -2.1172826,\n",
              "         -2.771479 , -2.8041067, -3.0429945], dtype=float32),\n",
              "  3,\n",
              "  'neutral'),\n",
              " ('decided that wolf in a future Star Trek Logo game would be much cooler than Chewy in Star Wars',\n",
              "  array([-2.5880919, -2.2986345, -2.9774177, -2.0748277, -2.9616318,\n",
              "         -2.1978185, -2.2406287, -2.7333028, -2.7374966, -2.5063672,\n",
              "         -3.072055 , -2.6106982, -3.0437033], dtype=float32),\n",
              "  3,\n",
              "  'neutral'),\n",
              " ('ocean29 lolzz  public script, wait  - n- watch',\n",
              "  array([-2.8175874, -2.367926 , -2.8731456, -1.8988749, -2.7158604,\n",
              "         -2.496721 , -1.9903401, -2.5282247, -2.7468987, -2.5039039,\n",
              "         -3.3743973, -2.8517427, -3.2836452], dtype=float32),\n",
              "  3,\n",
              "  'neutral'),\n",
              " ('MissxMarisa Then I guess that makes me Dot?',\n",
              "  array([-3.0563955, -2.2999768, -3.013712 , -1.8189939, -2.993503 ,\n",
              "         -2.3827205, -2.1080244, -2.6908376, -2.6313648, -2.529784 ,\n",
              "         -3.2991748, -2.5639856, -3.1212015], dtype=float32),\n",
              "  3,\n",
              "  'neutral'),\n",
              " (\"emmacrook Not going to dwell on it. It happened, it's passed. Just a shame as he was so supportive Such is life  x\",\n",
              "  array([-2.6718688, -2.3342583, -2.80848  , -1.9477322, -2.9268277,\n",
              "         -2.509903 , -1.9222047, -2.6576028, -2.7868755, -2.5073867,\n",
              "         -3.4298604, -2.771731 , -3.1744113], dtype=float32),\n",
              "  6,\n",
              "  'love'),\n",
              " ('OurLittleAcre I guess, technically, I was still pregnant just a few months ago. Just with Alex instead of Elizabeth',\n",
              "  array([-2.5757663, -2.3031685, -3.1118186, -1.959581 , -2.9154732,\n",
              "         -2.5275848, -2.0637567, -2.5685961, -2.7425914, -2.4649436,\n",
              "         -3.092432 , -2.7669349, -3.1415982], dtype=float32),\n",
              "  3,\n",
              "  'neutral'),\n",
              " (\"LaurenConrad I can't belive you only have one episode to go  xx\",\n",
              "  array([-2.8288364, -2.4115806, -2.8752346, -1.8647169, -3.0618975,\n",
              "         -2.513317 , -2.101251 , -2.4980977, -2.7284503, -2.3772755,\n",
              "         -3.1419249, -2.7228951, -3.205171 ], dtype=float32),\n",
              "  3,\n",
              "  'neutral'),\n",
              " (\"whit3boy nah will didn't tell diego so we at some donminican spot getting fucked up\",\n",
              "  array([-2.8419843, -2.1752863, -3.0127559, -1.934061 , -3.1041455,\n",
              "         -2.4379907, -2.1739566, -2.676647 , -2.8016522, -2.307529 ,\n",
              "         -2.9845877, -2.6945384, -3.1861918], dtype=float32),\n",
              "  3,\n",
              "  'neutral'),\n",
              " ('marychapman awwww  bew you wont be here at all this summer?',\n",
              "  array([-2.9601884, -2.1923835, -2.9207644, -2.1588516, -2.9354193,\n",
              "         -2.2347865, -2.125477 , -2.7252913, -2.8014212, -2.2198768,\n",
              "         -3.2608871, -2.6279464, -3.1644704], dtype=float32),\n",
              "  6,\n",
              "  'love'),\n",
              " (\"playing with Zeke, he's leaving today\",\n",
              "  array([-2.9485822, -2.1166909, -3.0233045, -1.9092227, -3.0092423,\n",
              "         -2.3215613, -2.288437 , -2.7229095, -2.7550058, -2.3858206,\n",
              "         -3.219133 , -2.6688395, -2.9794893], dtype=float32),\n",
              "  3,\n",
              "  'neutral'),\n",
              " (\"shamim86 Cool No wonder you didn't sleep much\",\n",
              "  array([-2.7781565, -2.1545265, -2.8905382, -1.8920598, -2.9654326,\n",
              "         -2.4940844, -2.181727 , -2.7540433, -2.7067113, -2.3286672,\n",
              "         -3.2547398, -2.811523 , -3.168434 ], dtype=float32),\n",
              "  3,\n",
              "  'neutral'),\n",
              " ('im so tired of my responsabilities i wish i was a kid it seems that everyone around me is all about money and not me anymore',\n",
              "  array([-2.8595252, -2.1843426, -2.9384093, -1.9844074, -3.028785 ,\n",
              "         -2.4284353, -1.9004097, -2.6969163, -2.6237447, -2.5514157,\n",
              "         -3.310797 , -2.8615375, -3.1676838], dtype=float32),\n",
              "  6,\n",
              "  'love'),\n",
              " ('Had a great time singing karaoke with the fam...good times',\n",
              "  array([-2.7625327, -2.5254424, -3.1019664, -1.9234567, -2.9221318,\n",
              "         -2.2097657, -1.819036 , -2.7128482, -2.8585725, -2.4831605,\n",
              "         -3.3255239, -2.8496761, -3.2425904], dtype=float32),\n",
              "  6,\n",
              "  'love'),\n",
              " ('Walking from Teignmouth to Dawlish   http://twitpic.com/4jf4k',\n",
              "  array([-2.5881114, -2.6331837, -2.9538174, -1.8445028, -2.3053136,\n",
              "         -2.562816 , -1.867744 , -2.9634004, -2.7894132, -2.6830635,\n",
              "         -3.3062534, -2.8701494, -3.306055 ], dtype=float32),\n",
              "  3,\n",
              "  'neutral'),\n",
              " ('oy, im such a nerd..im writin 2 no1 cuz no1 is followin me  i mean lik sum1 was but their account was deleted due to &quot;strange activities&quot;',\n",
              "  array([-3.1637406, -1.8907484, -2.8787293, -2.3075442, -2.8450167,\n",
              "         -2.8353477, -2.4911695, -2.3350704, -2.9194613, -2.1482723,\n",
              "         -2.721436 , -2.5928288, -3.1378136], dtype=float32),\n",
              "  1,\n",
              "  'sadness'),\n",
              " ('nixsight  yes indeed, makes it a bitch to try and design universally',\n",
              "  array([-2.720214 , -2.2452178, -2.8353488, -1.8224868, -2.9224153,\n",
              "         -2.68252  , -2.3387194, -2.740879 , -2.8851624, -2.2527747,\n",
              "         -3.015018 , -2.617463 , -3.1756008], dtype=float32),\n",
              "  3,\n",
              "  'neutral'),\n",
              " ('watching the original sabrina the teenage witch movie. so different from the series but so rad',\n",
              "  array([-2.762094 , -2.3143015, -3.059493 , -1.8071538, -2.9482388,\n",
              "         -2.32882  , -2.1245546, -2.851127 , -2.5991063, -2.4615135,\n",
              "         -3.1867151, -2.7654977, -3.325138 ], dtype=float32),\n",
              "  3,\n",
              "  'neutral'),\n",
              " (\"camilleprats Happy Mother's Day\",\n",
              "  array([-2.710505 , -3.1453633, -2.796977 , -2.045009 , -2.463121 ,\n",
              "         -2.7669048, -1.4270196, -3.0321922, -2.7099771, -2.67128  ,\n",
              "         -3.2354944, -2.9619346, -3.295414 ], dtype=float32),\n",
              "  6,\n",
              "  'love'),\n",
              " ('Meshel_Laurie sending love, blessings &amp; healing thoughts to you &amp; family  peace',\n",
              "  array([-2.5950246, -2.4866781, -2.7991352, -1.8871667, -2.8784943,\n",
              "         -2.466457 , -1.8313532, -2.7491763, -2.8612025, -2.5464835,\n",
              "         -3.292588 , -2.8021483, -3.4695282], dtype=float32),\n",
              "  6,\n",
              "  'love'),\n",
              " (\"LoN_Colossus Lol, cheers 'mate'. Yeah it went well thanks\",\n",
              "  array([-2.716216 , -2.6332855, -2.9474916, -1.9323797, -2.8255973,\n",
              "         -2.3711846, -1.994593 , -2.6601615, -2.6535084, -2.3441987,\n",
              "         -3.2708783, -2.7767324, -3.2297497], dtype=float32),\n",
              "  3,\n",
              "  'neutral'),\n",
              " ('i HATE when i see pregnant women smokinggg its sooo irresponsible n selfish its saaad. ultimately, the baby is the one who suffers.',\n",
              "  array([-3.0211413, -2.467212 , -2.7192688, -2.0042906, -2.777585 ,\n",
              "         -2.5052195, -1.96259  , -2.7095299, -2.6713238, -2.2894168,\n",
              "         -3.123709 , -2.7933688, -3.2403083], dtype=float32),\n",
              "  6,\n",
              "  'love'),\n",
              " ('laexis and the habitat is twitter-active. Neat',\n",
              "  array([-3.032799 , -2.4257727, -2.954453 , -1.6978517, -2.7792203,\n",
              "         -2.4302902, -1.9080046, -2.8599324, -2.8491158, -2.5343916,\n",
              "         -3.2276392, -2.7861137, -3.382504 ], dtype=float32),\n",
              "  3,\n",
              "  'neutral'),\n",
              " (\"and because I wasn't having a bad enough time last night my body decided it wanted to be sick\",\n",
              "  array([-2.9283843, -2.1587496, -2.8145297, -2.062496 , -2.8965826,\n",
              "         -2.3795848, -2.3314774, -2.6296477, -2.7969275, -2.2451916,\n",
              "         -3.1478105, -2.5757618, -3.1947918], dtype=float32),\n",
              "  3,\n",
              "  'neutral'),\n",
              " ('what a beautiful day not to got to my first class',\n",
              "  array([-2.8503263, -2.322301 , -2.8809943, -1.8946985, -2.9067497,\n",
              "         -2.4550939, -2.25545  , -2.662909 , -2.4767458, -2.3704765,\n",
              "         -3.3379018, -2.706109 , -3.1501784], dtype=float32),\n",
              "  3,\n",
              "  'neutral'),\n",
              " ('self-portrait week http://unbecominglily.blogspot.com/2009/05/announcing.html  would you like to join in?',\n",
              "  array([-2.711168 , -2.9077315, -2.8675523, -2.008621 , -2.5603893,\n",
              "         -2.6562545, -1.4616084, -3.0683737, -2.7260199, -2.5833972,\n",
              "         -3.4317145, -2.9277086, -3.3456433], dtype=float32),\n",
              "  6,\n",
              "  'love'),\n",
              " ('For Claire_inLaPush because she misses Quil so...  Far Away ~Nickleback ? http://blip.fm/~5z639',\n",
              "  array([-2.6889188, -2.2209156, -3.0220535, -1.967353 , -2.9855342,\n",
              "         -2.3960216, -1.915987 , -2.80242  , -2.8749905, -2.3811717,\n",
              "         -3.211267 , -2.8775   , -3.2159553], dtype=float32),\n",
              "  6,\n",
              "  'love'),\n",
              " ('Dogs eyes seem bad. Just forked out on new washing machine so why not a vets bill to top it off eh??',\n",
              "  array([-2.892721 , -2.3365238, -2.8732946, -1.9434962, -3.1056747,\n",
              "         -2.3588493, -2.4666922, -2.6373992, -2.6522932, -2.21049  ,\n",
              "         -3.1258037, -2.5681574, -2.9613922], dtype=float32),\n",
              "  3,\n",
              "  'neutral'),\n",
              " ('CheshireCat',\n",
              "  array([-2.8579874, -2.473484 , -2.8752725, -1.9751912, -2.6768982,\n",
              "         -2.2634563, -2.332303 , -2.8324044, -2.5950284, -2.2743366,\n",
              "         -3.0610132, -2.77972  , -3.0349922], dtype=float32),\n",
              "  3,\n",
              "  'neutral'),\n",
              " (\"Finally going to bed after staying up reading the script for &quot;Remember Me.&quot; So sad but sooo good Happy Mother's Day to all the Mother's\",\n",
              "  array([-2.8486059, -2.269845 , -3.1615984, -1.9588403, -2.999831 ,\n",
              "         -2.416177 , -2.0481706, -2.6503458, -2.7746994, -2.2155206,\n",
              "         -3.2624588, -2.702909 , -3.220314 ], dtype=float32),\n",
              "  3,\n",
              "  'neutral'),\n",
              " ...]"
            ]
          },
          "metadata": {
            "tags": []
          },
          "execution_count": 76
        }
      ]
    },
    {
      "cell_type": "code",
      "metadata": {
        "id": "cc1gr4torBz0",
        "colab_type": "code",
        "colab": {}
      },
      "source": [
        "df = pd.DataFrame(predictions)\n",
        "df.to_csv('output_bert.csv', index=False)"
      ],
      "execution_count": 0,
      "outputs": []
    },
    {
      "cell_type": "code",
      "metadata": {
        "id": "PsJ_deCUyDGB",
        "colab_type": "code",
        "outputId": "6673ec4f-7850-4b4c-a2f2-5e9f490e6378",
        "colab": {
          "base_uri": "https://localhost:8080/",
          "height": 216
        }
      },
      "source": [
        "from sklearn import metrics\n",
        "print(metrics.classification_report(test[\"SECTION\"], df[2]))"
      ],
      "execution_count": 0,
      "outputs": [
        {
          "output_type": "stream",
          "text": [
            "              precision    recall  f1-score   support\n",
            "\n",
            "           0       0.33      0.42      0.37       214\n",
            "           1       0.67      0.29      0.40       915\n",
            "           2       0.49      0.81      0.61       493\n",
            "           3       0.67      0.75      0.71      1285\n",
            "           4       0.79      0.78      0.79       591\n",
            "\n",
            "    accuracy                           0.62      3498\n",
            "   macro avg       0.59      0.61      0.57      3498\n",
            "weighted avg       0.65      0.62      0.61      3498\n",
            "\n"
          ],
          "name": "stdout"
        }
      ]
    },
    {
      "cell_type": "code",
      "metadata": {
        "id": "bWdhj6N-BtBT",
        "colab_type": "code",
        "colab": {}
      },
      "source": [
        "enc_labels = []\n",
        "act_labels = []\n",
        "for i in range(len(predictions)):\n",
        "  enc_labels.append(predictions[i][2])\n",
        "  act_labels.append(predictions[i][3])\n",
        "  story.append(predictions[i])"
      ],
      "execution_count": 0,
      "outputs": []
    },
    {
      "cell_type": "code",
      "metadata": {
        "id": "l-8ZLcPWBt24",
        "colab_type": "code",
        "outputId": "57a66792-2da5-41ca-ae71-ba0c84757dc1",
        "colab": {
          "base_uri": "https://localhost:8080/",
          "height": 1000
        }
      },
      "source": [
        "#Classifying random sentences\n",
        "tests = getPrediction([\"because it’s the ultimate driving machine!!\",\n",
        "\"i didn't like the financing process.\",\n",
        "\"in the process of that we discovered a financial anomaly that was agreed upon verbally twice by our sales person but did not make its way into our sales documentation.\"])"
      ],
      "execution_count": 0,
      "outputs": [
        {
          "output_type": "stream",
          "text": [
            "INFO:tensorflow:Writing example 0 of 3\n"
          ],
          "name": "stdout"
        },
        {
          "output_type": "stream",
          "text": [
            "INFO:tensorflow:Writing example 0 of 3\n"
          ],
          "name": "stderr"
        },
        {
          "output_type": "stream",
          "text": [
            "INFO:tensorflow:*** Example ***\n"
          ],
          "name": "stdout"
        },
        {
          "output_type": "stream",
          "text": [
            "INFO:tensorflow:*** Example ***\n"
          ],
          "name": "stderr"
        },
        {
          "output_type": "stream",
          "text": [
            "INFO:tensorflow:guid: \n"
          ],
          "name": "stdout"
        },
        {
          "output_type": "stream",
          "text": [
            "INFO:tensorflow:guid: \n"
          ],
          "name": "stderr"
        },
        {
          "output_type": "stream",
          "text": [
            "INFO:tensorflow:tokens: [CLS] because it ’ s the ultimate driving machine ! ! [SEP]\n"
          ],
          "name": "stdout"
        },
        {
          "output_type": "stream",
          "text": [
            "INFO:tensorflow:tokens: [CLS] because it ’ s the ultimate driving machine ! ! [SEP]\n"
          ],
          "name": "stderr"
        },
        {
          "output_type": "stream",
          "text": [
            "INFO:tensorflow:input_ids: 101 2138 2009 1521 1055 1996 7209 4439 3698 999 999 102 0 0 0 0 0 0 0 0 0 0 0 0 0 0 0 0 0 0 0 0 0 0 0 0 0 0 0 0 0 0 0 0 0 0 0 0 0 0 0 0 0 0 0 0 0 0 0 0 0 0 0 0 0 0 0 0 0 0 0 0 0 0 0 0 0 0 0 0 0 0 0 0 0 0 0 0 0 0 0 0 0 0 0 0 0 0 0 0 0 0 0 0 0 0 0 0 0 0 0 0 0 0 0 0 0 0 0 0 0 0 0 0 0 0 0 0\n"
          ],
          "name": "stdout"
        },
        {
          "output_type": "stream",
          "text": [
            "INFO:tensorflow:input_ids: 101 2138 2009 1521 1055 1996 7209 4439 3698 999 999 102 0 0 0 0 0 0 0 0 0 0 0 0 0 0 0 0 0 0 0 0 0 0 0 0 0 0 0 0 0 0 0 0 0 0 0 0 0 0 0 0 0 0 0 0 0 0 0 0 0 0 0 0 0 0 0 0 0 0 0 0 0 0 0 0 0 0 0 0 0 0 0 0 0 0 0 0 0 0 0 0 0 0 0 0 0 0 0 0 0 0 0 0 0 0 0 0 0 0 0 0 0 0 0 0 0 0 0 0 0 0 0 0 0 0 0 0\n"
          ],
          "name": "stderr"
        },
        {
          "output_type": "stream",
          "text": [
            "INFO:tensorflow:input_mask: 1 1 1 1 1 1 1 1 1 1 1 1 0 0 0 0 0 0 0 0 0 0 0 0 0 0 0 0 0 0 0 0 0 0 0 0 0 0 0 0 0 0 0 0 0 0 0 0 0 0 0 0 0 0 0 0 0 0 0 0 0 0 0 0 0 0 0 0 0 0 0 0 0 0 0 0 0 0 0 0 0 0 0 0 0 0 0 0 0 0 0 0 0 0 0 0 0 0 0 0 0 0 0 0 0 0 0 0 0 0 0 0 0 0 0 0 0 0 0 0 0 0 0 0 0 0 0 0\n"
          ],
          "name": "stdout"
        },
        {
          "output_type": "stream",
          "text": [
            "INFO:tensorflow:input_mask: 1 1 1 1 1 1 1 1 1 1 1 1 0 0 0 0 0 0 0 0 0 0 0 0 0 0 0 0 0 0 0 0 0 0 0 0 0 0 0 0 0 0 0 0 0 0 0 0 0 0 0 0 0 0 0 0 0 0 0 0 0 0 0 0 0 0 0 0 0 0 0 0 0 0 0 0 0 0 0 0 0 0 0 0 0 0 0 0 0 0 0 0 0 0 0 0 0 0 0 0 0 0 0 0 0 0 0 0 0 0 0 0 0 0 0 0 0 0 0 0 0 0 0 0 0 0 0 0\n"
          ],
          "name": "stderr"
        },
        {
          "output_type": "stream",
          "text": [
            "INFO:tensorflow:segment_ids: 0 0 0 0 0 0 0 0 0 0 0 0 0 0 0 0 0 0 0 0 0 0 0 0 0 0 0 0 0 0 0 0 0 0 0 0 0 0 0 0 0 0 0 0 0 0 0 0 0 0 0 0 0 0 0 0 0 0 0 0 0 0 0 0 0 0 0 0 0 0 0 0 0 0 0 0 0 0 0 0 0 0 0 0 0 0 0 0 0 0 0 0 0 0 0 0 0 0 0 0 0 0 0 0 0 0 0 0 0 0 0 0 0 0 0 0 0 0 0 0 0 0 0 0 0 0 0 0\n"
          ],
          "name": "stdout"
        },
        {
          "output_type": "stream",
          "text": [
            "INFO:tensorflow:segment_ids: 0 0 0 0 0 0 0 0 0 0 0 0 0 0 0 0 0 0 0 0 0 0 0 0 0 0 0 0 0 0 0 0 0 0 0 0 0 0 0 0 0 0 0 0 0 0 0 0 0 0 0 0 0 0 0 0 0 0 0 0 0 0 0 0 0 0 0 0 0 0 0 0 0 0 0 0 0 0 0 0 0 0 0 0 0 0 0 0 0 0 0 0 0 0 0 0 0 0 0 0 0 0 0 0 0 0 0 0 0 0 0 0 0 0 0 0 0 0 0 0 0 0 0 0 0 0 0 0\n"
          ],
          "name": "stderr"
        },
        {
          "output_type": "stream",
          "text": [
            "INFO:tensorflow:label: 0 (id = 0)\n"
          ],
          "name": "stdout"
        },
        {
          "output_type": "stream",
          "text": [
            "INFO:tensorflow:label: 0 (id = 0)\n"
          ],
          "name": "stderr"
        },
        {
          "output_type": "stream",
          "text": [
            "INFO:tensorflow:*** Example ***\n"
          ],
          "name": "stdout"
        },
        {
          "output_type": "stream",
          "text": [
            "INFO:tensorflow:*** Example ***\n"
          ],
          "name": "stderr"
        },
        {
          "output_type": "stream",
          "text": [
            "INFO:tensorflow:guid: \n"
          ],
          "name": "stdout"
        },
        {
          "output_type": "stream",
          "text": [
            "INFO:tensorflow:guid: \n"
          ],
          "name": "stderr"
        },
        {
          "output_type": "stream",
          "text": [
            "INFO:tensorflow:tokens: [CLS] i didn ' t like the financing process . [SEP]\n"
          ],
          "name": "stdout"
        },
        {
          "output_type": "stream",
          "text": [
            "INFO:tensorflow:tokens: [CLS] i didn ' t like the financing process . [SEP]\n"
          ],
          "name": "stderr"
        },
        {
          "output_type": "stream",
          "text": [
            "INFO:tensorflow:input_ids: 101 1045 2134 1005 1056 2066 1996 12135 2832 1012 102 0 0 0 0 0 0 0 0 0 0 0 0 0 0 0 0 0 0 0 0 0 0 0 0 0 0 0 0 0 0 0 0 0 0 0 0 0 0 0 0 0 0 0 0 0 0 0 0 0 0 0 0 0 0 0 0 0 0 0 0 0 0 0 0 0 0 0 0 0 0 0 0 0 0 0 0 0 0 0 0 0 0 0 0 0 0 0 0 0 0 0 0 0 0 0 0 0 0 0 0 0 0 0 0 0 0 0 0 0 0 0 0 0 0 0 0 0\n"
          ],
          "name": "stdout"
        },
        {
          "output_type": "stream",
          "text": [
            "INFO:tensorflow:input_ids: 101 1045 2134 1005 1056 2066 1996 12135 2832 1012 102 0 0 0 0 0 0 0 0 0 0 0 0 0 0 0 0 0 0 0 0 0 0 0 0 0 0 0 0 0 0 0 0 0 0 0 0 0 0 0 0 0 0 0 0 0 0 0 0 0 0 0 0 0 0 0 0 0 0 0 0 0 0 0 0 0 0 0 0 0 0 0 0 0 0 0 0 0 0 0 0 0 0 0 0 0 0 0 0 0 0 0 0 0 0 0 0 0 0 0 0 0 0 0 0 0 0 0 0 0 0 0 0 0 0 0 0 0\n"
          ],
          "name": "stderr"
        },
        {
          "output_type": "stream",
          "text": [
            "INFO:tensorflow:input_mask: 1 1 1 1 1 1 1 1 1 1 1 0 0 0 0 0 0 0 0 0 0 0 0 0 0 0 0 0 0 0 0 0 0 0 0 0 0 0 0 0 0 0 0 0 0 0 0 0 0 0 0 0 0 0 0 0 0 0 0 0 0 0 0 0 0 0 0 0 0 0 0 0 0 0 0 0 0 0 0 0 0 0 0 0 0 0 0 0 0 0 0 0 0 0 0 0 0 0 0 0 0 0 0 0 0 0 0 0 0 0 0 0 0 0 0 0 0 0 0 0 0 0 0 0 0 0 0 0\n"
          ],
          "name": "stdout"
        },
        {
          "output_type": "stream",
          "text": [
            "INFO:tensorflow:input_mask: 1 1 1 1 1 1 1 1 1 1 1 0 0 0 0 0 0 0 0 0 0 0 0 0 0 0 0 0 0 0 0 0 0 0 0 0 0 0 0 0 0 0 0 0 0 0 0 0 0 0 0 0 0 0 0 0 0 0 0 0 0 0 0 0 0 0 0 0 0 0 0 0 0 0 0 0 0 0 0 0 0 0 0 0 0 0 0 0 0 0 0 0 0 0 0 0 0 0 0 0 0 0 0 0 0 0 0 0 0 0 0 0 0 0 0 0 0 0 0 0 0 0 0 0 0 0 0 0\n"
          ],
          "name": "stderr"
        },
        {
          "output_type": "stream",
          "text": [
            "INFO:tensorflow:segment_ids: 0 0 0 0 0 0 0 0 0 0 0 0 0 0 0 0 0 0 0 0 0 0 0 0 0 0 0 0 0 0 0 0 0 0 0 0 0 0 0 0 0 0 0 0 0 0 0 0 0 0 0 0 0 0 0 0 0 0 0 0 0 0 0 0 0 0 0 0 0 0 0 0 0 0 0 0 0 0 0 0 0 0 0 0 0 0 0 0 0 0 0 0 0 0 0 0 0 0 0 0 0 0 0 0 0 0 0 0 0 0 0 0 0 0 0 0 0 0 0 0 0 0 0 0 0 0 0 0\n"
          ],
          "name": "stdout"
        },
        {
          "output_type": "stream",
          "text": [
            "INFO:tensorflow:segment_ids: 0 0 0 0 0 0 0 0 0 0 0 0 0 0 0 0 0 0 0 0 0 0 0 0 0 0 0 0 0 0 0 0 0 0 0 0 0 0 0 0 0 0 0 0 0 0 0 0 0 0 0 0 0 0 0 0 0 0 0 0 0 0 0 0 0 0 0 0 0 0 0 0 0 0 0 0 0 0 0 0 0 0 0 0 0 0 0 0 0 0 0 0 0 0 0 0 0 0 0 0 0 0 0 0 0 0 0 0 0 0 0 0 0 0 0 0 0 0 0 0 0 0 0 0 0 0 0 0\n"
          ],
          "name": "stderr"
        },
        {
          "output_type": "stream",
          "text": [
            "INFO:tensorflow:label: 0 (id = 0)\n"
          ],
          "name": "stdout"
        },
        {
          "output_type": "stream",
          "text": [
            "INFO:tensorflow:label: 0 (id = 0)\n"
          ],
          "name": "stderr"
        },
        {
          "output_type": "stream",
          "text": [
            "INFO:tensorflow:*** Example ***\n"
          ],
          "name": "stdout"
        },
        {
          "output_type": "stream",
          "text": [
            "INFO:tensorflow:*** Example ***\n"
          ],
          "name": "stderr"
        },
        {
          "output_type": "stream",
          "text": [
            "INFO:tensorflow:guid: \n"
          ],
          "name": "stdout"
        },
        {
          "output_type": "stream",
          "text": [
            "INFO:tensorflow:guid: \n"
          ],
          "name": "stderr"
        },
        {
          "output_type": "stream",
          "text": [
            "INFO:tensorflow:tokens: [CLS] in the process of that we discovered a financial anomaly that was agreed upon verbal ##ly twice by our sales person but did not make its way into our sales documentation . [SEP]\n"
          ],
          "name": "stdout"
        },
        {
          "output_type": "stream",
          "text": [
            "INFO:tensorflow:tokens: [CLS] in the process of that we discovered a financial anomaly that was agreed upon verbal ##ly twice by our sales person but did not make its way into our sales documentation . [SEP]\n"
          ],
          "name": "stderr"
        },
        {
          "output_type": "stream",
          "text": [
            "INFO:tensorflow:input_ids: 101 1999 1996 2832 1997 2008 2057 3603 1037 3361 28685 2008 2001 3530 2588 12064 2135 3807 2011 2256 4341 2711 2021 2106 2025 2191 2049 2126 2046 2256 4341 12653 1012 102 0 0 0 0 0 0 0 0 0 0 0 0 0 0 0 0 0 0 0 0 0 0 0 0 0 0 0 0 0 0 0 0 0 0 0 0 0 0 0 0 0 0 0 0 0 0 0 0 0 0 0 0 0 0 0 0 0 0 0 0 0 0 0 0 0 0 0 0 0 0 0 0 0 0 0 0 0 0 0 0 0 0 0 0 0 0 0 0 0 0 0 0 0 0\n"
          ],
          "name": "stdout"
        },
        {
          "output_type": "stream",
          "text": [
            "INFO:tensorflow:input_ids: 101 1999 1996 2832 1997 2008 2057 3603 1037 3361 28685 2008 2001 3530 2588 12064 2135 3807 2011 2256 4341 2711 2021 2106 2025 2191 2049 2126 2046 2256 4341 12653 1012 102 0 0 0 0 0 0 0 0 0 0 0 0 0 0 0 0 0 0 0 0 0 0 0 0 0 0 0 0 0 0 0 0 0 0 0 0 0 0 0 0 0 0 0 0 0 0 0 0 0 0 0 0 0 0 0 0 0 0 0 0 0 0 0 0 0 0 0 0 0 0 0 0 0 0 0 0 0 0 0 0 0 0 0 0 0 0 0 0 0 0 0 0 0 0\n"
          ],
          "name": "stderr"
        },
        {
          "output_type": "stream",
          "text": [
            "INFO:tensorflow:input_mask: 1 1 1 1 1 1 1 1 1 1 1 1 1 1 1 1 1 1 1 1 1 1 1 1 1 1 1 1 1 1 1 1 1 1 0 0 0 0 0 0 0 0 0 0 0 0 0 0 0 0 0 0 0 0 0 0 0 0 0 0 0 0 0 0 0 0 0 0 0 0 0 0 0 0 0 0 0 0 0 0 0 0 0 0 0 0 0 0 0 0 0 0 0 0 0 0 0 0 0 0 0 0 0 0 0 0 0 0 0 0 0 0 0 0 0 0 0 0 0 0 0 0 0 0 0 0 0 0\n"
          ],
          "name": "stdout"
        },
        {
          "output_type": "stream",
          "text": [
            "INFO:tensorflow:input_mask: 1 1 1 1 1 1 1 1 1 1 1 1 1 1 1 1 1 1 1 1 1 1 1 1 1 1 1 1 1 1 1 1 1 1 0 0 0 0 0 0 0 0 0 0 0 0 0 0 0 0 0 0 0 0 0 0 0 0 0 0 0 0 0 0 0 0 0 0 0 0 0 0 0 0 0 0 0 0 0 0 0 0 0 0 0 0 0 0 0 0 0 0 0 0 0 0 0 0 0 0 0 0 0 0 0 0 0 0 0 0 0 0 0 0 0 0 0 0 0 0 0 0 0 0 0 0 0 0\n"
          ],
          "name": "stderr"
        },
        {
          "output_type": "stream",
          "text": [
            "INFO:tensorflow:segment_ids: 0 0 0 0 0 0 0 0 0 0 0 0 0 0 0 0 0 0 0 0 0 0 0 0 0 0 0 0 0 0 0 0 0 0 0 0 0 0 0 0 0 0 0 0 0 0 0 0 0 0 0 0 0 0 0 0 0 0 0 0 0 0 0 0 0 0 0 0 0 0 0 0 0 0 0 0 0 0 0 0 0 0 0 0 0 0 0 0 0 0 0 0 0 0 0 0 0 0 0 0 0 0 0 0 0 0 0 0 0 0 0 0 0 0 0 0 0 0 0 0 0 0 0 0 0 0 0 0\n"
          ],
          "name": "stdout"
        },
        {
          "output_type": "stream",
          "text": [
            "INFO:tensorflow:segment_ids: 0 0 0 0 0 0 0 0 0 0 0 0 0 0 0 0 0 0 0 0 0 0 0 0 0 0 0 0 0 0 0 0 0 0 0 0 0 0 0 0 0 0 0 0 0 0 0 0 0 0 0 0 0 0 0 0 0 0 0 0 0 0 0 0 0 0 0 0 0 0 0 0 0 0 0 0 0 0 0 0 0 0 0 0 0 0 0 0 0 0 0 0 0 0 0 0 0 0 0 0 0 0 0 0 0 0 0 0 0 0 0 0 0 0 0 0 0 0 0 0 0 0 0 0 0 0 0 0\n"
          ],
          "name": "stderr"
        },
        {
          "output_type": "stream",
          "text": [
            "INFO:tensorflow:label: 0 (id = 0)\n"
          ],
          "name": "stdout"
        },
        {
          "output_type": "stream",
          "text": [
            "INFO:tensorflow:label: 0 (id = 0)\n"
          ],
          "name": "stderr"
        },
        {
          "output_type": "stream",
          "text": [
            "INFO:tensorflow:Calling model_fn.\n"
          ],
          "name": "stdout"
        },
        {
          "output_type": "stream",
          "text": [
            "INFO:tensorflow:Calling model_fn.\n"
          ],
          "name": "stderr"
        },
        {
          "output_type": "stream",
          "text": [
            "INFO:tensorflow:Saver not created because there are no variables in the graph to restore\n"
          ],
          "name": "stdout"
        },
        {
          "output_type": "stream",
          "text": [
            "INFO:tensorflow:Saver not created because there are no variables in the graph to restore\n"
          ],
          "name": "stderr"
        },
        {
          "output_type": "stream",
          "text": [
            "INFO:tensorflow:Done calling model_fn.\n"
          ],
          "name": "stdout"
        },
        {
          "output_type": "stream",
          "text": [
            "INFO:tensorflow:Done calling model_fn.\n"
          ],
          "name": "stderr"
        },
        {
          "output_type": "stream",
          "text": [
            "INFO:tensorflow:Graph was finalized.\n"
          ],
          "name": "stdout"
        },
        {
          "output_type": "stream",
          "text": [
            "INFO:tensorflow:Graph was finalized.\n"
          ],
          "name": "stderr"
        },
        {
          "output_type": "stream",
          "text": [
            "INFO:tensorflow:Restoring parameters from /content/bert/model.ckpt-30\n"
          ],
          "name": "stdout"
        },
        {
          "output_type": "stream",
          "text": [
            "INFO:tensorflow:Restoring parameters from /content/bert/model.ckpt-30\n"
          ],
          "name": "stderr"
        },
        {
          "output_type": "stream",
          "text": [
            "INFO:tensorflow:Running local_init_op.\n"
          ],
          "name": "stdout"
        },
        {
          "output_type": "stream",
          "text": [
            "INFO:tensorflow:Running local_init_op.\n"
          ],
          "name": "stderr"
        },
        {
          "output_type": "stream",
          "text": [
            "INFO:tensorflow:Done running local_init_op.\n"
          ],
          "name": "stdout"
        },
        {
          "output_type": "stream",
          "text": [
            "INFO:tensorflow:Done running local_init_op.\n"
          ],
          "name": "stderr"
        }
      ]
    },
    {
      "cell_type": "code",
      "metadata": {
        "id": "WSXtH1wJB-3N",
        "colab_type": "code",
        "outputId": "d22cb217-2fd1-4bbd-bc46-24cf22ed84c6",
        "colab": {
          "base_uri": "https://localhost:8080/",
          "height": 343
        }
      },
      "source": [
        "tests"
      ],
      "execution_count": 0,
      "outputs": [
        {
          "output_type": "execute_result",
          "data": {
            "text/plain": [
              "[('because it’s the ultimate driving machine!!',\n",
              "  array([-3.0360065, -2.1916754, -2.825334 , -2.044458 , -2.9040942,\n",
              "         -2.2852817, -2.3617618, -2.6351657, -2.4035568, -2.4552956,\n",
              "         -3.2081861, -2.7129292, -3.0792356], dtype=float32),\n",
              "  3,\n",
              "  'neutral'),\n",
              " (\"i didn't like the financing process.\",\n",
              "  array([-2.7179046, -2.3504322, -2.840351 , -2.0822709, -2.8967247,\n",
              "         -2.201397 , -2.3391757, -2.6674876, -2.6255329, -2.3236697,\n",
              "         -2.994443 , -2.7731175, -3.1923518], dtype=float32),\n",
              "  3,\n",
              "  'neutral'),\n",
              " ('in the process of that we discovered a financial anomaly that was agreed upon verbally twice by our sales person but did not make its way into our sales documentation.',\n",
              "  array([-2.467403 , -2.4079738, -3.0670233, -2.1521125, -2.867617 ,\n",
              "         -2.384957 , -2.303887 , -2.7507935, -2.5461812, -2.2795525,\n",
              "         -3.0494087, -2.676087 , -2.9413176], dtype=float32),\n",
              "  3,\n",
              "  'neutral')]"
            ]
          },
          "metadata": {
            "tags": []
          },
          "execution_count": 42
        }
      ]
    },
    {
      "cell_type": "code",
      "metadata": {
        "id": "GSG2WIySA9uV",
        "colab_type": "code",
        "colab": {}
      },
      "source": [
        "full_raw_emotion = pd.read_excel(\"/content/full_raw.xlsx\")"
      ],
      "execution_count": 0,
      "outputs": []
    },
    {
      "cell_type": "code",
      "metadata": {
        "id": "sgh9I_NG_JOp",
        "colab_type": "code",
        "outputId": "5ca7b311-5878-4159-8b5a-888f87b73643",
        "colab": {
          "base_uri": "https://localhost:8080/",
          "height": 34
        }
      },
      "source": [
        "full_raw_emotion.shape"
      ],
      "execution_count": 0,
      "outputs": [
        {
          "output_type": "execute_result",
          "data": {
            "text/plain": [
              "(10000, 2)"
            ]
          },
          "metadata": {
            "tags": []
          },
          "execution_count": 71
        }
      ]
    },
    {
      "cell_type": "code",
      "metadata": {
        "id": "Qe8TgxJZVSDz",
        "colab_type": "code",
        "colab": {}
      },
      "source": [
        "full_raw_emotion['answer_nps_comment_split']=full_raw_emotion['answer_nps_comment_split'].apply(lambda x:x.replace(r\"\\\", \"\"))\n",
        "full_raw_emotion['answer_nps_comment_split']=full_raw_emotion['answer_nps_comment_split'].apply(lambda x:x.replace(r\".\", \"\"))\n",
        "full_raw_emotion['answer_nps_comment_split']=full_raw_emotion['answer_nps_comment_split'].apply(lambda x:x.replace(r\",\", \"\"))\n",
        "full_raw_emotion['answer_nps_comment_split']=full_raw_emotion['answer_nps_comment_split'].apply(lambda x:x.replace(r\"(\", \"\"))"
      ],
      "execution_count": 0,
      "outputs": []
    },
    {
      "cell_type": "code",
      "metadata": {
        "id": "qOXRowYuCL5c",
        "colab_type": "code",
        "outputId": "a99042b1-9c3e-406e-ed50-c8d8435d60f2",
        "colab": {
          "base_uri": "https://localhost:8080/",
          "height": 1000
        }
      },
      "source": [
        "full_raw_emotion_pred=getPrediction(full_raw_emotion['answer_nps_comment_split'])"
      ],
      "execution_count": 0,
      "outputs": [
        {
          "output_type": "stream",
          "text": [
            "INFO:tensorflow:Writing example 0 of 10000\n"
          ],
          "name": "stdout"
        },
        {
          "output_type": "stream",
          "text": [
            "INFO:tensorflow:Writing example 0 of 10000\n"
          ],
          "name": "stderr"
        },
        {
          "output_type": "stream",
          "text": [
            "INFO:tensorflow:*** Example ***\n"
          ],
          "name": "stdout"
        },
        {
          "output_type": "stream",
          "text": [
            "INFO:tensorflow:*** Example ***\n"
          ],
          "name": "stderr"
        },
        {
          "output_type": "stream",
          "text": [
            "INFO:tensorflow:guid: \n"
          ],
          "name": "stdout"
        },
        {
          "output_type": "stream",
          "text": [
            "INFO:tensorflow:guid: \n"
          ],
          "name": "stderr"
        },
        {
          "output_type": "stream",
          "text": [
            "INFO:tensorflow:tokens: [CLS] nothing was too much trouble for om ##ati brown to guide me through choosing the right mini for mr [SEP]\n"
          ],
          "name": "stdout"
        },
        {
          "output_type": "stream",
          "text": [
            "INFO:tensorflow:tokens: [CLS] nothing was too much trouble for om ##ati brown to guide me through choosing the right mini for mr [SEP]\n"
          ],
          "name": "stderr"
        },
        {
          "output_type": "stream",
          "text": [
            "INFO:tensorflow:input_ids: 101 2498 2001 2205 2172 4390 2005 18168 10450 2829 2000 5009 2033 2083 10549 1996 2157 7163 2005 2720 102 0 0 0 0 0 0 0 0 0 0 0 0 0 0 0 0 0 0 0 0 0 0 0 0 0 0 0 0 0 0 0 0 0 0 0 0 0 0 0 0 0 0 0\n"
          ],
          "name": "stdout"
        },
        {
          "output_type": "stream",
          "text": [
            "INFO:tensorflow:input_ids: 101 2498 2001 2205 2172 4390 2005 18168 10450 2829 2000 5009 2033 2083 10549 1996 2157 7163 2005 2720 102 0 0 0 0 0 0 0 0 0 0 0 0 0 0 0 0 0 0 0 0 0 0 0 0 0 0 0 0 0 0 0 0 0 0 0 0 0 0 0 0 0 0 0\n"
          ],
          "name": "stderr"
        },
        {
          "output_type": "stream",
          "text": [
            "INFO:tensorflow:input_mask: 1 1 1 1 1 1 1 1 1 1 1 1 1 1 1 1 1 1 1 1 1 0 0 0 0 0 0 0 0 0 0 0 0 0 0 0 0 0 0 0 0 0 0 0 0 0 0 0 0 0 0 0 0 0 0 0 0 0 0 0 0 0 0 0\n"
          ],
          "name": "stdout"
        },
        {
          "output_type": "stream",
          "text": [
            "INFO:tensorflow:input_mask: 1 1 1 1 1 1 1 1 1 1 1 1 1 1 1 1 1 1 1 1 1 0 0 0 0 0 0 0 0 0 0 0 0 0 0 0 0 0 0 0 0 0 0 0 0 0 0 0 0 0 0 0 0 0 0 0 0 0 0 0 0 0 0 0\n"
          ],
          "name": "stderr"
        },
        {
          "output_type": "stream",
          "text": [
            "INFO:tensorflow:segment_ids: 0 0 0 0 0 0 0 0 0 0 0 0 0 0 0 0 0 0 0 0 0 0 0 0 0 0 0 0 0 0 0 0 0 0 0 0 0 0 0 0 0 0 0 0 0 0 0 0 0 0 0 0 0 0 0 0 0 0 0 0 0 0 0 0\n"
          ],
          "name": "stdout"
        },
        {
          "output_type": "stream",
          "text": [
            "INFO:tensorflow:segment_ids: 0 0 0 0 0 0 0 0 0 0 0 0 0 0 0 0 0 0 0 0 0 0 0 0 0 0 0 0 0 0 0 0 0 0 0 0 0 0 0 0 0 0 0 0 0 0 0 0 0 0 0 0 0 0 0 0 0 0 0 0 0 0 0 0\n"
          ],
          "name": "stderr"
        },
        {
          "output_type": "stream",
          "text": [
            "INFO:tensorflow:label: 0 (id = 0)\n"
          ],
          "name": "stdout"
        },
        {
          "output_type": "stream",
          "text": [
            "INFO:tensorflow:label: 0 (id = 0)\n"
          ],
          "name": "stderr"
        },
        {
          "output_type": "stream",
          "text": [
            "INFO:tensorflow:*** Example ***\n"
          ],
          "name": "stdout"
        },
        {
          "output_type": "stream",
          "text": [
            "INFO:tensorflow:*** Example ***\n"
          ],
          "name": "stderr"
        },
        {
          "output_type": "stream",
          "text": [
            "INFO:tensorflow:guid: \n"
          ],
          "name": "stdout"
        },
        {
          "output_type": "stream",
          "text": [
            "INFO:tensorflow:guid: \n"
          ],
          "name": "stderr"
        },
        {
          "output_type": "stream",
          "text": [
            "INFO:tensorflow:tokens: [CLS] excellent service and good value [SEP]\n"
          ],
          "name": "stdout"
        },
        {
          "output_type": "stream",
          "text": [
            "INFO:tensorflow:tokens: [CLS] excellent service and good value [SEP]\n"
          ],
          "name": "stderr"
        },
        {
          "output_type": "stream",
          "text": [
            "INFO:tensorflow:input_ids: 101 6581 2326 1998 2204 3643 102 0 0 0 0 0 0 0 0 0 0 0 0 0 0 0 0 0 0 0 0 0 0 0 0 0 0 0 0 0 0 0 0 0 0 0 0 0 0 0 0 0 0 0 0 0 0 0 0 0 0 0 0 0 0 0 0 0\n"
          ],
          "name": "stdout"
        },
        {
          "output_type": "stream",
          "text": [
            "INFO:tensorflow:input_ids: 101 6581 2326 1998 2204 3643 102 0 0 0 0 0 0 0 0 0 0 0 0 0 0 0 0 0 0 0 0 0 0 0 0 0 0 0 0 0 0 0 0 0 0 0 0 0 0 0 0 0 0 0 0 0 0 0 0 0 0 0 0 0 0 0 0 0\n"
          ],
          "name": "stderr"
        },
        {
          "output_type": "stream",
          "text": [
            "INFO:tensorflow:input_mask: 1 1 1 1 1 1 1 0 0 0 0 0 0 0 0 0 0 0 0 0 0 0 0 0 0 0 0 0 0 0 0 0 0 0 0 0 0 0 0 0 0 0 0 0 0 0 0 0 0 0 0 0 0 0 0 0 0 0 0 0 0 0 0 0\n"
          ],
          "name": "stdout"
        },
        {
          "output_type": "stream",
          "text": [
            "INFO:tensorflow:input_mask: 1 1 1 1 1 1 1 0 0 0 0 0 0 0 0 0 0 0 0 0 0 0 0 0 0 0 0 0 0 0 0 0 0 0 0 0 0 0 0 0 0 0 0 0 0 0 0 0 0 0 0 0 0 0 0 0 0 0 0 0 0 0 0 0\n"
          ],
          "name": "stderr"
        },
        {
          "output_type": "stream",
          "text": [
            "INFO:tensorflow:segment_ids: 0 0 0 0 0 0 0 0 0 0 0 0 0 0 0 0 0 0 0 0 0 0 0 0 0 0 0 0 0 0 0 0 0 0 0 0 0 0 0 0 0 0 0 0 0 0 0 0 0 0 0 0 0 0 0 0 0 0 0 0 0 0 0 0\n"
          ],
          "name": "stdout"
        },
        {
          "output_type": "stream",
          "text": [
            "INFO:tensorflow:segment_ids: 0 0 0 0 0 0 0 0 0 0 0 0 0 0 0 0 0 0 0 0 0 0 0 0 0 0 0 0 0 0 0 0 0 0 0 0 0 0 0 0 0 0 0 0 0 0 0 0 0 0 0 0 0 0 0 0 0 0 0 0 0 0 0 0\n"
          ],
          "name": "stderr"
        },
        {
          "output_type": "stream",
          "text": [
            "INFO:tensorflow:label: 0 (id = 0)\n"
          ],
          "name": "stdout"
        },
        {
          "output_type": "stream",
          "text": [
            "INFO:tensorflow:label: 0 (id = 0)\n"
          ],
          "name": "stderr"
        },
        {
          "output_type": "stream",
          "text": [
            "INFO:tensorflow:*** Example ***\n"
          ],
          "name": "stdout"
        },
        {
          "output_type": "stream",
          "text": [
            "INFO:tensorflow:*** Example ***\n"
          ],
          "name": "stderr"
        },
        {
          "output_type": "stream",
          "text": [
            "INFO:tensorflow:guid: \n"
          ],
          "name": "stdout"
        },
        {
          "output_type": "stream",
          "text": [
            "INFO:tensorflow:guid: \n"
          ],
          "name": "stderr"
        },
        {
          "output_type": "stream",
          "text": [
            "INFO:tensorflow:tokens: [CLS] bmw is the best car , ia ##m really happy with my bmw , thank you [SEP]\n"
          ],
          "name": "stdout"
        },
        {
          "output_type": "stream",
          "text": [
            "INFO:tensorflow:tokens: [CLS] bmw is the best car , ia ##m really happy with my bmw , thank you [SEP]\n"
          ],
          "name": "stderr"
        },
        {
          "output_type": "stream",
          "text": [
            "INFO:tensorflow:input_ids: 101 13154 2003 1996 2190 2482 1010 24264 2213 2428 3407 2007 2026 13154 1010 4067 2017 102 0 0 0 0 0 0 0 0 0 0 0 0 0 0 0 0 0 0 0 0 0 0 0 0 0 0 0 0 0 0 0 0 0 0 0 0 0 0 0 0 0 0 0 0 0 0\n"
          ],
          "name": "stdout"
        },
        {
          "output_type": "stream",
          "text": [
            "INFO:tensorflow:input_ids: 101 13154 2003 1996 2190 2482 1010 24264 2213 2428 3407 2007 2026 13154 1010 4067 2017 102 0 0 0 0 0 0 0 0 0 0 0 0 0 0 0 0 0 0 0 0 0 0 0 0 0 0 0 0 0 0 0 0 0 0 0 0 0 0 0 0 0 0 0 0 0 0\n"
          ],
          "name": "stderr"
        },
        {
          "output_type": "stream",
          "text": [
            "INFO:tensorflow:input_mask: 1 1 1 1 1 1 1 1 1 1 1 1 1 1 1 1 1 1 0 0 0 0 0 0 0 0 0 0 0 0 0 0 0 0 0 0 0 0 0 0 0 0 0 0 0 0 0 0 0 0 0 0 0 0 0 0 0 0 0 0 0 0 0 0\n"
          ],
          "name": "stdout"
        },
        {
          "output_type": "stream",
          "text": [
            "INFO:tensorflow:input_mask: 1 1 1 1 1 1 1 1 1 1 1 1 1 1 1 1 1 1 0 0 0 0 0 0 0 0 0 0 0 0 0 0 0 0 0 0 0 0 0 0 0 0 0 0 0 0 0 0 0 0 0 0 0 0 0 0 0 0 0 0 0 0 0 0\n"
          ],
          "name": "stderr"
        },
        {
          "output_type": "stream",
          "text": [
            "INFO:tensorflow:segment_ids: 0 0 0 0 0 0 0 0 0 0 0 0 0 0 0 0 0 0 0 0 0 0 0 0 0 0 0 0 0 0 0 0 0 0 0 0 0 0 0 0 0 0 0 0 0 0 0 0 0 0 0 0 0 0 0 0 0 0 0 0 0 0 0 0\n"
          ],
          "name": "stdout"
        },
        {
          "output_type": "stream",
          "text": [
            "INFO:tensorflow:segment_ids: 0 0 0 0 0 0 0 0 0 0 0 0 0 0 0 0 0 0 0 0 0 0 0 0 0 0 0 0 0 0 0 0 0 0 0 0 0 0 0 0 0 0 0 0 0 0 0 0 0 0 0 0 0 0 0 0 0 0 0 0 0 0 0 0\n"
          ],
          "name": "stderr"
        },
        {
          "output_type": "stream",
          "text": [
            "INFO:tensorflow:label: 0 (id = 0)\n"
          ],
          "name": "stdout"
        },
        {
          "output_type": "stream",
          "text": [
            "INFO:tensorflow:label: 0 (id = 0)\n"
          ],
          "name": "stderr"
        },
        {
          "output_type": "stream",
          "text": [
            "INFO:tensorflow:*** Example ***\n"
          ],
          "name": "stdout"
        },
        {
          "output_type": "stream",
          "text": [
            "INFO:tensorflow:*** Example ***\n"
          ],
          "name": "stderr"
        },
        {
          "output_type": "stream",
          "text": [
            "INFO:tensorflow:guid: \n"
          ],
          "name": "stdout"
        },
        {
          "output_type": "stream",
          "text": [
            "INFO:tensorflow:guid: \n"
          ],
          "name": "stderr"
        },
        {
          "output_type": "stream",
          "text": [
            "INFO:tensorflow:tokens: [CLS] good service , helpful friendly staff . [SEP]\n"
          ],
          "name": "stdout"
        },
        {
          "output_type": "stream",
          "text": [
            "INFO:tensorflow:tokens: [CLS] good service , helpful friendly staff . [SEP]\n"
          ],
          "name": "stderr"
        },
        {
          "output_type": "stream",
          "text": [
            "INFO:tensorflow:input_ids: 101 2204 2326 1010 14044 5379 3095 1012 102 0 0 0 0 0 0 0 0 0 0 0 0 0 0 0 0 0 0 0 0 0 0 0 0 0 0 0 0 0 0 0 0 0 0 0 0 0 0 0 0 0 0 0 0 0 0 0 0 0 0 0 0 0 0 0\n"
          ],
          "name": "stdout"
        },
        {
          "output_type": "stream",
          "text": [
            "INFO:tensorflow:input_ids: 101 2204 2326 1010 14044 5379 3095 1012 102 0 0 0 0 0 0 0 0 0 0 0 0 0 0 0 0 0 0 0 0 0 0 0 0 0 0 0 0 0 0 0 0 0 0 0 0 0 0 0 0 0 0 0 0 0 0 0 0 0 0 0 0 0 0 0\n"
          ],
          "name": "stderr"
        },
        {
          "output_type": "stream",
          "text": [
            "INFO:tensorflow:input_mask: 1 1 1 1 1 1 1 1 1 0 0 0 0 0 0 0 0 0 0 0 0 0 0 0 0 0 0 0 0 0 0 0 0 0 0 0 0 0 0 0 0 0 0 0 0 0 0 0 0 0 0 0 0 0 0 0 0 0 0 0 0 0 0 0\n"
          ],
          "name": "stdout"
        },
        {
          "output_type": "stream",
          "text": [
            "INFO:tensorflow:input_mask: 1 1 1 1 1 1 1 1 1 0 0 0 0 0 0 0 0 0 0 0 0 0 0 0 0 0 0 0 0 0 0 0 0 0 0 0 0 0 0 0 0 0 0 0 0 0 0 0 0 0 0 0 0 0 0 0 0 0 0 0 0 0 0 0\n"
          ],
          "name": "stderr"
        },
        {
          "output_type": "stream",
          "text": [
            "INFO:tensorflow:segment_ids: 0 0 0 0 0 0 0 0 0 0 0 0 0 0 0 0 0 0 0 0 0 0 0 0 0 0 0 0 0 0 0 0 0 0 0 0 0 0 0 0 0 0 0 0 0 0 0 0 0 0 0 0 0 0 0 0 0 0 0 0 0 0 0 0\n"
          ],
          "name": "stdout"
        },
        {
          "output_type": "stream",
          "text": [
            "INFO:tensorflow:segment_ids: 0 0 0 0 0 0 0 0 0 0 0 0 0 0 0 0 0 0 0 0 0 0 0 0 0 0 0 0 0 0 0 0 0 0 0 0 0 0 0 0 0 0 0 0 0 0 0 0 0 0 0 0 0 0 0 0 0 0 0 0 0 0 0 0\n"
          ],
          "name": "stderr"
        },
        {
          "output_type": "stream",
          "text": [
            "INFO:tensorflow:label: 0 (id = 0)\n"
          ],
          "name": "stdout"
        },
        {
          "output_type": "stream",
          "text": [
            "INFO:tensorflow:label: 0 (id = 0)\n"
          ],
          "name": "stderr"
        },
        {
          "output_type": "stream",
          "text": [
            "INFO:tensorflow:*** Example ***\n"
          ],
          "name": "stdout"
        },
        {
          "output_type": "stream",
          "text": [
            "INFO:tensorflow:*** Example ***\n"
          ],
          "name": "stderr"
        },
        {
          "output_type": "stream",
          "text": [
            "INFO:tensorflow:guid: \n"
          ],
          "name": "stdout"
        },
        {
          "output_type": "stream",
          "text": [
            "INFO:tensorflow:guid: \n"
          ],
          "name": "stderr"
        },
        {
          "output_type": "stream",
          "text": [
            "INFO:tensorflow:tokens: [CLS] mark was helpful and made me feel comfortable . [SEP]\n"
          ],
          "name": "stdout"
        },
        {
          "output_type": "stream",
          "text": [
            "INFO:tensorflow:tokens: [CLS] mark was helpful and made me feel comfortable . [SEP]\n"
          ],
          "name": "stderr"
        },
        {
          "output_type": "stream",
          "text": [
            "INFO:tensorflow:input_ids: 101 2928 2001 14044 1998 2081 2033 2514 6625 1012 102 0 0 0 0 0 0 0 0 0 0 0 0 0 0 0 0 0 0 0 0 0 0 0 0 0 0 0 0 0 0 0 0 0 0 0 0 0 0 0 0 0 0 0 0 0 0 0 0 0 0 0 0 0\n"
          ],
          "name": "stdout"
        },
        {
          "output_type": "stream",
          "text": [
            "INFO:tensorflow:input_ids: 101 2928 2001 14044 1998 2081 2033 2514 6625 1012 102 0 0 0 0 0 0 0 0 0 0 0 0 0 0 0 0 0 0 0 0 0 0 0 0 0 0 0 0 0 0 0 0 0 0 0 0 0 0 0 0 0 0 0 0 0 0 0 0 0 0 0 0 0\n"
          ],
          "name": "stderr"
        },
        {
          "output_type": "stream",
          "text": [
            "INFO:tensorflow:input_mask: 1 1 1 1 1 1 1 1 1 1 1 0 0 0 0 0 0 0 0 0 0 0 0 0 0 0 0 0 0 0 0 0 0 0 0 0 0 0 0 0 0 0 0 0 0 0 0 0 0 0 0 0 0 0 0 0 0 0 0 0 0 0 0 0\n"
          ],
          "name": "stdout"
        },
        {
          "output_type": "stream",
          "text": [
            "INFO:tensorflow:input_mask: 1 1 1 1 1 1 1 1 1 1 1 0 0 0 0 0 0 0 0 0 0 0 0 0 0 0 0 0 0 0 0 0 0 0 0 0 0 0 0 0 0 0 0 0 0 0 0 0 0 0 0 0 0 0 0 0 0 0 0 0 0 0 0 0\n"
          ],
          "name": "stderr"
        },
        {
          "output_type": "stream",
          "text": [
            "INFO:tensorflow:segment_ids: 0 0 0 0 0 0 0 0 0 0 0 0 0 0 0 0 0 0 0 0 0 0 0 0 0 0 0 0 0 0 0 0 0 0 0 0 0 0 0 0 0 0 0 0 0 0 0 0 0 0 0 0 0 0 0 0 0 0 0 0 0 0 0 0\n"
          ],
          "name": "stdout"
        },
        {
          "output_type": "stream",
          "text": [
            "INFO:tensorflow:segment_ids: 0 0 0 0 0 0 0 0 0 0 0 0 0 0 0 0 0 0 0 0 0 0 0 0 0 0 0 0 0 0 0 0 0 0 0 0 0 0 0 0 0 0 0 0 0 0 0 0 0 0 0 0 0 0 0 0 0 0 0 0 0 0 0 0\n"
          ],
          "name": "stderr"
        },
        {
          "output_type": "stream",
          "text": [
            "INFO:tensorflow:label: 0 (id = 0)\n"
          ],
          "name": "stdout"
        },
        {
          "output_type": "stream",
          "text": [
            "INFO:tensorflow:label: 0 (id = 0)\n"
          ],
          "name": "stderr"
        },
        {
          "output_type": "stream",
          "text": [
            "INFO:tensorflow:Calling model_fn.\n"
          ],
          "name": "stdout"
        },
        {
          "output_type": "stream",
          "text": [
            "INFO:tensorflow:Calling model_fn.\n"
          ],
          "name": "stderr"
        },
        {
          "output_type": "stream",
          "text": [
            "INFO:tensorflow:Saver not created because there are no variables in the graph to restore\n"
          ],
          "name": "stdout"
        },
        {
          "output_type": "stream",
          "text": [
            "INFO:tensorflow:Saver not created because there are no variables in the graph to restore\n"
          ],
          "name": "stderr"
        },
        {
          "output_type": "stream",
          "text": [
            "INFO:tensorflow:Done calling model_fn.\n"
          ],
          "name": "stdout"
        },
        {
          "output_type": "stream",
          "text": [
            "INFO:tensorflow:Done calling model_fn.\n"
          ],
          "name": "stderr"
        },
        {
          "output_type": "stream",
          "text": [
            "INFO:tensorflow:Graph was finalized.\n"
          ],
          "name": "stdout"
        },
        {
          "output_type": "stream",
          "text": [
            "INFO:tensorflow:Graph was finalized.\n"
          ],
          "name": "stderr"
        },
        {
          "output_type": "stream",
          "text": [
            "INFO:tensorflow:Restoring parameters from /content/bert/model.ckpt-367\n"
          ],
          "name": "stdout"
        },
        {
          "output_type": "stream",
          "text": [
            "INFO:tensorflow:Restoring parameters from /content/bert/model.ckpt-367\n"
          ],
          "name": "stderr"
        },
        {
          "output_type": "stream",
          "text": [
            "INFO:tensorflow:Running local_init_op.\n"
          ],
          "name": "stdout"
        },
        {
          "output_type": "stream",
          "text": [
            "INFO:tensorflow:Running local_init_op.\n"
          ],
          "name": "stderr"
        },
        {
          "output_type": "stream",
          "text": [
            "INFO:tensorflow:Done running local_init_op.\n"
          ],
          "name": "stdout"
        },
        {
          "output_type": "stream",
          "text": [
            "INFO:tensorflow:Done running local_init_op.\n"
          ],
          "name": "stderr"
        }
      ]
    },
    {
      "cell_type": "code",
      "metadata": {
        "id": "r3bQ8dPS_cgT",
        "colab_type": "code",
        "colab": {}
      },
      "source": [
        "pd.DataFrame(full_raw_emotion_pred).to_excel(\"full_raw_emotions.xlsx\",header=False,index=False)"
      ],
      "execution_count": 0,
      "outputs": []
    },
    {
      "cell_type": "code",
      "metadata": {
        "id": "YOKq8aCjGgxL",
        "colab_type": "code",
        "outputId": "b693e4bb-0032-4abf-ae77-af4abb6204a3",
        "colab": {
          "base_uri": "https://localhost:8080/",
          "height": 324
        }
      },
      "source": [
        "from google.colab import files\n",
        "files.download(\"full_raw_emotions.xlsx\")"
      ],
      "execution_count": 0,
      "outputs": [
        {
          "output_type": "error",
          "ename": "MessageError",
          "evalue": "ignored",
          "traceback": [
            "\u001b[0;31m---------------------------------------------------------------------------\u001b[0m",
            "\u001b[0;31mMessageError\u001b[0m                              Traceback (most recent call last)",
            "\u001b[0;32m<ipython-input-75-8b16611d8081>\u001b[0m in \u001b[0;36m<module>\u001b[0;34m()\u001b[0m\n\u001b[1;32m      1\u001b[0m \u001b[0;32mfrom\u001b[0m \u001b[0mgoogle\u001b[0m\u001b[0;34m.\u001b[0m\u001b[0mcolab\u001b[0m \u001b[0;32mimport\u001b[0m \u001b[0mfiles\u001b[0m\u001b[0;34m\u001b[0m\u001b[0;34m\u001b[0m\u001b[0m\n\u001b[0;32m----> 2\u001b[0;31m \u001b[0mfiles\u001b[0m\u001b[0;34m.\u001b[0m\u001b[0mdownload\u001b[0m\u001b[0;34m(\u001b[0m\u001b[0;34m\"full_raw_emotions.xlsx\"\u001b[0m\u001b[0;34m)\u001b[0m\u001b[0;34m\u001b[0m\u001b[0;34m\u001b[0m\u001b[0m\n\u001b[0m",
            "\u001b[0;32m/usr/local/lib/python3.6/dist-packages/google/colab/files.py\u001b[0m in \u001b[0;36mdownload\u001b[0;34m(filename)\u001b[0m\n\u001b[1;32m    176\u001b[0m       \u001b[0;34m'port'\u001b[0m\u001b[0;34m:\u001b[0m \u001b[0mport\u001b[0m\u001b[0;34m,\u001b[0m\u001b[0;34m\u001b[0m\u001b[0;34m\u001b[0m\u001b[0m\n\u001b[1;32m    177\u001b[0m       \u001b[0;34m'path'\u001b[0m\u001b[0;34m:\u001b[0m \u001b[0m_os\u001b[0m\u001b[0;34m.\u001b[0m\u001b[0mpath\u001b[0m\u001b[0;34m.\u001b[0m\u001b[0mabspath\u001b[0m\u001b[0;34m(\u001b[0m\u001b[0mfilename\u001b[0m\u001b[0;34m)\u001b[0m\u001b[0;34m,\u001b[0m\u001b[0;34m\u001b[0m\u001b[0;34m\u001b[0m\u001b[0m\n\u001b[0;32m--> 178\u001b[0;31m       \u001b[0;34m'name'\u001b[0m\u001b[0;34m:\u001b[0m \u001b[0m_os\u001b[0m\u001b[0;34m.\u001b[0m\u001b[0mpath\u001b[0m\u001b[0;34m.\u001b[0m\u001b[0mbasename\u001b[0m\u001b[0;34m(\u001b[0m\u001b[0mfilename\u001b[0m\u001b[0;34m)\u001b[0m\u001b[0;34m,\u001b[0m\u001b[0;34m\u001b[0m\u001b[0;34m\u001b[0m\u001b[0m\n\u001b[0m\u001b[1;32m    179\u001b[0m   })\n",
            "\u001b[0;32m/usr/local/lib/python3.6/dist-packages/google/colab/output/_js.py\u001b[0m in \u001b[0;36meval_js\u001b[0;34m(script, ignore_result)\u001b[0m\n\u001b[1;32m     37\u001b[0m   \u001b[0;32mif\u001b[0m \u001b[0mignore_result\u001b[0m\u001b[0;34m:\u001b[0m\u001b[0;34m\u001b[0m\u001b[0;34m\u001b[0m\u001b[0m\n\u001b[1;32m     38\u001b[0m     \u001b[0;32mreturn\u001b[0m\u001b[0;34m\u001b[0m\u001b[0;34m\u001b[0m\u001b[0m\n\u001b[0;32m---> 39\u001b[0;31m   \u001b[0;32mreturn\u001b[0m \u001b[0m_message\u001b[0m\u001b[0;34m.\u001b[0m\u001b[0mread_reply_from_input\u001b[0m\u001b[0;34m(\u001b[0m\u001b[0mrequest_id\u001b[0m\u001b[0;34m)\u001b[0m\u001b[0;34m\u001b[0m\u001b[0;34m\u001b[0m\u001b[0m\n\u001b[0m\u001b[1;32m     40\u001b[0m \u001b[0;34m\u001b[0m\u001b[0m\n\u001b[1;32m     41\u001b[0m \u001b[0;34m\u001b[0m\u001b[0m\n",
            "\u001b[0;32m/usr/local/lib/python3.6/dist-packages/google/colab/_message.py\u001b[0m in \u001b[0;36mread_reply_from_input\u001b[0;34m(message_id, timeout_sec)\u001b[0m\n\u001b[1;32m    104\u001b[0m         reply.get('colab_msg_id') == message_id):\n\u001b[1;32m    105\u001b[0m       \u001b[0;32mif\u001b[0m \u001b[0;34m'error'\u001b[0m \u001b[0;32min\u001b[0m \u001b[0mreply\u001b[0m\u001b[0;34m:\u001b[0m\u001b[0;34m\u001b[0m\u001b[0;34m\u001b[0m\u001b[0m\n\u001b[0;32m--> 106\u001b[0;31m         \u001b[0;32mraise\u001b[0m \u001b[0mMessageError\u001b[0m\u001b[0;34m(\u001b[0m\u001b[0mreply\u001b[0m\u001b[0;34m[\u001b[0m\u001b[0;34m'error'\u001b[0m\u001b[0;34m]\u001b[0m\u001b[0;34m)\u001b[0m\u001b[0;34m\u001b[0m\u001b[0;34m\u001b[0m\u001b[0m\n\u001b[0m\u001b[1;32m    107\u001b[0m       \u001b[0;32mreturn\u001b[0m \u001b[0mreply\u001b[0m\u001b[0;34m.\u001b[0m\u001b[0mget\u001b[0m\u001b[0;34m(\u001b[0m\u001b[0;34m'data'\u001b[0m\u001b[0;34m,\u001b[0m \u001b[0;32mNone\u001b[0m\u001b[0;34m)\u001b[0m\u001b[0;34m\u001b[0m\u001b[0;34m\u001b[0m\u001b[0m\n\u001b[1;32m    108\u001b[0m \u001b[0;34m\u001b[0m\u001b[0m\n",
            "\u001b[0;31mMessageError\u001b[0m: TypeError: Failed to fetch"
          ]
        }
      ]
    },
    {
      "cell_type": "code",
      "metadata": {
        "id": "aZ6HCC6iBAVw",
        "colab_type": "code",
        "outputId": "94c3cf18-d8cd-4e31-e830-79b1676e2212",
        "colab": {
          "base_uri": "https://localhost:8080/",
          "height": 68
        }
      },
      "source": [
        "tf.reset_default_graph()\n",
        "    \n",
        "with tf.Session() as session:\n",
        "    # Restore variables and model\n",
        "    saver = tf.train.import_meta_graph(\"/content/bert/model.ckpt-30.meta\")\n",
        "    saver.restore(session, tf.train.latest_checkpoint(\"/content/bert/\"))\n",
        "    print(\"Model restored.\")"
      ],
      "execution_count": 0,
      "outputs": [
        {
          "output_type": "stream",
          "text": [
            "INFO:tensorflow:Restoring parameters from /content/bert/model.ckpt-30\n"
          ],
          "name": "stdout"
        },
        {
          "output_type": "stream",
          "text": [
            "INFO:tensorflow:Restoring parameters from /content/bert/model.ckpt-30\n"
          ],
          "name": "stderr"
        },
        {
          "output_type": "stream",
          "text": [
            "Model restored.\n"
          ],
          "name": "stdout"
        }
      ]
    },
    {
      "cell_type": "code",
      "metadata": {
        "id": "t6niuQ29eRvR",
        "colab_type": "code",
        "colab": {}
      },
      "source": [
        "graph = tf.get_default_graph()\n",
        "input_ids = graph.get_tensor_by_name('module/input_ids:0')\n",
        "input_mask = graph.get_tensor_by_name('module/input_mask:0')\n",
        "segment_ids = graph.get_tensor_by_name('module/segment_ids:0')\n",
        "labels = graph.get_tensor_by_name('save_2/Assign_314:0')"
      ],
      "execution_count": 0,
      "outputs": []
    },
    {
      "cell_type": "code",
      "metadata": {
        "id": "6JyYQdvFiiEw",
        "colab_type": "code",
        "outputId": "ab07c439-bf31-4ee4-8a17-229f7463238a",
        "colab": {
          "base_uri": "https://localhost:8080/",
          "height": 181
        }
      },
      "source": [
        "prediction = session.run(labels,feed_dict={input_features, MAX_SEQ_LENGTH, False, False})\n",
        "print(prediction)"
      ],
      "execution_count": 0,
      "outputs": [
        {
          "output_type": "error",
          "ename": "NameError",
          "evalue": "ignored",
          "traceback": [
            "\u001b[0;31m---------------------------------------------------------------------------\u001b[0m",
            "\u001b[0;31mNameError\u001b[0m                                 Traceback (most recent call last)",
            "\u001b[0;32m<ipython-input-68-4cb3ea4d85e3>\u001b[0m in \u001b[0;36m<module>\u001b[0;34m()\u001b[0m\n\u001b[0;32m----> 1\u001b[0;31m \u001b[0mprediction\u001b[0m \u001b[0;34m=\u001b[0m \u001b[0msession\u001b[0m\u001b[0;34m.\u001b[0m\u001b[0mrun\u001b[0m\u001b[0;34m(\u001b[0m\u001b[0mlabels\u001b[0m\u001b[0;34m,\u001b[0m\u001b[0mfeed_dict\u001b[0m\u001b[0;34m=\u001b[0m\u001b[0;34m{\u001b[0m\u001b[0minput_features\u001b[0m\u001b[0;34m,\u001b[0m \u001b[0mMAX_SEQ_LENGTH\u001b[0m\u001b[0;34m,\u001b[0m \u001b[0;32mFalse\u001b[0m\u001b[0;34m,\u001b[0m \u001b[0;32mFalse\u001b[0m\u001b[0;34m}\u001b[0m\u001b[0;34m)\u001b[0m\u001b[0;34m\u001b[0m\u001b[0;34m\u001b[0m\u001b[0m\n\u001b[0m\u001b[1;32m      2\u001b[0m \u001b[0mprint\u001b[0m\u001b[0;34m(\u001b[0m\u001b[0mprediction\u001b[0m\u001b[0;34m)\u001b[0m\u001b[0;34m\u001b[0m\u001b[0;34m\u001b[0m\u001b[0m\n",
            "\u001b[0;31mNameError\u001b[0m: name 'input_features' is not defined"
          ]
        }
      ]
    },
    {
      "cell_type": "code",
      "metadata": {
        "id": "v22qZaSypbXT",
        "colab_type": "code",
        "colab": {}
      },
      "source": [
        ""
      ],
      "execution_count": 0,
      "outputs": []
    }
  ]
}